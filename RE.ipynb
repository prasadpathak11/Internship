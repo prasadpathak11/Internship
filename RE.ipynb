{
 "cells": [
  {
   "cell_type": "code",
   "execution_count": 3,
   "id": "137af807",
   "metadata": {},
   "outputs": [],
   "source": [
    "import regex as re"
   ]
  },
  {
   "cell_type": "code",
   "execution_count": 2,
   "id": "d1ac2534",
   "metadata": {},
   "outputs": [],
   "source": [
    "# Q-1"
   ]
  },
  {
   "cell_type": "code",
   "execution_count": 6,
   "id": "611a3ef6",
   "metadata": {},
   "outputs": [
    {
     "name": "stdout",
     "output_type": "stream",
     "text": [
      "['scahin', 'tendulkar', 'scored', '99', 'runs', 'on', '56', 'bolls']\n"
     ]
    }
   ],
   "source": [
    "string = \"scahin tendulkar scored 99 runs on 56 bolls\"\n",
    "pattern = \"\\w+\"\n",
    "regex = re.findall(pattern,string)\n",
    "print (regex)"
   ]
  },
  {
   "cell_type": "code",
   "execution_count": null,
   "id": "e39f5057",
   "metadata": {},
   "outputs": [],
   "source": []
  },
  {
   "cell_type": "code",
   "execution_count": 7,
   "id": "8ce458fd",
   "metadata": {},
   "outputs": [],
   "source": [
    "# Q-2"
   ]
  },
  {
   "cell_type": "code",
   "execution_count": 44,
   "id": "be20bdcb",
   "metadata": {},
   "outputs": [],
   "source": [
    "def match_pattern1(string):\n",
    "    pattern = r\"ab*\"\n",
    "    match = re.match(pattern,string)\n",
    "    if match:\n",
    "        return True\n",
    "    else:\n",
    "        return False"
   ]
  },
  {
   "cell_type": "code",
   "execution_count": 45,
   "id": "9b022de9",
   "metadata": {},
   "outputs": [
    {
     "name": "stdout",
     "output_type": "stream",
     "text": [
      "True\n"
     ]
    }
   ],
   "source": [
    "string1 = \"abb\"\n",
    "print(match_pattern1(string1))"
   ]
  },
  {
   "cell_type": "code",
   "execution_count": 46,
   "id": "31ca12ae",
   "metadata": {},
   "outputs": [
    {
     "name": "stdout",
     "output_type": "stream",
     "text": [
      "False\n"
     ]
    }
   ],
   "source": [
    "string2 = \"xyz\"\n",
    "print(match_pattern1(string2))"
   ]
  },
  {
   "cell_type": "code",
   "execution_count": null,
   "id": "4fe5b8ed",
   "metadata": {},
   "outputs": [],
   "source": [
    "# Q-3"
   ]
  },
  {
   "cell_type": "code",
   "execution_count": 47,
   "id": "1d150d5d",
   "metadata": {},
   "outputs": [],
   "source": [
    "def match_pattern2(string):\n",
    "    pattern = r\"ab+\"\n",
    "    match = re.match(pattern,string)\n",
    "    if match:\n",
    "        return True\n",
    "    else:\n",
    "        return False"
   ]
  },
  {
   "cell_type": "code",
   "execution_count": 48,
   "id": "93bfca45",
   "metadata": {},
   "outputs": [
    {
     "name": "stdout",
     "output_type": "stream",
     "text": [
      "True\n"
     ]
    }
   ],
   "source": [
    "string1 = \"abbb\"\n",
    "print(match_pattern2(string1))"
   ]
  },
  {
   "cell_type": "code",
   "execution_count": 49,
   "id": "82b37a72",
   "metadata": {},
   "outputs": [
    {
     "name": "stdout",
     "output_type": "stream",
     "text": [
      "False\n"
     ]
    }
   ],
   "source": [
    "strign2 = \"baa\"\n",
    "print(match_pattern2(string2))"
   ]
  },
  {
   "cell_type": "code",
   "execution_count": null,
   "id": "a62413c2",
   "metadata": {},
   "outputs": [],
   "source": []
  },
  {
   "cell_type": "code",
   "execution_count": null,
   "id": "02bbcad4",
   "metadata": {},
   "outputs": [],
   "source": [
    "# Q-4"
   ]
  },
  {
   "cell_type": "code",
   "execution_count": 50,
   "id": "1f616848",
   "metadata": {},
   "outputs": [],
   "source": [
    "def match_pattern3(string):\n",
    "    pattern = r\"ab?\"\n",
    "    match = re.match(pattern,string)\n",
    "    if match:\n",
    "        return True\n",
    "    else:\n",
    "        return False"
   ]
  },
  {
   "cell_type": "code",
   "execution_count": 51,
   "id": "d405658b",
   "metadata": {},
   "outputs": [
    {
     "name": "stdout",
     "output_type": "stream",
     "text": [
      "False\n"
     ]
    }
   ],
   "source": [
    "string1= \"xyz\"\n",
    "print(match_pattern3(string1))"
   ]
  },
  {
   "cell_type": "code",
   "execution_count": 52,
   "id": "82032084",
   "metadata": {},
   "outputs": [
    {
     "name": "stdout",
     "output_type": "stream",
     "text": [
      "True\n"
     ]
    }
   ],
   "source": [
    "string2 = \"abb\"\n",
    "print(match_pattern3(string2))"
   ]
  },
  {
   "cell_type": "code",
   "execution_count": 53,
   "id": "b50e4b4e",
   "metadata": {},
   "outputs": [
    {
     "name": "stdout",
     "output_type": "stream",
     "text": [
      "True\n"
     ]
    }
   ],
   "source": [
    "string3 = \"abcb\"\n",
    "print(match_pattern3(string3))"
   ]
  },
  {
   "cell_type": "code",
   "execution_count": null,
   "id": "563b3b87",
   "metadata": {},
   "outputs": [],
   "source": []
  },
  {
   "cell_type": "code",
   "execution_count": null,
   "id": "aaa24df2",
   "metadata": {},
   "outputs": [],
   "source": [
    "# Q-5"
   ]
  },
  {
   "cell_type": "code",
   "execution_count": 54,
   "id": "a638e269",
   "metadata": {},
   "outputs": [],
   "source": [
    "def match_pattern4(string):\n",
    "    pattern = r\"ab{3}\"\n",
    "    match = re.match(pattern,string)\n",
    "    if match:\n",
    "        return True\n",
    "    else:\n",
    "        return False"
   ]
  },
  {
   "cell_type": "code",
   "execution_count": 55,
   "id": "329dea05",
   "metadata": {},
   "outputs": [
    {
     "name": "stdout",
     "output_type": "stream",
     "text": [
      "False\n"
     ]
    }
   ],
   "source": [
    "string1 = \"xyz\"\n",
    "print(match_pattern3(string1))"
   ]
  },
  {
   "cell_type": "code",
   "execution_count": 56,
   "id": "ae2d7f3f",
   "metadata": {},
   "outputs": [
    {
     "name": "stdout",
     "output_type": "stream",
     "text": [
      "False\n"
     ]
    }
   ],
   "source": [
    "string2 = \"ab\"\n",
    "print(match_pattern4(string2))"
   ]
  },
  {
   "cell_type": "code",
   "execution_count": 58,
   "id": "1a88810e",
   "metadata": {},
   "outputs": [
    {
     "name": "stdout",
     "output_type": "stream",
     "text": [
      "False\n"
     ]
    }
   ],
   "source": [
    "string3 = \"abb\"\n",
    "print(match_pattern4(string3))"
   ]
  },
  {
   "cell_type": "code",
   "execution_count": 59,
   "id": "0d17aaee",
   "metadata": {},
   "outputs": [
    {
     "name": "stdout",
     "output_type": "stream",
     "text": [
      "True\n"
     ]
    }
   ],
   "source": [
    "string4 = \"abbb\"\n",
    "print(match_pattern4(string4))"
   ]
  },
  {
   "cell_type": "code",
   "execution_count": null,
   "id": "669f3d28",
   "metadata": {},
   "outputs": [],
   "source": []
  },
  {
   "cell_type": "code",
   "execution_count": null,
   "id": "253dc280",
   "metadata": {},
   "outputs": [],
   "source": [
    "# Q-6"
   ]
  },
  {
   "cell_type": "code",
   "execution_count": 78,
   "id": "ff68df99",
   "metadata": {},
   "outputs": [
    {
     "name": "stdout",
     "output_type": "stream",
     "text": [
      "['', 'Importance', 'Of', 'Regular', 'Expression', 'In', 'Python']\n"
     ]
    }
   ],
   "source": [
    "sample_text =\"ImportanceOfRegularExpressionInPython\"\n",
    "pattern = r'(?=[A-Z])'\n",
    "x= re.split(pattern,sample_text)\n",
    "print(x)"
   ]
  },
  {
   "cell_type": "code",
   "execution_count": null,
   "id": "15b6d085",
   "metadata": {},
   "outputs": [],
   "source": []
  },
  {
   "cell_type": "code",
   "execution_count": null,
   "id": "2e824205",
   "metadata": {},
   "outputs": [],
   "source": [
    "# Q-7"
   ]
  },
  {
   "cell_type": "code",
   "execution_count": 87,
   "id": "fcd769ab",
   "metadata": {},
   "outputs": [],
   "source": [
    "def match_pattern5(string):\n",
    "    pattern = r\"ab{2,3}\"\n",
    "    match = re.match(pattern,string)\n",
    "    if match:\n",
    "        return True\n",
    "    else:\n",
    "        return False"
   ]
  },
  {
   "cell_type": "code",
   "execution_count": 90,
   "id": "7d3f3d56",
   "metadata": {},
   "outputs": [
    {
     "name": "stdout",
     "output_type": "stream",
     "text": [
      "False\n"
     ]
    }
   ],
   "source": [
    "string1 = \"ab\"\n",
    "print(match_pattern5(string1))"
   ]
  },
  {
   "cell_type": "code",
   "execution_count": 91,
   "id": "1a42cf00",
   "metadata": {},
   "outputs": [
    {
     "name": "stdout",
     "output_type": "stream",
     "text": [
      "True\n"
     ]
    }
   ],
   "source": [
    "string2 = \"abb\"\n",
    "print(match_pattern5(string2))"
   ]
  },
  {
   "cell_type": "code",
   "execution_count": 92,
   "id": "0fafcf91",
   "metadata": {},
   "outputs": [
    {
     "name": "stdout",
     "output_type": "stream",
     "text": [
      "True\n"
     ]
    }
   ],
   "source": [
    "string3 = \"abbb\"\n",
    "print(match_pattern5(string3))"
   ]
  },
  {
   "cell_type": "code",
   "execution_count": null,
   "id": "d5a595de",
   "metadata": {},
   "outputs": [],
   "source": []
  },
  {
   "cell_type": "code",
   "execution_count": null,
   "id": "408f6c47",
   "metadata": {},
   "outputs": [],
   "source": [
    "# Q-8"
   ]
  },
  {
   "cell_type": "code",
   "execution_count": 93,
   "id": "da9e0ae8",
   "metadata": {},
   "outputs": [],
   "source": [
    "def find_lower_sequence_with_underscore(string):\n",
    "    pattern = r'[a-z]+(?:_[a-z]+)+'\n",
    "    matches = re.findall(pattern, string)\n",
    "    return matches"
   ]
  },
  {
   "cell_type": "code",
   "execution_count": 94,
   "id": "59df059d",
   "metadata": {},
   "outputs": [
    {
     "name": "stdout",
     "output_type": "stream",
     "text": [
      "['this_is_a_sequence_of_lowercase_letters']\n"
     ]
    }
   ],
   "source": [
    "string1 = \"this_is_a_sequence_of_lowercase_letters\"\n",
    "result = find_lower_sequence_with_underscore(string1)\n",
    "print(result)"
   ]
  },
  {
   "cell_type": "code",
   "execution_count": null,
   "id": "e361415b",
   "metadata": {},
   "outputs": [],
   "source": []
  },
  {
   "cell_type": "code",
   "execution_count": null,
   "id": "f48638e1",
   "metadata": {},
   "outputs": [],
   "source": [
    "# Q-9"
   ]
  },
  {
   "cell_type": "code",
   "execution_count": 99,
   "id": "292cfe26",
   "metadata": {},
   "outputs": [
    {
     "name": "stdout",
     "output_type": "stream",
     "text": [
      "None\n"
     ]
    }
   ],
   "source": [
    "string = \"amkhg\"\n",
    "pattern = r\"a.*b$\"\n",
    "match = re.match(pattern,string )\n",
    "print(match)"
   ]
  },
  {
   "cell_type": "code",
   "execution_count": 100,
   "id": "e1a47c11",
   "metadata": {},
   "outputs": [
    {
     "name": "stdout",
     "output_type": "stream",
     "text": [
      "<regex.Match object; span=(0, 6), match='amkhgb'>\n"
     ]
    }
   ],
   "source": [
    "string2 = \"amkhgb\"\n",
    "pattern = r\"a.*b$\"\n",
    "match = re.match(pattern,string2)\n",
    "print(match)"
   ]
  },
  {
   "cell_type": "code",
   "execution_count": null,
   "id": "fe6035ab",
   "metadata": {},
   "outputs": [],
   "source": []
  },
  {
   "cell_type": "code",
   "execution_count": null,
   "id": "ddd22e55",
   "metadata": {},
   "outputs": [],
   "source": [
    "# Q-10"
   ]
  },
  {
   "cell_type": "code",
   "execution_count": 102,
   "id": "840160c5",
   "metadata": {},
   "outputs": [
    {
     "name": "stdout",
     "output_type": "stream",
     "text": [
      "<regex.Match object; span=(4, 13), match='amsterdam'>\n"
     ]
    }
   ],
   "source": [
    "string = \"the amsterdam is beautiful city\"\n",
    "pattern = r'\\ba\\w*'\n",
    "match = re.search(pattern, string)\n",
    "print(match)"
   ]
  },
  {
   "cell_type": "code",
   "execution_count": 103,
   "id": "287865e8",
   "metadata": {},
   "outputs": [
    {
     "name": "stdout",
     "output_type": "stream",
     "text": [
      "None\n"
     ]
    }
   ],
   "source": [
    "string = \"the UAE is beautiful city\"\n",
    "pattern = r'\\ba\\w*'\n",
    "match = re.search(pattern, string)\n",
    "print(match)"
   ]
  },
  {
   "cell_type": "code",
   "execution_count": null,
   "id": "4901e245",
   "metadata": {},
   "outputs": [],
   "source": []
  },
  {
   "cell_type": "code",
   "execution_count": null,
   "id": "cb0e8881",
   "metadata": {},
   "outputs": [],
   "source": [
    "# Q-11"
   ]
  },
  {
   "cell_type": "code",
   "execution_count": 129,
   "id": "3c87c544",
   "metadata": {},
   "outputs": [
    {
     "name": "stdout",
     "output_type": "stream",
     "text": [
      "True\n"
     ]
    }
   ],
   "source": [
    "string = \"Hello123\"\n",
    "pattern = r'^[a-zA-Z0-9_]+$'\n",
    "x= re.match(pattern,string)\n",
    "if x:\n",
    "    print (True)\n",
    "else:\n",
    "    print (False)"
   ]
  },
  {
   "cell_type": "code",
   "execution_count": 130,
   "id": "c09ed71d",
   "metadata": {},
   "outputs": [
    {
     "name": "stdout",
     "output_type": "stream",
     "text": [
      "False\n"
     ]
    }
   ],
   "source": [
    "string1 = \"Hello123###!\"\n",
    "pattern1 = r'^[a-zA-Z0-9_]+$'\n",
    "x= re.match(pattern1,string1)\n",
    "if x:\n",
    "    print (True)\n",
    "else:\n",
    "    print (False)"
   ]
  },
  {
   "cell_type": "code",
   "execution_count": null,
   "id": "e27ef502",
   "metadata": {},
   "outputs": [],
   "source": []
  },
  {
   "cell_type": "code",
   "execution_count": null,
   "id": "c27a0856",
   "metadata": {},
   "outputs": [],
   "source": [
    "# Q-12"
   ]
  },
  {
   "cell_type": "code",
   "execution_count": 161,
   "id": "06ab6589",
   "metadata": {},
   "outputs": [
    {
     "name": "stdout",
     "output_type": "stream",
     "text": [
      "<regex.Match object; span=(0, 33), match='22street newyork there she lives '>\n"
     ]
    }
   ],
   "source": [
    "string = \"22street newyork there she lives \"\n",
    "pattern = r'^' + str(22) + r'.*' \n",
    "x = re.match(pattern,string)\n",
    "print(x)"
   ]
  },
  {
   "cell_type": "code",
   "execution_count": null,
   "id": "bd92f2cf",
   "metadata": {},
   "outputs": [],
   "source": []
  },
  {
   "cell_type": "code",
   "execution_count": null,
   "id": "52c952d8",
   "metadata": {},
   "outputs": [],
   "source": [
    "# Q-13"
   ]
  },
  {
   "cell_type": "code",
   "execution_count": 4,
   "id": "ebe1740d",
   "metadata": {},
   "outputs": [
    {
     "name": "stdout",
     "output_type": "stream",
     "text": [
      "192.168.1.1\n"
     ]
    }
   ],
   "source": [
    "ip_add = \"192.168.01.001\"\n",
    "pattern = r'\\b0+(\\d)'\n",
    "new_ip = re.sub(pattern,r'\\1',ip_add)\n",
    "print (new_ip)"
   ]
  },
  {
   "cell_type": "code",
   "execution_count": null,
   "id": "62632d6e",
   "metadata": {},
   "outputs": [],
   "source": []
  },
  {
   "cell_type": "code",
   "execution_count": null,
   "id": "101c3b5c",
   "metadata": {},
   "outputs": [],
   "source": [
    "# Q-14"
   ]
  },
  {
   "cell_type": "code",
   "execution_count": 6,
   "id": "b8c40bb0",
   "metadata": {},
   "outputs": [
    {
     "name": "stdout",
     "output_type": "stream",
     "text": [
      "['August 15th 1947']\n"
     ]
    }
   ],
   "source": [
    "sample_text = \"On August 15th 1947 that india was decleared independent from british colonialism, and the reins of control where handed over to the leaders of the country\"\n",
    "pattern =  r\"(?:January|February|March|April|May|June|July|August|September|October|November|December)\\s+\\d{1,2}(?:st|nd|rd|th)?\\s+\\d{4}\"\n",
    "#  here st/nd/rd/th is like for date suffixes 2nd, 3rd, 4th, 1st\n",
    "x= re.findall(pattern,sample_text)\n",
    "print(x)"
   ]
  },
  {
   "cell_type": "code",
   "execution_count": null,
   "id": "3d293065",
   "metadata": {},
   "outputs": [],
   "source": []
  },
  {
   "cell_type": "code",
   "execution_count": null,
   "id": "fcdc305b",
   "metadata": {},
   "outputs": [],
   "source": [
    "# Q-15"
   ]
  },
  {
   "cell_type": "code",
   "execution_count": 31,
   "id": "5cb6eeb7",
   "metadata": {},
   "outputs": [
    {
     "name": "stdout",
     "output_type": "stream",
     "text": [
      "<regex.Match object; span=(40, 43), match='dog'>\n"
     ]
    }
   ],
   "source": [
    "sample_txt = \"the quick brown fox jumps over the lazy dog\"\n",
    "pattern= re.search('dog',sample_txt)\n",
    "print(pattern)\n"
   ]
  },
  {
   "cell_type": "code",
   "execution_count": 30,
   "id": "71bb97b3",
   "metadata": {},
   "outputs": [
    {
     "name": "stdout",
     "output_type": "stream",
     "text": [
      "<regex.Match object; span=(16, 19), match='fox'>\n"
     ]
    }
   ],
   "source": [
    "sample_txt = \"the quick brown fox jumps over the lazy dog\"\n",
    "pattern= re.search('fox',sample_txt)\n",
    "print(pattern)"
   ]
  },
  {
   "cell_type": "code",
   "execution_count": 29,
   "id": "e464b4de",
   "metadata": {},
   "outputs": [
    {
     "name": "stdout",
     "output_type": "stream",
     "text": [
      "None\n"
     ]
    }
   ],
   "source": [
    "sample_txt = \"the quick brown fox jumps over the lazy dog\"\n",
    "pattern= re.search('horse',sample_txt)\n",
    "print(pattern)"
   ]
  },
  {
   "cell_type": "code",
   "execution_count": null,
   "id": "731d1f7b",
   "metadata": {},
   "outputs": [],
   "source": []
  },
  {
   "cell_type": "code",
   "execution_count": null,
   "id": "bef70fff",
   "metadata": {},
   "outputs": [],
   "source": [
    "# Q-16"
   ]
  },
  {
   "cell_type": "code",
   "execution_count": 32,
   "id": "68add5cd",
   "metadata": {},
   "outputs": [
    {
     "name": "stdout",
     "output_type": "stream",
     "text": [
      "<regex.Match object; span=(16, 19), match='fox'>\n"
     ]
    }
   ],
   "source": [
    "sample_txt = \"the quick brown fox jumps over the lazy dog\"\n",
    "pattern= re.search('fox',sample_txt)\n",
    "print(pattern)"
   ]
  },
  {
   "cell_type": "code",
   "execution_count": null,
   "id": "6bb99e60",
   "metadata": {},
   "outputs": [],
   "source": []
  },
  {
   "cell_type": "code",
   "execution_count": null,
   "id": "c6a433bc",
   "metadata": {},
   "outputs": [],
   "source": [
    "# Q-17"
   ]
  },
  {
   "cell_type": "code",
   "execution_count": 41,
   "id": "0c5113be",
   "metadata": {},
   "outputs": [
    {
     "name": "stdout",
     "output_type": "stream",
     "text": [
      "['exercises', 'exercises', 'exercises']\n"
     ]
    }
   ],
   "source": [
    "string = 'Python exercises, PHP exercises, C# exercises'\n",
    "substring = 'exercises'\n",
    "pattern = re.escape(substring)\n",
    "match = re.findall(pattern,string)\n",
    "print(match)"
   ]
  },
  {
   "cell_type": "code",
   "execution_count": null,
   "id": "7f1f99d4",
   "metadata": {},
   "outputs": [],
   "source": []
  },
  {
   "cell_type": "code",
   "execution_count": null,
   "id": "eab1fbd4",
   "metadata": {},
   "outputs": [],
   "source": [
    "# Q-18"
   ]
  },
  {
   "cell_type": "code",
   "execution_count": 42,
   "id": "7052bfe6",
   "metadata": {},
   "outputs": [
    {
     "name": "stdout",
     "output_type": "stream",
     "text": [
      "<regex.Match object; span=(15, 18), match='fox'>\n"
     ]
    }
   ],
   "source": [
    "string = \"the qick brown fox jumps over the lazy cat\"\n",
    "substring = 'fox'\n",
    "x = re.search(substring,string)\n",
    "print(x)"
   ]
  },
  {
   "cell_type": "code",
   "execution_count": 46,
   "id": "380f1e8a",
   "metadata": {},
   "outputs": [
    {
     "name": "stdout",
     "output_type": "stream",
     "text": [
      "fox\n",
      "(15, 18)\n"
     ]
    }
   ],
   "source": [
    "print(x.group())\n",
    "print(x.span())"
   ]
  },
  {
   "cell_type": "code",
   "execution_count": null,
   "id": "d33cd454",
   "metadata": {},
   "outputs": [],
   "source": []
  },
  {
   "cell_type": "code",
   "execution_count": null,
   "id": "9e8fda39",
   "metadata": {},
   "outputs": [],
   "source": [
    "# Q-19"
   ]
  },
  {
   "cell_type": "code",
   "execution_count": 47,
   "id": "be82babc",
   "metadata": {},
   "outputs": [
    {
     "name": "stdout",
     "output_type": "stream",
     "text": [
      "15-07-2023\n",
      "31-12-2022\n"
     ]
    }
   ],
   "source": [
    "def convert_date(date):\n",
    "    parts = date.split('-')\n",
    "    converted_date = parts[2] + '-' + parts[1] + '-' + parts[0]\n",
    "    return converted_date\n",
    "\n",
    "date1 = '2023-07-15'\n",
    "converted_date1 = convert_date(date1)\n",
    "print(converted_date1) \n",
    "\n",
    "date2 = '2022-12-31'\n",
    "converted_date2 = convert_date(date2)\n",
    "print(converted_date2) \n"
   ]
  },
  {
   "cell_type": "code",
   "execution_count": null,
   "id": "9256eb8c",
   "metadata": {},
   "outputs": [],
   "source": []
  },
  {
   "cell_type": "code",
   "execution_count": null,
   "id": "37f8f280",
   "metadata": {},
   "outputs": [],
   "source": [
    "# Q-20"
   ]
  },
  {
   "cell_type": "code",
   "execution_count": 53,
   "id": "cd8c434f",
   "metadata": {},
   "outputs": [
    {
     "name": "stdout",
     "output_type": "stream",
     "text": [
      "['assumed', 'eating']\n"
     ]
    }
   ],
   "source": [
    "string = \"virat kohli assumed that he is eating healthy food\"\n",
    "pattern = r'\\b[aAeE]\\w+\\b'\n",
    "matches = re.findall(pattern, string)\n",
    "print(matches)"
   ]
  },
  {
   "cell_type": "code",
   "execution_count": null,
   "id": "8ad30a9b",
   "metadata": {},
   "outputs": [],
   "source": []
  },
  {
   "cell_type": "code",
   "execution_count": null,
   "id": "6e990581",
   "metadata": {},
   "outputs": [],
   "source": [
    "# Q-21"
   ]
  },
  {
   "cell_type": "code",
   "execution_count": 57,
   "id": "79ab2f07",
   "metadata": {},
   "outputs": [
    {
     "name": "stdout",
     "output_type": "stream",
     "text": [
      "Number: 123, Position: 22\n",
      "Number: 4567, Position: 30\n"
     ]
    }
   ],
   "source": [
    "string = \"This is a string with 123 and 4567 numbers.\"\n",
    "pattern = r'\\b\\d+\\b'\n",
    "x = re.finditer(pattern, string)\n",
    "for i in x:\n",
    "    number = i.group()\n",
    "    position = i.start()\n",
    "    print(f\"Number: {number}, Position: {position}\")\n"
   ]
  },
  {
   "cell_type": "code",
   "execution_count": null,
   "id": "e020f36d",
   "metadata": {},
   "outputs": [],
   "source": []
  },
  {
   "cell_type": "code",
   "execution_count": null,
   "id": "b43564a6",
   "metadata": {},
   "outputs": [],
   "source": [
    "# Q-22"
   ]
  },
  {
   "cell_type": "code",
   "execution_count": 59,
   "id": "17c7ea9c",
   "metadata": {},
   "outputs": [
    {
     "name": "stdout",
     "output_type": "stream",
     "text": [
      "22\n"
     ]
    }
   ],
   "source": [
    "string = \"the maximum number is 12 or 22\"\n",
    "pattern = r'\\b\\d+\\b'\n",
    "x = re.findall(pattern,string)\n",
    "\n",
    "if x:\n",
    "    maximum = max(map(int,x))\n",
    "    print (maximum)\n",
    "else:\n",
    "    print (none)"
   ]
  },
  {
   "cell_type": "code",
   "execution_count": null,
   "id": "50824126",
   "metadata": {},
   "outputs": [],
   "source": []
  },
  {
   "cell_type": "code",
   "execution_count": null,
   "id": "7667bea8",
   "metadata": {},
   "outputs": [],
   "source": [
    "# Q-23 (please help on this question)"
   ]
  },
  {
   "cell_type": "code",
   "execution_count": null,
   "id": "080a8ad7",
   "metadata": {},
   "outputs": [],
   "source": [
    "# Q-24"
   ]
  },
  {
   "cell_type": "code",
   "execution_count": 60,
   "id": "f292db0c",
   "metadata": {},
   "outputs": [
    {
     "name": "stdout",
     "output_type": "stream",
     "text": [
      "['An', 'Dk', 'Sd', 'Fn']\n"
     ]
    }
   ],
   "source": [
    "string = \"AncksvDksjbsvkbSdkjknFnfvkns\"\n",
    "pattern = r'[A-Z][a-z]'\n",
    "x= re.findall(pattern,string)\n",
    "print(x)"
   ]
  },
  {
   "cell_type": "code",
   "execution_count": null,
   "id": "6775479b",
   "metadata": {},
   "outputs": [],
   "source": []
  },
  {
   "cell_type": "code",
   "execution_count": null,
   "id": "07e10d02",
   "metadata": {},
   "outputs": [],
   "source": [
    "# Q-25"
   ]
  },
  {
   "cell_type": "code",
   "execution_count": 61,
   "id": "a802bc84",
   "metadata": {},
   "outputs": [
    {
     "name": "stdout",
     "output_type": "stream",
     "text": [
      "sita was a very good girl\n"
     ]
    }
   ],
   "source": [
    "string = \"sita was was a very good good girl\"\n",
    "pattern = r'\\b(\\w+)(?:\\W+\\1\\b)+'\n",
    "x = re.sub(pattern,r'\\1',string)\n",
    "print(x)"
   ]
  },
  {
   "cell_type": "code",
   "execution_count": null,
   "id": "14cb66af",
   "metadata": {},
   "outputs": [],
   "source": []
  },
  {
   "cell_type": "code",
   "execution_count": null,
   "id": "bb00074c",
   "metadata": {},
   "outputs": [],
   "source": [
    "# Q-26"
   ]
  },
  {
   "cell_type": "code",
   "execution_count": 63,
   "id": "2a2c3118",
   "metadata": {},
   "outputs": [
    {
     "name": "stdout",
     "output_type": "stream",
     "text": [
      "<regex.Match object; span=(10, 11), match='#'>\n"
     ]
    }
   ],
   "source": [
    "string = \"hello ram #\"\n",
    "pattern = r'\\W$'\n",
    "x= re.search(pattern,string)\n",
    "print(x)"
   ]
  },
  {
   "cell_type": "code",
   "execution_count": null,
   "id": "92039df6",
   "metadata": {},
   "outputs": [],
   "source": []
  },
  {
   "cell_type": "code",
   "execution_count": null,
   "id": "3f49b271",
   "metadata": {},
   "outputs": [],
   "source": [
    "# Q-27"
   ]
  },
  {
   "cell_type": "code",
   "execution_count": 64,
   "id": "cef31384",
   "metadata": {},
   "outputs": [
    {
     "name": "stdout",
     "output_type": "stream",
     "text": [
      "['#Doltiwal', '#xyzabc', '#Demonetization']\n"
     ]
    }
   ],
   "source": [
    "string = \"\"\"RT @kapil_kausik:#Doltiwal i mean #xyzabc is \"hurt\" by #Demonetization as the same as rendered USELESS <ed><U+00A0> \"acuired funds\" NO wo \"\"\"\n",
    "pattern  = r'\\#\\w+'\n",
    "x= re.findall(pattern,string)\n",
    "print(x)"
   ]
  },
  {
   "cell_type": "code",
   "execution_count": null,
   "id": "d2bd17b0",
   "metadata": {},
   "outputs": [],
   "source": []
  },
  {
   "cell_type": "code",
   "execution_count": null,
   "id": "eb9a4879",
   "metadata": {},
   "outputs": [],
   "source": [
    "# Q-28"
   ]
  },
  {
   "cell_type": "code",
   "execution_count": 65,
   "id": "6a5a5cb4",
   "metadata": {},
   "outputs": [
    {
     "name": "stdout",
     "output_type": "stream",
     "text": [
      "@jags123456 Bharat band on 28 ??<ed><ed> those who are protesting #demonetization are all different party leaders\n"
     ]
    }
   ],
   "source": [
    "string = \"@jags123456 Bharat band on 28 ??<ed><U+00A0><ed><U+00B8><U+0082> those who are protesting #demonetization are all different party leaders\"\n",
    "pattern = r'<U\\+[\\w]+>'\n",
    "x = re.sub(pattern,\"\",string)\n",
    "print(x)"
   ]
  },
  {
   "cell_type": "code",
   "execution_count": null,
   "id": "8501ebce",
   "metadata": {},
   "outputs": [],
   "source": []
  },
  {
   "cell_type": "code",
   "execution_count": null,
   "id": "1d16f448",
   "metadata": {},
   "outputs": [],
   "source": [
    "# Q-29"
   ]
  },
  {
   "cell_type": "code",
   "execution_count": 67,
   "id": "5f683ee1",
   "metadata": {},
   "outputs": [
    {
     "name": "stdout",
     "output_type": "stream",
     "text": [
      "['12-09-1992', '15-12-1999']\n"
     ]
    }
   ],
   "source": [
    "string = \"ron was born on 12-09-1992 and he wad admitted to school 15-12-1999\"\n",
    "pattern = r'\\b\\d{1,2}-\\d{1,2}-\\d{2,4}\\b'\n",
    "x= re.findall(pattern,string)\n",
    "print(x)"
   ]
  },
  {
   "cell_type": "code",
   "execution_count": null,
   "id": "68cd4cf2",
   "metadata": {},
   "outputs": [],
   "source": []
  },
  {
   "cell_type": "code",
   "execution_count": null,
   "id": "72e6ee44",
   "metadata": {},
   "outputs": [],
   "source": [
    "# Q-30"
   ]
  },
  {
   "cell_type": "code",
   "execution_count": 68,
   "id": "e8463eed",
   "metadata": {},
   "outputs": [
    {
     "name": "stdout",
     "output_type": "stream",
     "text": [
      "Python:Exercises::PHP:Exercises\n"
     ]
    }
   ],
   "source": [
    "string = \"Python Exercises, PHP.Exercises\"\n",
    "pattern = r'[ ,.]'\n",
    "x= re.sub(pattern,':',string)\n",
    "print(x)"
   ]
  },
  {
   "cell_type": "code",
   "execution_count": null,
   "id": "6502848e",
   "metadata": {},
   "outputs": [],
   "source": []
  },
  {
   "cell_type": "code",
   "execution_count": null,
   "id": "c417bc0f",
   "metadata": {},
   "outputs": [],
   "source": []
  },
  {
   "cell_type": "code",
   "execution_count": null,
   "id": "10c48dc1",
   "metadata": {},
   "outputs": [],
   "source": []
  }
 ],
 "metadata": {
  "kernelspec": {
   "display_name": "Python 3 (ipykernel)",
   "language": "python",
   "name": "python3"
  },
  "language_info": {
   "codemirror_mode": {
    "name": "ipython",
    "version": 3
   },
   "file_extension": ".py",
   "mimetype": "text/x-python",
   "name": "python",
   "nbconvert_exporter": "python",
   "pygments_lexer": "ipython3",
   "version": "3.9.13"
  }
 },
 "nbformat": 4,
 "nbformat_minor": 5
}
