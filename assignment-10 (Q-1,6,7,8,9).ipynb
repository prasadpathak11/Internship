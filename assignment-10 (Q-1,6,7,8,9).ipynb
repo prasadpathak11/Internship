{
 "cells": [
  {
   "cell_type": "code",
   "execution_count": 110,
   "id": "3b801e0f",
   "metadata": {},
   "outputs": [],
   "source": [
    "import selenium\n",
    "from selenium import webdriver\n",
    "from selenium.webdriver.common.by import By\n",
    "from selenium .common.exceptions import NoSuchElementException"
   ]
  },
  {
   "cell_type": "code",
   "execution_count": 111,
   "id": "edd34070",
   "metadata": {},
   "outputs": [],
   "source": [
    "import pandas as pd\n",
    "import time"
   ]
  },
  {
   "cell_type": "code",
   "execution_count": 3,
   "id": "f33238f4",
   "metadata": {},
   "outputs": [],
   "source": [
    "import warnings\n",
    "warnings.filterwarnings ('ignore')"
   ]
  },
  {
   "cell_type": "code",
   "execution_count": 4,
   "id": "505d6d3b",
   "metadata": {},
   "outputs": [],
   "source": [
    "driver = webdriver.Chrome (r'chromedriver.exe')"
   ]
  },
  {
   "cell_type": "code",
   "execution_count": null,
   "id": "24a8d8f0",
   "metadata": {},
   "outputs": [],
   "source": [
    "# =============================================================================================================================="
   ]
  },
  {
   "cell_type": "code",
   "execution_count": 5,
   "id": "5810443e",
   "metadata": {},
   "outputs": [],
   "source": [
    "# Q-6"
   ]
  },
  {
   "cell_type": "code",
   "execution_count": 11,
   "id": "2a0a7b09",
   "metadata": {},
   "outputs": [],
   "source": [
    "driver.get ('https://www.theguardian.com/news/datablog/2012/aug/09/best-selling-books-all-time-fifty-shades-grey-compare')"
   ]
  },
  {
   "cell_type": "code",
   "execution_count": 7,
   "id": "d0245f50",
   "metadata": {},
   "outputs": [],
   "source": [
    "driver.maximize_window()"
   ]
  },
  {
   "cell_type": "code",
   "execution_count": 15,
   "id": "9f8b105c",
   "metadata": {},
   "outputs": [],
   "source": [
    "title_all = []"
   ]
  },
  {
   "cell_type": "code",
   "execution_count": 73,
   "id": "e0d10bf8",
   "metadata": {},
   "outputs": [
    {
     "data": {
      "text/plain": [
       "['Da Vinci Code,The',\n",
       " 'Harry Potter and the Deathly Hallows',\n",
       " \"Harry Potter and the Philosopher's Stone\",\n",
       " 'Harry Potter and the Order of the Phoenix',\n",
       " 'Fifty Shades of Grey',\n",
       " 'Harry Potter and the Goblet of Fire',\n",
       " 'Harry Potter and the Chamber of Secrets',\n",
       " 'Harry Potter and the Prisoner of Azkaban',\n",
       " 'Angels and Demons',\n",
       " \"Harry Potter and the Half-blood Prince:Children's Edition\",\n",
       " 'Fifty Shades Darker',\n",
       " 'Twilight',\n",
       " 'Girl with the Dragon Tattoo,The:Millennium Trilogy',\n",
       " 'Fifty Shades Freed',\n",
       " 'Lost Symbol,The',\n",
       " 'New Moon',\n",
       " 'Deception Point',\n",
       " 'Eclipse',\n",
       " 'Lovely Bones,The',\n",
       " 'Curious Incident of the Dog in the Night-time,The',\n",
       " 'Digital Fortress',\n",
       " 'Short History of Nearly Everything,A',\n",
       " 'Girl Who Played with Fire,The:Millennium Trilogy',\n",
       " 'Breaking Dawn',\n",
       " 'Very Hungry Caterpillar,The:The Very Hungry Caterpillar',\n",
       " 'Gruffalo,The',\n",
       " \"Jamie's 30-Minute Meals\",\n",
       " 'Kite Runner,The',\n",
       " 'One Day',\n",
       " 'Thousand Splendid Suns,A',\n",
       " \"Girl Who Kicked the Hornets' Nest,The:Millennium Trilogy\",\n",
       " \"Time Traveler's Wife,The\",\n",
       " 'Atonement',\n",
       " \"Bridget Jones's Diary:A Novel\",\n",
       " 'World According to Clarkson,The',\n",
       " \"Captain Corelli's Mandolin\",\n",
       " 'Sound of Laughter,The',\n",
       " 'Life of Pi',\n",
       " 'Billy Connolly',\n",
       " 'Child Called It,A',\n",
       " \"Gruffalo's Child,The\",\n",
       " \"Angela's Ashes:A Memoir of a Childhood\",\n",
       " 'Birdsong',\n",
       " 'Northern Lights:His Dark Materials S.',\n",
       " 'Labyrinth',\n",
       " 'Harry Potter and the Half-blood Prince',\n",
       " 'Help,The',\n",
       " 'Man and Boy',\n",
       " 'Memoirs of a Geisha',\n",
       " \"No.1 Ladies' Detective Agency,The:No.1 Ladies' Detective Agency S.\",\n",
       " 'Island,The',\n",
       " 'PS, I Love You',\n",
       " 'You are What You Eat:The Plan That Will Change Your Life',\n",
       " 'Shadow of the Wind,The',\n",
       " 'Tales of Beedle the Bard,The',\n",
       " 'Broker,The',\n",
       " \"Dr. Atkins' New Diet Revolution:The No-hunger, Luxurious Weight Loss P\",\n",
       " 'Subtle Knife,The:His Dark Materials S.',\n",
       " 'Eats, Shoots and Leaves:The Zero Tolerance Approach to Punctuation',\n",
       " \"Delia's How to Cook:(Bk.1)\",\n",
       " 'Chocolat',\n",
       " 'Boy in the Striped Pyjamas,The',\n",
       " \"My Sister's Keeper\",\n",
       " 'Amber Spyglass,The:His Dark Materials S.',\n",
       " 'To Kill a Mockingbird',\n",
       " 'Men are from Mars, Women are from Venus:A Practical Guide for Improvin',\n",
       " 'Dear Fatty',\n",
       " 'Short History of Tractors in Ukrainian,A',\n",
       " 'Hannibal',\n",
       " 'Lord of the Rings,The',\n",
       " 'Stupid White Men:...and Other Sorry Excuses for the State of the Natio',\n",
       " 'Interpretation of Murder,The',\n",
       " 'Sharon Osbourne Extreme:My Autobiography',\n",
       " 'Alchemist,The:A Fable About Following Your Dream',\n",
       " \"At My Mother's Knee ...:and Other Low Joints\",\n",
       " 'Notes from a Small Island',\n",
       " 'Return of the Naked Chef,The',\n",
       " 'Bridget Jones: The Edge of Reason',\n",
       " \"Jamie's Italy\",\n",
       " 'I Can Make You Thin',\n",
       " 'Down Under',\n",
       " 'Summons,The',\n",
       " 'Small Island',\n",
       " 'Nigella Express',\n",
       " 'Brick Lane',\n",
       " \"Memory Keeper's Daughter,The\",\n",
       " 'Room on the Broom',\n",
       " 'About a Boy',\n",
       " 'My Booky Wook',\n",
       " 'God Delusion,The',\n",
       " '\"Beano\" Annual,The',\n",
       " 'White Teeth',\n",
       " 'House at Riverton,The',\n",
       " 'Book Thief,The',\n",
       " 'Nights of Rain and Stars',\n",
       " 'Ghost,The',\n",
       " 'Happy Days with the Naked Chef',\n",
       " 'Hunger Games,The:Hunger Games Trilogy',\n",
       " \"Lost Boy,The:A Foster Child's Search for the Love of a Family\",\n",
       " \"Jamie's Ministry of Food:Anyone Can Learn to Cook in 24 Hours\"]"
      ]
     },
     "execution_count": 73,
     "metadata": {},
     "output_type": "execute_result"
    }
   ],
   "source": [
    "try:\n",
    "    title = driver.find_elements(By.XPATH,'//table[@class=\"in-article sortable\"]/tbody/tr/td[2]')\n",
    "    for i in title:\n",
    "        temp = i.text\n",
    "        title_all.append(temp)\n",
    "except NoSuchElementException:\n",
    "        title_all.append('-')\n",
    "        \n",
    "title_all"
   ]
  },
  {
   "cell_type": "code",
   "execution_count": 19,
   "id": "2db7118e",
   "metadata": {},
   "outputs": [
    {
     "data": {
      "text/plain": [
       "100"
      ]
     },
     "execution_count": 19,
     "metadata": {},
     "output_type": "execute_result"
    }
   ],
   "source": [
    "len(title_all)"
   ]
  },
  {
   "cell_type": "code",
   "execution_count": 20,
   "id": "158f4f03",
   "metadata": {},
   "outputs": [],
   "source": [
    "author_all = []\n",
    "volume_sold = []\n",
    "publisher_all = []\n",
    "genre_all = []"
   ]
  },
  {
   "cell_type": "code",
   "execution_count": 22,
   "id": "8130f9e8",
   "metadata": {},
   "outputs": [],
   "source": [
    "try:\n",
    "    author = driver.find_elements(By.XPATH,'//table[@class=\"in-article sortable\"]/tbody/tr/td[3]')\n",
    "    for i in author:\n",
    "        temp = i.text\n",
    "        author_all.append(temp)\n",
    "except NoSuchElementException:\n",
    "        author_all.append('-')\n",
    "        \n",
    "try:\n",
    "    volume = driver.find_elements(By.XPATH,'//table[@class=\"in-article sortable\"]/tbody/tr/td[4]')\n",
    "    for i in volume:\n",
    "        temp = i.text\n",
    "        volume_sold.append(temp)\n",
    "except NoSuchElementException:\n",
    "        volume_sold.append('-')\n",
    "        \n",
    "try:\n",
    "    publisher = driver.find_elements(By.XPATH,'//table[@class=\"in-article sortable\"]/tbody/tr/td[5]')\n",
    "    for i in publisher:\n",
    "        temp = i.text\n",
    "        publisher_all.append(temp)\n",
    "except NoSuchElementException:\n",
    "        publisher_all.append('-')\n",
    "        \n",
    "try:\n",
    "    genre = driver.find_elements(By.XPATH,'//table[@class=\"in-article sortable\"]/tbody/tr/td[6]')\n",
    "    for i in genre:\n",
    "        temp = i.text\n",
    "        genre_all.append(temp)\n",
    "except NoSuchElementException:\n",
    "        genre_all.append('-')"
   ]
  },
  {
   "cell_type": "code",
   "execution_count": 24,
   "id": "86a084be",
   "metadata": {},
   "outputs": [
    {
     "data": {
      "text/plain": [
       "(100, 200, 200, 200, 100)"
      ]
     },
     "execution_count": 24,
     "metadata": {},
     "output_type": "execute_result"
    }
   ],
   "source": [
    "len(title_all),len(author_all),len(volume_sold),len(publisher_all),len(genre_all)"
   ]
  },
  {
   "cell_type": "code",
   "execution_count": 37,
   "id": "1041b347",
   "metadata": {},
   "outputs": [],
   "source": [
    "a1 = author_all [:100]\n"
   ]
  },
  {
   "cell_type": "code",
   "execution_count": 38,
   "id": "dcfdabb9",
   "metadata": {},
   "outputs": [],
   "source": [
    "v1 = volume_sold [:100]"
   ]
  },
  {
   "cell_type": "code",
   "execution_count": 39,
   "id": "a75f16be",
   "metadata": {},
   "outputs": [],
   "source": [
    "p1 = publisher_all [:100]"
   ]
  },
  {
   "cell_type": "code",
   "execution_count": 40,
   "id": "876a1951",
   "metadata": {},
   "outputs": [
    {
     "data": {
      "text/plain": [
       "(100, 100, 100, 100, 100)"
      ]
     },
     "execution_count": 40,
     "metadata": {},
     "output_type": "execute_result"
    }
   ],
   "source": [
    "len(title_all),len(a1),len(v1),len(p1),len(genre_all)"
   ]
  },
  {
   "cell_type": "code",
   "execution_count": 41,
   "id": "677c2e9b",
   "metadata": {},
   "outputs": [
    {
     "data": {
      "text/html": [
       "<div>\n",
       "<style scoped>\n",
       "    .dataframe tbody tr th:only-of-type {\n",
       "        vertical-align: middle;\n",
       "    }\n",
       "\n",
       "    .dataframe tbody tr th {\n",
       "        vertical-align: top;\n",
       "    }\n",
       "\n",
       "    .dataframe thead th {\n",
       "        text-align: right;\n",
       "    }\n",
       "</style>\n",
       "<table border=\"1\" class=\"dataframe\">\n",
       "  <thead>\n",
       "    <tr style=\"text-align: right;\">\n",
       "      <th></th>\n",
       "      <th>Book Nmae</th>\n",
       "      <th>Author Name</th>\n",
       "      <th>Volume Sold</th>\n",
       "      <th>Pulblisher</th>\n",
       "      <th>Genre</th>\n",
       "    </tr>\n",
       "  </thead>\n",
       "  <tbody>\n",
       "    <tr>\n",
       "      <th>0</th>\n",
       "      <td>Da Vinci Code,The</td>\n",
       "      <td>Brown, Dan</td>\n",
       "      <td>5,094,805</td>\n",
       "      <td>Transworld</td>\n",
       "      <td>Crime, Thriller &amp; Adventure</td>\n",
       "    </tr>\n",
       "    <tr>\n",
       "      <th>1</th>\n",
       "      <td>Harry Potter and the Deathly Hallows</td>\n",
       "      <td>Rowling, J.K.</td>\n",
       "      <td>4,475,152</td>\n",
       "      <td>Bloomsbury</td>\n",
       "      <td>Children's Fiction</td>\n",
       "    </tr>\n",
       "    <tr>\n",
       "      <th>2</th>\n",
       "      <td>Harry Potter and the Philosopher's Stone</td>\n",
       "      <td>Rowling, J.K.</td>\n",
       "      <td>4,200,654</td>\n",
       "      <td>Bloomsbury</td>\n",
       "      <td>Children's Fiction</td>\n",
       "    </tr>\n",
       "    <tr>\n",
       "      <th>3</th>\n",
       "      <td>Harry Potter and the Order of the Phoenix</td>\n",
       "      <td>Rowling, J.K.</td>\n",
       "      <td>4,179,479</td>\n",
       "      <td>Bloomsbury</td>\n",
       "      <td>Children's Fiction</td>\n",
       "    </tr>\n",
       "    <tr>\n",
       "      <th>4</th>\n",
       "      <td>Fifty Shades of Grey</td>\n",
       "      <td>James, E. L.</td>\n",
       "      <td>3,758,936</td>\n",
       "      <td>Random House</td>\n",
       "      <td>Romance &amp; Sagas</td>\n",
       "    </tr>\n",
       "    <tr>\n",
       "      <th>...</th>\n",
       "      <td>...</td>\n",
       "      <td>...</td>\n",
       "      <td>...</td>\n",
       "      <td>...</td>\n",
       "      <td>...</td>\n",
       "    </tr>\n",
       "    <tr>\n",
       "      <th>95</th>\n",
       "      <td>Ghost,The</td>\n",
       "      <td>Harris, Robert</td>\n",
       "      <td>807,311</td>\n",
       "      <td>Random House</td>\n",
       "      <td>General &amp; Literary Fiction</td>\n",
       "    </tr>\n",
       "    <tr>\n",
       "      <th>96</th>\n",
       "      <td>Happy Days with the Naked Chef</td>\n",
       "      <td>Oliver, Jamie</td>\n",
       "      <td>794,201</td>\n",
       "      <td>Penguin</td>\n",
       "      <td>Food &amp; Drink: General</td>\n",
       "    </tr>\n",
       "    <tr>\n",
       "      <th>97</th>\n",
       "      <td>Hunger Games,The:Hunger Games Trilogy</td>\n",
       "      <td>Collins, Suzanne</td>\n",
       "      <td>792,187</td>\n",
       "      <td>Scholastic Ltd.</td>\n",
       "      <td>Young Adult Fiction</td>\n",
       "    </tr>\n",
       "    <tr>\n",
       "      <th>98</th>\n",
       "      <td>Lost Boy,The:A Foster Child's Search for the L...</td>\n",
       "      <td>Pelzer, Dave</td>\n",
       "      <td>791,507</td>\n",
       "      <td>Orion</td>\n",
       "      <td>Biography: General</td>\n",
       "    </tr>\n",
       "    <tr>\n",
       "      <th>99</th>\n",
       "      <td>Jamie's Ministry of Food:Anyone Can Learn to C...</td>\n",
       "      <td>Oliver, Jamie</td>\n",
       "      <td>791,095</td>\n",
       "      <td>Penguin</td>\n",
       "      <td>Food &amp; Drink: General</td>\n",
       "    </tr>\n",
       "  </tbody>\n",
       "</table>\n",
       "<p>100 rows × 5 columns</p>\n",
       "</div>"
      ],
      "text/plain": [
       "                                            Book Nmae       Author Name  \\\n",
       "0                                   Da Vinci Code,The        Brown, Dan   \n",
       "1                Harry Potter and the Deathly Hallows     Rowling, J.K.   \n",
       "2            Harry Potter and the Philosopher's Stone     Rowling, J.K.   \n",
       "3           Harry Potter and the Order of the Phoenix     Rowling, J.K.   \n",
       "4                                Fifty Shades of Grey      James, E. L.   \n",
       "..                                                ...               ...   \n",
       "95                                          Ghost,The    Harris, Robert   \n",
       "96                     Happy Days with the Naked Chef     Oliver, Jamie   \n",
       "97              Hunger Games,The:Hunger Games Trilogy  Collins, Suzanne   \n",
       "98  Lost Boy,The:A Foster Child's Search for the L...      Pelzer, Dave   \n",
       "99  Jamie's Ministry of Food:Anyone Can Learn to C...     Oliver, Jamie   \n",
       "\n",
       "   Volume Sold       Pulblisher                        Genre  \n",
       "0    5,094,805       Transworld  Crime, Thriller & Adventure  \n",
       "1    4,475,152       Bloomsbury           Children's Fiction  \n",
       "2    4,200,654       Bloomsbury           Children's Fiction  \n",
       "3    4,179,479       Bloomsbury           Children's Fiction  \n",
       "4    3,758,936     Random House              Romance & Sagas  \n",
       "..         ...              ...                          ...  \n",
       "95     807,311     Random House   General & Literary Fiction  \n",
       "96     794,201          Penguin        Food & Drink: General  \n",
       "97     792,187  Scholastic Ltd.          Young Adult Fiction  \n",
       "98     791,507            Orion           Biography: General  \n",
       "99     791,095          Penguin        Food & Drink: General  \n",
       "\n",
       "[100 rows x 5 columns]"
      ]
     },
     "execution_count": 41,
     "metadata": {},
     "output_type": "execute_result"
    }
   ],
   "source": [
    "df = pd.DataFrame({'Book Nmae':title_all,'Author Name':a1,'Volume Sold':v1,'Pulblisher':p1,'Genre':genre_all})\n",
    "df"
   ]
  },
  {
   "cell_type": "code",
   "execution_count": null,
   "id": "dd339c22",
   "metadata": {},
   "outputs": [],
   "source": [
    "# =============================================  Q-6 completed ================================================================="
   ]
  },
  {
   "cell_type": "code",
   "execution_count": 42,
   "id": "bc13bdb5",
   "metadata": {},
   "outputs": [],
   "source": [
    "# Q-7"
   ]
  },
  {
   "cell_type": "code",
   "execution_count": 43,
   "id": "18bbf4ad",
   "metadata": {},
   "outputs": [],
   "source": [
    "driver.get('https://www.imdb.com/list/ls095964455/')"
   ]
  },
  {
   "cell_type": "code",
   "execution_count": 44,
   "id": "695ffdad",
   "metadata": {},
   "outputs": [
    {
     "data": {
      "text/plain": [
       "'Game of Thrones'"
      ]
     },
     "execution_count": 44,
     "metadata": {},
     "output_type": "execute_result"
    }
   ],
   "source": [
    "sample = driver.find_element(By.XPATH,'//h3[@class=\"lister-item-header\"]/a')\n",
    "sample.text"
   ]
  },
  {
   "cell_type": "code",
   "execution_count": 45,
   "id": "831bbd51",
   "metadata": {},
   "outputs": [
    {
     "data": {
      "text/plain": [
       "'(2011–2019)'"
      ]
     },
     "execution_count": 45,
     "metadata": {},
     "output_type": "execute_result"
    }
   ],
   "source": [
    "sample1 = driver.find_element(By.XPATH,'//h3[@class=\"lister-item-header\"]/span[2]')\n",
    "sample1.text"
   ]
  },
  {
   "cell_type": "code",
   "execution_count": 46,
   "id": "fa6938fe",
   "metadata": {},
   "outputs": [
    {
     "data": {
      "text/plain": [
       "'Action, Adventure, Drama'"
      ]
     },
     "execution_count": 46,
     "metadata": {},
     "output_type": "execute_result"
    }
   ],
   "source": [
    "sample2 = driver.find_element(By.XPATH,'//p[@class=\"text-muted text-small\"]/span[5]')\n",
    "sample2.text"
   ]
  },
  {
   "cell_type": "code",
   "execution_count": 47,
   "id": "45b9d0d7",
   "metadata": {},
   "outputs": [
    {
     "data": {
      "text/plain": [
       "'57 min'"
      ]
     },
     "execution_count": 47,
     "metadata": {},
     "output_type": "execute_result"
    }
   ],
   "source": [
    "sample3 = driver.find_element(By.XPATH,'//p[@class=\"text-muted text-small\"]/span[3]')\n",
    "sample3.text"
   ]
  },
  {
   "cell_type": "code",
   "execution_count": 48,
   "id": "8b4afd11",
   "metadata": {},
   "outputs": [
    {
     "data": {
      "text/plain": [
       "'9.2'"
      ]
     },
     "execution_count": 48,
     "metadata": {},
     "output_type": "execute_result"
    }
   ],
   "source": [
    "sample4 = driver.find_element(By.XPATH,'//div[@class=\"ipl-rating-widget\"]/div[1]/span[2]')\n",
    "sample4.text"
   ]
  },
  {
   "cell_type": "code",
   "execution_count": 49,
   "id": "cb7b0163",
   "metadata": {},
   "outputs": [
    {
     "data": {
      "text/plain": [
       "'2,174,645'"
      ]
     },
     "execution_count": 49,
     "metadata": {},
     "output_type": "execute_result"
    }
   ],
   "source": [
    "sample5 = driver.find_element(By.XPATH,'//p[@class=\"text-muted text-small\"][3]/span[2]')\n",
    "sample5.text"
   ]
  },
  {
   "cell_type": "code",
   "execution_count": 50,
   "id": "019d6084",
   "metadata": {},
   "outputs": [],
   "source": [
    "name_all = []\n",
    "year_all = []\n",
    "genre_all = []\n",
    "runtime_all = []\n",
    "rating_all = []\n",
    "votes_all = []"
   ]
  },
  {
   "cell_type": "code",
   "execution_count": 51,
   "id": "4e9d6bb5",
   "metadata": {},
   "outputs": [],
   "source": [
    "try:\n",
    "    title = driver.find_elements(By.XPATH,'//h3[@class=\"lister-item-header\"]/a')\n",
    "    for i in title:\n",
    "        temp = i.text\n",
    "        name_all.append(temp)\n",
    "except NoSuchElementException:\n",
    "    name_all.append('-')\n",
    "    \n",
    "try:\n",
    "    year = driver.find_elements(By.XPATH,'//h3[@class=\"lister-item-header\"]/span[2]')\n",
    "    for i in year:\n",
    "        temp = i.text\n",
    "        year_all.append(temp)\n",
    "except NoSuchElementException:\n",
    "    year_all.append('-')\n",
    "    \n",
    "try:\n",
    "    genre = driver.find_elements(By.XPATH,'//p[@class=\"text-muted text-small\"]/span[5]')\n",
    "    for i in genre:\n",
    "        temp = i.text\n",
    "        genre_all.append(temp)\n",
    "except NoSuchElementException:\n",
    "    genre_all.append('-')\n",
    "    \n",
    "try:\n",
    "    runtime = driver.find_elements(By.XPATH,'//p[@class=\"text-muted text-small\"]/span[3]')\n",
    "    for i in runtime:\n",
    "        temp = i.text\n",
    "        runtime_all.append(temp)\n",
    "except NoSuchElementException:\n",
    "    runtime_all.append('-')\n",
    "    \n",
    "try:\n",
    "    rating = driver.find_elements(By.XPATH,'//div[@class=\"ipl-rating-widget\"]/div[1]/span[2]')\n",
    "    for i in rating:\n",
    "        temp = i.text\n",
    "        rating_all.append(temp)\n",
    "except NoSuchElementException:\n",
    "    rating_all.append('-')\n",
    "    \n",
    "try:\n",
    "    votes = driver.find_elements(By.XPATH,'//p[@class=\"text-muted text-small\"][3]/span[2]')\n",
    "    for i in votes:\n",
    "        temp = i.text\n",
    "        votes_all.append(temp)\n",
    "except NoSuchElementException:\n",
    "    votes_all.append('-')"
   ]
  },
  {
   "cell_type": "code",
   "execution_count": 52,
   "id": "cd00fc64",
   "metadata": {},
   "outputs": [
    {
     "data": {
      "text/html": [
       "<div>\n",
       "<style scoped>\n",
       "    .dataframe tbody tr th:only-of-type {\n",
       "        vertical-align: middle;\n",
       "    }\n",
       "\n",
       "    .dataframe tbody tr th {\n",
       "        vertical-align: top;\n",
       "    }\n",
       "\n",
       "    .dataframe thead th {\n",
       "        text-align: right;\n",
       "    }\n",
       "</style>\n",
       "<table border=\"1\" class=\"dataframe\">\n",
       "  <thead>\n",
       "    <tr style=\"text-align: right;\">\n",
       "      <th></th>\n",
       "      <th>Name of Series</th>\n",
       "      <th>Year Span</th>\n",
       "      <th>Genre</th>\n",
       "      <th>Runtime</th>\n",
       "      <th>Ratings</th>\n",
       "      <th>Votes</th>\n",
       "    </tr>\n",
       "  </thead>\n",
       "  <tbody>\n",
       "    <tr>\n",
       "      <th>0</th>\n",
       "      <td>Game of Thrones</td>\n",
       "      <td>(2011–2019)</td>\n",
       "      <td>Action, Adventure, Drama</td>\n",
       "      <td>57 min</td>\n",
       "      <td>9.2</td>\n",
       "      <td>2,174,645</td>\n",
       "    </tr>\n",
       "    <tr>\n",
       "      <th>1</th>\n",
       "      <td>Stranger Things</td>\n",
       "      <td>(2016–2024)</td>\n",
       "      <td>Drama, Fantasy, Horror</td>\n",
       "      <td>51 min</td>\n",
       "      <td>8.7</td>\n",
       "      <td>1,252,369</td>\n",
       "    </tr>\n",
       "    <tr>\n",
       "      <th>2</th>\n",
       "      <td>The Walking Dead</td>\n",
       "      <td>(2010–2022)</td>\n",
       "      <td>Drama, Horror, Thriller</td>\n",
       "      <td>44 min</td>\n",
       "      <td>8.1</td>\n",
       "      <td>1,032,911</td>\n",
       "    </tr>\n",
       "    <tr>\n",
       "      <th>3</th>\n",
       "      <td>13 Reasons Why</td>\n",
       "      <td>(2017–2020)</td>\n",
       "      <td>Drama, Mystery, Thriller</td>\n",
       "      <td>60 min</td>\n",
       "      <td>7.5</td>\n",
       "      <td>303,707</td>\n",
       "    </tr>\n",
       "    <tr>\n",
       "      <th>4</th>\n",
       "      <td>The 100</td>\n",
       "      <td>(2014–2020)</td>\n",
       "      <td>Drama, Mystery, Sci-Fi</td>\n",
       "      <td>43 min</td>\n",
       "      <td>7.6</td>\n",
       "      <td>262,849</td>\n",
       "    </tr>\n",
       "    <tr>\n",
       "      <th>...</th>\n",
       "      <td>...</td>\n",
       "      <td>...</td>\n",
       "      <td>...</td>\n",
       "      <td>...</td>\n",
       "      <td>...</td>\n",
       "      <td>...</td>\n",
       "    </tr>\n",
       "    <tr>\n",
       "      <th>95</th>\n",
       "      <td>Reign</td>\n",
       "      <td>(2013–2017)</td>\n",
       "      <td>Drama</td>\n",
       "      <td>42 min</td>\n",
       "      <td>7.4</td>\n",
       "      <td>51,984</td>\n",
       "    </tr>\n",
       "    <tr>\n",
       "      <th>96</th>\n",
       "      <td>A Series of Unfortunate Events</td>\n",
       "      <td>(2017–2019)</td>\n",
       "      <td>Adventure, Comedy, Drama</td>\n",
       "      <td>50 min</td>\n",
       "      <td>7.8</td>\n",
       "      <td>64,015</td>\n",
       "    </tr>\n",
       "    <tr>\n",
       "      <th>97</th>\n",
       "      <td>Criminal Minds</td>\n",
       "      <td>(2005– )</td>\n",
       "      <td>Crime, Drama, Mystery</td>\n",
       "      <td>42 min</td>\n",
       "      <td>8.1</td>\n",
       "      <td>208,616</td>\n",
       "    </tr>\n",
       "    <tr>\n",
       "      <th>98</th>\n",
       "      <td>Scream: The TV Series</td>\n",
       "      <td>(2015–2019)</td>\n",
       "      <td>Comedy, Crime, Drama</td>\n",
       "      <td>45 min</td>\n",
       "      <td>7</td>\n",
       "      <td>43,411</td>\n",
       "    </tr>\n",
       "    <tr>\n",
       "      <th>99</th>\n",
       "      <td>The Haunting of Hill House</td>\n",
       "      <td>(2018)</td>\n",
       "      <td>Drama, Horror, Mystery</td>\n",
       "      <td>572 min</td>\n",
       "      <td>8.6</td>\n",
       "      <td>260,407</td>\n",
       "    </tr>\n",
       "  </tbody>\n",
       "</table>\n",
       "<p>100 rows × 6 columns</p>\n",
       "</div>"
      ],
      "text/plain": [
       "                    Name of Series    Year Span                     Genre  \\\n",
       "0                  Game of Thrones  (2011–2019)  Action, Adventure, Drama   \n",
       "1                  Stranger Things  (2016–2024)    Drama, Fantasy, Horror   \n",
       "2                 The Walking Dead  (2010–2022)   Drama, Horror, Thriller   \n",
       "3                   13 Reasons Why  (2017–2020)  Drama, Mystery, Thriller   \n",
       "4                          The 100  (2014–2020)    Drama, Mystery, Sci-Fi   \n",
       "..                             ...          ...                       ...   \n",
       "95                           Reign  (2013–2017)                     Drama   \n",
       "96  A Series of Unfortunate Events  (2017–2019)  Adventure, Comedy, Drama   \n",
       "97                  Criminal Minds     (2005– )     Crime, Drama, Mystery   \n",
       "98           Scream: The TV Series  (2015–2019)      Comedy, Crime, Drama   \n",
       "99      The Haunting of Hill House       (2018)    Drama, Horror, Mystery   \n",
       "\n",
       "    Runtime Ratings      Votes  \n",
       "0    57 min     9.2  2,174,645  \n",
       "1    51 min     8.7  1,252,369  \n",
       "2    44 min     8.1  1,032,911  \n",
       "3    60 min     7.5    303,707  \n",
       "4    43 min     7.6    262,849  \n",
       "..      ...     ...        ...  \n",
       "95   42 min     7.4     51,984  \n",
       "96   50 min     7.8     64,015  \n",
       "97   42 min     8.1    208,616  \n",
       "98   45 min       7     43,411  \n",
       "99  572 min     8.6    260,407  \n",
       "\n",
       "[100 rows x 6 columns]"
      ]
     },
     "execution_count": 52,
     "metadata": {},
     "output_type": "execute_result"
    }
   ],
   "source": [
    "df = pd.DataFrame({'Name of Series':name_all,'Year Span':year_all,'Genre':genre_all,'Runtime':runtime_all,'Ratings':rating_all,'Votes':votes_all})\n",
    "df"
   ]
  },
  {
   "cell_type": "code",
   "execution_count": null,
   "id": "d901e453",
   "metadata": {},
   "outputs": [],
   "source": [
    "# ================================================ Q-7 completed =============================================================="
   ]
  },
  {
   "cell_type": "code",
   "execution_count": 53,
   "id": "f4c04b39",
   "metadata": {},
   "outputs": [],
   "source": [
    "# Q-8"
   ]
  },
  {
   "cell_type": "code",
   "execution_count": 54,
   "id": "dfdc43a1",
   "metadata": {},
   "outputs": [],
   "source": [
    "driver.get('https://archive.ics.uci.edu/')"
   ]
  },
  {
   "cell_type": "code",
   "execution_count": 55,
   "id": "f6b1deb4",
   "metadata": {},
   "outputs": [],
   "source": [
    "view_dataset = driver.find_element(By.XPATH,'/html/body/div/div[1]/div[1]/main/div/div[1]/div/div/div/a[1]')\n",
    "view_dataset.click()"
   ]
  },
  {
   "cell_type": "code",
   "execution_count": 56,
   "id": "889d866b",
   "metadata": {},
   "outputs": [],
   "source": [
    "sample_url = []"
   ]
  },
  {
   "cell_type": "code",
   "execution_count": 59,
   "id": "ae78ad9f",
   "metadata": {},
   "outputs": [],
   "source": [
    "try:\n",
    "    urls = driver.find_elements(By.XPATH,'//h2[@class=\"truncate text-primary\"]/a')\n",
    "    for i in urls:\n",
    "        temp = i.get_attribute('href')\n",
    "        sample_url.append(temp)\n",
    "except NoSuchElementException:\n",
    "    sample_url.append('not found')"
   ]
  },
  {
   "cell_type": "code",
   "execution_count": 60,
   "id": "aae37e81",
   "metadata": {},
   "outputs": [
    {
     "data": {
      "text/plain": [
       "['https://archive.ics.uci.edu/dataset/53/iris',\n",
       " 'https://archive.ics.uci.edu/dataset/45/heart+disease',\n",
       " 'https://archive.ics.uci.edu/dataset/2/adult',\n",
       " 'https://archive.ics.uci.edu/dataset/602/dry+bean+dataset',\n",
       " 'https://archive.ics.uci.edu/dataset/34/diabetes',\n",
       " 'https://archive.ics.uci.edu/dataset/545/rice+cammeo+and+osmancik',\n",
       " 'https://archive.ics.uci.edu/dataset/109/wine',\n",
       " 'https://archive.ics.uci.edu/dataset/19/car+evaluation',\n",
       " 'https://archive.ics.uci.edu/dataset/17/breast+cancer+wisconsin+diagnostic',\n",
       " 'https://archive.ics.uci.edu/dataset/73/mushroom']"
      ]
     },
     "execution_count": 60,
     "metadata": {},
     "output_type": "execute_result"
    }
   ],
   "source": [
    "sample_url"
   ]
  },
  {
   "cell_type": "code",
   "execution_count": 61,
   "id": "54046ee2",
   "metadata": {},
   "outputs": [],
   "source": [
    "iris = driver.find_element(By.XPATH,'//h2[@class=\"truncate text-primary\"]/a')\n",
    "iris.click()"
   ]
  },
  {
   "cell_type": "code",
   "execution_count": 62,
   "id": "00d3164a",
   "metadata": {},
   "outputs": [],
   "source": [
    "name_all = []\n",
    "type_all = []\n",
    "task_all = []\n",
    "attributetype_all = []\n",
    "instances_all = []\n",
    "attributenumber_all = []\n",
    "year_all = []\n",
    "\n"
   ]
  },
  {
   "cell_type": "code",
   "execution_count": 63,
   "id": "47b304fc",
   "metadata": {},
   "outputs": [
    {
     "data": {
      "text/plain": [
       "'Iris'"
      ]
     },
     "execution_count": 63,
     "metadata": {},
     "output_type": "execute_result"
    }
   ],
   "source": [
    "sample6 = driver.find_element(By.XPATH,'//div[@class=\"flex items-center gap-4\"][1]/h1')\n",
    "sample6.text"
   ]
  },
  {
   "cell_type": "code",
   "execution_count": 64,
   "id": "6de6bca4",
   "metadata": {},
   "outputs": [
    {
     "data": {
      "text/plain": [
       "'Multivariate'"
      ]
     },
     "execution_count": 64,
     "metadata": {},
     "output_type": "execute_result"
    }
   ],
   "source": [
    "sample7 = driver.find_element(By.XPATH,'//div[@class=\"col-span-4\"][1]/p')\n",
    "sample7.text"
   ]
  },
  {
   "cell_type": "code",
   "execution_count": 65,
   "id": "6cfbc6c2",
   "metadata": {},
   "outputs": [
    {
     "data": {
      "text/plain": [
       "'Classification'"
      ]
     },
     "execution_count": 65,
     "metadata": {},
     "output_type": "execute_result"
    }
   ],
   "source": [
    "sample8 = driver.find_element(By.XPATH,'//div[@class=\"col-span-4\"][3]/p')\n",
    "sample8.text"
   ]
  },
  {
   "cell_type": "code",
   "execution_count": 66,
   "id": "2e7a7505",
   "metadata": {},
   "outputs": [
    {
     "data": {
      "text/plain": [
       "'Real'"
      ]
     },
     "execution_count": 66,
     "metadata": {},
     "output_type": "execute_result"
    }
   ],
   "source": [
    "sample9 = driver.find_element(By.XPATH,'//div[@class=\"col-span-4\"][4]/p')\n",
    "sample9.text"
   ]
  },
  {
   "cell_type": "code",
   "execution_count": 67,
   "id": "3bac3806",
   "metadata": {},
   "outputs": [
    {
     "data": {
      "text/plain": [
       "'150'"
      ]
     },
     "execution_count": 67,
     "metadata": {},
     "output_type": "execute_result"
    }
   ],
   "source": [
    "sample10 = driver.find_element(By.XPATH,'//div[@class=\"col-span-4\"][5]/p')\n",
    "sample10.text"
   ]
  },
  {
   "cell_type": "code",
   "execution_count": 69,
   "id": "68f016fa",
   "metadata": {},
   "outputs": [
    {
     "data": {
      "text/plain": [
       "'4'"
      ]
     },
     "execution_count": 69,
     "metadata": {},
     "output_type": "execute_result"
    }
   ],
   "source": [
    "sample11 = driver.find_element(By.XPATH,'//div[@class=\"col-span-4\"][6]/p')\n",
    "sample11.text"
   ]
  },
  {
   "cell_type": "code",
   "execution_count": 70,
   "id": "33f497f0",
   "metadata": {},
   "outputs": [
    {
     "data": {
      "text/plain": [
       "'Donated on 6/30/1988'"
      ]
     },
     "execution_count": 70,
     "metadata": {},
     "output_type": "execute_result"
    }
   ],
   "source": [
    "sample12 = driver.find_element(By.XPATH,'//h2[@class=\"text-primary-content\"]')\n",
    "sample12.text"
   ]
  },
  {
   "cell_type": "code",
   "execution_count": null,
   "id": "54cb379d",
   "metadata": {},
   "outputs": [],
   "source": [
    "name_all = []\n",
    "type_all = []\n",
    "task_all = []\n",
    "attributetype_all = []\n",
    "instances_all = []\n",
    "attributenumber_all = []\n",
    "year_all = []\n"
   ]
  },
  {
   "cell_type": "code",
   "execution_count": 71,
   "id": "44c050ca",
   "metadata": {},
   "outputs": [],
   "source": [
    "from time import sleep"
   ]
  },
  {
   "cell_type": "code",
   "execution_count": 76,
   "id": "0d19357a",
   "metadata": {},
   "outputs": [],
   "source": [
    "for url in sample_url:\n",
    "    driver.get(url)\n",
    "    time.sleep(3)\n",
    "    \n",
    "    try:\n",
    "        name = driver.find_elements(By.XPATH,'//div[@class=\"flex items-center gap-4\"][1]/h1')\n",
    "        for i in name:\n",
    "            temp = i.text\n",
    "            name_all.append(temp)\n",
    "    except NoSuchElementException :\n",
    "        name_all.append('-')\n",
    "        \n",
    "    \n",
    "    try:\n",
    "        type1 = driver.find_elements(By.XPATH,'//div[@class=\"col-span-4\"][1]/p')\n",
    "        for i in type1:\n",
    "            temp = i.text\n",
    "            type_all.append(temp)\n",
    "    except NoSuchElementException :\n",
    "        type_all.append('-')\n",
    "    \n",
    "    \n",
    "    try:\n",
    "        task = driver.find_elements(By.XPATH,'//div[@class=\"col-span-4\"][3]/p')\n",
    "        for i in task:\n",
    "            temp = i.text\n",
    "            task_all.append(temp)\n",
    "    except NoSuchElementException :\n",
    "        task_all.append('-')\n",
    "        \n",
    "    \n",
    "    try:\n",
    "        attribute = driver.find_elements(By.XPATH,'//div[@class=\"col-span-4\"][4]/p')\n",
    "        for i in attribute:\n",
    "            temp = i.text\n",
    "            attributetype_all.append(temp)\n",
    "    except NoSuchElementException :\n",
    "        attributetype_all.append('-')\n",
    "        \n",
    "    \n",
    "    try:\n",
    "        instances = driver.find_elements(By.XPATH,'//div[@class=\"col-span-4\"][5]/p')\n",
    "        for i in instances:\n",
    "            temp = i.text\n",
    "            instances_all.append(temp)\n",
    "    except NoSuchElementException :\n",
    "        instances_all.append('-')\n",
    "        \n",
    "    \n",
    "    try:\n",
    "        attrinum = driver.find_elements(By.XPATH,'//div[@class=\"col-span-4\"][6]/p')\n",
    "        for i in attrinum:\n",
    "            temp = i.text\n",
    "            attributenumber_all.append(temp)\n",
    "    except NoSuchElementException :\n",
    "        attributenumber_all.append('-')\n",
    "        \n",
    "    \n",
    "    try:\n",
    "        year = driver.find_elements(By.XPATH,'//h2[@class=\"text-primary-content\"]')\n",
    "        for i in year:\n",
    "            temp = i.text\n",
    "            year_all.append(temp)\n",
    "    except NoSuchElementException :\n",
    "        year_all.append('-')\n",
    "        "
   ]
  },
  {
   "cell_type": "code",
   "execution_count": 78,
   "id": "c672c128",
   "metadata": {},
   "outputs": [],
   "source": [
    "n1 = name_all [:10]\n",
    "t1 = type_all [:10]\n",
    "t2 = task_all [:10]\n",
    "a1 = attributetype_all [:10]\n",
    "i1 = instances_all [:10]\n",
    "a2 = attributenumber_all [:10]\n",
    "y1 = year_all [:10]"
   ]
  },
  {
   "cell_type": "code",
   "execution_count": 79,
   "id": "197d82aa",
   "metadata": {},
   "outputs": [
    {
     "data": {
      "text/html": [
       "<div>\n",
       "<style scoped>\n",
       "    .dataframe tbody tr th:only-of-type {\n",
       "        vertical-align: middle;\n",
       "    }\n",
       "\n",
       "    .dataframe tbody tr th {\n",
       "        vertical-align: top;\n",
       "    }\n",
       "\n",
       "    .dataframe thead th {\n",
       "        text-align: right;\n",
       "    }\n",
       "</style>\n",
       "<table border=\"1\" class=\"dataframe\">\n",
       "  <thead>\n",
       "    <tr style=\"text-align: right;\">\n",
       "      <th></th>\n",
       "      <th>Dataset Name</th>\n",
       "      <th>Data Type</th>\n",
       "      <th>Task</th>\n",
       "      <th>Attribute Type</th>\n",
       "      <th>Number of Instances</th>\n",
       "      <th>Number of Attributes</th>\n",
       "      <th>Year</th>\n",
       "    </tr>\n",
       "  </thead>\n",
       "  <tbody>\n",
       "    <tr>\n",
       "      <th>0</th>\n",
       "      <td>Iris</td>\n",
       "      <td>Multivariate</td>\n",
       "      <td>Classification</td>\n",
       "      <td>Real</td>\n",
       "      <td>150</td>\n",
       "      <td>4</td>\n",
       "      <td>Donated on 6/30/1988</td>\n",
       "    </tr>\n",
       "    <tr>\n",
       "      <th>1</th>\n",
       "      <td>Information</td>\n",
       "      <td>Multivariate</td>\n",
       "      <td>Classification</td>\n",
       "      <td>Categorical, Integer, Real</td>\n",
       "      <td>303</td>\n",
       "      <td>13</td>\n",
       "      <td>Donated on 6/30/1988</td>\n",
       "    </tr>\n",
       "    <tr>\n",
       "      <th>2</th>\n",
       "      <td>Introductory Paper</td>\n",
       "      <td>Multivariate</td>\n",
       "      <td>Classification</td>\n",
       "      <td>Categorical, Integer</td>\n",
       "      <td>48842</td>\n",
       "      <td>14</td>\n",
       "      <td>Donated on 4/30/1996</td>\n",
       "    </tr>\n",
       "    <tr>\n",
       "      <th>3</th>\n",
       "      <td>Attribute Information</td>\n",
       "      <td>Multivariate</td>\n",
       "      <td>Classification</td>\n",
       "      <td>Integer, Real</td>\n",
       "      <td>13611</td>\n",
       "      <td>17</td>\n",
       "      <td>Donated on 9/13/2020</td>\n",
       "    </tr>\n",
       "    <tr>\n",
       "      <th>4</th>\n",
       "      <td>Features</td>\n",
       "      <td>Multivariate, Time-Series</td>\n",
       "      <td>-</td>\n",
       "      <td>Categorical, Integer</td>\n",
       "      <td>-</td>\n",
       "      <td>20</td>\n",
       "      <td>Donated on 10/5/2019</td>\n",
       "    </tr>\n",
       "    <tr>\n",
       "      <th>5</th>\n",
       "      <td>Keywords</td>\n",
       "      <td>Multivariate</td>\n",
       "      <td>Classification</td>\n",
       "      <td>Real</td>\n",
       "      <td>3810</td>\n",
       "      <td>8</td>\n",
       "      <td>Donated on 6/30/1991</td>\n",
       "    </tr>\n",
       "    <tr>\n",
       "      <th>6</th>\n",
       "      <td>Heart Disease</td>\n",
       "      <td>Multivariate</td>\n",
       "      <td>Classification</td>\n",
       "      <td>Integer, Real</td>\n",
       "      <td>178</td>\n",
       "      <td>13</td>\n",
       "      <td>Donated on 5/31/1997</td>\n",
       "    </tr>\n",
       "    <tr>\n",
       "      <th>7</th>\n",
       "      <td>Information</td>\n",
       "      <td>Multivariate</td>\n",
       "      <td>Classification</td>\n",
       "      <td>Categorical</td>\n",
       "      <td>1728</td>\n",
       "      <td>6</td>\n",
       "      <td>Donated on 10/31/1995</td>\n",
       "    </tr>\n",
       "    <tr>\n",
       "      <th>8</th>\n",
       "      <td>Attribute Information</td>\n",
       "      <td>Multivariate</td>\n",
       "      <td>Classification</td>\n",
       "      <td>Real</td>\n",
       "      <td>569</td>\n",
       "      <td>30</td>\n",
       "      <td>Donated on 4/26/1987</td>\n",
       "    </tr>\n",
       "    <tr>\n",
       "      <th>9</th>\n",
       "      <td>Features</td>\n",
       "      <td>Multivariate</td>\n",
       "      <td>Classification</td>\n",
       "      <td>Categorical</td>\n",
       "      <td>8124</td>\n",
       "      <td>22</td>\n",
       "      <td>Donated on 6/30/1988</td>\n",
       "    </tr>\n",
       "  </tbody>\n",
       "</table>\n",
       "</div>"
      ],
      "text/plain": [
       "            Dataset Name                  Data Type            Task  \\\n",
       "0                   Iris               Multivariate  Classification   \n",
       "1            Information               Multivariate  Classification   \n",
       "2     Introductory Paper               Multivariate  Classification   \n",
       "3  Attribute Information               Multivariate  Classification   \n",
       "4               Features  Multivariate, Time-Series               -   \n",
       "5               Keywords               Multivariate  Classification   \n",
       "6          Heart Disease               Multivariate  Classification   \n",
       "7            Information               Multivariate  Classification   \n",
       "8  Attribute Information               Multivariate  Classification   \n",
       "9               Features               Multivariate  Classification   \n",
       "\n",
       "               Attribute Type Number of Instances Number of Attributes  \\\n",
       "0                        Real                 150                    4   \n",
       "1  Categorical, Integer, Real                 303                   13   \n",
       "2        Categorical, Integer               48842                   14   \n",
       "3               Integer, Real               13611                   17   \n",
       "4        Categorical, Integer                   -                   20   \n",
       "5                        Real                3810                    8   \n",
       "6               Integer, Real                 178                   13   \n",
       "7                 Categorical                1728                    6   \n",
       "8                        Real                 569                   30   \n",
       "9                 Categorical                8124                   22   \n",
       "\n",
       "                    Year  \n",
       "0   Donated on 6/30/1988  \n",
       "1   Donated on 6/30/1988  \n",
       "2   Donated on 4/30/1996  \n",
       "3   Donated on 9/13/2020  \n",
       "4   Donated on 10/5/2019  \n",
       "5   Donated on 6/30/1991  \n",
       "6   Donated on 5/31/1997  \n",
       "7  Donated on 10/31/1995  \n",
       "8   Donated on 4/26/1987  \n",
       "9   Donated on 6/30/1988  "
      ]
     },
     "execution_count": 79,
     "metadata": {},
     "output_type": "execute_result"
    }
   ],
   "source": [
    "df = pd.DataFrame({'Dataset Name':n1,'Data Type':t1,'Task':t2,'Attribute Type':a1,'Number of Instances':i1,'Number of Attributes':a2,'Year':y1})\n",
    "df"
   ]
  },
  {
   "cell_type": "code",
   "execution_count": null,
   "id": "ae65b772",
   "metadata": {},
   "outputs": [],
   "source": [
    "# ======================================  Q-8 completed ========================================================================"
   ]
  },
  {
   "cell_type": "code",
   "execution_count": 80,
   "id": "7d1ad32b",
   "metadata": {},
   "outputs": [],
   "source": [
    "# Q-9"
   ]
  },
  {
   "cell_type": "code",
   "execution_count": 5,
   "id": "8b9363ab",
   "metadata": {},
   "outputs": [],
   "source": [
    "driver.get('https://www.naukri.com/hr-recruiters-consultants')"
   ]
  },
  {
   "cell_type": "code",
   "execution_count": 6,
   "id": "cb55962e",
   "metadata": {},
   "outputs": [],
   "source": [
    "driver.maximize_window()"
   ]
  },
  {
   "cell_type": "code",
   "execution_count": 7,
   "id": "74fbedcb",
   "metadata": {},
   "outputs": [],
   "source": [
    "first = driver.find_element(By.XPATH,'/html/body/div[1]/div[4]/div/div/section[3]/div[2]/article[1]/div[1]/div[1]/a')\n",
    "first.click()"
   ]
  },
  {
   "cell_type": "code",
   "execution_count": 8,
   "id": "76bfe194",
   "metadata": {},
   "outputs": [],
   "source": [
    "url_all = []"
   ]
  },
  {
   "cell_type": "code",
   "execution_count": 20,
   "id": "ae2a23e3",
   "metadata": {},
   "outputs": [
    {
     "data": {
      "text/plain": [
       "[]"
      ]
     },
     "execution_count": 20,
     "metadata": {},
     "output_type": "execute_result"
    }
   ],
   "source": [
    "url = driver.find_elements(By.XPATH,'//section[@class=\"jd-header\"]/div[1]/div[1]/header/h1')\n",
    "for i in url:\n",
    "    temp = i.text\n",
    "    url_all.append(temp)\n",
    "url_all"
   ]
  },
  {
   "cell_type": "code",
   "execution_count": 25,
   "id": "25af9b45",
   "metadata": {},
   "outputs": [],
   "source": [
    "title_name = []\n",
    "try:\n",
    "    title = driver.find_elements(By.XPATH,'//div[@class=\"info fleft\"][1]/a[1]')\n",
    "    for i in title:\n",
    "        temp = i.text\n",
    "        title_name.append(temp)\n",
    "except NoSuchElementException:\n",
    "    title_name.append('-')"
   ]
  },
  {
   "cell_type": "code",
   "execution_count": 27,
   "id": "ee5d83bf",
   "metadata": {},
   "outputs": [
    {
     "data": {
      "text/plain": [
       "20"
      ]
     },
     "execution_count": 27,
     "metadata": {},
     "output_type": "execute_result"
    }
   ],
   "source": [
    "len(title_name)"
   ]
  },
  {
   "cell_type": "code",
   "execution_count": 28,
   "id": "60363820",
   "metadata": {},
   "outputs": [],
   "source": [
    "name_all = []\n",
    "try:\n",
    "    names = driver.find_elements(By.XPATH,'//div[@class=\"info fleft\"][1]/div/a[1]')\n",
    "    for i in names:\n",
    "        temp = i.text\n",
    "        name_all.append(temp)\n",
    "except NoSuchElementException:\n",
    "    name_all.append('-')"
   ]
  },
  {
   "cell_type": "code",
   "execution_count": 30,
   "id": "f77874ff",
   "metadata": {},
   "outputs": [
    {
     "data": {
      "text/plain": [
       "20"
      ]
     },
     "execution_count": 30,
     "metadata": {},
     "output_type": "execute_result"
    }
   ],
   "source": [
    "len(name_all)"
   ]
  },
  {
   "cell_type": "code",
   "execution_count": 31,
   "id": "e468d6b3",
   "metadata": {},
   "outputs": [],
   "source": [
    "discription_all = []\n",
    "try:\n",
    "    discrip = driver.find_elements(By.XPATH,'//div[@class=\"ellipsis job-description\"]')\n",
    "    for i in discrip:\n",
    "        temp = i.text\n",
    "        discription_all.append(temp)\n",
    "except NoSuchElementException:\n",
    "    discription_all.append('-')"
   ]
  },
  {
   "cell_type": "code",
   "execution_count": 32,
   "id": "b74d3cb4",
   "metadata": {},
   "outputs": [
    {
     "data": {
      "text/plain": [
       "20"
      ]
     },
     "execution_count": 32,
     "metadata": {},
     "output_type": "execute_result"
    }
   ],
   "source": [
    "len(discription_all)"
   ]
  },
  {
   "cell_type": "code",
   "execution_count": 34,
   "id": "773cd3d6",
   "metadata": {},
   "outputs": [],
   "source": [
    "location_all = []\n",
    "try:\n",
    "    location = driver.find_elements(By.XPATH,'//li[@class=\"fleft br2 placeHolderLi location\"]/span')\n",
    "    for i in location:\n",
    "        temp = i.text\n",
    "        location_all.append(temp)\n",
    "except NoSuchElementException:\n",
    "    location_all.append('-')"
   ]
  },
  {
   "cell_type": "code",
   "execution_count": 35,
   "id": "f603c85a",
   "metadata": {},
   "outputs": [
    {
     "data": {
      "text/plain": [
       "20"
      ]
     },
     "execution_count": 35,
     "metadata": {},
     "output_type": "execute_result"
    }
   ],
   "source": [
    "len(location_all)"
   ]
  },
  {
   "cell_type": "code",
   "execution_count": 50,
   "id": "d56fd110",
   "metadata": {},
   "outputs": [],
   "source": [
    "designation_all = []\n",
    "try:\n",
    "    desig = driver.find_elements(By.XPATH,'//article[@class=\"jobTuple\"]/ul/li[2]')\n",
    "    for i in desig:\n",
    "        temp = i.text\n",
    "        designation_all.append(temp)\n",
    "except NoSuchElementException:\n",
    "    designation_all.append('-')"
   ]
  },
  {
   "cell_type": "code",
   "execution_count": 51,
   "id": "03d5a3f8",
   "metadata": {},
   "outputs": [
    {
     "data": {
      "text/plain": [
       "20"
      ]
     },
     "execution_count": 51,
     "metadata": {},
     "output_type": "execute_result"
    }
   ],
   "source": [
    "len(designation_all)"
   ]
  },
  {
   "cell_type": "code",
   "execution_count": 53,
   "id": "122e8826",
   "metadata": {},
   "outputs": [
    {
     "data": {
      "text/html": [
       "<div>\n",
       "<style scoped>\n",
       "    .dataframe tbody tr th:only-of-type {\n",
       "        vertical-align: middle;\n",
       "    }\n",
       "\n",
       "    .dataframe tbody tr th {\n",
       "        vertical-align: top;\n",
       "    }\n",
       "\n",
       "    .dataframe thead th {\n",
       "        text-align: right;\n",
       "    }\n",
       "</style>\n",
       "<table border=\"1\" class=\"dataframe\">\n",
       "  <thead>\n",
       "    <tr style=\"text-align: right;\">\n",
       "      <th></th>\n",
       "      <th>Name</th>\n",
       "      <th>Designation</th>\n",
       "      <th>Company</th>\n",
       "      <th>Skills hire</th>\n",
       "      <th>Location</th>\n",
       "    </tr>\n",
       "  </thead>\n",
       "  <tbody>\n",
       "    <tr>\n",
       "      <th>0</th>\n",
       "      <td>Recruitment Opportunity For HR Executive</td>\n",
       "      <td>hr generalist activities</td>\n",
       "      <td>Kone</td>\n",
       "      <td>Assist with all internal and external HR relat...</td>\n",
       "      <td>Chennai, Tamil Nadu</td>\n",
       "    </tr>\n",
       "    <tr>\n",
       "      <th>1</th>\n",
       "      <td>Human Resources Executive</td>\n",
       "      <td>Training</td>\n",
       "      <td>Marriott</td>\n",
       "      <td>Ensure accurate maintenance of all employee re...</td>\n",
       "      <td>Chennai</td>\n",
       "    </tr>\n",
       "    <tr>\n",
       "      <th>2</th>\n",
       "      <td>HR Recruiter _ Bhubaneshwar (Btech Candidates ...</td>\n",
       "      <td>Hrsd</td>\n",
       "      <td>Tech Mahindra</td>\n",
       "      <td>Should have experience of various selection pr...</td>\n",
       "      <td>Bhubaneswar</td>\n",
       "    </tr>\n",
       "    <tr>\n",
       "      <th>3</th>\n",
       "      <td>Job opportunity For freshers/HR Recruiter/HR E...</td>\n",
       "      <td>Bulk Hiring</td>\n",
       "      <td>Black And White Business Solutions</td>\n",
       "      <td>LOOKING FOR - FRESHERS Experience : HR Recruit...</td>\n",
       "      <td>Bangalore/Bengaluru(Kodihalli +3)</td>\n",
       "    </tr>\n",
       "    <tr>\n",
       "      <th>4</th>\n",
       "      <td>HR Executive</td>\n",
       "      <td>Recruitment</td>\n",
       "      <td>Definedge Solutions</td>\n",
       "      <td>Proven work experience as an HR Executive . Ex...</td>\n",
       "      <td>Pune</td>\n",
       "    </tr>\n",
       "    <tr>\n",
       "      <th>5</th>\n",
       "      <td>HR Executive</td>\n",
       "      <td>Talent Management</td>\n",
       "      <td>Bonami Software</td>\n",
       "      <td>Qualifications . Must have excellent oral and ...</td>\n",
       "      <td>New Delhi, Delhi / NCR</td>\n",
       "    </tr>\n",
       "    <tr>\n",
       "      <th>6</th>\n",
       "      <td>Direct Walk in Interview For HR Executive(Female)</td>\n",
       "      <td>Joining formalities</td>\n",
       "      <td>m2 Vending</td>\n",
       "      <td>Direct walk in interview for HR Executive(Fema...</td>\n",
       "      <td>Gurgaon/ Gurugram, Haryana</td>\n",
       "    </tr>\n",
       "    <tr>\n",
       "      <th>7</th>\n",
       "      <td>HR Executive</td>\n",
       "      <td>HR</td>\n",
       "      <td>Reputed Group of Higher Education Insititions....</td>\n",
       "      <td>Roles and ResponsibilityPrimary responsibiliti...</td>\n",
       "      <td>Bangalore/Bengaluru(Bannerghatta +1)</td>\n",
       "    </tr>\n",
       "    <tr>\n",
       "      <th>8</th>\n",
       "      <td>Jr HR Executive</td>\n",
       "      <td>Attendance Maintenance</td>\n",
       "      <td>SPECTRAFORCE</td>\n",
       "      <td>Willingness to work night shifts As a certifie...</td>\n",
       "      <td>Hybrid - Mohali, Punjab</td>\n",
       "    </tr>\n",
       "    <tr>\n",
       "      <th>9</th>\n",
       "      <td>HR Executive</td>\n",
       "      <td>Background verification</td>\n",
       "      <td>Abhinav Futuristics</td>\n",
       "      <td>Recruitment and Staffing: Assisting with the e...</td>\n",
       "      <td>Mohali, Punjab</td>\n",
       "    </tr>\n",
       "    <tr>\n",
       "      <th>10</th>\n",
       "      <td>Executive/ Assistant Manager HR Generalist - P...</td>\n",
       "      <td>HR Information System</td>\n",
       "      <td>OASIS</td>\n",
       "      <td>Dress Code will be Blazer, Skirt and Bun for t...</td>\n",
       "      <td>Pune, Maharashtra(Koregaon Park)</td>\n",
       "    </tr>\n",
       "    <tr>\n",
       "      <th>11</th>\n",
       "      <td>Opening For Management Trainee / Executive - HR</td>\n",
       "      <td>Talent Acquisition</td>\n",
       "      <td>Sahajanand Medical Technologies</td>\n",
       "      <td>Following is the requirement : . Company - Sah...</td>\n",
       "      <td>Mumbai (All Areas)</td>\n",
       "    </tr>\n",
       "    <tr>\n",
       "      <th>12</th>\n",
       "      <td>Recruiter - HR</td>\n",
       "      <td>Social media</td>\n",
       "      <td>Fashion Tv India</td>\n",
       "      <td>1. Filling positions within the organization. ...</td>\n",
       "      <td>Mumbai</td>\n",
       "    </tr>\n",
       "    <tr>\n",
       "      <th>13</th>\n",
       "      <td>Assistant Manager - HR (Field Level Recruitment)</td>\n",
       "      <td>recruitment</td>\n",
       "      <td>Muthoot Microfin</td>\n",
       "      <td>. Post Graduation - MBA / PGDM in HR Full Time...</td>\n",
       "      <td>Bhubaneswar, Odisha, Hubli, Karnataka, Sambalp...</td>\n",
       "    </tr>\n",
       "    <tr>\n",
       "      <th>14</th>\n",
       "      <td>Hiring Freshers : HR Executive: Recruiter-Guru...</td>\n",
       "      <td>Recruitment</td>\n",
       "      <td>Advance Career Solutions</td>\n",
       "      <td>Currently Im hiring Enthusiastic Freshers for ...</td>\n",
       "      <td>Gurgaon/ Gurugram, Haryana</td>\n",
       "    </tr>\n",
       "    <tr>\n",
       "      <th>15</th>\n",
       "      <td>HR Trainee/Fresher(MBA)-Navi Mumbai(IMD joiner...</td>\n",
       "      <td>HR</td>\n",
       "      <td>3i Infotech</td>\n",
       "      <td>Urgent requirement for HR Trainee / Fresher(MB...</td>\n",
       "      <td>Navi Mumbai, Maharashtra</td>\n",
       "    </tr>\n",
       "    <tr>\n",
       "      <th>16</th>\n",
       "      <td>HR Trainee/Fresher(MBA)-Navi Mumbai(IMD joiner...</td>\n",
       "      <td>HR</td>\n",
       "      <td>3i Infotech</td>\n",
       "      <td>Urgent requirement for HR Trainee / Fresher(MB...</td>\n",
       "      <td>Navi Mumbai, Maharashtra</td>\n",
       "    </tr>\n",
       "    <tr>\n",
       "      <th>17</th>\n",
       "      <td>Hiring Hr recruiters, day shift, spot offer an...</td>\n",
       "      <td>Hrsd</td>\n",
       "      <td>Ignites Human Capital</td>\n",
       "      <td>Recruiter(Day shift) Jayanagar . HR Recruiter ...</td>\n",
       "      <td>Bangalore/ Bengaluru, Karnataka</td>\n",
       "    </tr>\n",
       "    <tr>\n",
       "      <th>18</th>\n",
       "      <td>Human Resource Recruiter @Jabalpur: Salary Upt...</td>\n",
       "      <td>Inside sales</td>\n",
       "      <td>KVC Consultants Ltd.</td>\n",
       "      <td>Greetings, If you are looking forward to a car...</td>\n",
       "      <td>Jabalpur</td>\n",
       "    </tr>\n",
       "    <tr>\n",
       "      <th>19</th>\n",
       "      <td>Human Resource Recruiter @Jabalpur: Salary Upt...</td>\n",
       "      <td>IT recruitment</td>\n",
       "      <td>KVC Consultants Ltd.</td>\n",
       "      <td>Greetings, If you are looking forward to a car...</td>\n",
       "      <td>Jabalpur</td>\n",
       "    </tr>\n",
       "  </tbody>\n",
       "</table>\n",
       "</div>"
      ],
      "text/plain": [
       "                                                 Name  \\\n",
       "0            Recruitment Opportunity For HR Executive   \n",
       "1                           Human Resources Executive   \n",
       "2   HR Recruiter _ Bhubaneshwar (Btech Candidates ...   \n",
       "3   Job opportunity For freshers/HR Recruiter/HR E...   \n",
       "4                                        HR Executive   \n",
       "5                                        HR Executive   \n",
       "6   Direct Walk in Interview For HR Executive(Female)   \n",
       "7                                        HR Executive   \n",
       "8                                     Jr HR Executive   \n",
       "9                                        HR Executive   \n",
       "10  Executive/ Assistant Manager HR Generalist - P...   \n",
       "11    Opening For Management Trainee / Executive - HR   \n",
       "12                                     Recruiter - HR   \n",
       "13   Assistant Manager - HR (Field Level Recruitment)   \n",
       "14  Hiring Freshers : HR Executive: Recruiter-Guru...   \n",
       "15  HR Trainee/Fresher(MBA)-Navi Mumbai(IMD joiner...   \n",
       "16  HR Trainee/Fresher(MBA)-Navi Mumbai(IMD joiner...   \n",
       "17  Hiring Hr recruiters, day shift, spot offer an...   \n",
       "18  Human Resource Recruiter @Jabalpur: Salary Upt...   \n",
       "19  Human Resource Recruiter @Jabalpur: Salary Upt...   \n",
       "\n",
       "                 Designation  \\\n",
       "0   hr generalist activities   \n",
       "1                   Training   \n",
       "2                       Hrsd   \n",
       "3                Bulk Hiring   \n",
       "4                Recruitment   \n",
       "5          Talent Management   \n",
       "6        Joining formalities   \n",
       "7                         HR   \n",
       "8     Attendance Maintenance   \n",
       "9    Background verification   \n",
       "10     HR Information System   \n",
       "11        Talent Acquisition   \n",
       "12              Social media   \n",
       "13               recruitment   \n",
       "14               Recruitment   \n",
       "15                        HR   \n",
       "16                        HR   \n",
       "17                      Hrsd   \n",
       "18              Inside sales   \n",
       "19            IT recruitment   \n",
       "\n",
       "                                              Company  \\\n",
       "0                                                Kone   \n",
       "1                                            Marriott   \n",
       "2                                       Tech Mahindra   \n",
       "3                  Black And White Business Solutions   \n",
       "4                                 Definedge Solutions   \n",
       "5                                     Bonami Software   \n",
       "6                                          m2 Vending   \n",
       "7   Reputed Group of Higher Education Insititions....   \n",
       "8                                        SPECTRAFORCE   \n",
       "9                                 Abhinav Futuristics   \n",
       "10                                              OASIS   \n",
       "11                    Sahajanand Medical Technologies   \n",
       "12                                   Fashion Tv India   \n",
       "13                                   Muthoot Microfin   \n",
       "14                           Advance Career Solutions   \n",
       "15                                        3i Infotech   \n",
       "16                                        3i Infotech   \n",
       "17                              Ignites Human Capital   \n",
       "18                               KVC Consultants Ltd.   \n",
       "19                               KVC Consultants Ltd.   \n",
       "\n",
       "                                          Skills hire  \\\n",
       "0   Assist with all internal and external HR relat...   \n",
       "1   Ensure accurate maintenance of all employee re...   \n",
       "2   Should have experience of various selection pr...   \n",
       "3   LOOKING FOR - FRESHERS Experience : HR Recruit...   \n",
       "4   Proven work experience as an HR Executive . Ex...   \n",
       "5   Qualifications . Must have excellent oral and ...   \n",
       "6   Direct walk in interview for HR Executive(Fema...   \n",
       "7   Roles and ResponsibilityPrimary responsibiliti...   \n",
       "8   Willingness to work night shifts As a certifie...   \n",
       "9   Recruitment and Staffing: Assisting with the e...   \n",
       "10  Dress Code will be Blazer, Skirt and Bun for t...   \n",
       "11  Following is the requirement : . Company - Sah...   \n",
       "12  1. Filling positions within the organization. ...   \n",
       "13  . Post Graduation - MBA / PGDM in HR Full Time...   \n",
       "14  Currently Im hiring Enthusiastic Freshers for ...   \n",
       "15  Urgent requirement for HR Trainee / Fresher(MB...   \n",
       "16  Urgent requirement for HR Trainee / Fresher(MB...   \n",
       "17  Recruiter(Day shift) Jayanagar . HR Recruiter ...   \n",
       "18  Greetings, If you are looking forward to a car...   \n",
       "19  Greetings, If you are looking forward to a car...   \n",
       "\n",
       "                                             Location  \n",
       "0                                 Chennai, Tamil Nadu  \n",
       "1                                             Chennai  \n",
       "2                                         Bhubaneswar  \n",
       "3                   Bangalore/Bengaluru(Kodihalli +3)  \n",
       "4                                                Pune  \n",
       "5                              New Delhi, Delhi / NCR  \n",
       "6                          Gurgaon/ Gurugram, Haryana  \n",
       "7                Bangalore/Bengaluru(Bannerghatta +1)  \n",
       "8                             Hybrid - Mohali, Punjab  \n",
       "9                                      Mohali, Punjab  \n",
       "10                   Pune, Maharashtra(Koregaon Park)  \n",
       "11                                 Mumbai (All Areas)  \n",
       "12                                             Mumbai  \n",
       "13  Bhubaneswar, Odisha, Hubli, Karnataka, Sambalp...  \n",
       "14                         Gurgaon/ Gurugram, Haryana  \n",
       "15                           Navi Mumbai, Maharashtra  \n",
       "16                           Navi Mumbai, Maharashtra  \n",
       "17                    Bangalore/ Bengaluru, Karnataka  \n",
       "18                                           Jabalpur  \n",
       "19                                           Jabalpur  "
      ]
     },
     "execution_count": 53,
     "metadata": {},
     "output_type": "execute_result"
    }
   ],
   "source": [
    "df = pd.DataFrame({'Name':title_name,'Designation':designation_all,'Company':name_all,'Skills hire':discription_all,'Location':location_all})\n",
    "df"
   ]
  },
  {
   "cell_type": "code",
   "execution_count": null,
   "id": "81c2480b",
   "metadata": {},
   "outputs": [],
   "source": [
    "# ============================================= Q-9 completed ================================================================"
   ]
  },
  {
   "cell_type": "code",
   "execution_count": null,
   "id": "9208c646",
   "metadata": {},
   "outputs": [],
   "source": [
    "# Q-1"
   ]
  },
  {
   "cell_type": "code",
   "execution_count": 112,
   "id": "f8c9dd18",
   "metadata": {},
   "outputs": [],
   "source": [
    "from selenium .common.exceptions import NoSuchElementException\n",
    "from time import sleep"
   ]
  },
  {
   "cell_type": "code",
   "execution_count": 91,
   "id": "53e78986",
   "metadata": {},
   "outputs": [],
   "source": [
    "driver = webdriver.Chrome (r'chromedriver.exe')"
   ]
  },
  {
   "cell_type": "code",
   "execution_count": 92,
   "id": "002c1277",
   "metadata": {},
   "outputs": [],
   "source": [
    "driver.get('https://en.wikipedia.org/wiki/List_of_most-viewed_YouTube_videos')"
   ]
  },
  {
   "cell_type": "code",
   "execution_count": 113,
   "id": "3b9d9a92",
   "metadata": {},
   "outputs": [],
   "source": [
    "rank_all = []\n",
    "name_all = []\n",
    "artist_all = []\n",
    "upload_date = []\n",
    "views_all = []"
   ]
  },
  {
   "cell_type": "code",
   "execution_count": 58,
   "id": "ce0400f8",
   "metadata": {},
   "outputs": [],
   "source": [
    "driver.maximize_window()"
   ]
  },
  {
   "cell_type": "code",
   "execution_count": 124,
   "id": "ac975c6f",
   "metadata": {},
   "outputs": [],
   "source": [
    "rank_allnew = []"
   ]
  },
  {
   "cell_type": "code",
   "execution_count": 125,
   "id": "e7eb1dcf",
   "metadata": {},
   "outputs": [],
   "source": [
    "try:\n",
    "    rank_new1 = driver.find_elements(By.XPATH,'//table[@class=\"wikitable sortable jquery-tablesorter\"]/tbody[1]/tr/td[1]')\n",
    "    for i in rank_new1:\n",
    "        temp = i.text\n",
    "        rank_allnew.append(temp)\n",
    "except NoSuchElementException:\n",
    "    rank_allnew.append('-')"
   ]
  },
  {
   "cell_type": "code",
   "execution_count": 128,
   "id": "1e4f3bad",
   "metadata": {},
   "outputs": [
    {
     "data": {
      "text/plain": [
       "20"
      ]
     },
     "execution_count": 128,
     "metadata": {},
     "output_type": "execute_result"
    }
   ],
   "source": [
    "r = rank_allnew [:20]\n",
    "len(r)"
   ]
  },
  {
   "cell_type": "code",
   "execution_count": 97,
   "id": "524df143",
   "metadata": {},
   "outputs": [],
   "source": [
    "try:\n",
    "    rank_new = driver.find_elements(By.XPATH,'//table[@class=\"wikitable sortable jquery-tablesorter\"]/tbody[1]/tr/td[2]/a')\n",
    "    for i in rank_new:\n",
    "        temp = i.text\n",
    "        name_all.append(temp)\n",
    "except NoSuchElementException:\n",
    "    name_all.append('-')\n",
    "            "
   ]
  },
  {
   "cell_type": "code",
   "execution_count": 117,
   "id": "6a19903c",
   "metadata": {},
   "outputs": [
    {
     "data": {
      "text/plain": [
       "20"
      ]
     },
     "execution_count": 117,
     "metadata": {},
     "output_type": "execute_result"
    }
   ],
   "source": [
    "n = name_all[:20]\n",
    "len(n)"
   ]
  },
  {
   "cell_type": "code",
   "execution_count": 100,
   "id": "b0000655",
   "metadata": {},
   "outputs": [],
   "source": [
    "try:\n",
    "    artist= driver.find_elements(By.XPATH,'//table[@class=\"wikitable sortable jquery-tablesorter\"]/tbody[1]/tr/td[3]/a')\n",
    "    for i in artist:\n",
    "        temp = i.text\n",
    "        artist_all.append(temp)\n",
    "except NoSuchElementException:\n",
    "    artist_all.append('-')"
   ]
  },
  {
   "cell_type": "code",
   "execution_count": 118,
   "id": "61c16ab7",
   "metadata": {},
   "outputs": [
    {
     "data": {
      "text/plain": [
       "20"
      ]
     },
     "execution_count": 118,
     "metadata": {},
     "output_type": "execute_result"
    }
   ],
   "source": [
    "a = artist_all[:20]\n",
    "len(a)"
   ]
  },
  {
   "cell_type": "code",
   "execution_count": 103,
   "id": "f24ab5a2",
   "metadata": {},
   "outputs": [],
   "source": [
    "try:\n",
    "    views = driver.find_elements(By.XPATH,'//table[@class=\"wikitable sortable jquery-tablesorter\"]/tbody[1]/tr/td[4]')\n",
    "    for i in views:\n",
    "        temp = i.text\n",
    "        views_all.append(temp)\n",
    "except NoSuchElementException:\n",
    "    views_all.append('-')"
   ]
  },
  {
   "cell_type": "code",
   "execution_count": 119,
   "id": "372359a2",
   "metadata": {},
   "outputs": [
    {
     "data": {
      "text/plain": [
       "20"
      ]
     },
     "execution_count": 119,
     "metadata": {},
     "output_type": "execute_result"
    }
   ],
   "source": [
    "v = views_all [:20]\n",
    "len (v)"
   ]
  },
  {
   "cell_type": "code",
   "execution_count": 106,
   "id": "831882e8",
   "metadata": {},
   "outputs": [],
   "source": [
    "try:\n",
    "    upload = driver.find_elements(By.XPATH,'//table[@class=\"wikitable sortable jquery-tablesorter\"]/tbody[1]/tr/td[5]')\n",
    "    for i in upload:\n",
    "        temp = i.text\n",
    "        upload_date.append(temp)\n",
    "except NoSuchElementException:\n",
    "    upload_date.append('-')"
   ]
  },
  {
   "cell_type": "code",
   "execution_count": 122,
   "id": "ef7c3e13",
   "metadata": {},
   "outputs": [
    {
     "data": {
      "text/plain": [
       "20"
      ]
     },
     "execution_count": 122,
     "metadata": {},
     "output_type": "execute_result"
    }
   ],
   "source": [
    "u = upload_date [:20]\n",
    "len(u)"
   ]
  },
  {
   "cell_type": "code",
   "execution_count": 129,
   "id": "505d6861",
   "metadata": {},
   "outputs": [
    {
     "data": {
      "text/html": [
       "<div>\n",
       "<style scoped>\n",
       "    .dataframe tbody tr th:only-of-type {\n",
       "        vertical-align: middle;\n",
       "    }\n",
       "\n",
       "    .dataframe tbody tr th {\n",
       "        vertical-align: top;\n",
       "    }\n",
       "\n",
       "    .dataframe thead th {\n",
       "        text-align: right;\n",
       "    }\n",
       "</style>\n",
       "<table border=\"1\" class=\"dataframe\">\n",
       "  <thead>\n",
       "    <tr style=\"text-align: right;\">\n",
       "      <th></th>\n",
       "      <th>Rank</th>\n",
       "      <th>Name</th>\n",
       "      <th>Artist</th>\n",
       "      <th>Upload Date</th>\n",
       "      <th>Views</th>\n",
       "    </tr>\n",
       "  </thead>\n",
       "  <tbody>\n",
       "    <tr>\n",
       "      <th>0</th>\n",
       "      <td>1.</td>\n",
       "      <td>Baby Shark Dance</td>\n",
       "      <td>Pinkfong Baby Shark - Kids' Songs &amp; Stories</td>\n",
       "      <td>June 17, 2016</td>\n",
       "      <td>12.85</td>\n",
       "    </tr>\n",
       "    <tr>\n",
       "      <th>1</th>\n",
       "      <td>2.</td>\n",
       "      <td>Despacito</td>\n",
       "      <td>Luis Fonsi</td>\n",
       "      <td>January 12, 2017</td>\n",
       "      <td>8.16</td>\n",
       "    </tr>\n",
       "    <tr>\n",
       "      <th>2</th>\n",
       "      <td>3.</td>\n",
       "      <td>Johny Johny Yes Papa</td>\n",
       "      <td>Cocomelon – Nursery Rhymes</td>\n",
       "      <td>October 8, 2016</td>\n",
       "      <td>6.70</td>\n",
       "    </tr>\n",
       "    <tr>\n",
       "      <th>3</th>\n",
       "      <td>4.</td>\n",
       "      <td>Shape of You</td>\n",
       "      <td>Ed Sheeran</td>\n",
       "      <td>May 2, 2018</td>\n",
       "      <td>6.20</td>\n",
       "    </tr>\n",
       "    <tr>\n",
       "      <th>4</th>\n",
       "      <td>5.</td>\n",
       "      <td>See You Again</td>\n",
       "      <td>Wiz Khalifa</td>\n",
       "      <td>January 30, 2017</td>\n",
       "      <td>6.00</td>\n",
       "    </tr>\n",
       "    <tr>\n",
       "      <th>5</th>\n",
       "      <td>6.</td>\n",
       "      <td>Wheels on the Bus</td>\n",
       "      <td>ChuChu TV</td>\n",
       "      <td>April 6, 2015</td>\n",
       "      <td>5.89</td>\n",
       "    </tr>\n",
       "    <tr>\n",
       "      <th>6</th>\n",
       "      <td>7.</td>\n",
       "      <td>Uptown Funk</td>\n",
       "      <td>Cocomelon – Nursery Rhymes</td>\n",
       "      <td>March 6, 2014</td>\n",
       "      <td>5.30</td>\n",
       "    </tr>\n",
       "    <tr>\n",
       "      <th>7</th>\n",
       "      <td>8.</td>\n",
       "      <td>Gangnam Style</td>\n",
       "      <td>Mark Ronson</td>\n",
       "      <td>May 24, 2018</td>\n",
       "      <td>5.24</td>\n",
       "    </tr>\n",
       "    <tr>\n",
       "      <th>8</th>\n",
       "      <td>9.</td>\n",
       "      <td>Dame Tu Cosita</td>\n",
       "      <td>Psy</td>\n",
       "      <td>November 19, 2014</td>\n",
       "      <td>4.92</td>\n",
       "    </tr>\n",
       "    <tr>\n",
       "      <th>9</th>\n",
       "      <td>10.</td>\n",
       "      <td>Axel F</td>\n",
       "      <td>El Chombo</td>\n",
       "      <td>February 27, 2018</td>\n",
       "      <td>4.89</td>\n",
       "    </tr>\n",
       "    <tr>\n",
       "      <th>10</th>\n",
       "      <td>11.</td>\n",
       "      <td>Sugar</td>\n",
       "      <td>Crazy Frog</td>\n",
       "      <td>July 15, 2012</td>\n",
       "      <td>4.80</td>\n",
       "    </tr>\n",
       "    <tr>\n",
       "      <th>11</th>\n",
       "      <td>12.</td>\n",
       "      <td>Roar</td>\n",
       "      <td>Maroon 5</td>\n",
       "      <td>January 31, 2012</td>\n",
       "      <td>4.55</td>\n",
       "    </tr>\n",
       "    <tr>\n",
       "      <th>12</th>\n",
       "      <td>13.</td>\n",
       "      <td>Counting Stars</td>\n",
       "      <td>Katy Perry</td>\n",
       "      <td>April 5, 2018</td>\n",
       "      <td>4.35</td>\n",
       "    </tr>\n",
       "    <tr>\n",
       "      <th>13</th>\n",
       "      <td>14.</td>\n",
       "      <td>Sorry</td>\n",
       "      <td>OneRepublic</td>\n",
       "      <td>June 16, 2009</td>\n",
       "      <td>3.91</td>\n",
       "    </tr>\n",
       "    <tr>\n",
       "      <th>14</th>\n",
       "      <td>15.</td>\n",
       "      <td>Baa Baa Black Sheep</td>\n",
       "      <td>Justin Bieber</td>\n",
       "      <td>January 14, 2015</td>\n",
       "      <td>3.87</td>\n",
       "    </tr>\n",
       "    <tr>\n",
       "      <th>15</th>\n",
       "      <td>16.</td>\n",
       "      <td>Thinking Out Loud</td>\n",
       "      <td>Cocomelon – Nursery Rhymes</td>\n",
       "      <td>September 5, 2013</td>\n",
       "      <td>3.80</td>\n",
       "    </tr>\n",
       "    <tr>\n",
       "      <th>16</th>\n",
       "      <td>17.</td>\n",
       "      <td>Waka Waka (This Time for Africa)</td>\n",
       "      <td>Ed Sheeran</td>\n",
       "      <td>May 31, 2013</td>\n",
       "      <td>3.79</td>\n",
       "    </tr>\n",
       "    <tr>\n",
       "      <th>17</th>\n",
       "      <td>18.</td>\n",
       "      <td>Dark Horse</td>\n",
       "      <td>Shakira</td>\n",
       "      <td>October 22, 2015</td>\n",
       "      <td>3.66</td>\n",
       "    </tr>\n",
       "    <tr>\n",
       "      <th>18</th>\n",
       "      <td>19.</td>\n",
       "      <td>Faded</td>\n",
       "      <td>Katy Perry</td>\n",
       "      <td>June 25, 2018</td>\n",
       "      <td>3.64</td>\n",
       "    </tr>\n",
       "    <tr>\n",
       "      <th>19</th>\n",
       "      <td>20.</td>\n",
       "      <td>Perfect</td>\n",
       "      <td>Alan Walker</td>\n",
       "      <td>October 7, 2014</td>\n",
       "      <td>3.60</td>\n",
       "    </tr>\n",
       "  </tbody>\n",
       "</table>\n",
       "</div>"
      ],
      "text/plain": [
       "   Rank                              Name  \\\n",
       "0    1.                  Baby Shark Dance   \n",
       "1    2.                         Despacito   \n",
       "2    3.              Johny Johny Yes Papa   \n",
       "3    4.                      Shape of You   \n",
       "4    5.                     See You Again   \n",
       "5    6.                 Wheels on the Bus   \n",
       "6    7.                       Uptown Funk   \n",
       "7    8.                     Gangnam Style   \n",
       "8    9.                    Dame Tu Cosita   \n",
       "9   10.                            Axel F   \n",
       "10  11.                             Sugar   \n",
       "11  12.                              Roar   \n",
       "12  13.                    Counting Stars   \n",
       "13  14.                             Sorry   \n",
       "14  15.               Baa Baa Black Sheep   \n",
       "15  16.                 Thinking Out Loud   \n",
       "16  17.  Waka Waka (This Time for Africa)   \n",
       "17  18.                        Dark Horse   \n",
       "18  19.                             Faded   \n",
       "19  20.                           Perfect   \n",
       "\n",
       "                                         Artist        Upload Date  Views  \n",
       "0   Pinkfong Baby Shark - Kids' Songs & Stories      June 17, 2016  12.85  \n",
       "1                                    Luis Fonsi   January 12, 2017   8.16  \n",
       "2                    Cocomelon – Nursery Rhymes    October 8, 2016   6.70  \n",
       "3                                    Ed Sheeran        May 2, 2018   6.20  \n",
       "4                                   Wiz Khalifa   January 30, 2017   6.00  \n",
       "5                                     ChuChu TV      April 6, 2015   5.89  \n",
       "6                    Cocomelon – Nursery Rhymes      March 6, 2014   5.30  \n",
       "7                                   Mark Ronson       May 24, 2018   5.24  \n",
       "8                                           Psy  November 19, 2014   4.92  \n",
       "9                                     El Chombo  February 27, 2018   4.89  \n",
       "10                                   Crazy Frog      July 15, 2012   4.80  \n",
       "11                                     Maroon 5   January 31, 2012   4.55  \n",
       "12                                   Katy Perry      April 5, 2018   4.35  \n",
       "13                                  OneRepublic      June 16, 2009   3.91  \n",
       "14                                Justin Bieber   January 14, 2015   3.87  \n",
       "15                   Cocomelon – Nursery Rhymes  September 5, 2013   3.80  \n",
       "16                                   Ed Sheeran       May 31, 2013   3.79  \n",
       "17                                      Shakira   October 22, 2015   3.66  \n",
       "18                                   Katy Perry      June 25, 2018   3.64  \n",
       "19                                  Alan Walker    October 7, 2014   3.60  "
      ]
     },
     "execution_count": 129,
     "metadata": {},
     "output_type": "execute_result"
    }
   ],
   "source": [
    "df = pd.DataFrame({'Rank':r,'Name':n,'Artist':a,'Upload Date':u,'Views':v})\n",
    "df"
   ]
  },
  {
   "cell_type": "code",
   "execution_count": null,
   "id": "d0387dcf",
   "metadata": {},
   "outputs": [],
   "source": [
    "# =================================== All Questions Completed =================================================================="
   ]
  },
  {
   "cell_type": "code",
   "execution_count": null,
   "id": "66484ce2",
   "metadata": {},
   "outputs": [],
   "source": []
  },
  {
   "cell_type": "code",
   "execution_count": null,
   "id": "0d5ad86e",
   "metadata": {},
   "outputs": [],
   "source": []
  },
  {
   "cell_type": "code",
   "execution_count": null,
   "id": "a219a690",
   "metadata": {},
   "outputs": [],
   "source": []
  }
 ],
 "metadata": {
  "kernelspec": {
   "display_name": "Python 3 (ipykernel)",
   "language": "python",
   "name": "python3"
  },
  "language_info": {
   "codemirror_mode": {
    "name": "ipython",
    "version": 3
   },
   "file_extension": ".py",
   "mimetype": "text/x-python",
   "name": "python",
   "nbconvert_exporter": "python",
   "pygments_lexer": "ipython3",
   "version": "3.9.13"
  }
 },
 "nbformat": 4,
 "nbformat_minor": 5
}
