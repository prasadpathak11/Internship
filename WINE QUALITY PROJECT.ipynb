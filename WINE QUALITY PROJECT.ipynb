{
 "cells": [
  {
   "cell_type": "code",
   "execution_count": 160,
   "id": "7e87b7f9",
   "metadata": {},
   "outputs": [],
   "source": [
    "import numpy as np\n",
    "import pandas as pd\n",
    "import seaborn as sns\n",
    "import matplotlib.pyplot as plt\n",
    "import warnings\n",
    "warnings.filterwarnings('ignore')"
   ]
  },
  {
   "cell_type": "code",
   "execution_count": 22,
   "id": "8186b361",
   "metadata": {},
   "outputs": [
    {
     "data": {
      "text/html": [
       "<div>\n",
       "<style scoped>\n",
       "    .dataframe tbody tr th:only-of-type {\n",
       "        vertical-align: middle;\n",
       "    }\n",
       "\n",
       "    .dataframe tbody tr th {\n",
       "        vertical-align: top;\n",
       "    }\n",
       "\n",
       "    .dataframe thead th {\n",
       "        text-align: right;\n",
       "    }\n",
       "</style>\n",
       "<table border=\"1\" class=\"dataframe\">\n",
       "  <thead>\n",
       "    <tr style=\"text-align: right;\">\n",
       "      <th></th>\n",
       "      <th>fixed acidity</th>\n",
       "      <th>volatile acidity</th>\n",
       "      <th>citric acid</th>\n",
       "      <th>residual sugar</th>\n",
       "      <th>chlorides</th>\n",
       "      <th>free sulfur dioxide</th>\n",
       "      <th>total sulfur dioxide</th>\n",
       "      <th>density</th>\n",
       "      <th>pH</th>\n",
       "      <th>sulphates</th>\n",
       "      <th>alcohol</th>\n",
       "      <th>quality</th>\n",
       "    </tr>\n",
       "  </thead>\n",
       "  <tbody>\n",
       "    <tr>\n",
       "      <th>0</th>\n",
       "      <td>7.4</td>\n",
       "      <td>0.70</td>\n",
       "      <td>0.00</td>\n",
       "      <td>1.9</td>\n",
       "      <td>0.076</td>\n",
       "      <td>11.0</td>\n",
       "      <td>34.0</td>\n",
       "      <td>0.9978</td>\n",
       "      <td>3.51</td>\n",
       "      <td>0.56</td>\n",
       "      <td>9.4</td>\n",
       "      <td>5</td>\n",
       "    </tr>\n",
       "    <tr>\n",
       "      <th>1</th>\n",
       "      <td>7.8</td>\n",
       "      <td>0.88</td>\n",
       "      <td>0.00</td>\n",
       "      <td>2.6</td>\n",
       "      <td>0.098</td>\n",
       "      <td>25.0</td>\n",
       "      <td>67.0</td>\n",
       "      <td>0.9968</td>\n",
       "      <td>3.20</td>\n",
       "      <td>0.68</td>\n",
       "      <td>9.8</td>\n",
       "      <td>5</td>\n",
       "    </tr>\n",
       "    <tr>\n",
       "      <th>2</th>\n",
       "      <td>7.8</td>\n",
       "      <td>0.76</td>\n",
       "      <td>0.04</td>\n",
       "      <td>2.3</td>\n",
       "      <td>0.092</td>\n",
       "      <td>15.0</td>\n",
       "      <td>54.0</td>\n",
       "      <td>0.9970</td>\n",
       "      <td>3.26</td>\n",
       "      <td>0.65</td>\n",
       "      <td>9.8</td>\n",
       "      <td>5</td>\n",
       "    </tr>\n",
       "    <tr>\n",
       "      <th>3</th>\n",
       "      <td>11.2</td>\n",
       "      <td>0.28</td>\n",
       "      <td>0.56</td>\n",
       "      <td>1.9</td>\n",
       "      <td>0.075</td>\n",
       "      <td>17.0</td>\n",
       "      <td>60.0</td>\n",
       "      <td>0.9980</td>\n",
       "      <td>3.16</td>\n",
       "      <td>0.58</td>\n",
       "      <td>9.8</td>\n",
       "      <td>6</td>\n",
       "    </tr>\n",
       "    <tr>\n",
       "      <th>4</th>\n",
       "      <td>7.4</td>\n",
       "      <td>0.70</td>\n",
       "      <td>0.00</td>\n",
       "      <td>1.9</td>\n",
       "      <td>0.076</td>\n",
       "      <td>11.0</td>\n",
       "      <td>34.0</td>\n",
       "      <td>0.9978</td>\n",
       "      <td>3.51</td>\n",
       "      <td>0.56</td>\n",
       "      <td>9.4</td>\n",
       "      <td>5</td>\n",
       "    </tr>\n",
       "  </tbody>\n",
       "</table>\n",
       "</div>"
      ],
      "text/plain": [
       "   fixed acidity  volatile acidity  citric acid  residual sugar  chlorides  \\\n",
       "0            7.4              0.70         0.00             1.9      0.076   \n",
       "1            7.8              0.88         0.00             2.6      0.098   \n",
       "2            7.8              0.76         0.04             2.3      0.092   \n",
       "3           11.2              0.28         0.56             1.9      0.075   \n",
       "4            7.4              0.70         0.00             1.9      0.076   \n",
       "\n",
       "   free sulfur dioxide  total sulfur dioxide  density    pH  sulphates  \\\n",
       "0                 11.0                  34.0   0.9978  3.51       0.56   \n",
       "1                 25.0                  67.0   0.9968  3.20       0.68   \n",
       "2                 15.0                  54.0   0.9970  3.26       0.65   \n",
       "3                 17.0                  60.0   0.9980  3.16       0.58   \n",
       "4                 11.0                  34.0   0.9978  3.51       0.56   \n",
       "\n",
       "   alcohol  quality  \n",
       "0      9.4        5  \n",
       "1      9.8        5  \n",
       "2      9.8        5  \n",
       "3      9.8        6  \n",
       "4      9.4        5  "
      ]
     },
     "execution_count": 22,
     "metadata": {},
     "output_type": "execute_result"
    }
   ],
   "source": [
    "df = pd.read_csv(\"winequality-red.csv\")\n",
    "df.head()"
   ]
  },
  {
   "cell_type": "code",
   "execution_count": 23,
   "id": "b3ad5bbc",
   "metadata": {},
   "outputs": [],
   "source": [
    "# upto here we are uploded \"wine quality-red.csv\" to jupyter notebook.\n",
    "# and make df as a instance of our wine dataset."
   ]
  },
  {
   "cell_type": "code",
   "execution_count": 24,
   "id": "73cb71ff",
   "metadata": {},
   "outputs": [
    {
     "data": {
      "text/plain": [
       "(1599, 12)"
      ]
     },
     "execution_count": 24,
     "metadata": {},
     "output_type": "execute_result"
    }
   ],
   "source": [
    "df.shape                     "
   ]
  },
  {
   "cell_type": "code",
   "execution_count": 25,
   "id": "a1e3aa6a",
   "metadata": {},
   "outputs": [],
   "source": [
    "# here above we can see that the shape of dataset is 1599 ROWS & 12 COLUMNS are present in the given dataset."
   ]
  },
  {
   "cell_type": "code",
   "execution_count": 26,
   "id": "c5be9d47",
   "metadata": {},
   "outputs": [
    {
     "data": {
      "text/plain": [
       "Index(['fixed acidity', 'volatile acidity', 'citric acid', 'residual sugar',\n",
       "       'chlorides', 'free sulfur dioxide', 'total sulfur dioxide', 'density',\n",
       "       'pH', 'sulphates', 'alcohol', 'quality'],\n",
       "      dtype='object')"
      ]
     },
     "execution_count": 26,
     "metadata": {},
     "output_type": "execute_result"
    }
   ],
   "source": [
    "df.columns"
   ]
  },
  {
   "cell_type": "code",
   "execution_count": 27,
   "id": "67ad53a9",
   "metadata": {},
   "outputs": [],
   "source": [
    "#  here we can see the the 12 diffrent column names present in the dataset. "
   ]
  },
  {
   "cell_type": "code",
   "execution_count": 28,
   "id": "178cab30",
   "metadata": {},
   "outputs": [
    {
     "data": {
      "text/plain": [
       "fixed acidity           float64\n",
       "volatile acidity        float64\n",
       "citric acid             float64\n",
       "residual sugar          float64\n",
       "chlorides               float64\n",
       "free sulfur dioxide     float64\n",
       "total sulfur dioxide    float64\n",
       "density                 float64\n",
       "pH                      float64\n",
       "sulphates               float64\n",
       "alcohol                 float64\n",
       "quality                   int64\n",
       "dtype: object"
      ]
     },
     "execution_count": 28,
     "metadata": {},
     "output_type": "execute_result"
    }
   ],
   "source": [
    "df.dtypes"
   ]
  },
  {
   "cell_type": "code",
   "execution_count": 29,
   "id": "7d0d023a",
   "metadata": {},
   "outputs": [],
   "source": [
    "# as above we can see that the data type of each columns , all columns having \"float64\" data type except \"qyality\" which is \"int64\"."
   ]
  },
  {
   "cell_type": "code",
   "execution_count": 30,
   "id": "9ac5b62f",
   "metadata": {},
   "outputs": [
    {
     "name": "stdout",
     "output_type": "stream",
     "text": [
      "<class 'pandas.core.frame.DataFrame'>\n",
      "RangeIndex: 1599 entries, 0 to 1598\n",
      "Data columns (total 12 columns):\n",
      " #   Column                Non-Null Count  Dtype  \n",
      "---  ------                --------------  -----  \n",
      " 0   fixed acidity         1599 non-null   float64\n",
      " 1   volatile acidity      1599 non-null   float64\n",
      " 2   citric acid           1599 non-null   float64\n",
      " 3   residual sugar        1599 non-null   float64\n",
      " 4   chlorides             1599 non-null   float64\n",
      " 5   free sulfur dioxide   1599 non-null   float64\n",
      " 6   total sulfur dioxide  1599 non-null   float64\n",
      " 7   density               1599 non-null   float64\n",
      " 8   pH                    1599 non-null   float64\n",
      " 9   sulphates             1599 non-null   float64\n",
      " 10  alcohol               1599 non-null   float64\n",
      " 11  quality               1599 non-null   int64  \n",
      "dtypes: float64(11), int64(1)\n",
      "memory usage: 150.0 KB\n"
     ]
    }
   ],
   "source": [
    "df.info()"
   ]
  },
  {
   "cell_type": "code",
   "execution_count": 31,
   "id": "311de36c",
   "metadata": {},
   "outputs": [],
   "source": [
    "# here we used \".info\" which provides us the maximum information about the dataset, i.e\n",
    "# total no.of rows present = 1599\n",
    "# No NULL vales are present in the dataset.\n",
    "# total no. of columns present = 12\n",
    "# the datatypes of all the columns\n",
    "# memory usage "
   ]
  },
  {
   "cell_type": "code",
   "execution_count": 32,
   "id": "4e50fd6e",
   "metadata": {},
   "outputs": [
    {
     "data": {
      "text/html": [
       "<div>\n",
       "<style scoped>\n",
       "    .dataframe tbody tr th:only-of-type {\n",
       "        vertical-align: middle;\n",
       "    }\n",
       "\n",
       "    .dataframe tbody tr th {\n",
       "        vertical-align: top;\n",
       "    }\n",
       "\n",
       "    .dataframe thead th {\n",
       "        text-align: right;\n",
       "    }\n",
       "</style>\n",
       "<table border=\"1\" class=\"dataframe\">\n",
       "  <thead>\n",
       "    <tr style=\"text-align: right;\">\n",
       "      <th></th>\n",
       "      <th>fixed acidity</th>\n",
       "      <th>volatile acidity</th>\n",
       "      <th>citric acid</th>\n",
       "      <th>residual sugar</th>\n",
       "      <th>chlorides</th>\n",
       "      <th>free sulfur dioxide</th>\n",
       "      <th>total sulfur dioxide</th>\n",
       "      <th>density</th>\n",
       "      <th>pH</th>\n",
       "      <th>sulphates</th>\n",
       "      <th>alcohol</th>\n",
       "      <th>quality</th>\n",
       "    </tr>\n",
       "  </thead>\n",
       "  <tbody>\n",
       "    <tr>\n",
       "      <th>count</th>\n",
       "      <td>1599.000000</td>\n",
       "      <td>1599.000000</td>\n",
       "      <td>1599.000000</td>\n",
       "      <td>1599.000000</td>\n",
       "      <td>1599.000000</td>\n",
       "      <td>1599.000000</td>\n",
       "      <td>1599.000000</td>\n",
       "      <td>1599.000000</td>\n",
       "      <td>1599.000000</td>\n",
       "      <td>1599.000000</td>\n",
       "      <td>1599.000000</td>\n",
       "      <td>1599.000000</td>\n",
       "    </tr>\n",
       "    <tr>\n",
       "      <th>mean</th>\n",
       "      <td>8.319637</td>\n",
       "      <td>0.527821</td>\n",
       "      <td>0.270976</td>\n",
       "      <td>2.538806</td>\n",
       "      <td>0.087467</td>\n",
       "      <td>15.874922</td>\n",
       "      <td>46.467792</td>\n",
       "      <td>0.996747</td>\n",
       "      <td>3.311113</td>\n",
       "      <td>0.658149</td>\n",
       "      <td>10.422983</td>\n",
       "      <td>5.636023</td>\n",
       "    </tr>\n",
       "    <tr>\n",
       "      <th>std</th>\n",
       "      <td>1.741096</td>\n",
       "      <td>0.179060</td>\n",
       "      <td>0.194801</td>\n",
       "      <td>1.409928</td>\n",
       "      <td>0.047065</td>\n",
       "      <td>10.460157</td>\n",
       "      <td>32.895324</td>\n",
       "      <td>0.001887</td>\n",
       "      <td>0.154386</td>\n",
       "      <td>0.169507</td>\n",
       "      <td>1.065668</td>\n",
       "      <td>0.807569</td>\n",
       "    </tr>\n",
       "    <tr>\n",
       "      <th>min</th>\n",
       "      <td>4.600000</td>\n",
       "      <td>0.120000</td>\n",
       "      <td>0.000000</td>\n",
       "      <td>0.900000</td>\n",
       "      <td>0.012000</td>\n",
       "      <td>1.000000</td>\n",
       "      <td>6.000000</td>\n",
       "      <td>0.990070</td>\n",
       "      <td>2.740000</td>\n",
       "      <td>0.330000</td>\n",
       "      <td>8.400000</td>\n",
       "      <td>3.000000</td>\n",
       "    </tr>\n",
       "    <tr>\n",
       "      <th>25%</th>\n",
       "      <td>7.100000</td>\n",
       "      <td>0.390000</td>\n",
       "      <td>0.090000</td>\n",
       "      <td>1.900000</td>\n",
       "      <td>0.070000</td>\n",
       "      <td>7.000000</td>\n",
       "      <td>22.000000</td>\n",
       "      <td>0.995600</td>\n",
       "      <td>3.210000</td>\n",
       "      <td>0.550000</td>\n",
       "      <td>9.500000</td>\n",
       "      <td>5.000000</td>\n",
       "    </tr>\n",
       "    <tr>\n",
       "      <th>50%</th>\n",
       "      <td>7.900000</td>\n",
       "      <td>0.520000</td>\n",
       "      <td>0.260000</td>\n",
       "      <td>2.200000</td>\n",
       "      <td>0.079000</td>\n",
       "      <td>14.000000</td>\n",
       "      <td>38.000000</td>\n",
       "      <td>0.996750</td>\n",
       "      <td>3.310000</td>\n",
       "      <td>0.620000</td>\n",
       "      <td>10.200000</td>\n",
       "      <td>6.000000</td>\n",
       "    </tr>\n",
       "    <tr>\n",
       "      <th>75%</th>\n",
       "      <td>9.200000</td>\n",
       "      <td>0.640000</td>\n",
       "      <td>0.420000</td>\n",
       "      <td>2.600000</td>\n",
       "      <td>0.090000</td>\n",
       "      <td>21.000000</td>\n",
       "      <td>62.000000</td>\n",
       "      <td>0.997835</td>\n",
       "      <td>3.400000</td>\n",
       "      <td>0.730000</td>\n",
       "      <td>11.100000</td>\n",
       "      <td>6.000000</td>\n",
       "    </tr>\n",
       "    <tr>\n",
       "      <th>max</th>\n",
       "      <td>15.900000</td>\n",
       "      <td>1.580000</td>\n",
       "      <td>1.000000</td>\n",
       "      <td>15.500000</td>\n",
       "      <td>0.611000</td>\n",
       "      <td>72.000000</td>\n",
       "      <td>289.000000</td>\n",
       "      <td>1.003690</td>\n",
       "      <td>4.010000</td>\n",
       "      <td>2.000000</td>\n",
       "      <td>14.900000</td>\n",
       "      <td>8.000000</td>\n",
       "    </tr>\n",
       "  </tbody>\n",
       "</table>\n",
       "</div>"
      ],
      "text/plain": [
       "       fixed acidity  volatile acidity  citric acid  residual sugar  \\\n",
       "count    1599.000000       1599.000000  1599.000000     1599.000000   \n",
       "mean        8.319637          0.527821     0.270976        2.538806   \n",
       "std         1.741096          0.179060     0.194801        1.409928   \n",
       "min         4.600000          0.120000     0.000000        0.900000   \n",
       "25%         7.100000          0.390000     0.090000        1.900000   \n",
       "50%         7.900000          0.520000     0.260000        2.200000   \n",
       "75%         9.200000          0.640000     0.420000        2.600000   \n",
       "max        15.900000          1.580000     1.000000       15.500000   \n",
       "\n",
       "         chlorides  free sulfur dioxide  total sulfur dioxide      density  \\\n",
       "count  1599.000000          1599.000000           1599.000000  1599.000000   \n",
       "mean      0.087467            15.874922             46.467792     0.996747   \n",
       "std       0.047065            10.460157             32.895324     0.001887   \n",
       "min       0.012000             1.000000              6.000000     0.990070   \n",
       "25%       0.070000             7.000000             22.000000     0.995600   \n",
       "50%       0.079000            14.000000             38.000000     0.996750   \n",
       "75%       0.090000            21.000000             62.000000     0.997835   \n",
       "max       0.611000            72.000000            289.000000     1.003690   \n",
       "\n",
       "                pH    sulphates      alcohol      quality  \n",
       "count  1599.000000  1599.000000  1599.000000  1599.000000  \n",
       "mean      3.311113     0.658149    10.422983     5.636023  \n",
       "std       0.154386     0.169507     1.065668     0.807569  \n",
       "min       2.740000     0.330000     8.400000     3.000000  \n",
       "25%       3.210000     0.550000     9.500000     5.000000  \n",
       "50%       3.310000     0.620000    10.200000     6.000000  \n",
       "75%       3.400000     0.730000    11.100000     6.000000  \n",
       "max       4.010000     2.000000    14.900000     8.000000  "
      ]
     },
     "execution_count": 32,
     "metadata": {},
     "output_type": "execute_result"
    }
   ],
   "source": [
    "df.describe()"
   ]
  },
  {
   "cell_type": "code",
   "execution_count": null,
   "id": "e502ca34",
   "metadata": {},
   "outputs": [],
   "source": [
    "'''''' \".describe\" is a very important function which gives a lot of following important information about the dataset:-\n",
    "\n",
    " 1. here we can see the total no. counts present in each columns, i.e [1599] and all columns are showing the whole count that\n",
    "    means there are no missing values in the given dataset.\n",
    " 2. It also shows the MEAN, STANDARD DEVIATION of each column.\n",
    " 3. It also provides us the MIN, MAXIMUM, 25%, 50% (median), 75% Values of every column.\n",
    " 4. IMP POINT:- we know that IF THE MEAN > MEDIAN = data is Right Skewed\n",
    "                        and  IF THE MEAN < median = data is left Skewed, so we can the skewness in the following columns:-\n",
    "            (a) \"fixed acidity\" = mean > median ( right skewed)\n",
    "            (b) \"free sulfurdioxide\" = mean > median (right skewed)\n",
    "            (c) \"total sulfurdioxide\" = mean > median (right skewed)\n",
    "            the rest of the columns are having very slight difference.\n",
    " 5. IMP POINT :- here we also determines the \"STANDARD DEVIATION\" -\n",
    "            so we can see that the \"std\" of \"free sulfurdioxide\" & \" total sulfur dioxide\" is very hight\n",
    "            so from this we can conclude that there are some OUTLIERS are may present.\n",
    " 6. As we can also see that the difference between \"75 Percentile & Maximum\" is very high in \"free sulfurdioxide\", \"fixed acidity\" & \" total sulfur dioxide\", \n",
    "            so from this also we can assume that there maybe OUTLIERS are present in both of the columns.\n",
    "    ''''"
   ]
  },
  {
   "cell_type": "code",
   "execution_count": 36,
   "id": "2da9466a",
   "metadata": {},
   "outputs": [],
   "source": [
    "# as from the data set we can identifies that the column \"quality\" is our target column.\n",
    "# so now we are doing some analysis of the Target Column"
   ]
  },
  {
   "cell_type": "code",
   "execution_count": 37,
   "id": "bf36e18b",
   "metadata": {},
   "outputs": [
    {
     "data": {
      "text/plain": [
       "array([5, 6, 7, 4, 8, 3], dtype=int64)"
      ]
     },
     "execution_count": 37,
     "metadata": {},
     "output_type": "execute_result"
    }
   ],
   "source": [
    "df.quality.unique()"
   ]
  },
  {
   "cell_type": "code",
   "execution_count": null,
   "id": "a9509ec7",
   "metadata": {},
   "outputs": [],
   "source": [
    "# as we can see that the \"quality\" column is categorical in form having unique values 5,6,7,4,8,3"
   ]
  },
  {
   "cell_type": "code",
   "execution_count": 38,
   "id": "eaadacc7",
   "metadata": {},
   "outputs": [
    {
     "data": {
      "text/plain": [
       "6"
      ]
     },
     "execution_count": 38,
     "metadata": {},
     "output_type": "execute_result"
    }
   ],
   "source": [
    "df.quality.nunique()"
   ]
  },
  {
   "cell_type": "code",
   "execution_count": 39,
   "id": "b0d07ed1",
   "metadata": {},
   "outputs": [],
   "source": [
    "# and it consist of 6 unique values."
   ]
  },
  {
   "cell_type": "code",
   "execution_count": 46,
   "id": "686f4467",
   "metadata": {},
   "outputs": [
    {
     "data": {
      "text/plain": [
       "5    681\n",
       "6    638\n",
       "7    199\n",
       "4     53\n",
       "8     18\n",
       "3     10\n",
       "Name: quality, dtype: int64"
      ]
     },
     "execution_count": 46,
     "metadata": {},
     "output_type": "execute_result"
    }
   ],
   "source": [
    "df.quality.value_counts()"
   ]
  },
  {
   "cell_type": "code",
   "execution_count": 47,
   "id": "e1a82a2a",
   "metadata": {},
   "outputs": [],
   "source": [
    "# from the above we can identifies that which value is having howmuch count in it.\n",
    "# and we can see that the average quantity is present in 5,6,& 7 values."
   ]
  },
  {
   "cell_type": "code",
   "execution_count": 48,
   "id": "c138f8c7",
   "metadata": {},
   "outputs": [],
   "source": [
    "# CHECKING NULL VALUES"
   ]
  },
  {
   "cell_type": "code",
   "execution_count": 49,
   "id": "1cc4a726",
   "metadata": {},
   "outputs": [
    {
     "data": {
      "text/plain": [
       "fixed acidity           0\n",
       "volatile acidity        0\n",
       "citric acid             0\n",
       "residual sugar          0\n",
       "chlorides               0\n",
       "free sulfur dioxide     0\n",
       "total sulfur dioxide    0\n",
       "density                 0\n",
       "pH                      0\n",
       "sulphates               0\n",
       "alcohol                 0\n",
       "quality                 0\n",
       "dtype: int64"
      ]
     },
     "execution_count": 49,
     "metadata": {},
     "output_type": "execute_result"
    }
   ],
   "source": [
    "df.isnull().sum()"
   ]
  },
  {
   "cell_type": "code",
   "execution_count": 50,
   "id": "0634d2ba",
   "metadata": {},
   "outputs": [
    {
     "data": {
      "text/plain": [
       "<AxesSubplot:>"
      ]
     },
     "execution_count": 50,
     "metadata": {},
     "output_type": "execute_result"
    },
    {
     "data": {
      "image/png": "[encoded data removed]",
      "text/plain": [
       "<Figure size 640x480 with 2 Axes>"
      ]
     },
     "metadata": {},
     "output_type": "display_data"
    }
   ],
   "source": [
    "sns.heatmap(df.isnull())"
   ]
  },
  {
   "cell_type": "code",
   "execution_count": 51,
   "id": "47972728",
   "metadata": {},
   "outputs": [],
   "source": [
    "# As with the help of numerical and graphical both types we can see that there are no null values are present in any of the column."
   ]
  },
  {
   "cell_type": "code",
   "execution_count": 52,
   "id": "a81b1a12",
   "metadata": {},
   "outputs": [],
   "source": [
    "# CORRELATION\n",
    "# Now here we have to check the correlation between the every column\n",
    "#  and for this we are using both NON-GRAPHICAL & GRAPHICAL ANALYSIS :-"
   ]
  },
  {
   "cell_type": "code",
   "execution_count": 53,
   "id": "50881c2b",
   "metadata": {},
   "outputs": [
    {
     "data": {
      "text/html": [
       "<div>\n",
       "<style scoped>\n",
       "    .dataframe tbody tr th:only-of-type {\n",
       "        vertical-align: middle;\n",
       "    }\n",
       "\n",
       "    .dataframe tbody tr th {\n",
       "        vertical-align: top;\n",
       "    }\n",
       "\n",
       "    .dataframe thead th {\n",
       "        text-align: right;\n",
       "    }\n",
       "</style>\n",
       "<table border=\"1\" class=\"dataframe\">\n",
       "  <thead>\n",
       "    <tr style=\"text-align: right;\">\n",
       "      <th></th>\n",
       "      <th>fixed acidity</th>\n",
       "      <th>volatile acidity</th>\n",
       "      <th>citric acid</th>\n",
       "      <th>residual sugar</th>\n",
       "      <th>chlorides</th>\n",
       "      <th>free sulfur dioxide</th>\n",
       "      <th>total sulfur dioxide</th>\n",
       "      <th>density</th>\n",
       "      <th>pH</th>\n",
       "      <th>sulphates</th>\n",
       "      <th>alcohol</th>\n",
       "      <th>quality</th>\n",
       "    </tr>\n",
       "  </thead>\n",
       "  <tbody>\n",
       "    <tr>\n",
       "      <th>fixed acidity</th>\n",
       "      <td>1.000000</td>\n",
       "      <td>-0.256131</td>\n",
       "      <td>0.671703</td>\n",
       "      <td>0.114777</td>\n",
       "      <td>0.093705</td>\n",
       "      <td>-0.153794</td>\n",
       "      <td>-0.113181</td>\n",
       "      <td>0.668047</td>\n",
       "      <td>-0.682978</td>\n",
       "      <td>0.183006</td>\n",
       "      <td>-0.061668</td>\n",
       "      <td>0.124052</td>\n",
       "    </tr>\n",
       "    <tr>\n",
       "      <th>volatile acidity</th>\n",
       "      <td>-0.256131</td>\n",
       "      <td>1.000000</td>\n",
       "      <td>-0.552496</td>\n",
       "      <td>0.001918</td>\n",
       "      <td>0.061298</td>\n",
       "      <td>-0.010504</td>\n",
       "      <td>0.076470</td>\n",
       "      <td>0.022026</td>\n",
       "      <td>0.234937</td>\n",
       "      <td>-0.260987</td>\n",
       "      <td>-0.202288</td>\n",
       "      <td>-0.390558</td>\n",
       "    </tr>\n",
       "    <tr>\n",
       "      <th>citric acid</th>\n",
       "      <td>0.671703</td>\n",
       "      <td>-0.552496</td>\n",
       "      <td>1.000000</td>\n",
       "      <td>0.143577</td>\n",
       "      <td>0.203823</td>\n",
       "      <td>-0.060978</td>\n",
       "      <td>0.035533</td>\n",
       "      <td>0.364947</td>\n",
       "      <td>-0.541904</td>\n",
       "      <td>0.312770</td>\n",
       "      <td>0.109903</td>\n",
       "      <td>0.226373</td>\n",
       "    </tr>\n",
       "    <tr>\n",
       "      <th>residual sugar</th>\n",
       "      <td>0.114777</td>\n",
       "      <td>0.001918</td>\n",
       "      <td>0.143577</td>\n",
       "      <td>1.000000</td>\n",
       "      <td>0.055610</td>\n",
       "      <td>0.187049</td>\n",
       "      <td>0.203028</td>\n",
       "      <td>0.355283</td>\n",
       "      <td>-0.085652</td>\n",
       "      <td>0.005527</td>\n",
       "      <td>0.042075</td>\n",
       "      <td>0.013732</td>\n",
       "    </tr>\n",
       "    <tr>\n",
       "      <th>chlorides</th>\n",
       "      <td>0.093705</td>\n",
       "      <td>0.061298</td>\n",
       "      <td>0.203823</td>\n",
       "      <td>0.055610</td>\n",
       "      <td>1.000000</td>\n",
       "      <td>0.005562</td>\n",
       "      <td>0.047400</td>\n",
       "      <td>0.200632</td>\n",
       "      <td>-0.265026</td>\n",
       "      <td>0.371260</td>\n",
       "      <td>-0.221141</td>\n",
       "      <td>-0.128907</td>\n",
       "    </tr>\n",
       "    <tr>\n",
       "      <th>free sulfur dioxide</th>\n",
       "      <td>-0.153794</td>\n",
       "      <td>-0.010504</td>\n",
       "      <td>-0.060978</td>\n",
       "      <td>0.187049</td>\n",
       "      <td>0.005562</td>\n",
       "      <td>1.000000</td>\n",
       "      <td>0.667666</td>\n",
       "      <td>-0.021946</td>\n",
       "      <td>0.070377</td>\n",
       "      <td>0.051658</td>\n",
       "      <td>-0.069408</td>\n",
       "      <td>-0.050656</td>\n",
       "    </tr>\n",
       "    <tr>\n",
       "      <th>total sulfur dioxide</th>\n",
       "      <td>-0.113181</td>\n",
       "      <td>0.076470</td>\n",
       "      <td>0.035533</td>\n",
       "      <td>0.203028</td>\n",
       "      <td>0.047400</td>\n",
       "      <td>0.667666</td>\n",
       "      <td>1.000000</td>\n",
       "      <td>0.071269</td>\n",
       "      <td>-0.066495</td>\n",
       "      <td>0.042947</td>\n",
       "      <td>-0.205654</td>\n",
       "      <td>-0.185100</td>\n",
       "    </tr>\n",
       "    <tr>\n",
       "      <th>density</th>\n",
       "      <td>0.668047</td>\n",
       "      <td>0.022026</td>\n",
       "      <td>0.364947</td>\n",
       "      <td>0.355283</td>\n",
       "      <td>0.200632</td>\n",
       "      <td>-0.021946</td>\n",
       "      <td>0.071269</td>\n",
       "      <td>1.000000</td>\n",
       "      <td>-0.341699</td>\n",
       "      <td>0.148506</td>\n",
       "      <td>-0.496180</td>\n",
       "      <td>-0.174919</td>\n",
       "    </tr>\n",
       "    <tr>\n",
       "      <th>pH</th>\n",
       "      <td>-0.682978</td>\n",
       "      <td>0.234937</td>\n",
       "      <td>-0.541904</td>\n",
       "      <td>-0.085652</td>\n",
       "      <td>-0.265026</td>\n",
       "      <td>0.070377</td>\n",
       "      <td>-0.066495</td>\n",
       "      <td>-0.341699</td>\n",
       "      <td>1.000000</td>\n",
       "      <td>-0.196648</td>\n",
       "      <td>0.205633</td>\n",
       "      <td>-0.057731</td>\n",
       "    </tr>\n",
       "    <tr>\n",
       "      <th>sulphates</th>\n",
       "      <td>0.183006</td>\n",
       "      <td>-0.260987</td>\n",
       "      <td>0.312770</td>\n",
       "      <td>0.005527</td>\n",
       "      <td>0.371260</td>\n",
       "      <td>0.051658</td>\n",
       "      <td>0.042947</td>\n",
       "      <td>0.148506</td>\n",
       "      <td>-0.196648</td>\n",
       "      <td>1.000000</td>\n",
       "      <td>0.093595</td>\n",
       "      <td>0.251397</td>\n",
       "    </tr>\n",
       "    <tr>\n",
       "      <th>alcohol</th>\n",
       "      <td>-0.061668</td>\n",
       "      <td>-0.202288</td>\n",
       "      <td>0.109903</td>\n",
       "      <td>0.042075</td>\n",
       "      <td>-0.221141</td>\n",
       "      <td>-0.069408</td>\n",
       "      <td>-0.205654</td>\n",
       "      <td>-0.496180</td>\n",
       "      <td>0.205633</td>\n",
       "      <td>0.093595</td>\n",
       "      <td>1.000000</td>\n",
       "      <td>0.476166</td>\n",
       "    </tr>\n",
       "    <tr>\n",
       "      <th>quality</th>\n",
       "      <td>0.124052</td>\n",
       "      <td>-0.390558</td>\n",
       "      <td>0.226373</td>\n",
       "      <td>0.013732</td>\n",
       "      <td>-0.128907</td>\n",
       "      <td>-0.050656</td>\n",
       "      <td>-0.185100</td>\n",
       "      <td>-0.174919</td>\n",
       "      <td>-0.057731</td>\n",
       "      <td>0.251397</td>\n",
       "      <td>0.476166</td>\n",
       "      <td>1.000000</td>\n",
       "    </tr>\n",
       "  </tbody>\n",
       "</table>\n",
       "</div>"
      ],
      "text/plain": [
       "                      fixed acidity  volatile acidity  citric acid  \\\n",
       "fixed acidity              1.000000         -0.256131     0.671703   \n",
       "volatile acidity          -0.256131          1.000000    -0.552496   \n",
       "citric acid                0.671703         -0.552496     1.000000   \n",
       "residual sugar             0.114777          0.001918     0.143577   \n",
       "chlorides                  0.093705          0.061298     0.203823   \n",
       "free sulfur dioxide       -0.153794         -0.010504    -0.060978   \n",
       "total sulfur dioxide      -0.113181          0.076470     0.035533   \n",
       "density                    0.668047          0.022026     0.364947   \n",
       "pH                        -0.682978          0.234937    -0.541904   \n",
       "sulphates                  0.183006         -0.260987     0.312770   \n",
       "alcohol                   -0.061668         -0.202288     0.109903   \n",
       "quality                    0.124052         -0.390558     0.226373   \n",
       "\n",
       "                      residual sugar  chlorides  free sulfur dioxide  \\\n",
       "fixed acidity               0.114777   0.093705            -0.153794   \n",
       "volatile acidity            0.001918   0.061298            -0.010504   \n",
       "citric acid                 0.143577   0.203823            -0.060978   \n",
       "residual sugar              1.000000   0.055610             0.187049   \n",
       "chlorides                   0.055610   1.000000             0.005562   \n",
       "free sulfur dioxide         0.187049   0.005562             1.000000   \n",
       "total sulfur dioxide        0.203028   0.047400             0.667666   \n",
       "density                     0.355283   0.200632            -0.021946   \n",
       "pH                         -0.085652  -0.265026             0.070377   \n",
       "sulphates                   0.005527   0.371260             0.051658   \n",
       "alcohol                     0.042075  -0.221141            -0.069408   \n",
       "quality                     0.013732  -0.128907            -0.050656   \n",
       "\n",
       "                      total sulfur dioxide   density        pH  sulphates  \\\n",
       "fixed acidity                    -0.113181  0.668047 -0.682978   0.183006   \n",
       "volatile acidity                  0.076470  0.022026  0.234937  -0.260987   \n",
       "citric acid                       0.035533  0.364947 -0.541904   0.312770   \n",
       "residual sugar                    0.203028  0.355283 -0.085652   0.005527   \n",
       "chlorides                         0.047400  0.200632 -0.265026   0.371260   \n",
       "free sulfur dioxide               0.667666 -0.021946  0.070377   0.051658   \n",
       "total sulfur dioxide              1.000000  0.071269 -0.066495   0.042947   \n",
       "density                           0.071269  1.000000 -0.341699   0.148506   \n",
       "pH                               -0.066495 -0.341699  1.000000  -0.196648   \n",
       "sulphates                         0.042947  0.148506 -0.196648   1.000000   \n",
       "alcohol                          -0.205654 -0.496180  0.205633   0.093595   \n",
       "quality                          -0.185100 -0.174919 -0.057731   0.251397   \n",
       "\n",
       "                       alcohol   quality  \n",
       "fixed acidity        -0.061668  0.124052  \n",
       "volatile acidity     -0.202288 -0.390558  \n",
       "citric acid           0.109903  0.226373  \n",
       "residual sugar        0.042075  0.013732  \n",
       "chlorides            -0.221141 -0.128907  \n",
       "free sulfur dioxide  -0.069408 -0.050656  \n",
       "total sulfur dioxide -0.205654 -0.185100  \n",
       "density              -0.496180 -0.174919  \n",
       "pH                    0.205633 -0.057731  \n",
       "sulphates             0.093595  0.251397  \n",
       "alcohol               1.000000  0.476166  \n",
       "quality               0.476166  1.000000  "
      ]
     },
     "execution_count": 53,
     "metadata": {},
     "output_type": "execute_result"
    }
   ],
   "source": [
    "dfcor = df.corr()\n",
    "dfcor"
   ]
  },
  {
   "cell_type": "code",
   "execution_count": 54,
   "id": "9e67f1a3",
   "metadata": {},
   "outputs": [],
   "source": [
    "#  as above we can see that the +1 = is for highly positively correlation and\n",
    "#                               -1 = is for highly negative correlation\n",
    "# as it is difficult to identify the correlation between the data by NON-GRAPHICAL METHOD\n",
    "# so we are also finds correlation by using GRAPHICAL REPRESENTATION (HEATMAP) following:"
   ]
  },
  {
   "cell_type": "code",
   "execution_count": 61,
   "id": "a51c4d86",
   "metadata": {},
   "outputs": [
    {
     "data": {
      "text/plain": [
       "<AxesSubplot:>"
      ]
     },
     "execution_count": 61,
     "metadata": {},
     "output_type": "execute_result"
    },
    {
     "data": {
      "image/png": "[encoded data removed]",
      "text/plain": [
       "<Figure size 800x600 with 2 Axes>"
      ]
     },
     "metadata": {},
     "output_type": "display_data"
    }
   ],
   "source": [
    "plt.figure(figsize=(8,6))\n",
    "sns.heatmap(dfcor,annot=True,cmap=\"Blues_r\")"
   ]
  },
  {
   "cell_type": "code",
   "execution_count": null,
   "id": "e1adac38",
   "metadata": {},
   "outputs": [],
   "source": [
    " '''' as from above now it is easy to identify the highly positive and negative correlated columns.\n",
    "1. the colour from dark blue to white is showing the incresing the (+)ve correlation, white colour = highly (+)ve correlation.\n",
    "2. the dark blue colour is showing the highly (-)ve correlation.\n",
    "3. As from the heatmap we can finds that the correlation between \"free sulfurdioxide\" & \"Total sulfurdioxide\" is very highly (+)ve.\n",
    "4. we can also finds that the \"alcohol\" & \"quality\" is also (+)tively correlated with each other.\n",
    "5. \"citric acid\" + \"density\" is also (+)vly correlated with \"fixed acidity\"\n",
    "   weather \"ph\" is (-)vely correlated with \"fixed acidity\" ''''"
   ]
  },
  {
   "cell_type": "code",
   "execution_count": 63,
   "id": "954cd7d7",
   "metadata": {},
   "outputs": [],
   "source": [
    "# FINDING CORRELATION BETWEEN TARGET & FEATURES"
   ]
  },
  {
   "cell_type": "code",
   "execution_count": 74,
   "id": "b0792e5b",
   "metadata": {},
   "outputs": [
    {
     "data": {
      "image/png": "[encoded data removed]",
      "text/plain": [
       "<Figure size 2000x800 with 1 Axes>"
      ]
     },
     "metadata": {},
     "output_type": "display_data"
    }
   ],
   "source": [
    "plt.figure(figsize=(20,8))\n",
    "df.corr()['quality'].sort_values(ascending=False).drop(['quality']).plot(kind='bar',color=\"m\")\n",
    "plt.xlabel('Features / Ingradients',fontsize=20)\n",
    "plt.ylabel('Qualit Of Wine',fontsize =20)\n",
    "plt.title=(\"Wine Quality\")\n",
    "plt.show()\n"
   ]
  },
  {
   "cell_type": "code",
   "execution_count": null,
   "id": "e757346e",
   "metadata": {},
   "outputs": [],
   "source": [
    "#  here from the above we can see that the \"alcohol\" is highly positive correlated with the \"quality\"\n",
    "#  and the \"volatile acidity\" is highly negative correlated with the \"quality\"\n",
    "# \"residual suagr\", \"free sulphur dioxide\" and \"ph\" are having 'Neutral Relation' with the \"quality\"."
   ]
  },
  {
   "cell_type": "code",
   "execution_count": null,
   "id": "40b98e8d",
   "metadata": {},
   "outputs": [],
   "source": [
    "#  Now as earlier we can seen that there is a highly probability of OUTLIERS present in some of the columns.\n",
    "#  so now here we are identify and conforming that weather the outliers are present of not by graphical representation.\n",
    "#  CHECKING OUTLIERS BY USING BOXPLOT METHOD"
   ]
  },
  {
   "cell_type": "code",
   "execution_count": 75,
   "id": "ab9f836f",
   "metadata": {},
   "outputs": [
    {
     "data": {
      "text/html": [
       "<div>\n",
       "<style scoped>\n",
       "    .dataframe tbody tr th:only-of-type {\n",
       "        vertical-align: middle;\n",
       "    }\n",
       "\n",
       "    .dataframe tbody tr th {\n",
       "        vertical-align: top;\n",
       "    }\n",
       "\n",
       "    .dataframe thead th {\n",
       "        text-align: right;\n",
       "    }\n",
       "</style>\n",
       "<table border=\"1\" class=\"dataframe\">\n",
       "  <thead>\n",
       "    <tr style=\"text-align: right;\">\n",
       "      <th></th>\n",
       "      <th>fixed acidity</th>\n",
       "      <th>volatile acidity</th>\n",
       "      <th>citric acid</th>\n",
       "      <th>residual sugar</th>\n",
       "      <th>chlorides</th>\n",
       "      <th>free sulfur dioxide</th>\n",
       "      <th>total sulfur dioxide</th>\n",
       "      <th>density</th>\n",
       "      <th>pH</th>\n",
       "      <th>sulphates</th>\n",
       "      <th>alcohol</th>\n",
       "      <th>quality</th>\n",
       "    </tr>\n",
       "  </thead>\n",
       "  <tbody>\n",
       "    <tr>\n",
       "      <th>count</th>\n",
       "      <td>1599.000000</td>\n",
       "      <td>1599.000000</td>\n",
       "      <td>1599.000000</td>\n",
       "      <td>1599.000000</td>\n",
       "      <td>1599.000000</td>\n",
       "      <td>1599.000000</td>\n",
       "      <td>1599.000000</td>\n",
       "      <td>1599.000000</td>\n",
       "      <td>1599.000000</td>\n",
       "      <td>1599.000000</td>\n",
       "      <td>1599.000000</td>\n",
       "      <td>1599.000000</td>\n",
       "    </tr>\n",
       "    <tr>\n",
       "      <th>mean</th>\n",
       "      <td>8.319637</td>\n",
       "      <td>0.527821</td>\n",
       "      <td>0.270976</td>\n",
       "      <td>2.538806</td>\n",
       "      <td>0.087467</td>\n",
       "      <td>15.874922</td>\n",
       "      <td>46.467792</td>\n",
       "      <td>0.996747</td>\n",
       "      <td>3.311113</td>\n",
       "      <td>0.658149</td>\n",
       "      <td>10.422983</td>\n",
       "      <td>5.636023</td>\n",
       "    </tr>\n",
       "    <tr>\n",
       "      <th>std</th>\n",
       "      <td>1.741096</td>\n",
       "      <td>0.179060</td>\n",
       "      <td>0.194801</td>\n",
       "      <td>1.409928</td>\n",
       "      <td>0.047065</td>\n",
       "      <td>10.460157</td>\n",
       "      <td>32.895324</td>\n",
       "      <td>0.001887</td>\n",
       "      <td>0.154386</td>\n",
       "      <td>0.169507</td>\n",
       "      <td>1.065668</td>\n",
       "      <td>0.807569</td>\n",
       "    </tr>\n",
       "    <tr>\n",
       "      <th>min</th>\n",
       "      <td>4.600000</td>\n",
       "      <td>0.120000</td>\n",
       "      <td>0.000000</td>\n",
       "      <td>0.900000</td>\n",
       "      <td>0.012000</td>\n",
       "      <td>1.000000</td>\n",
       "      <td>6.000000</td>\n",
       "      <td>0.990070</td>\n",
       "      <td>2.740000</td>\n",
       "      <td>0.330000</td>\n",
       "      <td>8.400000</td>\n",
       "      <td>3.000000</td>\n",
       "    </tr>\n",
       "    <tr>\n",
       "      <th>25%</th>\n",
       "      <td>7.100000</td>\n",
       "      <td>0.390000</td>\n",
       "      <td>0.090000</td>\n",
       "      <td>1.900000</td>\n",
       "      <td>0.070000</td>\n",
       "      <td>7.000000</td>\n",
       "      <td>22.000000</td>\n",
       "      <td>0.995600</td>\n",
       "      <td>3.210000</td>\n",
       "      <td>0.550000</td>\n",
       "      <td>9.500000</td>\n",
       "      <td>5.000000</td>\n",
       "    </tr>\n",
       "    <tr>\n",
       "      <th>50%</th>\n",
       "      <td>7.900000</td>\n",
       "      <td>0.520000</td>\n",
       "      <td>0.260000</td>\n",
       "      <td>2.200000</td>\n",
       "      <td>0.079000</td>\n",
       "      <td>14.000000</td>\n",
       "      <td>38.000000</td>\n",
       "      <td>0.996750</td>\n",
       "      <td>3.310000</td>\n",
       "      <td>0.620000</td>\n",
       "      <td>10.200000</td>\n",
       "      <td>6.000000</td>\n",
       "    </tr>\n",
       "    <tr>\n",
       "      <th>75%</th>\n",
       "      <td>9.200000</td>\n",
       "      <td>0.640000</td>\n",
       "      <td>0.420000</td>\n",
       "      <td>2.600000</td>\n",
       "      <td>0.090000</td>\n",
       "      <td>21.000000</td>\n",
       "      <td>62.000000</td>\n",
       "      <td>0.997835</td>\n",
       "      <td>3.400000</td>\n",
       "      <td>0.730000</td>\n",
       "      <td>11.100000</td>\n",
       "      <td>6.000000</td>\n",
       "    </tr>\n",
       "    <tr>\n",
       "      <th>max</th>\n",
       "      <td>15.900000</td>\n",
       "      <td>1.580000</td>\n",
       "      <td>1.000000</td>\n",
       "      <td>15.500000</td>\n",
       "      <td>0.611000</td>\n",
       "      <td>72.000000</td>\n",
       "      <td>289.000000</td>\n",
       "      <td>1.003690</td>\n",
       "      <td>4.010000</td>\n",
       "      <td>2.000000</td>\n",
       "      <td>14.900000</td>\n",
       "      <td>8.000000</td>\n",
       "    </tr>\n",
       "  </tbody>\n",
       "</table>\n",
       "</div>"
      ],
      "text/plain": [
       "       fixed acidity  volatile acidity  citric acid  residual sugar  \\\n",
       "count    1599.000000       1599.000000  1599.000000     1599.000000   \n",
       "mean        8.319637          0.527821     0.270976        2.538806   \n",
       "std         1.741096          0.179060     0.194801        1.409928   \n",
       "min         4.600000          0.120000     0.000000        0.900000   \n",
       "25%         7.100000          0.390000     0.090000        1.900000   \n",
       "50%         7.900000          0.520000     0.260000        2.200000   \n",
       "75%         9.200000          0.640000     0.420000        2.600000   \n",
       "max        15.900000          1.580000     1.000000       15.500000   \n",
       "\n",
       "         chlorides  free sulfur dioxide  total sulfur dioxide      density  \\\n",
       "count  1599.000000          1599.000000           1599.000000  1599.000000   \n",
       "mean      0.087467            15.874922             46.467792     0.996747   \n",
       "std       0.047065            10.460157             32.895324     0.001887   \n",
       "min       0.012000             1.000000              6.000000     0.990070   \n",
       "25%       0.070000             7.000000             22.000000     0.995600   \n",
       "50%       0.079000            14.000000             38.000000     0.996750   \n",
       "75%       0.090000            21.000000             62.000000     0.997835   \n",
       "max       0.611000            72.000000            289.000000     1.003690   \n",
       "\n",
       "                pH    sulphates      alcohol      quality  \n",
       "count  1599.000000  1599.000000  1599.000000  1599.000000  \n",
       "mean      3.311113     0.658149    10.422983     5.636023  \n",
       "std       0.154386     0.169507     1.065668     0.807569  \n",
       "min       2.740000     0.330000     8.400000     3.000000  \n",
       "25%       3.210000     0.550000     9.500000     5.000000  \n",
       "50%       3.310000     0.620000    10.200000     6.000000  \n",
       "75%       3.400000     0.730000    11.100000     6.000000  \n",
       "max       4.010000     2.000000    14.900000     8.000000  "
      ]
     },
     "execution_count": 75,
     "metadata": {},
     "output_type": "execute_result"
    }
   ],
   "source": [
    "df.describe()"
   ]
  },
  {
   "cell_type": "code",
   "execution_count": 76,
   "id": "677dfc19",
   "metadata": {},
   "outputs": [],
   "source": [
    "#  here we can see the huge difference betwwen \"75 percentile & maximum\" of some columns.\n",
    "#  so one by one we are plotting boxplot for those columns & checking the presence of outliers."
   ]
  },
  {
   "cell_type": "code",
   "execution_count": 87,
   "id": "fb45bc45",
   "metadata": {},
   "outputs": [
    {
     "data": {
      "text/plain": [
       "<AxesSubplot:>"
      ]
     },
     "execution_count": 87,
     "metadata": {},
     "output_type": "execute_result"
    },
    {
     "data": {
      "image/png": "[encoded data removed]",
      "text/plain": [
       "<Figure size 200x400 with 1 Axes>"
      ]
     },
     "metadata": {},
     "output_type": "display_data"
    }
   ],
   "source": [
    "plt.figure(figsize=(2,4))\n",
    "df['fixed acidity'].plot.box()"
   ]
  },
  {
   "cell_type": "code",
   "execution_count": 88,
   "id": "f0250042",
   "metadata": {},
   "outputs": [],
   "source": [
    "# here we can see the presence of OUTLIERS in \"fixed acidity\" column.\n",
    "#  similarly we can check all the cloumns one by one."
   ]
  },
  {
   "cell_type": "code",
   "execution_count": 104,
   "id": "2a47d9e7",
   "metadata": {},
   "outputs": [
    {
     "data": {
      "text/plain": [
       "<AxesSubplot:>"
      ]
     },
     "execution_count": 104,
     "metadata": {},
     "output_type": "execute_result"
    },
    {
     "data": {
      "image/png": "[encoded data removed]",
      "text/plain": [
       "<Figure size 200x400 with 1 Axes>"
      ]
     },
     "metadata": {},
     "output_type": "display_data"
    }
   ],
   "source": [
    "plt.figure(figsize=(2,4))\n",
    "df['volatile acidity'].plot.box()"
   ]
  },
  {
   "cell_type": "code",
   "execution_count": 106,
   "id": "002153f6",
   "metadata": {},
   "outputs": [
    {
     "data": {
      "text/plain": [
       "Index(['fixed acidity', 'volatile acidity', 'citric acid', 'residual sugar',\n",
       "       'chlorides', 'free sulfur dioxide', 'total sulfur dioxide', 'density',\n",
       "       'pH', 'sulphates', 'alcohol', 'quality'],\n",
       "      dtype='object')"
      ]
     },
     "execution_count": 106,
     "metadata": {},
     "output_type": "execute_result"
    }
   ],
   "source": [
    "df.columns"
   ]
  },
  {
   "cell_type": "code",
   "execution_count": 107,
   "id": "c520a254",
   "metadata": {},
   "outputs": [
    {
     "data": {
      "text/plain": [
       "<AxesSubplot:>"
      ]
     },
     "execution_count": 107,
     "metadata": {},
     "output_type": "execute_result"
    },
    {
     "data": {
      "image/png": "[encoded data removed]",
      "text/plain": [
       "<Figure size 200x400 with 1 Axes>"
      ]
     },
     "metadata": {},
     "output_type": "display_data"
    }
   ],
   "source": [
    "plt.figure(figsize=(2,4))\n",
    "df['citric acid'].plot.box()"
   ]
  },
  {
   "cell_type": "code",
   "execution_count": 108,
   "id": "a227f66c",
   "metadata": {},
   "outputs": [
    {
     "data": {
      "text/plain": [
       "<AxesSubplot:>"
      ]
     },
     "execution_count": 108,
     "metadata": {},
     "output_type": "execute_result"
    },
    {
     "data": {
      "image/png": "[encoded data removed]",
      "text/plain": [
       "<Figure size 200x400 with 1 Axes>"
      ]
     },
     "metadata": {},
     "output_type": "display_data"
    }
   ],
   "source": [
    "plt.figure(figsize=(2,4))\n",
    "df['residual sugar'].plot.box()"
   ]
  },
  {
   "cell_type": "code",
   "execution_count": 109,
   "id": "cdf24367",
   "metadata": {},
   "outputs": [
    {
     "data": {
      "text/plain": [
       "<AxesSubplot:>"
      ]
     },
     "execution_count": 109,
     "metadata": {},
     "output_type": "execute_result"
    },
    {
     "data": {
      "image/png": "[encoded data removed]",
      "text/plain": [
       "<Figure size 200x400 with 1 Axes>"
      ]
     },
     "metadata": {},
     "output_type": "display_data"
    }
   ],
   "source": [
    "plt.figure(figsize=(2,4))\n",
    "df['chlorides'].plot.box()"
   ]
  },
  {
   "cell_type": "code",
   "execution_count": 110,
   "id": "7ab668e0",
   "metadata": {},
   "outputs": [
    {
     "data": {
      "text/plain": [
       "<AxesSubplot:>"
      ]
     },
     "execution_count": 110,
     "metadata": {},
     "output_type": "execute_result"
    },
    {
     "data": {
      "image/png": "[encoded data removed]",
      "text/plain": [
       "<Figure size 200x400 with 1 Axes>"
      ]
     },
     "metadata": {},
     "output_type": "display_data"
    }
   ],
   "source": [
    "plt.figure(figsize=(2,4))\n",
    "df['free sulfur dioxide'].plot.box()"
   ]
  },
  {
   "cell_type": "code",
   "execution_count": 111,
   "id": "61d39491",
   "metadata": {},
   "outputs": [
    {
     "data": {
      "text/plain": [
       "<AxesSubplot:>"
      ]
     },
     "execution_count": 111,
     "metadata": {},
     "output_type": "execute_result"
    },
    {
     "data": {
      "image/png": "[encoded data removed]",
      "text/plain": [
       "<Figure size 200x400 with 1 Axes>"
      ]
     },
     "metadata": {},
     "output_type": "display_data"
    }
   ],
   "source": [
    "plt.figure(figsize=(2,4))\n",
    "df['total sulfur dioxide'].plot.box()"
   ]
  },
  {
   "cell_type": "code",
   "execution_count": 112,
   "id": "cec64c81",
   "metadata": {},
   "outputs": [
    {
     "data": {
      "text/plain": [
       "<AxesSubplot:>"
      ]
     },
     "execution_count": 112,
     "metadata": {},
     "output_type": "execute_result"
    },
    {
     "data": {
      "image/png": "[encoded data removed]",
      "text/plain": [
       "<Figure size 200x400 with 1 Axes>"
      ]
     },
     "metadata": {},
     "output_type": "display_data"
    }
   ],
   "source": [
    "plt.figure(figsize=(2,4))\n",
    "df['density'].plot.box()"
   ]
  },
  {
   "cell_type": "code",
   "execution_count": 113,
   "id": "2012fe72",
   "metadata": {},
   "outputs": [
    {
     "data": {
      "text/plain": [
       "<AxesSubplot:>"
      ]
     },
     "execution_count": 113,
     "metadata": {},
     "output_type": "execute_result"
    },
    {
     "data": {
      "image/png": "[encoded data removed]",
      "text/plain": [
       "<Figure size 200x400 with 1 Axes>"
      ]
     },
     "metadata": {},
     "output_type": "display_data"
    }
   ],
   "source": [
    "plt.figure(figsize=(2,4))\n",
    "df['pH'].plot.box()"
   ]
  },
  {
   "cell_type": "code",
   "execution_count": 114,
   "id": "7764c830",
   "metadata": {},
   "outputs": [
    {
     "data": {
      "text/plain": [
       "<AxesSubplot:>"
      ]
     },
     "execution_count": 114,
     "metadata": {},
     "output_type": "execute_result"
    },
    {
     "data": {
      "image/png": "[encoded data removed]",
      "text/plain": [
       "<Figure size 200x400 with 1 Axes>"
      ]
     },
     "metadata": {},
     "output_type": "display_data"
    }
   ],
   "source": [
    "plt.figure(figsize=(2,4))\n",
    "df['sulphates'].plot.box()"
   ]
  },
  {
   "cell_type": "code",
   "execution_count": 115,
   "id": "3b9edcd4",
   "metadata": {},
   "outputs": [
    {
     "data": {
      "text/plain": [
       "<AxesSubplot:>"
      ]
     },
     "execution_count": 115,
     "metadata": {},
     "output_type": "execute_result"
    },
    {
     "data": {
      "image/png": "[encoded data removed]",
      "text/plain": [
       "<Figure size 200x400 with 1 Axes>"
      ]
     },
     "metadata": {},
     "output_type": "display_data"
    }
   ],
   "source": [
    "plt.figure(figsize=(2,4))\n",
    "df['alcohol'].plot.box()"
   ]
  },
  {
   "cell_type": "code",
   "execution_count": null,
   "id": "45060c4d",
   "metadata": {},
   "outputs": [],
   "source": [
    "# As from the above \"boxplot\" analysis we can see that in most of the columns OUTLIERS are present."
   ]
  },
  {
   "cell_type": "code",
   "execution_count": null,
   "id": "9190f1ec",
   "metadata": {},
   "outputs": [],
   "source": [
    "# REMOVING OUTLIERS -->"
   ]
  },
  {
   "cell_type": "code",
   "execution_count": 116,
   "id": "ee4d64a8",
   "metadata": {},
   "outputs": [],
   "source": [
    "# As from above you have seen that we didnt identify outliers from TARGET/QUALITY column \n",
    "#  because we no no need to remove OUTLIERS from the TARGET/QUALITY column."
   ]
  },
  {
   "cell_type": "code",
   "execution_count": 117,
   "id": "3df99a41",
   "metadata": {},
   "outputs": [],
   "source": [
    "#  Ideally we can call the OUTLIERS whos ZSCORE VALUE is LESS THEN 3 AND MORE THEN 3\n",
    "# so we have to remove all the data whose ZSCORE >3 & <3\n",
    "# For this first we need to identify the ZSCORE VALUES, for which we have to import some libraries."
   ]
  },
  {
   "cell_type": "code",
   "execution_count": 118,
   "id": "2d1684d6",
   "metadata": {},
   "outputs": [],
   "source": [
    "from scipy.stats import zscore"
   ]
  },
  {
   "cell_type": "code",
   "execution_count": 119,
   "id": "56deb71d",
   "metadata": {},
   "outputs": [
    {
     "data": {
      "text/html": [
       "<div>\n",
       "<style scoped>\n",
       "    .dataframe tbody tr th:only-of-type {\n",
       "        vertical-align: middle;\n",
       "    }\n",
       "\n",
       "    .dataframe tbody tr th {\n",
       "        vertical-align: top;\n",
       "    }\n",
       "\n",
       "    .dataframe thead th {\n",
       "        text-align: right;\n",
       "    }\n",
       "</style>\n",
       "<table border=\"1\" class=\"dataframe\">\n",
       "  <thead>\n",
       "    <tr style=\"text-align: right;\">\n",
       "      <th></th>\n",
       "      <th>fixed acidity</th>\n",
       "      <th>volatile acidity</th>\n",
       "      <th>citric acid</th>\n",
       "      <th>residual sugar</th>\n",
       "      <th>chlorides</th>\n",
       "      <th>free sulfur dioxide</th>\n",
       "      <th>total sulfur dioxide</th>\n",
       "      <th>density</th>\n",
       "      <th>pH</th>\n",
       "      <th>sulphates</th>\n",
       "      <th>alcohol</th>\n",
       "      <th>quality</th>\n",
       "    </tr>\n",
       "  </thead>\n",
       "  <tbody>\n",
       "    <tr>\n",
       "      <th>0</th>\n",
       "      <td>0.528360</td>\n",
       "      <td>0.961877</td>\n",
       "      <td>1.391472</td>\n",
       "      <td>0.453218</td>\n",
       "      <td>0.243707</td>\n",
       "      <td>0.466193</td>\n",
       "      <td>0.379133</td>\n",
       "      <td>0.558274</td>\n",
       "      <td>1.288643</td>\n",
       "      <td>0.579207</td>\n",
       "      <td>0.960246</td>\n",
       "      <td>0.787823</td>\n",
       "    </tr>\n",
       "    <tr>\n",
       "      <th>1</th>\n",
       "      <td>0.298547</td>\n",
       "      <td>1.967442</td>\n",
       "      <td>1.391472</td>\n",
       "      <td>0.043416</td>\n",
       "      <td>0.223875</td>\n",
       "      <td>0.872638</td>\n",
       "      <td>0.624363</td>\n",
       "      <td>0.028261</td>\n",
       "      <td>0.719933</td>\n",
       "      <td>0.128950</td>\n",
       "      <td>0.584777</td>\n",
       "      <td>0.787823</td>\n",
       "    </tr>\n",
       "    <tr>\n",
       "      <th>2</th>\n",
       "      <td>0.298547</td>\n",
       "      <td>1.297065</td>\n",
       "      <td>1.186070</td>\n",
       "      <td>0.169427</td>\n",
       "      <td>0.096353</td>\n",
       "      <td>0.083669</td>\n",
       "      <td>0.229047</td>\n",
       "      <td>0.134264</td>\n",
       "      <td>0.331177</td>\n",
       "      <td>0.048089</td>\n",
       "      <td>0.584777</td>\n",
       "      <td>0.787823</td>\n",
       "    </tr>\n",
       "    <tr>\n",
       "      <th>3</th>\n",
       "      <td>1.654856</td>\n",
       "      <td>1.384443</td>\n",
       "      <td>1.484154</td>\n",
       "      <td>0.453218</td>\n",
       "      <td>0.264960</td>\n",
       "      <td>0.107592</td>\n",
       "      <td>0.411500</td>\n",
       "      <td>0.664277</td>\n",
       "      <td>0.979104</td>\n",
       "      <td>0.461180</td>\n",
       "      <td>0.584777</td>\n",
       "      <td>0.450848</td>\n",
       "    </tr>\n",
       "    <tr>\n",
       "      <th>4</th>\n",
       "      <td>0.528360</td>\n",
       "      <td>0.961877</td>\n",
       "      <td>1.391472</td>\n",
       "      <td>0.453218</td>\n",
       "      <td>0.243707</td>\n",
       "      <td>0.466193</td>\n",
       "      <td>0.379133</td>\n",
       "      <td>0.558274</td>\n",
       "      <td>1.288643</td>\n",
       "      <td>0.579207</td>\n",
       "      <td>0.960246</td>\n",
       "      <td>0.787823</td>\n",
       "    </tr>\n",
       "    <tr>\n",
       "      <th>...</th>\n",
       "      <td>...</td>\n",
       "      <td>...</td>\n",
       "      <td>...</td>\n",
       "      <td>...</td>\n",
       "      <td>...</td>\n",
       "      <td>...</td>\n",
       "      <td>...</td>\n",
       "      <td>...</td>\n",
       "      <td>...</td>\n",
       "      <td>...</td>\n",
       "      <td>...</td>\n",
       "      <td>...</td>\n",
       "    </tr>\n",
       "    <tr>\n",
       "      <th>1594</th>\n",
       "      <td>1.217796</td>\n",
       "      <td>0.403229</td>\n",
       "      <td>0.980669</td>\n",
       "      <td>0.382271</td>\n",
       "      <td>0.053845</td>\n",
       "      <td>1.542054</td>\n",
       "      <td>0.075043</td>\n",
       "      <td>0.978765</td>\n",
       "      <td>0.899886</td>\n",
       "      <td>0.461180</td>\n",
       "      <td>0.072294</td>\n",
       "      <td>0.787823</td>\n",
       "    </tr>\n",
       "    <tr>\n",
       "      <th>1595</th>\n",
       "      <td>1.390155</td>\n",
       "      <td>0.123905</td>\n",
       "      <td>0.877968</td>\n",
       "      <td>0.240375</td>\n",
       "      <td>0.541259</td>\n",
       "      <td>2.211469</td>\n",
       "      <td>0.137820</td>\n",
       "      <td>0.862162</td>\n",
       "      <td>1.353436</td>\n",
       "      <td>0.601055</td>\n",
       "      <td>0.729364</td>\n",
       "      <td>0.450848</td>\n",
       "    </tr>\n",
       "    <tr>\n",
       "      <th>1596</th>\n",
       "      <td>1.160343</td>\n",
       "      <td>0.099554</td>\n",
       "      <td>0.723916</td>\n",
       "      <td>0.169427</td>\n",
       "      <td>0.243707</td>\n",
       "      <td>1.255161</td>\n",
       "      <td>0.196679</td>\n",
       "      <td>0.533554</td>\n",
       "      <td>0.705508</td>\n",
       "      <td>0.542042</td>\n",
       "      <td>0.541630</td>\n",
       "      <td>0.450848</td>\n",
       "    </tr>\n",
       "    <tr>\n",
       "      <th>1597</th>\n",
       "      <td>1.390155</td>\n",
       "      <td>0.654620</td>\n",
       "      <td>0.775267</td>\n",
       "      <td>0.382271</td>\n",
       "      <td>0.264960</td>\n",
       "      <td>1.542054</td>\n",
       "      <td>0.075043</td>\n",
       "      <td>0.676657</td>\n",
       "      <td>1.677400</td>\n",
       "      <td>0.305990</td>\n",
       "      <td>0.209308</td>\n",
       "      <td>0.787823</td>\n",
       "    </tr>\n",
       "    <tr>\n",
       "      <th>1598</th>\n",
       "      <td>1.332702</td>\n",
       "      <td>1.216849</td>\n",
       "      <td>1.021999</td>\n",
       "      <td>0.752894</td>\n",
       "      <td>0.434990</td>\n",
       "      <td>0.203223</td>\n",
       "      <td>0.135861</td>\n",
       "      <td>0.666057</td>\n",
       "      <td>0.511130</td>\n",
       "      <td>0.010924</td>\n",
       "      <td>0.541630</td>\n",
       "      <td>0.450848</td>\n",
       "    </tr>\n",
       "  </tbody>\n",
       "</table>\n",
       "<p>1599 rows × 12 columns</p>\n",
       "</div>"
      ],
      "text/plain": [
       "      fixed acidity  volatile acidity  citric acid  residual sugar  chlorides  \\\n",
       "0          0.528360          0.961877     1.391472        0.453218   0.243707   \n",
       "1          0.298547          1.967442     1.391472        0.043416   0.223875   \n",
       "2          0.298547          1.297065     1.186070        0.169427   0.096353   \n",
       "3          1.654856          1.384443     1.484154        0.453218   0.264960   \n",
       "4          0.528360          0.961877     1.391472        0.453218   0.243707   \n",
       "...             ...               ...          ...             ...        ...   \n",
       "1594       1.217796          0.403229     0.980669        0.382271   0.053845   \n",
       "1595       1.390155          0.123905     0.877968        0.240375   0.541259   \n",
       "1596       1.160343          0.099554     0.723916        0.169427   0.243707   \n",
       "1597       1.390155          0.654620     0.775267        0.382271   0.264960   \n",
       "1598       1.332702          1.216849     1.021999        0.752894   0.434990   \n",
       "\n",
       "      free sulfur dioxide  total sulfur dioxide   density        pH  \\\n",
       "0                0.466193              0.379133  0.558274  1.288643   \n",
       "1                0.872638              0.624363  0.028261  0.719933   \n",
       "2                0.083669              0.229047  0.134264  0.331177   \n",
       "3                0.107592              0.411500  0.664277  0.979104   \n",
       "4                0.466193              0.379133  0.558274  1.288643   \n",
       "...                   ...                   ...       ...       ...   \n",
       "1594             1.542054              0.075043  0.978765  0.899886   \n",
       "1595             2.211469              0.137820  0.862162  1.353436   \n",
       "1596             1.255161              0.196679  0.533554  0.705508   \n",
       "1597             1.542054              0.075043  0.676657  1.677400   \n",
       "1598             0.203223              0.135861  0.666057  0.511130   \n",
       "\n",
       "      sulphates   alcohol   quality  \n",
       "0      0.579207  0.960246  0.787823  \n",
       "1      0.128950  0.584777  0.787823  \n",
       "2      0.048089  0.584777  0.787823  \n",
       "3      0.461180  0.584777  0.450848  \n",
       "4      0.579207  0.960246  0.787823  \n",
       "...         ...       ...       ...  \n",
       "1594   0.461180  0.072294  0.787823  \n",
       "1595   0.601055  0.729364  0.450848  \n",
       "1596   0.542042  0.541630  0.450848  \n",
       "1597   0.305990  0.209308  0.787823  \n",
       "1598   0.010924  0.541630  0.450848  \n",
       "\n",
       "[1599 rows x 12 columns]"
      ]
     },
     "execution_count": 119,
     "metadata": {},
     "output_type": "execute_result"
    }
   ],
   "source": [
    "z = np.abs(zscore(df))\n",
    "z"
   ]
  },
  {
   "cell_type": "code",
   "execution_count": 120,
   "id": "de2a161b",
   "metadata": {},
   "outputs": [],
   "source": [
    "#  above here we \"abs\" i.e absolute method it returns us the all zscore values greater then 3\n",
    "#  so we just need to remove lesserr then 3 zscore values."
   ]
  },
  {
   "cell_type": "code",
   "execution_count": 121,
   "id": "e8883e15",
   "metadata": {},
   "outputs": [
    {
     "name": "stdout",
     "output_type": "stream",
     "text": [
      "(array([  13,   14,   15,   15,   17,   17,   19,   33,   38,   42,   43,\n",
      "         45,   57,   81,   81,   83,   86,   88,   91,   92,   95,  106,\n",
      "        106,  109,  120,  126,  127,  142,  144,  147,  151,  151,  151,\n",
      "        151,  163,  164,  169,  169,  181,  199,  226,  226,  240,  243,\n",
      "        244,  258,  258,  274,  281,  291,  324,  325,  339,  340,  347,\n",
      "        354,  374,  381,  391,  396,  396,  400,  400,  442,  442,  451,\n",
      "        459,  467,  480,  480,  494,  515,  517,  544,  554,  554,  555,\n",
      "        555,  557,  557,  568,  584,  588,  591,  595,  608,  614,  636,\n",
      "        639,  649,  649,  651,  652,  652,  652,  672,  672,  684,  690,\n",
      "        690,  692,  692,  695,  723,  724,  730,  754,  776,  777,  795,\n",
      "        821,  832,  836,  837,  889,  899,  911,  917,  923,  925,  926,\n",
      "        982, 1017, 1018, 1043, 1051, 1051, 1071, 1074, 1079, 1079, 1081,\n",
      "       1081, 1111, 1114, 1131, 1154, 1165, 1175, 1186, 1231, 1235, 1244,\n",
      "       1244, 1244, 1260, 1269, 1269, 1270, 1270, 1288, 1289, 1295, 1296,\n",
      "       1299, 1299, 1300, 1312, 1316, 1319, 1319, 1321, 1358, 1367, 1370,\n",
      "       1370, 1372, 1372, 1374, 1374, 1434, 1434, 1434, 1435, 1435, 1435,\n",
      "       1469, 1474, 1474, 1474, 1476, 1476, 1476, 1478, 1493, 1496, 1505,\n",
      "       1558, 1558, 1570, 1574, 1589], dtype=int64), array([ 9,  5,  5,  6,  4,  9,  4,  3,  1,  4,  9,  8,  5,  4,  9,  4,  9,\n",
      "        9,  9,  9,  8,  4,  9,  6,  1,  1,  1, 10, 10,  4,  2,  4,  8,  9,\n",
      "        3,  3,  4,  9,  4,  1,  4,  9,  4,  0,  0,  4,  9,  3,  4,  4,  3,\n",
      "        3,  9,  9,  0,  6,  0,  0,  0,  3,  5,  3,  5,  0,  7,  4, 11, 10,\n",
      "        3,  7,  3,  6, 11,  0,  0,  7,  0,  7,  0,  7,  4,  5, 10,  6,  3,\n",
      "        7,  9,  6,  9,  3,  6,  6,  0,  3, 10,  1,  6,  6,  1, 11,  4,  9,\n",
      "        8,  9,  1,  4,  4,  4,  4,  9, 10, 11,  7,  7,  7, 11,  3,  3,  3,\n",
      "        5,  5,  5,  7,  7,  3,  4,  9,  3,  3,  3,  6,  3,  6,  8,  7,  5,\n",
      "        5,  4,  5,  3,  5,  3,  3,  5,  6,  4,  7, 10,  7, 10,  9,  9,  5,\n",
      "        5,  1, 11,  8,  1,  8,  4,  9,  8,  5,  9,  4,  9,  4,  9,  4, 11,\n",
      "        3,  5,  7,  3,  5,  7, 11,  3,  5,  7,  3,  5,  7, 11,  6,  6, 11,\n",
      "        4,  5,  4,  3,  3], dtype=int64))\n"
     ]
    }
   ],
   "source": [
    "threshold = 3\n",
    "print(np.where(z>3))"
   ]
  },
  {
   "cell_type": "code",
   "execution_count": null,
   "id": "5d6a8187",
   "metadata": {},
   "outputs": [],
   "source": [
    "#  here above we can get the all data points whose z score value is > 3"
   ]
  },
  {
   "cell_type": "code",
   "execution_count": 132,
   "id": "c9589e9b",
   "metadata": {},
   "outputs": [
    {
     "data": {
      "text/html": [
       "<div>\n",
       "<style scoped>\n",
       "    .dataframe tbody tr th:only-of-type {\n",
       "        vertical-align: middle;\n",
       "    }\n",
       "\n",
       "    .dataframe tbody tr th {\n",
       "        vertical-align: top;\n",
       "    }\n",
       "\n",
       "    .dataframe thead th {\n",
       "        text-align: right;\n",
       "    }\n",
       "</style>\n",
       "<table border=\"1\" class=\"dataframe\">\n",
       "  <thead>\n",
       "    <tr style=\"text-align: right;\">\n",
       "      <th></th>\n",
       "      <th>fixed acidity</th>\n",
       "      <th>volatile acidity</th>\n",
       "      <th>citric acid</th>\n",
       "      <th>residual sugar</th>\n",
       "      <th>chlorides</th>\n",
       "      <th>free sulfur dioxide</th>\n",
       "      <th>total sulfur dioxide</th>\n",
       "      <th>density</th>\n",
       "      <th>pH</th>\n",
       "      <th>sulphates</th>\n",
       "      <th>alcohol</th>\n",
       "      <th>quality</th>\n",
       "    </tr>\n",
       "  </thead>\n",
       "  <tbody>\n",
       "    <tr>\n",
       "      <th>0</th>\n",
       "      <td>7.4</td>\n",
       "      <td>0.700</td>\n",
       "      <td>0.00</td>\n",
       "      <td>1.9</td>\n",
       "      <td>0.076</td>\n",
       "      <td>11.0</td>\n",
       "      <td>34.0</td>\n",
       "      <td>0.99780</td>\n",
       "      <td>3.51</td>\n",
       "      <td>0.56</td>\n",
       "      <td>9.4</td>\n",
       "      <td>5</td>\n",
       "    </tr>\n",
       "    <tr>\n",
       "      <th>1</th>\n",
       "      <td>7.8</td>\n",
       "      <td>0.880</td>\n",
       "      <td>0.00</td>\n",
       "      <td>2.6</td>\n",
       "      <td>0.098</td>\n",
       "      <td>25.0</td>\n",
       "      <td>67.0</td>\n",
       "      <td>0.99680</td>\n",
       "      <td>3.20</td>\n",
       "      <td>0.68</td>\n",
       "      <td>9.8</td>\n",
       "      <td>5</td>\n",
       "    </tr>\n",
       "    <tr>\n",
       "      <th>2</th>\n",
       "      <td>7.8</td>\n",
       "      <td>0.760</td>\n",
       "      <td>0.04</td>\n",
       "      <td>2.3</td>\n",
       "      <td>0.092</td>\n",
       "      <td>15.0</td>\n",
       "      <td>54.0</td>\n",
       "      <td>0.99700</td>\n",
       "      <td>3.26</td>\n",
       "      <td>0.65</td>\n",
       "      <td>9.8</td>\n",
       "      <td>5</td>\n",
       "    </tr>\n",
       "    <tr>\n",
       "      <th>3</th>\n",
       "      <td>11.2</td>\n",
       "      <td>0.280</td>\n",
       "      <td>0.56</td>\n",
       "      <td>1.9</td>\n",
       "      <td>0.075</td>\n",
       "      <td>17.0</td>\n",
       "      <td>60.0</td>\n",
       "      <td>0.99800</td>\n",
       "      <td>3.16</td>\n",
       "      <td>0.58</td>\n",
       "      <td>9.8</td>\n",
       "      <td>6</td>\n",
       "    </tr>\n",
       "    <tr>\n",
       "      <th>4</th>\n",
       "      <td>7.4</td>\n",
       "      <td>0.700</td>\n",
       "      <td>0.00</td>\n",
       "      <td>1.9</td>\n",
       "      <td>0.076</td>\n",
       "      <td>11.0</td>\n",
       "      <td>34.0</td>\n",
       "      <td>0.99780</td>\n",
       "      <td>3.51</td>\n",
       "      <td>0.56</td>\n",
       "      <td>9.4</td>\n",
       "      <td>5</td>\n",
       "    </tr>\n",
       "    <tr>\n",
       "      <th>...</th>\n",
       "      <td>...</td>\n",
       "      <td>...</td>\n",
       "      <td>...</td>\n",
       "      <td>...</td>\n",
       "      <td>...</td>\n",
       "      <td>...</td>\n",
       "      <td>...</td>\n",
       "      <td>...</td>\n",
       "      <td>...</td>\n",
       "      <td>...</td>\n",
       "      <td>...</td>\n",
       "      <td>...</td>\n",
       "    </tr>\n",
       "    <tr>\n",
       "      <th>1594</th>\n",
       "      <td>6.2</td>\n",
       "      <td>0.600</td>\n",
       "      <td>0.08</td>\n",
       "      <td>2.0</td>\n",
       "      <td>0.090</td>\n",
       "      <td>32.0</td>\n",
       "      <td>44.0</td>\n",
       "      <td>0.99490</td>\n",
       "      <td>3.45</td>\n",
       "      <td>0.58</td>\n",
       "      <td>10.5</td>\n",
       "      <td>5</td>\n",
       "    </tr>\n",
       "    <tr>\n",
       "      <th>1595</th>\n",
       "      <td>5.9</td>\n",
       "      <td>0.550</td>\n",
       "      <td>0.10</td>\n",
       "      <td>2.2</td>\n",
       "      <td>0.062</td>\n",
       "      <td>39.0</td>\n",
       "      <td>51.0</td>\n",
       "      <td>0.99512</td>\n",
       "      <td>3.52</td>\n",
       "      <td>0.76</td>\n",
       "      <td>11.2</td>\n",
       "      <td>6</td>\n",
       "    </tr>\n",
       "    <tr>\n",
       "      <th>1596</th>\n",
       "      <td>6.3</td>\n",
       "      <td>0.510</td>\n",
       "      <td>0.13</td>\n",
       "      <td>2.3</td>\n",
       "      <td>0.076</td>\n",
       "      <td>29.0</td>\n",
       "      <td>40.0</td>\n",
       "      <td>0.99574</td>\n",
       "      <td>3.42</td>\n",
       "      <td>0.75</td>\n",
       "      <td>11.0</td>\n",
       "      <td>6</td>\n",
       "    </tr>\n",
       "    <tr>\n",
       "      <th>1597</th>\n",
       "      <td>5.9</td>\n",
       "      <td>0.645</td>\n",
       "      <td>0.12</td>\n",
       "      <td>2.0</td>\n",
       "      <td>0.075</td>\n",
       "      <td>32.0</td>\n",
       "      <td>44.0</td>\n",
       "      <td>0.99547</td>\n",
       "      <td>3.57</td>\n",
       "      <td>0.71</td>\n",
       "      <td>10.2</td>\n",
       "      <td>5</td>\n",
       "    </tr>\n",
       "    <tr>\n",
       "      <th>1598</th>\n",
       "      <td>6.0</td>\n",
       "      <td>0.310</td>\n",
       "      <td>0.47</td>\n",
       "      <td>3.6</td>\n",
       "      <td>0.067</td>\n",
       "      <td>18.0</td>\n",
       "      <td>42.0</td>\n",
       "      <td>0.99549</td>\n",
       "      <td>3.39</td>\n",
       "      <td>0.66</td>\n",
       "      <td>11.0</td>\n",
       "      <td>6</td>\n",
       "    </tr>\n",
       "  </tbody>\n",
       "</table>\n",
       "<p>1451 rows × 12 columns</p>\n",
       "</div>"
      ],
      "text/plain": [
       "      fixed acidity  volatile acidity  citric acid  residual sugar  chlorides  \\\n",
       "0               7.4             0.700         0.00             1.9      0.076   \n",
       "1               7.8             0.880         0.00             2.6      0.098   \n",
       "2               7.8             0.760         0.04             2.3      0.092   \n",
       "3              11.2             0.280         0.56             1.9      0.075   \n",
       "4               7.4             0.700         0.00             1.9      0.076   \n",
       "...             ...               ...          ...             ...        ...   \n",
       "1594            6.2             0.600         0.08             2.0      0.090   \n",
       "1595            5.9             0.550         0.10             2.2      0.062   \n",
       "1596            6.3             0.510         0.13             2.3      0.076   \n",
       "1597            5.9             0.645         0.12             2.0      0.075   \n",
       "1598            6.0             0.310         0.47             3.6      0.067   \n",
       "\n",
       "      free sulfur dioxide  total sulfur dioxide  density    pH  sulphates  \\\n",
       "0                    11.0                  34.0  0.99780  3.51       0.56   \n",
       "1                    25.0                  67.0  0.99680  3.20       0.68   \n",
       "2                    15.0                  54.0  0.99700  3.26       0.65   \n",
       "3                    17.0                  60.0  0.99800  3.16       0.58   \n",
       "4                    11.0                  34.0  0.99780  3.51       0.56   \n",
       "...                   ...                   ...      ...   ...        ...   \n",
       "1594                 32.0                  44.0  0.99490  3.45       0.58   \n",
       "1595                 39.0                  51.0  0.99512  3.52       0.76   \n",
       "1596                 29.0                  40.0  0.99574  3.42       0.75   \n",
       "1597                 32.0                  44.0  0.99547  3.57       0.71   \n",
       "1598                 18.0                  42.0  0.99549  3.39       0.66   \n",
       "\n",
       "      alcohol  quality  \n",
       "0         9.4        5  \n",
       "1         9.8        5  \n",
       "2         9.8        5  \n",
       "3         9.8        6  \n",
       "4         9.4        5  \n",
       "...       ...      ...  \n",
       "1594     10.5        5  \n",
       "1595     11.2        6  \n",
       "1596     11.0        6  \n",
       "1597     10.2        5  \n",
       "1598     11.0        6  \n",
       "\n",
       "[1451 rows x 12 columns]"
      ]
     },
     "execution_count": 132,
     "metadata": {},
     "output_type": "execute_result"
    }
   ],
   "source": [
    "df1 = df[(z<3).all(axis=1)]\n",
    "df1.shape\n",
    "df1"
   ]
  },
  {
   "cell_type": "code",
   "execution_count": 133,
   "id": "9f5ebb7a",
   "metadata": {},
   "outputs": [
    {
     "data": {
      "text/plain": [
       "(1451, 12)"
      ]
     },
     "execution_count": 133,
     "metadata": {},
     "output_type": "execute_result"
    }
   ],
   "source": [
    "df1.shape"
   ]
  },
  {
   "cell_type": "code",
   "execution_count": null,
   "id": "fc9a72f7",
   "metadata": {},
   "outputs": [],
   "source": [
    "# now above we can see that in our new dataset df1 the number of rows are decreased to 1451 from 1599\n",
    "# it means we are succefully removes the OUTLIERS from the dataset"
   ]
  },
  {
   "cell_type": "code",
   "execution_count": 134,
   "id": "a3517885",
   "metadata": {},
   "outputs": [
    {
     "data": {
      "text/html": [
       "<div>\n",
       "<style scoped>\n",
       "    .dataframe tbody tr th:only-of-type {\n",
       "        vertical-align: middle;\n",
       "    }\n",
       "\n",
       "    .dataframe tbody tr th {\n",
       "        vertical-align: top;\n",
       "    }\n",
       "\n",
       "    .dataframe thead th {\n",
       "        text-align: right;\n",
       "    }\n",
       "</style>\n",
       "<table border=\"1\" class=\"dataframe\">\n",
       "  <thead>\n",
       "    <tr style=\"text-align: right;\">\n",
       "      <th></th>\n",
       "      <th>fixed acidity</th>\n",
       "      <th>volatile acidity</th>\n",
       "      <th>citric acid</th>\n",
       "      <th>residual sugar</th>\n",
       "      <th>chlorides</th>\n",
       "      <th>free sulfur dioxide</th>\n",
       "      <th>total sulfur dioxide</th>\n",
       "      <th>density</th>\n",
       "      <th>pH</th>\n",
       "      <th>sulphates</th>\n",
       "      <th>alcohol</th>\n",
       "      <th>quality</th>\n",
       "    </tr>\n",
       "  </thead>\n",
       "  <tbody>\n",
       "    <tr>\n",
       "      <th>0</th>\n",
       "      <td>0.552930</td>\n",
       "      <td>1.050914</td>\n",
       "      <td>1.390400</td>\n",
       "      <td>0.565439</td>\n",
       "      <td>0.258851</td>\n",
       "      <td>0.441060</td>\n",
       "      <td>0.330784</td>\n",
       "      <td>0.635485</td>\n",
       "      <td>1.375896</td>\n",
       "      <td>0.636458</td>\n",
       "      <td>0.999856</td>\n",
       "      <td>0.844125</td>\n",
       "    </tr>\n",
       "    <tr>\n",
       "      <th>1</th>\n",
       "      <td>0.309900</td>\n",
       "      <td>2.119336</td>\n",
       "      <td>1.390400</td>\n",
       "      <td>0.246832</td>\n",
       "      <td>0.790825</td>\n",
       "      <td>1.063255</td>\n",
       "      <td>0.790477</td>\n",
       "      <td>0.052390</td>\n",
       "      <td>0.821951</td>\n",
       "      <td>0.288353</td>\n",
       "      <td>0.608174</td>\n",
       "      <td>0.844125</td>\n",
       "    </tr>\n",
       "    <tr>\n",
       "      <th>2</th>\n",
       "      <td>0.309900</td>\n",
       "      <td>1.407054</td>\n",
       "      <td>1.180831</td>\n",
       "      <td>0.101284</td>\n",
       "      <td>0.504550</td>\n",
       "      <td>0.011256</td>\n",
       "      <td>0.348768</td>\n",
       "      <td>0.169009</td>\n",
       "      <td>0.396561</td>\n",
       "      <td>0.057150</td>\n",
       "      <td>0.608174</td>\n",
       "      <td>0.844125</td>\n",
       "    </tr>\n",
       "    <tr>\n",
       "      <th>3</th>\n",
       "      <td>1.755851</td>\n",
       "      <td>1.442071</td>\n",
       "      <td>1.543569</td>\n",
       "      <td>0.565439</td>\n",
       "      <td>0.306564</td>\n",
       "      <td>0.203646</td>\n",
       "      <td>0.552634</td>\n",
       "      <td>0.752103</td>\n",
       "      <td>1.105544</td>\n",
       "      <td>0.482323</td>\n",
       "      <td>0.608174</td>\n",
       "      <td>0.435734</td>\n",
       "    </tr>\n",
       "    <tr>\n",
       "      <th>4</th>\n",
       "      <td>0.552930</td>\n",
       "      <td>1.050914</td>\n",
       "      <td>1.390400</td>\n",
       "      <td>0.565439</td>\n",
       "      <td>0.258851</td>\n",
       "      <td>0.441060</td>\n",
       "      <td>0.330784</td>\n",
       "      <td>0.635485</td>\n",
       "      <td>1.375896</td>\n",
       "      <td>0.636458</td>\n",
       "      <td>0.999856</td>\n",
       "      <td>0.844125</td>\n",
       "    </tr>\n",
       "    <tr>\n",
       "      <th>...</th>\n",
       "      <td>...</td>\n",
       "      <td>...</td>\n",
       "      <td>...</td>\n",
       "      <td>...</td>\n",
       "      <td>...</td>\n",
       "      <td>...</td>\n",
       "      <td>...</td>\n",
       "      <td>...</td>\n",
       "      <td>...</td>\n",
       "      <td>...</td>\n",
       "      <td>...</td>\n",
       "      <td>...</td>\n",
       "    </tr>\n",
       "    <tr>\n",
       "      <th>1594</th>\n",
       "      <td>1.282019</td>\n",
       "      <td>0.457346</td>\n",
       "      <td>0.971261</td>\n",
       "      <td>0.449401</td>\n",
       "      <td>0.409125</td>\n",
       "      <td>1.815413</td>\n",
       "      <td>0.008992</td>\n",
       "      <td>1.055489</td>\n",
       "      <td>0.950506</td>\n",
       "      <td>0.482323</td>\n",
       "      <td>0.077270</td>\n",
       "      <td>0.844125</td>\n",
       "    </tr>\n",
       "    <tr>\n",
       "      <th>1595</th>\n",
       "      <td>1.464291</td>\n",
       "      <td>0.160562</td>\n",
       "      <td>0.866477</td>\n",
       "      <td>0.217323</td>\n",
       "      <td>0.926828</td>\n",
       "      <td>2.567570</td>\n",
       "      <td>0.246835</td>\n",
       "      <td>0.927209</td>\n",
       "      <td>1.446794</td>\n",
       "      <td>0.904894</td>\n",
       "      <td>0.762714</td>\n",
       "      <td>0.435734</td>\n",
       "    </tr>\n",
       "    <tr>\n",
       "      <th>1596</th>\n",
       "      <td>1.221261</td>\n",
       "      <td>0.076865</td>\n",
       "      <td>0.709300</td>\n",
       "      <td>0.101284</td>\n",
       "      <td>0.258851</td>\n",
       "      <td>1.493059</td>\n",
       "      <td>0.126918</td>\n",
       "      <td>0.565690</td>\n",
       "      <td>0.737811</td>\n",
       "      <td>0.827826</td>\n",
       "      <td>0.566873</td>\n",
       "      <td>0.435734</td>\n",
       "    </tr>\n",
       "    <tr>\n",
       "      <th>1597</th>\n",
       "      <td>1.464291</td>\n",
       "      <td>0.724451</td>\n",
       "      <td>0.761692</td>\n",
       "      <td>0.449401</td>\n",
       "      <td>0.306564</td>\n",
       "      <td>1.815413</td>\n",
       "      <td>0.008992</td>\n",
       "      <td>0.723125</td>\n",
       "      <td>1.801286</td>\n",
       "      <td>0.519556</td>\n",
       "      <td>0.216491</td>\n",
       "      <td>0.844125</td>\n",
       "    </tr>\n",
       "    <tr>\n",
       "      <th>1598</th>\n",
       "      <td>1.403533</td>\n",
       "      <td>1.264001</td>\n",
       "      <td>1.072038</td>\n",
       "      <td>1.407221</td>\n",
       "      <td>0.688265</td>\n",
       "      <td>0.311097</td>\n",
       "      <td>0.058963</td>\n",
       "      <td>0.711464</td>\n",
       "      <td>0.525116</td>\n",
       "      <td>0.134218</td>\n",
       "      <td>0.566873</td>\n",
       "      <td>0.435734</td>\n",
       "    </tr>\n",
       "  </tbody>\n",
       "</table>\n",
       "<p>1451 rows × 12 columns</p>\n",
       "</div>"
      ],
      "text/plain": [
       "      fixed acidity  volatile acidity  citric acid  residual sugar  chlorides  \\\n",
       "0          0.552930          1.050914     1.390400        0.565439   0.258851   \n",
       "1          0.309900          2.119336     1.390400        0.246832   0.790825   \n",
       "2          0.309900          1.407054     1.180831        0.101284   0.504550   \n",
       "3          1.755851          1.442071     1.543569        0.565439   0.306564   \n",
       "4          0.552930          1.050914     1.390400        0.565439   0.258851   \n",
       "...             ...               ...          ...             ...        ...   \n",
       "1594       1.282019          0.457346     0.971261        0.449401   0.409125   \n",
       "1595       1.464291          0.160562     0.866477        0.217323   0.926828   \n",
       "1596       1.221261          0.076865     0.709300        0.101284   0.258851   \n",
       "1597       1.464291          0.724451     0.761692        0.449401   0.306564   \n",
       "1598       1.403533          1.264001     1.072038        1.407221   0.688265   \n",
       "\n",
       "      free sulfur dioxide  total sulfur dioxide   density        pH  \\\n",
       "0                0.441060              0.330784  0.635485  1.375896   \n",
       "1                1.063255              0.790477  0.052390  0.821951   \n",
       "2                0.011256              0.348768  0.169009  0.396561   \n",
       "3                0.203646              0.552634  0.752103  1.105544   \n",
       "4                0.441060              0.330784  0.635485  1.375896   \n",
       "...                   ...                   ...       ...       ...   \n",
       "1594             1.815413              0.008992  1.055489  0.950506   \n",
       "1595             2.567570              0.246835  0.927209  1.446794   \n",
       "1596             1.493059              0.126918  0.565690  0.737811   \n",
       "1597             1.815413              0.008992  0.723125  1.801286   \n",
       "1598             0.311097              0.058963  0.711464  0.525116   \n",
       "\n",
       "      sulphates   alcohol   quality  \n",
       "0      0.636458  0.999856  0.844125  \n",
       "1      0.288353  0.608174  0.844125  \n",
       "2      0.057150  0.608174  0.844125  \n",
       "3      0.482323  0.608174  0.435734  \n",
       "4      0.636458  0.999856  0.844125  \n",
       "...         ...       ...       ...  \n",
       "1594   0.482323  0.077270  0.844125  \n",
       "1595   0.904894  0.762714  0.435734  \n",
       "1596   0.827826  0.566873  0.435734  \n",
       "1597   0.519556  0.216491  0.844125  \n",
       "1598   0.134218  0.566873  0.435734  \n",
       "\n",
       "[1451 rows x 12 columns]"
      ]
     },
     "execution_count": 134,
     "metadata": {},
     "output_type": "execute_result"
    }
   ],
   "source": [
    "# here again we are checking the zscore of our new dataset df1 ()\n",
    "z1 = np.abs(zscore(df1))\n",
    "z1"
   ]
  },
  {
   "cell_type": "code",
   "execution_count": 136,
   "id": "adb0fc29",
   "metadata": {},
   "outputs": [
    {
     "data": {
      "text/plain": [
       "<AxesSubplot:>"
      ]
     },
     "execution_count": 136,
     "metadata": {},
     "output_type": "execute_result"
    },
    {
     "data": {
      "image/png": "[encoded data removed]",
      "text/plain": [
       "<Figure size 200x400 with 1 Axes>"
      ]
     },
     "metadata": {},
     "output_type": "display_data"
    }
   ],
   "source": [
    "plt.figure(figsize=(2,4))\n",
    "df['fixed acidity'].plot.box()"
   ]
  },
  {
   "cell_type": "code",
   "execution_count": 137,
   "id": "79556a34",
   "metadata": {},
   "outputs": [
    {
     "data": {
      "text/plain": [
       "<AxesSubplot:>"
      ]
     },
     "execution_count": 137,
     "metadata": {},
     "output_type": "execute_result"
    },
    {
     "data": {
      "image/png": "[encoded data removed]",
      "text/plain": [
       "<Figure size 200x400 with 1 Axes>"
      ]
     },
     "metadata": {},
     "output_type": "display_data"
    }
   ],
   "source": [
    "plt.figure(figsize=(2,4))\n",
    "df1['fixed acidity'].plot.box()"
   ]
  },
  {
   "cell_type": "code",
   "execution_count": null,
   "id": "73585e19",
   "metadata": {},
   "outputs": [],
   "source": [
    "#  here above you can clearly seen the diffrence between the df & df1 for column \"fixed acidity\"\n",
    "#  so we are succesfully removed the outliers from the dataset and save it to the new dataset \" df1 \""
   ]
  },
  {
   "cell_type": "code",
   "execution_count": 138,
   "id": "7f9c9862",
   "metadata": {},
   "outputs": [
    {
     "data": {
      "text/html": [
       "<div>\n",
       "<style scoped>\n",
       "    .dataframe tbody tr th:only-of-type {\n",
       "        vertical-align: middle;\n",
       "    }\n",
       "\n",
       "    .dataframe tbody tr th {\n",
       "        vertical-align: top;\n",
       "    }\n",
       "\n",
       "    .dataframe thead th {\n",
       "        text-align: right;\n",
       "    }\n",
       "</style>\n",
       "<table border=\"1\" class=\"dataframe\">\n",
       "  <thead>\n",
       "    <tr style=\"text-align: right;\">\n",
       "      <th></th>\n",
       "      <th>fixed acidity</th>\n",
       "      <th>volatile acidity</th>\n",
       "      <th>citric acid</th>\n",
       "      <th>residual sugar</th>\n",
       "      <th>chlorides</th>\n",
       "      <th>free sulfur dioxide</th>\n",
       "      <th>total sulfur dioxide</th>\n",
       "      <th>density</th>\n",
       "      <th>pH</th>\n",
       "      <th>sulphates</th>\n",
       "      <th>alcohol</th>\n",
       "      <th>quality</th>\n",
       "    </tr>\n",
       "  </thead>\n",
       "  <tbody>\n",
       "    <tr>\n",
       "      <th>0</th>\n",
       "      <td>7.4</td>\n",
       "      <td>0.700</td>\n",
       "      <td>0.00</td>\n",
       "      <td>1.9</td>\n",
       "      <td>0.076</td>\n",
       "      <td>11.0</td>\n",
       "      <td>34.0</td>\n",
       "      <td>0.99780</td>\n",
       "      <td>3.51</td>\n",
       "      <td>0.56</td>\n",
       "      <td>9.4</td>\n",
       "      <td>5</td>\n",
       "    </tr>\n",
       "    <tr>\n",
       "      <th>1</th>\n",
       "      <td>7.8</td>\n",
       "      <td>0.880</td>\n",
       "      <td>0.00</td>\n",
       "      <td>2.6</td>\n",
       "      <td>0.098</td>\n",
       "      <td>25.0</td>\n",
       "      <td>67.0</td>\n",
       "      <td>0.99680</td>\n",
       "      <td>3.20</td>\n",
       "      <td>0.68</td>\n",
       "      <td>9.8</td>\n",
       "      <td>5</td>\n",
       "    </tr>\n",
       "    <tr>\n",
       "      <th>2</th>\n",
       "      <td>7.8</td>\n",
       "      <td>0.760</td>\n",
       "      <td>0.04</td>\n",
       "      <td>2.3</td>\n",
       "      <td>0.092</td>\n",
       "      <td>15.0</td>\n",
       "      <td>54.0</td>\n",
       "      <td>0.99700</td>\n",
       "      <td>3.26</td>\n",
       "      <td>0.65</td>\n",
       "      <td>9.8</td>\n",
       "      <td>5</td>\n",
       "    </tr>\n",
       "    <tr>\n",
       "      <th>3</th>\n",
       "      <td>11.2</td>\n",
       "      <td>0.280</td>\n",
       "      <td>0.56</td>\n",
       "      <td>1.9</td>\n",
       "      <td>0.075</td>\n",
       "      <td>17.0</td>\n",
       "      <td>60.0</td>\n",
       "      <td>0.99800</td>\n",
       "      <td>3.16</td>\n",
       "      <td>0.58</td>\n",
       "      <td>9.8</td>\n",
       "      <td>6</td>\n",
       "    </tr>\n",
       "    <tr>\n",
       "      <th>4</th>\n",
       "      <td>7.4</td>\n",
       "      <td>0.700</td>\n",
       "      <td>0.00</td>\n",
       "      <td>1.9</td>\n",
       "      <td>0.076</td>\n",
       "      <td>11.0</td>\n",
       "      <td>34.0</td>\n",
       "      <td>0.99780</td>\n",
       "      <td>3.51</td>\n",
       "      <td>0.56</td>\n",
       "      <td>9.4</td>\n",
       "      <td>5</td>\n",
       "    </tr>\n",
       "    <tr>\n",
       "      <th>...</th>\n",
       "      <td>...</td>\n",
       "      <td>...</td>\n",
       "      <td>...</td>\n",
       "      <td>...</td>\n",
       "      <td>...</td>\n",
       "      <td>...</td>\n",
       "      <td>...</td>\n",
       "      <td>...</td>\n",
       "      <td>...</td>\n",
       "      <td>...</td>\n",
       "      <td>...</td>\n",
       "      <td>...</td>\n",
       "    </tr>\n",
       "    <tr>\n",
       "      <th>1594</th>\n",
       "      <td>6.2</td>\n",
       "      <td>0.600</td>\n",
       "      <td>0.08</td>\n",
       "      <td>2.0</td>\n",
       "      <td>0.090</td>\n",
       "      <td>32.0</td>\n",
       "      <td>44.0</td>\n",
       "      <td>0.99490</td>\n",
       "      <td>3.45</td>\n",
       "      <td>0.58</td>\n",
       "      <td>10.5</td>\n",
       "      <td>5</td>\n",
       "    </tr>\n",
       "    <tr>\n",
       "      <th>1595</th>\n",
       "      <td>5.9</td>\n",
       "      <td>0.550</td>\n",
       "      <td>0.10</td>\n",
       "      <td>2.2</td>\n",
       "      <td>0.062</td>\n",
       "      <td>39.0</td>\n",
       "      <td>51.0</td>\n",
       "      <td>0.99512</td>\n",
       "      <td>3.52</td>\n",
       "      <td>0.76</td>\n",
       "      <td>11.2</td>\n",
       "      <td>6</td>\n",
       "    </tr>\n",
       "    <tr>\n",
       "      <th>1596</th>\n",
       "      <td>6.3</td>\n",
       "      <td>0.510</td>\n",
       "      <td>0.13</td>\n",
       "      <td>2.3</td>\n",
       "      <td>0.076</td>\n",
       "      <td>29.0</td>\n",
       "      <td>40.0</td>\n",
       "      <td>0.99574</td>\n",
       "      <td>3.42</td>\n",
       "      <td>0.75</td>\n",
       "      <td>11.0</td>\n",
       "      <td>6</td>\n",
       "    </tr>\n",
       "    <tr>\n",
       "      <th>1597</th>\n",
       "      <td>5.9</td>\n",
       "      <td>0.645</td>\n",
       "      <td>0.12</td>\n",
       "      <td>2.0</td>\n",
       "      <td>0.075</td>\n",
       "      <td>32.0</td>\n",
       "      <td>44.0</td>\n",
       "      <td>0.99547</td>\n",
       "      <td>3.57</td>\n",
       "      <td>0.71</td>\n",
       "      <td>10.2</td>\n",
       "      <td>5</td>\n",
       "    </tr>\n",
       "    <tr>\n",
       "      <th>1598</th>\n",
       "      <td>6.0</td>\n",
       "      <td>0.310</td>\n",
       "      <td>0.47</td>\n",
       "      <td>3.6</td>\n",
       "      <td>0.067</td>\n",
       "      <td>18.0</td>\n",
       "      <td>42.0</td>\n",
       "      <td>0.99549</td>\n",
       "      <td>3.39</td>\n",
       "      <td>0.66</td>\n",
       "      <td>11.0</td>\n",
       "      <td>6</td>\n",
       "    </tr>\n",
       "  </tbody>\n",
       "</table>\n",
       "<p>1451 rows × 12 columns</p>\n",
       "</div>"
      ],
      "text/plain": [
       "      fixed acidity  volatile acidity  citric acid  residual sugar  chlorides  \\\n",
       "0               7.4             0.700         0.00             1.9      0.076   \n",
       "1               7.8             0.880         0.00             2.6      0.098   \n",
       "2               7.8             0.760         0.04             2.3      0.092   \n",
       "3              11.2             0.280         0.56             1.9      0.075   \n",
       "4               7.4             0.700         0.00             1.9      0.076   \n",
       "...             ...               ...          ...             ...        ...   \n",
       "1594            6.2             0.600         0.08             2.0      0.090   \n",
       "1595            5.9             0.550         0.10             2.2      0.062   \n",
       "1596            6.3             0.510         0.13             2.3      0.076   \n",
       "1597            5.9             0.645         0.12             2.0      0.075   \n",
       "1598            6.0             0.310         0.47             3.6      0.067   \n",
       "\n",
       "      free sulfur dioxide  total sulfur dioxide  density    pH  sulphates  \\\n",
       "0                    11.0                  34.0  0.99780  3.51       0.56   \n",
       "1                    25.0                  67.0  0.99680  3.20       0.68   \n",
       "2                    15.0                  54.0  0.99700  3.26       0.65   \n",
       "3                    17.0                  60.0  0.99800  3.16       0.58   \n",
       "4                    11.0                  34.0  0.99780  3.51       0.56   \n",
       "...                   ...                   ...      ...   ...        ...   \n",
       "1594                 32.0                  44.0  0.99490  3.45       0.58   \n",
       "1595                 39.0                  51.0  0.99512  3.52       0.76   \n",
       "1596                 29.0                  40.0  0.99574  3.42       0.75   \n",
       "1597                 32.0                  44.0  0.99547  3.57       0.71   \n",
       "1598                 18.0                  42.0  0.99549  3.39       0.66   \n",
       "\n",
       "      alcohol  quality  \n",
       "0         9.4        5  \n",
       "1         9.8        5  \n",
       "2         9.8        5  \n",
       "3         9.8        6  \n",
       "4         9.4        5  \n",
       "...       ...      ...  \n",
       "1594     10.5        5  \n",
       "1595     11.2        6  \n",
       "1596     11.0        6  \n",
       "1597     10.2        5  \n",
       "1598     11.0        6  \n",
       "\n",
       "[1451 rows x 12 columns]"
      ]
     },
     "execution_count": 138,
     "metadata": {},
     "output_type": "execute_result"
    }
   ],
   "source": [
    "df1"
   ]
  },
  {
   "cell_type": "code",
   "execution_count": null,
   "id": "ae3931ba",
   "metadata": {},
   "outputs": [],
   "source": [
    "#  CHECKING & REMOVING OF SKEWNESS FROM THE DATASET"
   ]
  },
  {
   "cell_type": "code",
   "execution_count": 139,
   "id": "9ac0bb3b",
   "metadata": {},
   "outputs": [
    {
     "data": {
      "text/plain": [
       "fixed acidity           0.823934\n",
       "volatile acidity        0.380659\n",
       "citric acid             0.291297\n",
       "residual sugar          2.456107\n",
       "chlorides               2.275162\n",
       "free sulfur dioxide     0.869250\n",
       "total sulfur dioxide    1.183161\n",
       "density                 0.055738\n",
       "pH                      0.114705\n",
       "sulphates               0.891492\n",
       "alcohol                 0.758958\n",
       "quality                 0.407865\n",
       "dtype: float64"
      ]
     },
     "execution_count": 139,
     "metadata": {},
     "output_type": "execute_result"
    }
   ],
   "source": [
    "df1.skew()"
   ]
  },
  {
   "cell_type": "code",
   "execution_count": 140,
   "id": "b5ec3b3a",
   "metadata": {},
   "outputs": [],
   "source": [
    "#  here above by checking skewness we can see that the skewness of most of the columns is good , only except -\n",
    "#  \"residual sugar\", \"chlorides\" and \"total sulfur dioxide\" columns.\n",
    "#  because skewness shows the distribution of data, if the distribution is wide then it is not good for the data\n",
    "#  the ideal values of skewness is (-0.5 to +0.5) (bellshaped curve)\n",
    "# we can remove the skewness by many types like:- CUBEROOT METHOD, POWERTRANSFORM, SQUAREROOT METHOD, LOGRITHM, LOGRITHM+1 METHOD"
   ]
  },
  {
   "cell_type": "code",
   "execution_count": 141,
   "id": "dd1ed842",
   "metadata": {},
   "outputs": [],
   "source": [
    "# so here we have to remove skewness from those columns by using CUBEROOT METHOD :"
   ]
  },
  {
   "cell_type": "code",
   "execution_count": 148,
   "id": "36537c03",
   "metadata": {},
   "outputs": [
    {
     "data": {
      "text/plain": [
       "fixed acidity           0.823934\n",
       "volatile acidity        0.380659\n",
       "citric acid             0.291297\n",
       "residual sugar          1.629524\n",
       "chlorides               2.275162\n",
       "free sulfur dioxide     0.869250\n",
       "total sulfur dioxide    1.183161\n",
       "density                 0.055738\n",
       "pH                      0.114705\n",
       "sulphates               0.891492\n",
       "alcohol                 0.758958\n",
       "quality                 0.407865\n",
       "dtype: float64"
      ]
     },
     "execution_count": 148,
     "metadata": {},
     "output_type": "execute_result"
    }
   ],
   "source": [
    "df['residual sugar'] = np.cbrt (df1 ['residual sugar'])\n",
    "df1.skew()"
   ]
  },
  {
   "cell_type": "code",
   "execution_count": null,
   "id": "aeb0643b",
   "metadata": {},
   "outputs": [],
   "source": [
    "#  here we can see that the skewness of \"residual sugar\" column is decreased from 2.45 to 1.62"
   ]
  },
  {
   "cell_type": "code",
   "execution_count": 168,
   "id": "cc7b7f3a",
   "metadata": {
    "scrolled": true
   },
   "outputs": [
    {
     "data": {
      "text/plain": [
       "fixed acidity           0.823934\n",
       "volatile acidity        0.380659\n",
       "citric acid             0.291297\n",
       "residual sugar          1.629524\n",
       "chlorides               2.275162\n",
       "free sulfur dioxide     0.869250\n",
       "total sulfur dioxide    0.342621\n",
       "density                 0.055738\n",
       "pH                      0.114705\n",
       "sulphates               0.891492\n",
       "alcohol                 0.758958\n",
       "quality                 0.407865\n",
       "dtype: float64"
      ]
     },
     "execution_count": 168,
     "metadata": {},
     "output_type": "execute_result"
    }
   ],
   "source": [
    "df1['total sulfur dioxide'] = np.cbrt (df1 ['total sulfur dioxide'])\n",
    "df1.skew()"
   ]
  },
  {
   "cell_type": "code",
   "execution_count": 180,
   "id": "01c1565d",
   "metadata": {
    "scrolled": true
   },
   "outputs": [
    {
     "data": {
      "text/plain": [
       "fixed acidity           0.823934\n",
       "volatile acidity        0.380659\n",
       "citric acid             0.291297\n",
       "residual sugar          1.227116\n",
       "chlorides               0.664570\n",
       "free sulfur dioxide     0.869250\n",
       "total sulfur dioxide    0.342621\n",
       "density                 0.055738\n",
       "pH                      0.114705\n",
       "sulphates               0.891492\n",
       "alcohol                 0.758958\n",
       "quality                 0.407865\n",
       "dtype: float64"
      ]
     },
     "execution_count": 180,
     "metadata": {},
     "output_type": "execute_result"
    }
   ],
   "source": [
    "df1['chlorides'] = np.cbrt (df1 ['chlorides'])\n",
    "df1.skew()"
   ]
  },
  {
   "cell_type": "code",
   "execution_count": null,
   "id": "06b4314a",
   "metadata": {},
   "outputs": [],
   "source": [
    "#  here above we removed the skewness from \"residual sugar\", \"chloride\" & \"total sulfurdioxide\""
   ]
  },
  {
   "cell_type": "code",
   "execution_count": null,
   "id": "9d9d0403",
   "metadata": {},
   "outputs": [],
   "source": [
    "# here we can see the distribution of data in \"residual sugar\" and \"chlorides\" by using scatter plot."
   ]
  },
  {
   "cell_type": "code",
   "execution_count": 186,
   "id": "dd7b7a1e",
   "metadata": {
    "scrolled": true
   },
   "outputs": [
    {
     "data": {
      "text/plain": [
       "<AxesSubplot:xlabel='residual sugar', ylabel='Density'>"
      ]
     },
     "execution_count": 186,
     "metadata": {},
     "output_type": "execute_result"
    },
    {
     "data": {
      "image/png": "[encoded data removed]",
      "text/plain": [
       "<Figure size 640x480 with 1 Axes>"
      ]
     },
     "metadata": {},
     "output_type": "display_data"
    }
   ],
   "source": [
    "sns.distplot(df1['residual sugar'],bins=10)"
   ]
  },
  {
   "cell_type": "code",
   "execution_count": null,
   "id": "97cdf74c",
   "metadata": {},
   "outputs": [],
   "source": [
    "# now upto here above we have removed the skewness from the data."
   ]
  },
  {
   "cell_type": "code",
   "execution_count": 188,
   "id": "24289ad5",
   "metadata": {},
   "outputs": [
    {
     "data": {
      "text/html": [
       "<div>\n",
       "<style scoped>\n",
       "    .dataframe tbody tr th:only-of-type {\n",
       "        vertical-align: middle;\n",
       "    }\n",
       "\n",
       "    .dataframe tbody tr th {\n",
       "        vertical-align: top;\n",
       "    }\n",
       "\n",
       "    .dataframe thead th {\n",
       "        text-align: right;\n",
       "    }\n",
       "</style>\n",
       "<table border=\"1\" class=\"dataframe\">\n",
       "  <thead>\n",
       "    <tr style=\"text-align: right;\">\n",
       "      <th></th>\n",
       "      <th>fixed acidity</th>\n",
       "      <th>volatile acidity</th>\n",
       "      <th>citric acid</th>\n",
       "      <th>residual sugar</th>\n",
       "      <th>chlorides</th>\n",
       "      <th>free sulfur dioxide</th>\n",
       "      <th>total sulfur dioxide</th>\n",
       "      <th>density</th>\n",
       "      <th>pH</th>\n",
       "      <th>sulphates</th>\n",
       "      <th>alcohol</th>\n",
       "      <th>quality</th>\n",
       "    </tr>\n",
       "  </thead>\n",
       "  <tbody>\n",
       "    <tr>\n",
       "      <th>0</th>\n",
       "      <td>7.4</td>\n",
       "      <td>0.700</td>\n",
       "      <td>0.00</td>\n",
       "      <td>1.000004</td>\n",
       "      <td>0.908968</td>\n",
       "      <td>11.0</td>\n",
       "      <td>3.239612</td>\n",
       "      <td>0.99780</td>\n",
       "      <td>3.51</td>\n",
       "      <td>0.56</td>\n",
       "      <td>9.4</td>\n",
       "      <td>5</td>\n",
       "    </tr>\n",
       "    <tr>\n",
       "      <th>1</th>\n",
       "      <td>7.8</td>\n",
       "      <td>0.880</td>\n",
       "      <td>0.00</td>\n",
       "      <td>1.000005</td>\n",
       "      <td>0.917567</td>\n",
       "      <td>25.0</td>\n",
       "      <td>4.061548</td>\n",
       "      <td>0.99680</td>\n",
       "      <td>3.20</td>\n",
       "      <td>0.68</td>\n",
       "      <td>9.8</td>\n",
       "      <td>5</td>\n",
       "    </tr>\n",
       "    <tr>\n",
       "      <th>2</th>\n",
       "      <td>7.8</td>\n",
       "      <td>0.760</td>\n",
       "      <td>0.04</td>\n",
       "      <td>1.000005</td>\n",
       "      <td>0.915423</td>\n",
       "      <td>15.0</td>\n",
       "      <td>3.779763</td>\n",
       "      <td>0.99700</td>\n",
       "      <td>3.26</td>\n",
       "      <td>0.65</td>\n",
       "      <td>9.8</td>\n",
       "      <td>5</td>\n",
       "    </tr>\n",
       "    <tr>\n",
       "      <th>3</th>\n",
       "      <td>11.2</td>\n",
       "      <td>0.280</td>\n",
       "      <td>0.56</td>\n",
       "      <td>1.000004</td>\n",
       "      <td>0.908522</td>\n",
       "      <td>17.0</td>\n",
       "      <td>3.914868</td>\n",
       "      <td>0.99800</td>\n",
       "      <td>3.16</td>\n",
       "      <td>0.58</td>\n",
       "      <td>9.8</td>\n",
       "      <td>6</td>\n",
       "    </tr>\n",
       "    <tr>\n",
       "      <th>4</th>\n",
       "      <td>7.4</td>\n",
       "      <td>0.700</td>\n",
       "      <td>0.00</td>\n",
       "      <td>1.000004</td>\n",
       "      <td>0.908968</td>\n",
       "      <td>11.0</td>\n",
       "      <td>3.239612</td>\n",
       "      <td>0.99780</td>\n",
       "      <td>3.51</td>\n",
       "      <td>0.56</td>\n",
       "      <td>9.4</td>\n",
       "      <td>5</td>\n",
       "    </tr>\n",
       "    <tr>\n",
       "      <th>...</th>\n",
       "      <td>...</td>\n",
       "      <td>...</td>\n",
       "      <td>...</td>\n",
       "      <td>...</td>\n",
       "      <td>...</td>\n",
       "      <td>...</td>\n",
       "      <td>...</td>\n",
       "      <td>...</td>\n",
       "      <td>...</td>\n",
       "      <td>...</td>\n",
       "      <td>...</td>\n",
       "      <td>...</td>\n",
       "    </tr>\n",
       "    <tr>\n",
       "      <th>1594</th>\n",
       "      <td>6.2</td>\n",
       "      <td>0.600</td>\n",
       "      <td>0.08</td>\n",
       "      <td>1.000004</td>\n",
       "      <td>0.914678</td>\n",
       "      <td>32.0</td>\n",
       "      <td>3.530348</td>\n",
       "      <td>0.99490</td>\n",
       "      <td>3.45</td>\n",
       "      <td>0.58</td>\n",
       "      <td>10.5</td>\n",
       "      <td>5</td>\n",
       "    </tr>\n",
       "    <tr>\n",
       "      <th>1595</th>\n",
       "      <td>5.9</td>\n",
       "      <td>0.550</td>\n",
       "      <td>0.10</td>\n",
       "      <td>1.000004</td>\n",
       "      <td>0.902140</td>\n",
       "      <td>39.0</td>\n",
       "      <td>3.708430</td>\n",
       "      <td>0.99512</td>\n",
       "      <td>3.52</td>\n",
       "      <td>0.76</td>\n",
       "      <td>11.2</td>\n",
       "      <td>6</td>\n",
       "    </tr>\n",
       "    <tr>\n",
       "      <th>1596</th>\n",
       "      <td>6.3</td>\n",
       "      <td>0.510</td>\n",
       "      <td>0.13</td>\n",
       "      <td>1.000005</td>\n",
       "      <td>0.908968</td>\n",
       "      <td>29.0</td>\n",
       "      <td>3.419952</td>\n",
       "      <td>0.99574</td>\n",
       "      <td>3.42</td>\n",
       "      <td>0.75</td>\n",
       "      <td>11.0</td>\n",
       "      <td>6</td>\n",
       "    </tr>\n",
       "    <tr>\n",
       "      <th>1597</th>\n",
       "      <td>5.9</td>\n",
       "      <td>0.645</td>\n",
       "      <td>0.12</td>\n",
       "      <td>1.000004</td>\n",
       "      <td>0.908522</td>\n",
       "      <td>32.0</td>\n",
       "      <td>3.530348</td>\n",
       "      <td>0.99547</td>\n",
       "      <td>3.57</td>\n",
       "      <td>0.71</td>\n",
       "      <td>10.2</td>\n",
       "      <td>5</td>\n",
       "    </tr>\n",
       "    <tr>\n",
       "      <th>1598</th>\n",
       "      <td>6.0</td>\n",
       "      <td>0.310</td>\n",
       "      <td>0.47</td>\n",
       "      <td>1.000007</td>\n",
       "      <td>0.904735</td>\n",
       "      <td>18.0</td>\n",
       "      <td>3.476027</td>\n",
       "      <td>0.99549</td>\n",
       "      <td>3.39</td>\n",
       "      <td>0.66</td>\n",
       "      <td>11.0</td>\n",
       "      <td>6</td>\n",
       "    </tr>\n",
       "  </tbody>\n",
       "</table>\n",
       "<p>1451 rows × 12 columns</p>\n",
       "</div>"
      ],
      "text/plain": [
       "      fixed acidity  volatile acidity  citric acid  residual sugar  chlorides  \\\n",
       "0               7.4             0.700         0.00        1.000004   0.908968   \n",
       "1               7.8             0.880         0.00        1.000005   0.917567   \n",
       "2               7.8             0.760         0.04        1.000005   0.915423   \n",
       "3              11.2             0.280         0.56        1.000004   0.908522   \n",
       "4               7.4             0.700         0.00        1.000004   0.908968   \n",
       "...             ...               ...          ...             ...        ...   \n",
       "1594            6.2             0.600         0.08        1.000004   0.914678   \n",
       "1595            5.9             0.550         0.10        1.000004   0.902140   \n",
       "1596            6.3             0.510         0.13        1.000005   0.908968   \n",
       "1597            5.9             0.645         0.12        1.000004   0.908522   \n",
       "1598            6.0             0.310         0.47        1.000007   0.904735   \n",
       "\n",
       "      free sulfur dioxide  total sulfur dioxide  density    pH  sulphates  \\\n",
       "0                    11.0              3.239612  0.99780  3.51       0.56   \n",
       "1                    25.0              4.061548  0.99680  3.20       0.68   \n",
       "2                    15.0              3.779763  0.99700  3.26       0.65   \n",
       "3                    17.0              3.914868  0.99800  3.16       0.58   \n",
       "4                    11.0              3.239612  0.99780  3.51       0.56   \n",
       "...                   ...                   ...      ...   ...        ...   \n",
       "1594                 32.0              3.530348  0.99490  3.45       0.58   \n",
       "1595                 39.0              3.708430  0.99512  3.52       0.76   \n",
       "1596                 29.0              3.419952  0.99574  3.42       0.75   \n",
       "1597                 32.0              3.530348  0.99547  3.57       0.71   \n",
       "1598                 18.0              3.476027  0.99549  3.39       0.66   \n",
       "\n",
       "      alcohol  quality  \n",
       "0         9.4        5  \n",
       "1         9.8        5  \n",
       "2         9.8        5  \n",
       "3         9.8        6  \n",
       "4         9.4        5  \n",
       "...       ...      ...  \n",
       "1594     10.5        5  \n",
       "1595     11.2        6  \n",
       "1596     11.0        6  \n",
       "1597     10.2        5  \n",
       "1598     11.0        6  \n",
       "\n",
       "[1451 rows x 12 columns]"
      ]
     },
     "execution_count": 188,
     "metadata": {},
     "output_type": "execute_result"
    }
   ],
   "source": [
    "df1"
   ]
  },
  {
   "cell_type": "code",
   "execution_count": 202,
   "id": "e2a7cba1",
   "metadata": {},
   "outputs": [],
   "source": [
    "# Finding MULTICOLLINEARITY between the columns"
   ]
  },
  {
   "cell_type": "code",
   "execution_count": null,
   "id": "e23c6d91",
   "metadata": {},
   "outputs": [],
   "source": [
    "#  SPLITTING OF DATA"
   ]
  },
  {
   "cell_type": "code",
   "execution_count": 213,
   "id": "5d8e44bc",
   "metadata": {},
   "outputs": [],
   "source": [
    "x1 = df1.iloc[:,:-1]"
   ]
  },
  {
   "cell_type": "code",
   "execution_count": 214,
   "id": "53e6a9b9",
   "metadata": {
    "scrolled": false
   },
   "outputs": [
    {
     "data": {
      "text/plain": [
       "(1451, 11)"
      ]
     },
     "execution_count": 214,
     "metadata": {},
     "output_type": "execute_result"
    }
   ],
   "source": [
    "x1.shape"
   ]
  },
  {
   "cell_type": "code",
   "execution_count": 215,
   "id": "70435aed",
   "metadata": {},
   "outputs": [
    {
     "data": {
      "text/plain": [
       "(1451,)"
      ]
     },
     "execution_count": 215,
     "metadata": {},
     "output_type": "execute_result"
    }
   ],
   "source": [
    "y1= df1.iloc[:,-1]\n",
    "y1.shape"
   ]
  },
  {
   "cell_type": "code",
   "execution_count": null,
   "id": "9fe5c781",
   "metadata": {},
   "outputs": [],
   "source": [
    "# here above we are splitting the data in 'x' & 'y'\n",
    "#  where 'x' is the fetures & 'y' is our target column."
   ]
  },
  {
   "cell_type": "code",
   "execution_count": null,
   "id": "516c8d52",
   "metadata": {},
   "outputs": [],
   "source": [
    "# to find the multicollinearity between the features  and remove it we can use VIF (VARIANCE INFLATION FACTOR)\n",
    "# we can not aplly VIF on the TARGET COLUMN\n",
    "# for apllyin VIF we have to import some libraries as follows"
   ]
  },
  {
   "cell_type": "code",
   "execution_count": 206,
   "id": "5f023734",
   "metadata": {},
   "outputs": [],
   "source": [
    "import statsmodels.api as sm\n",
    "from scipy import stats\n",
    "from statsmodels .stats.outliers_influence import variance_inflation_factor"
   ]
  },
  {
   "cell_type": "code",
   "execution_count": 227,
   "id": "3431e1ba",
   "metadata": {},
   "outputs": [],
   "source": [
    "# here we are making \"def function\" for calculating VIF\n",
    "def calc_vif(x1):\n",
    "    vif = pd.DataFrame()\n",
    "    vif[\"FETURES\"] = x1.columns\n",
    "    vif[\"VIF FACTOR\"] = [variance_inflation_factor(x1.values,i) for i in range (x1.shape[1])]\n",
    "    return (vif)"
   ]
  },
  {
   "cell_type": "code",
   "execution_count": 228,
   "id": "ee5b9009",
   "metadata": {},
   "outputs": [
    {
     "data": {
      "text/plain": [
       "(1451, 11)"
      ]
     },
     "execution_count": 228,
     "metadata": {},
     "output_type": "execute_result"
    }
   ],
   "source": [
    "x1.shape"
   ]
  },
  {
   "cell_type": "code",
   "execution_count": 229,
   "id": "738bf848",
   "metadata": {
    "scrolled": true
   },
   "outputs": [
    {
     "data": {
      "text/html": [
       "<div>\n",
       "<style scoped>\n",
       "    .dataframe tbody tr th:only-of-type {\n",
       "        vertical-align: middle;\n",
       "    }\n",
       "\n",
       "    .dataframe tbody tr th {\n",
       "        vertical-align: top;\n",
       "    }\n",
       "\n",
       "    .dataframe thead th {\n",
       "        text-align: right;\n",
       "    }\n",
       "</style>\n",
       "<table border=\"1\" class=\"dataframe\">\n",
       "  <thead>\n",
       "    <tr style=\"text-align: right;\">\n",
       "      <th></th>\n",
       "      <th>FETURES</th>\n",
       "      <th>VIF FACTOR</th>\n",
       "    </tr>\n",
       "  </thead>\n",
       "  <tbody>\n",
       "    <tr>\n",
       "      <th>0</th>\n",
       "      <td>fixed acidity</td>\n",
       "      <td>1.816938e+02</td>\n",
       "    </tr>\n",
       "    <tr>\n",
       "      <th>1</th>\n",
       "      <td>volatile acidity</td>\n",
       "      <td>1.957835e+01</td>\n",
       "    </tr>\n",
       "    <tr>\n",
       "      <th>2</th>\n",
       "      <td>citric acid</td>\n",
       "      <td>9.152273e+00</td>\n",
       "    </tr>\n",
       "    <tr>\n",
       "      <th>3</th>\n",
       "      <td>residual sugar</td>\n",
       "      <td>1.435171e+06</td>\n",
       "    </tr>\n",
       "    <tr>\n",
       "      <th>4</th>\n",
       "      <td>chlorides</td>\n",
       "      <td>1.698077e+04</td>\n",
       "    </tr>\n",
       "    <tr>\n",
       "      <th>5</th>\n",
       "      <td>free sulfur dioxide</td>\n",
       "      <td>8.075290e+00</td>\n",
       "    </tr>\n",
       "    <tr>\n",
       "      <th>6</th>\n",
       "      <td>total sulfur dioxide</td>\n",
       "      <td>5.141863e+01</td>\n",
       "    </tr>\n",
       "    <tr>\n",
       "      <th>7</th>\n",
       "      <td>density</td>\n",
       "      <td>1.563874e+06</td>\n",
       "    </tr>\n",
       "    <tr>\n",
       "      <th>8</th>\n",
       "      <td>pH</td>\n",
       "      <td>1.645206e+03</td>\n",
       "    </tr>\n",
       "    <tr>\n",
       "      <th>9</th>\n",
       "      <td>sulphates</td>\n",
       "      <td>3.293070e+01</td>\n",
       "    </tr>\n",
       "    <tr>\n",
       "      <th>10</th>\n",
       "      <td>alcohol</td>\n",
       "      <td>2.432639e+02</td>\n",
       "    </tr>\n",
       "  </tbody>\n",
       "</table>\n",
       "</div>"
      ],
      "text/plain": [
       "                 FETURES    VIF FACTOR\n",
       "0          fixed acidity  1.816938e+02\n",
       "1       volatile acidity  1.957835e+01\n",
       "2            citric acid  9.152273e+00\n",
       "3         residual sugar  1.435171e+06\n",
       "4              chlorides  1.698077e+04\n",
       "5    free sulfur dioxide  8.075290e+00\n",
       "6   total sulfur dioxide  5.141863e+01\n",
       "7                density  1.563874e+06\n",
       "8                     pH  1.645206e+03\n",
       "9              sulphates  3.293070e+01\n",
       "10               alcohol  2.432639e+02"
      ]
     },
     "execution_count": 229,
     "metadata": {},
     "output_type": "execute_result"
    }
   ],
   "source": [
    "calc_vif(x1)"
   ]
  },
  {
   "cell_type": "code",
   "execution_count": null,
   "id": "2eba19a8",
   "metadata": {},
   "outputs": [],
   "source": [
    "# here above we can see that the VIF calue of \"free sulfur dioxide\" \"total sulfurdioxide\" & \"citric acid\" is HIGH.\n",
    "# so we have to drop the column with highest VIF but befor we have to check the correlation of that column with the target column.\n",
    "#  by using heatmap"
   ]
  },
  {
   "cell_type": "code",
   "execution_count": 230,
   "id": "31f7fd9a",
   "metadata": {},
   "outputs": [
    {
     "data": {
      "text/plain": [
       "<AxesSubplot:>"
      ]
     },
     "execution_count": 230,
     "metadata": {},
     "output_type": "execute_result"
    },
    {
     "data": {
      "image/png": "[encoded data removed]",
      "text/plain": [
       "<Figure size 800x600 with 2 Axes>"
      ]
     },
     "metadata": {},
     "output_type": "display_data"
    }
   ],
   "source": [
    "plt.figure(figsize=(8,6))\n",
    "sns.heatmap(dfcor,annot=True,cmap=\"Blues_r\")"
   ]
  },
  {
   "cell_type": "code",
   "execution_count": null,
   "id": "51d67fa4",
   "metadata": {},
   "outputs": [],
   "source": [
    "# here above in the heatmap we can find that the correlation of \"free sulfurdioxide\" with Target column is only = 0.051\n",
    "#  as compared to other HIGLY VIF value columnsit is very low, so we can drop it."
   ]
  },
  {
   "cell_type": "code",
   "execution_count": null,
   "id": "0c239b8d",
   "metadata": {},
   "outputs": [],
   "source": [
    "x1 = df1.drop([\"free sulfur dioxide\"], axis=1, inplace = True)\n",
    "# here above we droped the column \"free sulfur dioxide\""
   ]
  },
  {
   "cell_type": "code",
   "execution_count": 236,
   "id": "1f25c1eb",
   "metadata": {},
   "outputs": [
    {
     "data": {
      "text/plain": [
       "Index(['fixed acidity', 'volatile acidity', 'citric acid', 'residual sugar',\n",
       "       'chlorides', 'total sulfur dioxide', 'density', 'pH', 'sulphates',\n",
       "       'alcohol', 'quality'],\n",
       "      dtype='object')"
      ]
     },
     "execution_count": 236,
     "metadata": {},
     "output_type": "execute_result"
    }
   ],
   "source": [
    "df1.columns"
   ]
  },
  {
   "cell_type": "code",
   "execution_count": null,
   "id": "0d5e8116",
   "metadata": {},
   "outputs": [],
   "source": [
    "# here we can see that the \"free sulfur dioxide\" column is removed fromt he list."
   ]
  },
  {
   "cell_type": "code",
   "execution_count": 246,
   "id": "73b7144f",
   "metadata": {},
   "outputs": [
    {
     "data": {
      "text/plain": [
       "(1451, 9)"
      ]
     },
     "execution_count": 246,
     "metadata": {},
     "output_type": "execute_result"
    }
   ],
   "source": [
    "x2 = df1.iloc[:,:-1]\n",
    "x2.shape"
   ]
  },
  {
   "cell_type": "code",
   "execution_count": 239,
   "id": "2ab85e76",
   "metadata": {},
   "outputs": [
    {
     "data": {
      "text/html": [
       "<div>\n",
       "<style scoped>\n",
       "    .dataframe tbody tr th:only-of-type {\n",
       "        vertical-align: middle;\n",
       "    }\n",
       "\n",
       "    .dataframe tbody tr th {\n",
       "        vertical-align: top;\n",
       "    }\n",
       "\n",
       "    .dataframe thead th {\n",
       "        text-align: right;\n",
       "    }\n",
       "</style>\n",
       "<table border=\"1\" class=\"dataframe\">\n",
       "  <thead>\n",
       "    <tr style=\"text-align: right;\">\n",
       "      <th></th>\n",
       "      <th>FETURES</th>\n",
       "      <th>VIF FACTOR</th>\n",
       "    </tr>\n",
       "  </thead>\n",
       "  <tbody>\n",
       "    <tr>\n",
       "      <th>0</th>\n",
       "      <td>fixed acidity</td>\n",
       "      <td>1.792890e+02</td>\n",
       "    </tr>\n",
       "    <tr>\n",
       "      <th>1</th>\n",
       "      <td>volatile acidity</td>\n",
       "      <td>1.930398e+01</td>\n",
       "    </tr>\n",
       "    <tr>\n",
       "      <th>2</th>\n",
       "      <td>citric acid</td>\n",
       "      <td>8.992555e+00</td>\n",
       "    </tr>\n",
       "    <tr>\n",
       "      <th>3</th>\n",
       "      <td>residual sugar</td>\n",
       "      <td>1.414287e+06</td>\n",
       "    </tr>\n",
       "    <tr>\n",
       "      <th>4</th>\n",
       "      <td>chlorides</td>\n",
       "      <td>1.697509e+04</td>\n",
       "    </tr>\n",
       "    <tr>\n",
       "      <th>5</th>\n",
       "      <td>total sulfur dioxide</td>\n",
       "      <td>2.420939e+01</td>\n",
       "    </tr>\n",
       "    <tr>\n",
       "      <th>6</th>\n",
       "      <td>density</td>\n",
       "      <td>1.541220e+06</td>\n",
       "    </tr>\n",
       "    <tr>\n",
       "      <th>7</th>\n",
       "      <td>pH</td>\n",
       "      <td>1.626710e+03</td>\n",
       "    </tr>\n",
       "    <tr>\n",
       "      <th>8</th>\n",
       "      <td>sulphates</td>\n",
       "      <td>3.272154e+01</td>\n",
       "    </tr>\n",
       "    <tr>\n",
       "      <th>9</th>\n",
       "      <td>alcohol</td>\n",
       "      <td>2.431894e+02</td>\n",
       "    </tr>\n",
       "  </tbody>\n",
       "</table>\n",
       "</div>"
      ],
      "text/plain": [
       "                FETURES    VIF FACTOR\n",
       "0         fixed acidity  1.792890e+02\n",
       "1      volatile acidity  1.930398e+01\n",
       "2           citric acid  8.992555e+00\n",
       "3        residual sugar  1.414287e+06\n",
       "4             chlorides  1.697509e+04\n",
       "5  total sulfur dioxide  2.420939e+01\n",
       "6               density  1.541220e+06\n",
       "7                    pH  1.626710e+03\n",
       "8             sulphates  3.272154e+01\n",
       "9               alcohol  2.431894e+02"
      ]
     },
     "execution_count": 239,
     "metadata": {},
     "output_type": "execute_result"
    }
   ],
   "source": [
    "calc_vif(x2)"
   ]
  },
  {
   "cell_type": "code",
   "execution_count": 242,
   "id": "43277717",
   "metadata": {},
   "outputs": [],
   "source": [
    "x1 = df1.drop([\"citric acid\"], axis=1, inplace = True)"
   ]
  },
  {
   "cell_type": "code",
   "execution_count": 244,
   "id": "56852402",
   "metadata": {},
   "outputs": [
    {
     "data": {
      "text/plain": [
       "Index(['fixed acidity', 'volatile acidity', 'residual sugar', 'chlorides',\n",
       "       'total sulfur dioxide', 'density', 'pH', 'sulphates', 'alcohol',\n",
       "       'quality'],\n",
       "      dtype='object')"
      ]
     },
     "execution_count": 244,
     "metadata": {},
     "output_type": "execute_result"
    }
   ],
   "source": [
    "df1.columns"
   ]
  },
  {
   "cell_type": "code",
   "execution_count": 245,
   "id": "48475658",
   "metadata": {},
   "outputs": [
    {
     "data": {
      "text/plain": [
       "(1451, 10)"
      ]
     },
     "execution_count": 245,
     "metadata": {},
     "output_type": "execute_result"
    }
   ],
   "source": [
    "df1.shape"
   ]
  },
  {
   "cell_type": "code",
   "execution_count": null,
   "id": "1b0d335c",
   "metadata": {},
   "outputs": [],
   "source": [
    "# here above we dropped two columns with high VIF VALUES"
   ]
  },
  {
   "cell_type": "code",
   "execution_count": 247,
   "id": "415f0f9b",
   "metadata": {},
   "outputs": [
    {
     "data": {
      "text/html": [
       "<div>\n",
       "<style scoped>\n",
       "    .dataframe tbody tr th:only-of-type {\n",
       "        vertical-align: middle;\n",
       "    }\n",
       "\n",
       "    .dataframe tbody tr th {\n",
       "        vertical-align: top;\n",
       "    }\n",
       "\n",
       "    .dataframe thead th {\n",
       "        text-align: right;\n",
       "    }\n",
       "</style>\n",
       "<table border=\"1\" class=\"dataframe\">\n",
       "  <thead>\n",
       "    <tr style=\"text-align: right;\">\n",
       "      <th></th>\n",
       "      <th>FETURES</th>\n",
       "      <th>VIF FACTOR</th>\n",
       "    </tr>\n",
       "  </thead>\n",
       "  <tbody>\n",
       "    <tr>\n",
       "      <th>0</th>\n",
       "      <td>fixed acidity</td>\n",
       "      <td>1.619552e+02</td>\n",
       "    </tr>\n",
       "    <tr>\n",
       "      <th>1</th>\n",
       "      <td>volatile acidity</td>\n",
       "      <td>1.406346e+01</td>\n",
       "    </tr>\n",
       "    <tr>\n",
       "      <th>2</th>\n",
       "      <td>residual sugar</td>\n",
       "      <td>1.403532e+06</td>\n",
       "    </tr>\n",
       "    <tr>\n",
       "      <th>3</th>\n",
       "      <td>chlorides</td>\n",
       "      <td>1.696158e+04</td>\n",
       "    </tr>\n",
       "    <tr>\n",
       "      <th>4</th>\n",
       "      <td>total sulfur dioxide</td>\n",
       "      <td>2.345388e+01</td>\n",
       "    </tr>\n",
       "    <tr>\n",
       "      <th>5</th>\n",
       "      <td>density</td>\n",
       "      <td>1.531234e+06</td>\n",
       "    </tr>\n",
       "    <tr>\n",
       "      <th>6</th>\n",
       "      <td>pH</td>\n",
       "      <td>1.614316e+03</td>\n",
       "    </tr>\n",
       "    <tr>\n",
       "      <th>7</th>\n",
       "      <td>sulphates</td>\n",
       "      <td>3.270769e+01</td>\n",
       "    </tr>\n",
       "    <tr>\n",
       "      <th>8</th>\n",
       "      <td>alcohol</td>\n",
       "      <td>2.329306e+02</td>\n",
       "    </tr>\n",
       "  </tbody>\n",
       "</table>\n",
       "</div>"
      ],
      "text/plain": [
       "                FETURES    VIF FACTOR\n",
       "0         fixed acidity  1.619552e+02\n",
       "1      volatile acidity  1.406346e+01\n",
       "2        residual sugar  1.403532e+06\n",
       "3             chlorides  1.696158e+04\n",
       "4  total sulfur dioxide  2.345388e+01\n",
       "5               density  1.531234e+06\n",
       "6                    pH  1.614316e+03\n",
       "7             sulphates  3.270769e+01\n",
       "8               alcohol  2.329306e+02"
      ]
     },
     "execution_count": 247,
     "metadata": {},
     "output_type": "execute_result"
    }
   ],
   "source": [
    "calc_vif(x2)"
   ]
  },
  {
   "cell_type": "code",
   "execution_count": null,
   "id": "b20ab8ff",
   "metadata": {},
   "outputs": [],
   "source": [
    "#  now we can see that the VIF VALUES of all columns are in similar form\n"
   ]
  },
  {
   "cell_type": "code",
   "execution_count": 248,
   "id": "6b5296f4",
   "metadata": {},
   "outputs": [
    {
     "data": {
      "text/html": [
       "<div>\n",
       "<style scoped>\n",
       "    .dataframe tbody tr th:only-of-type {\n",
       "        vertical-align: middle;\n",
       "    }\n",
       "\n",
       "    .dataframe tbody tr th {\n",
       "        vertical-align: top;\n",
       "    }\n",
       "\n",
       "    .dataframe thead th {\n",
       "        text-align: right;\n",
       "    }\n",
       "</style>\n",
       "<table border=\"1\" class=\"dataframe\">\n",
       "  <thead>\n",
       "    <tr style=\"text-align: right;\">\n",
       "      <th></th>\n",
       "      <th>fixed acidity</th>\n",
       "      <th>volatile acidity</th>\n",
       "      <th>residual sugar</th>\n",
       "      <th>chlorides</th>\n",
       "      <th>total sulfur dioxide</th>\n",
       "      <th>density</th>\n",
       "      <th>pH</th>\n",
       "      <th>sulphates</th>\n",
       "      <th>alcohol</th>\n",
       "      <th>quality</th>\n",
       "    </tr>\n",
       "  </thead>\n",
       "  <tbody>\n",
       "    <tr>\n",
       "      <th>0</th>\n",
       "      <td>7.4</td>\n",
       "      <td>0.700</td>\n",
       "      <td>1.000004</td>\n",
       "      <td>0.908968</td>\n",
       "      <td>3.239612</td>\n",
       "      <td>0.99780</td>\n",
       "      <td>3.51</td>\n",
       "      <td>0.56</td>\n",
       "      <td>9.4</td>\n",
       "      <td>5</td>\n",
       "    </tr>\n",
       "    <tr>\n",
       "      <th>1</th>\n",
       "      <td>7.8</td>\n",
       "      <td>0.880</td>\n",
       "      <td>1.000005</td>\n",
       "      <td>0.917567</td>\n",
       "      <td>4.061548</td>\n",
       "      <td>0.99680</td>\n",
       "      <td>3.20</td>\n",
       "      <td>0.68</td>\n",
       "      <td>9.8</td>\n",
       "      <td>5</td>\n",
       "    </tr>\n",
       "    <tr>\n",
       "      <th>2</th>\n",
       "      <td>7.8</td>\n",
       "      <td>0.760</td>\n",
       "      <td>1.000005</td>\n",
       "      <td>0.915423</td>\n",
       "      <td>3.779763</td>\n",
       "      <td>0.99700</td>\n",
       "      <td>3.26</td>\n",
       "      <td>0.65</td>\n",
       "      <td>9.8</td>\n",
       "      <td>5</td>\n",
       "    </tr>\n",
       "    <tr>\n",
       "      <th>3</th>\n",
       "      <td>11.2</td>\n",
       "      <td>0.280</td>\n",
       "      <td>1.000004</td>\n",
       "      <td>0.908522</td>\n",
       "      <td>3.914868</td>\n",
       "      <td>0.99800</td>\n",
       "      <td>3.16</td>\n",
       "      <td>0.58</td>\n",
       "      <td>9.8</td>\n",
       "      <td>6</td>\n",
       "    </tr>\n",
       "    <tr>\n",
       "      <th>4</th>\n",
       "      <td>7.4</td>\n",
       "      <td>0.700</td>\n",
       "      <td>1.000004</td>\n",
       "      <td>0.908968</td>\n",
       "      <td>3.239612</td>\n",
       "      <td>0.99780</td>\n",
       "      <td>3.51</td>\n",
       "      <td>0.56</td>\n",
       "      <td>9.4</td>\n",
       "      <td>5</td>\n",
       "    </tr>\n",
       "    <tr>\n",
       "      <th>...</th>\n",
       "      <td>...</td>\n",
       "      <td>...</td>\n",
       "      <td>...</td>\n",
       "      <td>...</td>\n",
       "      <td>...</td>\n",
       "      <td>...</td>\n",
       "      <td>...</td>\n",
       "      <td>...</td>\n",
       "      <td>...</td>\n",
       "      <td>...</td>\n",
       "    </tr>\n",
       "    <tr>\n",
       "      <th>1594</th>\n",
       "      <td>6.2</td>\n",
       "      <td>0.600</td>\n",
       "      <td>1.000004</td>\n",
       "      <td>0.914678</td>\n",
       "      <td>3.530348</td>\n",
       "      <td>0.99490</td>\n",
       "      <td>3.45</td>\n",
       "      <td>0.58</td>\n",
       "      <td>10.5</td>\n",
       "      <td>5</td>\n",
       "    </tr>\n",
       "    <tr>\n",
       "      <th>1595</th>\n",
       "      <td>5.9</td>\n",
       "      <td>0.550</td>\n",
       "      <td>1.000004</td>\n",
       "      <td>0.902140</td>\n",
       "      <td>3.708430</td>\n",
       "      <td>0.99512</td>\n",
       "      <td>3.52</td>\n",
       "      <td>0.76</td>\n",
       "      <td>11.2</td>\n",
       "      <td>6</td>\n",
       "    </tr>\n",
       "    <tr>\n",
       "      <th>1596</th>\n",
       "      <td>6.3</td>\n",
       "      <td>0.510</td>\n",
       "      <td>1.000005</td>\n",
       "      <td>0.908968</td>\n",
       "      <td>3.419952</td>\n",
       "      <td>0.99574</td>\n",
       "      <td>3.42</td>\n",
       "      <td>0.75</td>\n",
       "      <td>11.0</td>\n",
       "      <td>6</td>\n",
       "    </tr>\n",
       "    <tr>\n",
       "      <th>1597</th>\n",
       "      <td>5.9</td>\n",
       "      <td>0.645</td>\n",
       "      <td>1.000004</td>\n",
       "      <td>0.908522</td>\n",
       "      <td>3.530348</td>\n",
       "      <td>0.99547</td>\n",
       "      <td>3.57</td>\n",
       "      <td>0.71</td>\n",
       "      <td>10.2</td>\n",
       "      <td>5</td>\n",
       "    </tr>\n",
       "    <tr>\n",
       "      <th>1598</th>\n",
       "      <td>6.0</td>\n",
       "      <td>0.310</td>\n",
       "      <td>1.000007</td>\n",
       "      <td>0.904735</td>\n",
       "      <td>3.476027</td>\n",
       "      <td>0.99549</td>\n",
       "      <td>3.39</td>\n",
       "      <td>0.66</td>\n",
       "      <td>11.0</td>\n",
       "      <td>6</td>\n",
       "    </tr>\n",
       "  </tbody>\n",
       "</table>\n",
       "<p>1451 rows × 10 columns</p>\n",
       "</div>"
      ],
      "text/plain": [
       "      fixed acidity  volatile acidity  residual sugar  chlorides  \\\n",
       "0               7.4             0.700        1.000004   0.908968   \n",
       "1               7.8             0.880        1.000005   0.917567   \n",
       "2               7.8             0.760        1.000005   0.915423   \n",
       "3              11.2             0.280        1.000004   0.908522   \n",
       "4               7.4             0.700        1.000004   0.908968   \n",
       "...             ...               ...             ...        ...   \n",
       "1594            6.2             0.600        1.000004   0.914678   \n",
       "1595            5.9             0.550        1.000004   0.902140   \n",
       "1596            6.3             0.510        1.000005   0.908968   \n",
       "1597            5.9             0.645        1.000004   0.908522   \n",
       "1598            6.0             0.310        1.000007   0.904735   \n",
       "\n",
       "      total sulfur dioxide  density    pH  sulphates  alcohol  quality  \n",
       "0                 3.239612  0.99780  3.51       0.56      9.4        5  \n",
       "1                 4.061548  0.99680  3.20       0.68      9.8        5  \n",
       "2                 3.779763  0.99700  3.26       0.65      9.8        5  \n",
       "3                 3.914868  0.99800  3.16       0.58      9.8        6  \n",
       "4                 3.239612  0.99780  3.51       0.56      9.4        5  \n",
       "...                    ...      ...   ...        ...      ...      ...  \n",
       "1594              3.530348  0.99490  3.45       0.58     10.5        5  \n",
       "1595              3.708430  0.99512  3.52       0.76     11.2        6  \n",
       "1596              3.419952  0.99574  3.42       0.75     11.0        6  \n",
       "1597              3.530348  0.99547  3.57       0.71     10.2        5  \n",
       "1598              3.476027  0.99549  3.39       0.66     11.0        6  \n",
       "\n",
       "[1451 rows x 10 columns]"
      ]
     },
     "execution_count": 248,
     "metadata": {},
     "output_type": "execute_result"
    }
   ],
   "source": [
    "df1"
   ]
  },
  {
   "cell_type": "code",
   "execution_count": 249,
   "id": "3d54c34b",
   "metadata": {},
   "outputs": [
    {
     "data": {
      "text/plain": [
       "(1451, 9)"
      ]
     },
     "execution_count": 249,
     "metadata": {},
     "output_type": "execute_result"
    }
   ],
   "source": [
    "x2.shape"
   ]
  },
  {
   "cell_type": "code",
   "execution_count": 250,
   "id": "664cf116",
   "metadata": {},
   "outputs": [
    {
     "data": {
      "text/plain": [
       "(1451,)"
      ]
     },
     "execution_count": 250,
     "metadata": {},
     "output_type": "execute_result"
    }
   ],
   "source": [
    "y2 = df1.iloc[:,-1]\n",
    "y2.shape"
   ]
  },
  {
   "cell_type": "code",
   "execution_count": null,
   "id": "d1aa9d7e",
   "metadata": {},
   "outputs": [],
   "source": [
    "# here x2 and y2 are our FEATURE AND TARGET COLUMNS"
   ]
  },
  {
   "cell_type": "code",
   "execution_count": null,
   "id": "f71c161d",
   "metadata": {},
   "outputs": [],
   "source": []
  },
  {
   "cell_type": "code",
   "execution_count": null,
   "id": "5ad07175",
   "metadata": {},
   "outputs": [],
   "source": [
    "#  SCALING TECHNIQUES :-\n",
    "#  now above we can see that our dataset is not STANDARDISE, so by using SCALING TECHNIQUE we have to standardise our datase\n",
    "#  to get better results."
   ]
  },
  {
   "cell_type": "code",
   "execution_count": 191,
   "id": "6319b0b7",
   "metadata": {},
   "outputs": [],
   "source": [
    "from sklearn.preprocessing import StandardScaler"
   ]
  },
  {
   "cell_type": "code",
   "execution_count": 192,
   "id": "ef1cd3cf",
   "metadata": {},
   "outputs": [],
   "source": [
    "st = StandardScaler()"
   ]
  },
  {
   "cell_type": "code",
   "execution_count": 251,
   "id": "3e5b2357",
   "metadata": {},
   "outputs": [
    {
     "data": {
      "text/plain": [
       "array([[-0.55292997,  1.05091371, -0.62231267, ...,  1.37589608,\n",
       "        -0.63645843, -0.99985592],\n",
       "       [-0.3099004 ,  2.11933582,  0.45871385, ..., -0.8219512 ,\n",
       "         0.2883529 , -0.6081737 ],\n",
       "       [-0.3099004 ,  1.40705441,  0.03616248, ..., -0.3965614 ,\n",
       "         0.05715007, -0.6081737 ],\n",
       "       ...,\n",
       "       [-1.22126131, -0.07686519,  0.03616248, ...,  0.73781138,\n",
       "         0.82782618,  0.56687296],\n",
       "       [-1.46429088,  0.72445139, -0.44552952, ...,  1.80128587,\n",
       "         0.51955574, -0.21649148],\n",
       "       [-1.40353349, -1.26400088,  1.58029014, ...,  0.52511649,\n",
       "         0.13421768,  0.56687296]])"
      ]
     },
     "execution_count": 251,
     "metadata": {},
     "output_type": "execute_result"
    }
   ],
   "source": [
    "x2= st.fit_transform(x2)\n",
    "x2"
   ]
  },
  {
   "cell_type": "code",
   "execution_count": null,
   "id": "80ba999a",
   "metadata": {},
   "outputs": [],
   "source": [
    "#  here above we can see that after standardization of our 'x'\n",
    "# now we have to make it into DataFrame"
   ]
  },
  {
   "cell_type": "code",
   "execution_count": 252,
   "id": "f45c0d6b",
   "metadata": {},
   "outputs": [
    {
     "name": "stdout",
     "output_type": "stream",
     "text": [
      "             0         1         2         3         4         5         6  \\\n",
      "0    -0.552930  1.050914 -0.622313 -0.182053 -0.154751  0.635485  1.375896   \n",
      "1    -0.309900  2.119336  0.458714  0.922610  0.931518  0.052390 -0.821951   \n",
      "2    -0.309900  1.407054  0.036162  0.647121  0.559112  0.169009 -0.396561   \n",
      "3     1.755851 -1.442071 -0.622313 -0.239320  0.737666  0.752103 -1.105544   \n",
      "4    -0.552930  1.050914 -0.622313 -0.182053 -0.154751  0.635485  1.375896   \n",
      "...        ...       ...       ...       ...       ...       ...       ...   \n",
      "1446 -1.282019  0.457346 -0.445530  0.551435  0.229486 -1.055489  0.950506   \n",
      "1447 -1.464291  0.160562 -0.117041 -1.059233  0.464838 -0.927209  1.446794   \n",
      "1448 -1.221261 -0.076865  0.036162 -0.182053  0.083586 -0.565690  0.737811   \n",
      "1449 -1.464291  0.724451 -0.445530 -0.239320  0.229486 -0.723125  1.801286   \n",
      "1450 -1.403533 -1.264001  1.580290 -0.725863  0.157694 -0.711464  0.525116   \n",
      "\n",
      "             7         8  \n",
      "0    -0.636458 -0.999856  \n",
      "1     0.288353 -0.608174  \n",
      "2     0.057150 -0.608174  \n",
      "3    -0.482323 -0.608174  \n",
      "4    -0.636458 -0.999856  \n",
      "...        ...       ...  \n",
      "1446 -0.482323  0.077270  \n",
      "1447  0.904894  0.762714  \n",
      "1448  0.827826  0.566873  \n",
      "1449  0.519556 -0.216491  \n",
      "1450  0.134218  0.566873  \n",
      "\n",
      "[1451 rows x 9 columns]\n"
     ]
    }
   ],
   "source": [
    "xf = pd.DataFrame(data=x2)\n",
    "print(xf)"
   ]
  },
  {
   "cell_type": "code",
   "execution_count": null,
   "id": "829c87be",
   "metadata": {},
   "outputs": [],
   "source": [
    "# here above our whole dataframe 'df1' is now tranform and we can see it above as 'xf' whose MEAN=0 & StandardDeviation = 1\n",
    "# here above we not applied SCALING TECHNIQUE on the TARGET COLUMN.(Y)\n",
    "# BEFORE APPLYING MACHINE LEARNING MODEL WE HAVE TO APPLY SCALING & RESAMPLING TECHNIQUE FOR THE BETTER RESULTS."
   ]
  },
  {
   "cell_type": "code",
   "execution_count": null,
   "id": "fe402cfe",
   "metadata": {},
   "outputs": [],
   "source": [
    "# RESAMPLING TECHNIQUES"
   ]
  },
  {
   "cell_type": "code",
   "execution_count": 255,
   "id": "d2831942",
   "metadata": {},
   "outputs": [
    {
     "data": {
      "text/plain": [
       "5    617\n",
       "6    586\n",
       "7    185\n",
       "4     47\n",
       "8     16\n",
       "Name: quality, dtype: int64"
      ]
     },
     "execution_count": 255,
     "metadata": {},
     "output_type": "execute_result"
    }
   ],
   "source": [
    "y2.value_counts()"
   ]
  },
  {
   "cell_type": "code",
   "execution_count": null,
   "id": "ac4aa164",
   "metadata": {},
   "outputs": [],
   "source": [
    "#  here above we can see that the distribution of values with the unique number is very irregular,  therfore we have to make them\n",
    "#  equal by using RESAMPLING TECHNIQUE."
   ]
  },
  {
   "cell_type": "code",
   "execution_count": null,
   "id": "b0ee03aa",
   "metadata": {},
   "outputs": [],
   "source": [
    "#  here for RESAMPLING we are using SMOTE METHOD i.e SYNTHETIC MINORITY OVERSAMPLING TECHNIQUE\n",
    "# here with the help of SMOTE we can solve the CLASS IMMBALANCE PROBLEM."
   ]
  },
  {
   "cell_type": "code",
   "execution_count": null,
   "id": "af959ca7",
   "metadata": {},
   "outputs": [],
   "source": [
    "# for this first we need to install and import some libraries :-"
   ]
  },
  {
   "cell_type": "code",
   "execution_count": 256,
   "id": "0f5aa1c8",
   "metadata": {},
   "outputs": [
    {
     "name": "stdout",
     "output_type": "stream",
     "text": [
      "Collecting imbalanced-learnNote: you may need to restart the kernel to use updated packages.\n",
      "\n",
      "  Downloading imbalanced_learn-0.11.0-py3-none-any.whl (235 kB)\n",
      "     -------------------------------------- 235.6/235.6 kB 1.8 MB/s eta 0:00:00\n",
      "Collecting joblib>=1.1.1\n",
      "  Downloading joblib-1.3.1-py3-none-any.whl (301 kB)\n",
      "     -------------------------------------- 302.0/302.0 kB 2.1 MB/s eta 0:00:00\n",
      "Requirement already satisfied: numpy>=1.17.3 in c:\\users\\admin\\anaconda3\\lib\\site-packages (from imbalanced-learn) (1.21.5)\n",
      "Requirement already satisfied: scikit-learn>=1.0.2 in c:\\users\\admin\\anaconda3\\lib\\site-packages (from imbalanced-learn) (1.0.2)\n",
      "Requirement already satisfied: scipy>=1.5.0 in c:\\users\\admin\\anaconda3\\lib\\site-packages (from imbalanced-learn) (1.9.1)\n",
      "Requirement already satisfied: threadpoolctl>=2.0.0 in c:\\users\\admin\\anaconda3\\lib\\site-packages (from imbalanced-learn) (2.2.0)\n",
      "Installing collected packages: joblib, imbalanced-learn\n",
      "  Attempting uninstall: joblib\n",
      "    Found existing installation: joblib 1.1.0\n",
      "    Uninstalling joblib-1.1.0:\n",
      "      Successfully uninstalled joblib-1.1.0\n",
      "Successfully installed imbalanced-learn-0.11.0 joblib-1.3.1\n"
     ]
    }
   ],
   "source": [
    "pip install -U imbalanced-learn"
   ]
  },
  {
   "cell_type": "code",
   "execution_count": 257,
   "id": "e050f011",
   "metadata": {},
   "outputs": [],
   "source": [
    "from imblearn.over_sampling import SMOTE"
   ]
  },
  {
   "cell_type": "code",
   "execution_count": 258,
   "id": "e89bc8ca",
   "metadata": {},
   "outputs": [],
   "source": [
    "smt = SMOTE()"
   ]
  },
  {
   "cell_type": "code",
   "execution_count": 259,
   "id": "d568950e",
   "metadata": {},
   "outputs": [],
   "source": [
    "trainx, trainy = smt.fit_resample(x2,y2)"
   ]
  },
  {
   "cell_type": "code",
   "execution_count": 260,
   "id": "59614641",
   "metadata": {},
   "outputs": [
    {
     "data": {
      "text/plain": [
       "5    617\n",
       "6    617\n",
       "7    617\n",
       "4    617\n",
       "8    617\n",
       "Name: quality, dtype: int64"
      ]
     },
     "execution_count": 260,
     "metadata": {},
     "output_type": "execute_result"
    }
   ],
   "source": [
    "trainy.value_counts()"
   ]
  },
  {
   "cell_type": "code",
   "execution_count": 262,
   "id": "23bdd4ad",
   "metadata": {},
   "outputs": [],
   "source": [
    "# here above we can see that, we appied SMOTE SUCCEFULLY ON THE DATASET,\n",
    "# and BALANCE the dataset"
   ]
  },
  {
   "cell_type": "code",
   "execution_count": 266,
   "id": "76750187",
   "metadata": {},
   "outputs": [
    {
     "data": {
      "text/plain": [
       "(3085,)"
      ]
     },
     "execution_count": 266,
     "metadata": {},
     "output_type": "execute_result"
    }
   ],
   "source": [
    "trainy.shape"
   ]
  },
  {
   "cell_type": "code",
   "execution_count": null,
   "id": "6b8f6399",
   "metadata": {},
   "outputs": [],
   "source": [
    "# here we can see that the no. of rows are increased from 1451 to 3085, that mean there 1634 synthetic rows increased"
   ]
  },
  {
   "cell_type": "code",
   "execution_count": 269,
   "id": "9dc21b6b",
   "metadata": {},
   "outputs": [
    {
     "data": {
      "text/plain": [
       "(3085, 9)"
      ]
     },
     "execution_count": 269,
     "metadata": {},
     "output_type": "execute_result"
    }
   ],
   "source": [
    "trainx.shape"
   ]
  },
  {
   "cell_type": "code",
   "execution_count": null,
   "id": "e2a51274",
   "metadata": {},
   "outputs": [],
   "source": []
  },
  {
   "cell_type": "code",
   "execution_count": null,
   "id": "9f36c43d",
   "metadata": {},
   "outputs": [],
   "source": [
    "# FINDING THE BEST RANDOM STATE FOR THE MODEL"
   ]
  },
  {
   "cell_type": "code",
   "execution_count": 271,
   "id": "5a379f7f",
   "metadata": {},
   "outputs": [],
   "source": [
    "from sklearn.model_selection import train_test_split"
   ]
  },
  {
   "cell_type": "code",
   "execution_count": 273,
   "id": "6067f001",
   "metadata": {},
   "outputs": [],
   "source": [
    "from sklearn.metrics import accuracy_score, confusion_matrix, classification_report"
   ]
  },
  {
   "cell_type": "code",
   "execution_count": 274,
   "id": "5a96e091",
   "metadata": {},
   "outputs": [],
   "source": [
    "from sklearn.tree import DecisionTreeClassifier"
   ]
  },
  {
   "cell_type": "code",
   "execution_count": 275,
   "id": "90f992d4",
   "metadata": {},
   "outputs": [],
   "source": [
    "dtc = DecisionTreeClassifier"
   ]
  },
  {
   "cell_type": "code",
   "execution_count": 280,
   "id": "49b53561",
   "metadata": {},
   "outputs": [
    {
     "name": "stdout",
     "output_type": "stream",
     "text": [
      "Best accuracy is 0.8233387358184765 at random state 198\n"
     ]
    }
   ],
   "source": [
    "maxaccu = 0\n",
    "maxrs = 0\n",
    "\n",
    "for i in range(1,200):\n",
    "    x_train,x_test,y_train,y_test = train_test_split(trainx,trainy,test_size=0.20,random_state=i)\n",
    "    dtc = DecisionTreeClassifier()\n",
    "    dtc.fit(x_train,y_train)\n",
    "    pred = dtc.predict(x_test)\n",
    "    acc = accuracy_score(y_test,pred)\n",
    "    \n",
    "    if acc > maxaccu :\n",
    "        maxaccu = acc\n",
    "        maxrs = i\n",
    "        \n",
    "print (\"Best accuracy is\",maxaccu, \"at random state\", maxrs)"
   ]
  },
  {
   "cell_type": "code",
   "execution_count": null,
   "id": "6fddbada",
   "metadata": {},
   "outputs": [],
   "source": [
    "# here above we can find the MAXIMUM ACCURACY of 82% is occurs on random state= 198"
   ]
  },
  {
   "cell_type": "code",
   "execution_count": null,
   "id": "9c75cfa9",
   "metadata": {},
   "outputs": [],
   "source": [
    "# now we are apllying the model"
   ]
  },
  {
   "cell_type": "code",
   "execution_count": 282,
   "id": "e1197cb2",
   "metadata": {},
   "outputs": [],
   "source": [
    "from sklearn.model_selection import GridSearchCV"
   ]
  },
  {
   "cell_type": "code",
   "execution_count": 287,
   "id": "bf9b77b8",
   "metadata": {},
   "outputs": [],
   "source": [
    "grid_param = {'criterion':['gini','entropy']}"
   ]
  },
  {
   "cell_type": "code",
   "execution_count": 288,
   "id": "087b6329",
   "metadata": {},
   "outputs": [],
   "source": [
    "gd_sr = GridSearchCV (estimator=dtc, param_grid= grid_param, scoring=\"accuracy\",cv=5)"
   ]
  },
  {
   "cell_type": "code",
   "execution_count": 289,
   "id": "4f81739d",
   "metadata": {},
   "outputs": [
    {
     "data": {
      "text/plain": [
       "GridSearchCV(cv=5, estimator=DecisionTreeClassifier(),\n",
       "             param_grid={'criterion': ['gini', 'entropy']}, scoring='accuracy')"
      ]
     },
     "execution_count": 289,
     "metadata": {},
     "output_type": "execute_result"
    }
   ],
   "source": [
    "gd_sr.fit(trainx,trainy)"
   ]
  },
  {
   "cell_type": "code",
   "execution_count": 291,
   "id": "3a4a5e82",
   "metadata": {},
   "outputs": [
    {
     "name": "stdout",
     "output_type": "stream",
     "text": [
      "{'criterion': 'entropy'}\n"
     ]
    }
   ],
   "source": [
    "best_perameter = gd_sr.best_params_\n",
    "print(best_perameter)"
   ]
  },
  {
   "cell_type": "code",
   "execution_count": null,
   "id": "bfdab4b0",
   "metadata": {},
   "outputs": [],
   "source": [
    "# here we can find the best perameter for the model is \"entropy\""
   ]
  },
  {
   "cell_type": "code",
   "execution_count": 294,
   "id": "52c603be",
   "metadata": {},
   "outputs": [
    {
     "name": "stdout",
     "output_type": "stream",
     "text": [
      "0.7063209076175041\n"
     ]
    }
   ],
   "source": [
    "best_result = gd_sr.best_score_\n",
    "print(best_result)"
   ]
  },
  {
   "cell_type": "code",
   "execution_count": 295,
   "id": "6a34db3a",
   "metadata": {},
   "outputs": [
    {
     "name": "stdout",
     "output_type": "stream",
     "text": [
      "0.71\n"
     ]
    }
   ],
   "source": [
    "print(round(best_result,2))"
   ]
  },
  {
   "cell_type": "code",
   "execution_count": null,
   "id": "adb6dbd0",
   "metadata": {},
   "outputs": [],
   "source": [
    "#  the best score is .71"
   ]
  },
  {
   "cell_type": "code",
   "execution_count": null,
   "id": "991618c4",
   "metadata": {},
   "outputs": [],
   "source": [
    "# now applying the model with \"entropy\" parameter and \"198\" randomstate"
   ]
  },
  {
   "cell_type": "code",
   "execution_count": 299,
   "id": "f42e1282",
   "metadata": {},
   "outputs": [],
   "source": [
    "dtc1 = DecisionTreeClassifier (criterion=\"entropy\")"
   ]
  },
  {
   "cell_type": "code",
   "execution_count": 300,
   "id": "66282c01",
   "metadata": {},
   "outputs": [],
   "source": [
    "x_train,x_test,y_train,y_test = train_test_split(trainx,trainy,test_size=0.20,random_state=198)"
   ]
  },
  {
   "cell_type": "code",
   "execution_count": 302,
   "id": "6234db3c",
   "metadata": {},
   "outputs": [
    {
     "name": "stdout",
     "output_type": "stream",
     "text": [
      "0.8055105348460292\n",
      "[[128  14   3   1   0]\n",
      " [  6  89  26   3   0]\n",
      " [ 11  28  66  11   2]\n",
      " [  0   1   5  95   3]\n",
      " [  0   0   2   4 119]]\n",
      "              precision    recall  f1-score   support\n",
      "\n",
      "           4       0.88      0.88      0.88       146\n",
      "           5       0.67      0.72      0.70       124\n",
      "           6       0.65      0.56      0.60       118\n",
      "           7       0.83      0.91      0.87       104\n",
      "           8       0.96      0.95      0.96       125\n",
      "\n",
      "    accuracy                           0.81       617\n",
      "   macro avg       0.80      0.80      0.80       617\n",
      "weighted avg       0.80      0.81      0.80       617\n",
      "\n"
     ]
    }
   ],
   "source": [
    "dtc1.fit(x_train,y_train)\n",
    "dtc1.score(x_train,y_train)\n",
    "dtc1pred = dtc1.predict(x_test)\n",
    "print(accuracy_score(y_test,dtc1pred))\n",
    "print(confusion_matrix(y_test,dtc1pred))\n",
    "print(classification_report(y_test,dtc1pred))"
   ]
  },
  {
   "cell_type": "code",
   "execution_count": null,
   "id": "fccaab1e",
   "metadata": {},
   "outputs": [],
   "source": [
    "# here above we can see that the accuracy of our model is = 88%"
   ]
  },
  {
   "cell_type": "code",
   "execution_count": 303,
   "id": "f752cea3",
   "metadata": {},
   "outputs": [],
   "source": [
    "def pred_func(q):\n",
    "    q= q.reshape(1,9)\n",
    "    qt = dtc1.predict(q)\n",
    "    print(qt)\n",
    "    \n",
    "    if qt == 3:\n",
    "        print(\"not good quality\")\n",
    "    elif (qt == 4):\n",
    "        print (\"not good quality\")\n",
    "    elif (qt == 5):\n",
    "        print (\"not good quality\")\n",
    "    elif (qt == 6):\n",
    "        print (\"not good quality\")\n",
    "    elif (qt == 7):\n",
    "        print (\"good quality\")\n",
    "    elif (qt == 8):\n",
    "        print (\"good quality\")\n",
    "    elif (qt == 9):\n",
    "        print(\"good quality\")\n",
    "    "
   ]
  },
  {
   "cell_type": "code",
   "execution_count": 304,
   "id": "2b354825",
   "metadata": {},
   "outputs": [
    {
     "name": "stdout",
     "output_type": "stream",
     "text": [
      "[5]\n",
      "not good quality\n"
     ]
    }
   ],
   "source": [
    "q= np.array([-0.552930,1.050914,-0.622313,-0.182053,-0.154751,0.635485,1.375896,-0.636458,-0.999856])\n",
    "pred_func(q)"
   ]
  },
  {
   "cell_type": "code",
   "execution_count": null,
   "id": "90ebd588",
   "metadata": {},
   "outputs": [],
   "source": []
  },
  {
   "cell_type": "code",
   "execution_count": null,
   "id": "4b377aad",
   "metadata": {},
   "outputs": [],
   "source": []
  },
  {
   "cell_type": "code",
   "execution_count": null,
   "id": "c5774e51",
   "metadata": {},
   "outputs": [],
   "source": []
  },
  {
   "cell_type": "code",
   "execution_count": null,
   "id": "1a62bc36",
   "metadata": {},
   "outputs": [],
   "source": []
  },
  {
   "cell_type": "code",
   "execution_count": null,
   "id": "7ad38211",
   "metadata": {},
   "outputs": [],
   "source": []
  },
  {
   "cell_type": "code",
   "execution_count": null,
   "id": "bea4fb20",
   "metadata": {},
   "outputs": [],
   "source": []
  },
  {
   "cell_type": "code",
   "execution_count": null,
   "id": "30d8edaf",
   "metadata": {},
   "outputs": [],
   "source": []
  },
  {
   "cell_type": "code",
   "execution_count": null,
   "id": "9c0cac60",
   "metadata": {},
   "outputs": [],
   "source": []
  },
  {
   "cell_type": "code",
   "execution_count": null,
   "id": "a66597a7",
   "metadata": {},
   "outputs": [],
   "source": []
  }
 ],
 "metadata": {
  "kernelspec": {
   "display_name": "Python 3 (ipykernel)",
   "language": "python",
   "name": "python3"
  },
  "language_info": {
   "codemirror_mode": {
    "name": "ipython",
    "version": 3
   },
   "file_extension": ".py",
   "mimetype": "text/x-python",
   "name": "python",
   "nbconvert_exporter": "python",
   "pygments_lexer": "ipython3",
   "version": "3.9.13"
  }
 },
 "nbformat": 4,
 "nbformat_minor": 5
}
