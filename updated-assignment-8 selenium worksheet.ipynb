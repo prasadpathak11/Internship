{
 "cells": [
  {
   "cell_type": "code",
   "execution_count": 1,
   "id": "8462b80d",
   "metadata": {
    "scrolled": true
   },
   "outputs": [
    {
     "name": "stdout",
     "output_type": "stream",
     "text": [
      "Requirement already satisfied: selenium in c:\\users\\admin\\anaconda3\\lib\\site-packages (4.9.1)\n",
      "Requirement already satisfied: urllib3[socks]<3,>=1.26 in c:\\users\\admin\\anaconda3\\lib\\site-packages (from selenium) (1.26.11)\n",
      "Requirement already satisfied: trio-websocket~=0.9 in c:\\users\\admin\\anaconda3\\lib\\site-packages (from selenium) (0.10.2)\n",
      "Requirement already satisfied: certifi>=2021.10.8 in c:\\users\\admin\\anaconda3\\lib\\site-packages (from selenium) (2022.9.14)\n",
      "Requirement already satisfied: trio~=0.17 in c:\\users\\admin\\anaconda3\\lib\\site-packages (from selenium) (0.22.0)\n",
      "Requirement already satisfied: idna in c:\\users\\admin\\anaconda3\\lib\\site-packages (from trio~=0.17->selenium) (3.3)\n",
      "Requirement already satisfied: exceptiongroup>=1.0.0rc9 in c:\\users\\admin\\anaconda3\\lib\\site-packages (from trio~=0.17->selenium) (1.1.1)\n",
      "Requirement already satisfied: attrs>=19.2.0 in c:\\users\\admin\\anaconda3\\lib\\site-packages (from trio~=0.17->selenium) (21.4.0)\n",
      "Requirement already satisfied: sniffio in c:\\users\\admin\\anaconda3\\lib\\site-packages (from trio~=0.17->selenium) (1.2.0)\n",
      "Requirement already satisfied: outcome in c:\\users\\admin\\anaconda3\\lib\\site-packages (from trio~=0.17->selenium) (1.2.0)\n",
      "Requirement already satisfied: cffi>=1.14 in c:\\users\\admin\\anaconda3\\lib\\site-packages (from trio~=0.17->selenium) (1.15.1)\n",
      "Requirement already satisfied: async-generator>=1.9 in c:\\users\\admin\\anaconda3\\lib\\site-packages (from trio~=0.17->selenium) (1.10)\n",
      "Requirement already satisfied: sortedcontainers in c:\\users\\admin\\anaconda3\\lib\\site-packages (from trio~=0.17->selenium) (2.4.0)\n",
      "Requirement already satisfied: wsproto>=0.14 in c:\\users\\admin\\anaconda3\\lib\\site-packages (from trio-websocket~=0.9->selenium) (1.2.0)\n",
      "Requirement already satisfied: PySocks!=1.5.7,<2.0,>=1.5.6 in c:\\users\\admin\\anaconda3\\lib\\site-packages (from urllib3[socks]<3,>=1.26->selenium) (1.7.1)\n",
      "Requirement already satisfied: pycparser in c:\\users\\admin\\anaconda3\\lib\\site-packages (from cffi>=1.14->trio~=0.17->selenium) (2.21)\n",
      "Requirement already satisfied: h11<1,>=0.9.0 in c:\\users\\admin\\anaconda3\\lib\\site-packages (from wsproto>=0.14->trio-websocket~=0.9->selenium) (0.14.0)\n"
     ]
    }
   ],
   "source": [
    "! pip install selenium"
   ]
  },
  {
   "cell_type": "code",
   "execution_count": 2,
   "id": "9902eb65",
   "metadata": {},
   "outputs": [],
   "source": [
    "import selenium"
   ]
  },
  {
   "cell_type": "code",
   "execution_count": 3,
   "id": "7da58d2a",
   "metadata": {},
   "outputs": [],
   "source": [
    "from selenium import webdriver\n",
    "from selenium.webdriver.common.by import By\n",
    "import pandas as pd\n",
    "import time\n",
    "\n",
    "import warnings\n",
    "warnings.filterwarnings('ignore')"
   ]
  },
  {
   "cell_type": "code",
   "execution_count": 4,
   "id": "3e318469",
   "metadata": {},
   "outputs": [],
   "source": [
    "driver = webdriver.Chrome (r'chromedriver.exe')"
   ]
  },
  {
   "cell_type": "code",
   "execution_count": 5,
   "id": "a0a2c719",
   "metadata": {},
   "outputs": [],
   "source": [
    "driver.get ('https://www.naukri.com/')"
   ]
  },
  {
   "cell_type": "code",
   "execution_count": null,
   "id": "c17ec1a5",
   "metadata": {},
   "outputs": [],
   "source": []
  },
  {
   "cell_type": "markdown",
   "id": "e37c72b8",
   "metadata": {},
   "source": [
    "# QUESTION NO. = 1"
   ]
  },
  {
   "cell_type": "code",
   "execution_count": 6,
   "id": "b0447ea7",
   "metadata": {},
   "outputs": [],
   "source": [
    "designation = driver.find_element (By.CLASS_NAME,\"suggestor-input \")\n",
    "designation.send_keys('Data Analyst')"
   ]
  },
  {
   "cell_type": "code",
   "execution_count": 7,
   "id": "08a7a604",
   "metadata": {},
   "outputs": [],
   "source": [
    "location = driver.find_element (By. XPATH, \"/html/body/div[1]/div[7]/div/div/div[5]/div/div/div/div[1]/div/input\")\n",
    "location.send_keys('Banglore')"
   ]
  },
  {
   "cell_type": "code",
   "execution_count": 8,
   "id": "6e4558cd",
   "metadata": {},
   "outputs": [],
   "source": [
    "# here in the above case the 'class name' is same for both 'designatio & location', therfore for 'designation- we use 'CLASS_NAME'\n",
    "# and for location we are using'ABSOLUTE XPATH'"
   ]
  },
  {
   "cell_type": "code",
   "execution_count": 9,
   "id": "266c2a4a",
   "metadata": {},
   "outputs": [],
   "source": [
    "search = driver.find_element (By.CLASS_NAME, \"qsbSubmit\")\n",
    "search.click()"
   ]
  },
  {
   "cell_type": "code",
   "execution_count": 10,
   "id": "2fccc50e",
   "metadata": {},
   "outputs": [],
   "source": [
    "# now upto here we are having all the pagewise data for \"data analyst\" for \"banglore\" location."
   ]
  },
  {
   "cell_type": "code",
   "execution_count": null,
   "id": "c5963662",
   "metadata": {},
   "outputs": [],
   "source": []
  },
  {
   "cell_type": "code",
   "execution_count": 12,
   "id": "aa7f5496",
   "metadata": {},
   "outputs": [
    {
     "data": {
      "text/plain": [
       "(10, 10, 10, 10)"
      ]
     },
     "execution_count": 12,
     "metadata": {},
     "output_type": "execute_result"
    }
   ],
   "source": [
    "# now below we are finding and makiing data frame top 10 companies list with mentioned criteria:\n",
    "\n",
    "job_title = []\n",
    "job_location = []\n",
    "company_name = []\n",
    "experiance_required = []\n",
    "\n",
    "\n",
    "# for job_title :-\n",
    "\n",
    "title_all = driver.find_elements (By.XPATH,'//a[@class=\"title ellipsis\"]')\n",
    "for i in title_all [0:10]:\n",
    "    title = i.text\n",
    "    job_title.append(title)\n",
    "    \n",
    "    \n",
    "#  for job_location :-\n",
    "\n",
    "location_all = driver.find_elements (By.XPATH, '//span[@class=\"ellipsis fleft locWdth\"]')\n",
    "for i in location_all [0:10]:\n",
    "    location = i.text\n",
    "    job_location.append(location)\n",
    "    \n",
    "    \n",
    "# for company_name :-\n",
    "\n",
    "company_all = driver.find_elements (By.XPATH, '//a[@class=\"subTitle ellipsis fleft\"]')\n",
    "for i in company_all [0:10]:\n",
    "    name = i.text\n",
    "    company_name.append(name)\n",
    "    \n",
    "    \n",
    "# for experiance_required :-\n",
    "\n",
    "experiance_required = driver. find_elements (By.XPATH, '//span[@class=\"ellipsis fleft expwdth\"]')\n",
    "for i in experiance_required [0:10]:\n",
    "    experiance = i.text\n",
    "    experiance_required.append(experiance)\n",
    "    exp1 = experiance_required[0:10]\n",
    "# to identify whether the length of all lists are same or not\n",
    "\n",
    "len(job_title),len(job_location),len(company_name),len(exp1)"
   ]
  },
  {
   "cell_type": "code",
   "execution_count": 13,
   "id": "361b0dfe",
   "metadata": {},
   "outputs": [],
   "source": [
    "import pandas as pd"
   ]
  },
  {
   "cell_type": "code",
   "execution_count": 14,
   "id": "be8d976d",
   "metadata": {},
   "outputs": [
    {
     "data": {
      "text/html": [
       "<div>\n",
       "<style scoped>\n",
       "    .dataframe tbody tr th:only-of-type {\n",
       "        vertical-align: middle;\n",
       "    }\n",
       "\n",
       "    .dataframe tbody tr th {\n",
       "        vertical-align: top;\n",
       "    }\n",
       "\n",
       "    .dataframe thead th {\n",
       "        text-align: right;\n",
       "    }\n",
       "</style>\n",
       "<table border=\"1\" class=\"dataframe\">\n",
       "  <thead>\n",
       "    <tr style=\"text-align: right;\">\n",
       "      <th></th>\n",
       "      <th>Job Title</th>\n",
       "      <th>Location</th>\n",
       "      <th>Company</th>\n",
       "      <th>Experiance</th>\n",
       "    </tr>\n",
       "  </thead>\n",
       "  <tbody>\n",
       "    <tr>\n",
       "      <th>0</th>\n",
       "      <td>Data Analyst</td>\n",
       "      <td>Bangalore/Bengaluru</td>\n",
       "      <td>Target</td>\n",
       "      <td>&lt;selenium.webdriver.remote.webelement.WebEleme...</td>\n",
       "    </tr>\n",
       "    <tr>\n",
       "      <th>1</th>\n",
       "      <td>Tech Data Analyst</td>\n",
       "      <td>Hybrid - Gurgaon/ Gurugram, Haryana, Bangalore...</td>\n",
       "      <td>Wipro</td>\n",
       "      <td>&lt;selenium.webdriver.remote.webelement.WebEleme...</td>\n",
       "    </tr>\n",
       "    <tr>\n",
       "      <th>2</th>\n",
       "      <td>Data Analyst</td>\n",
       "      <td>Bangalore/ Bengaluru, Karnataka</td>\n",
       "      <td>Artech</td>\n",
       "      <td>&lt;selenium.webdriver.remote.webelement.WebEleme...</td>\n",
       "    </tr>\n",
       "    <tr>\n",
       "      <th>3</th>\n",
       "      <td>Data Analyst</td>\n",
       "      <td>Bangalore/Bengaluru</td>\n",
       "      <td>Brunel</td>\n",
       "      <td>&lt;selenium.webdriver.remote.webelement.WebEleme...</td>\n",
       "    </tr>\n",
       "    <tr>\n",
       "      <th>4</th>\n",
       "      <td>Celonis &amp; Salesforce Data Analyst</td>\n",
       "      <td>Chennai, Bangalore/Bengaluru</td>\n",
       "      <td>Hitachi Energy</td>\n",
       "      <td>&lt;selenium.webdriver.remote.webelement.WebEleme...</td>\n",
       "    </tr>\n",
       "    <tr>\n",
       "      <th>5</th>\n",
       "      <td>Celonis &amp; Salesforce Data Analyst</td>\n",
       "      <td>Bangalore/Bengaluru</td>\n",
       "      <td>Hitachi Ltd.</td>\n",
       "      <td>&lt;selenium.webdriver.remote.webelement.WebEleme...</td>\n",
       "    </tr>\n",
       "    <tr>\n",
       "      <th>6</th>\n",
       "      <td>Data Analyst</td>\n",
       "      <td>Hybrid - Bangalore/Bengaluru</td>\n",
       "      <td>HARMAN</td>\n",
       "      <td>&lt;selenium.webdriver.remote.webelement.WebEleme...</td>\n",
       "    </tr>\n",
       "    <tr>\n",
       "      <th>7</th>\n",
       "      <td>Data Analyst</td>\n",
       "      <td>Hybrid - Bangalore/Bengaluru, Delhi / NCR</td>\n",
       "      <td>Aon</td>\n",
       "      <td>&lt;selenium.webdriver.remote.webelement.WebEleme...</td>\n",
       "    </tr>\n",
       "    <tr>\n",
       "      <th>8</th>\n",
       "      <td>Data Analyst</td>\n",
       "      <td>Hybrid - Bangalore/Bengaluru, Delhi / NCR</td>\n",
       "      <td>Aon</td>\n",
       "      <td>&lt;selenium.webdriver.remote.webelement.WebEleme...</td>\n",
       "    </tr>\n",
       "    <tr>\n",
       "      <th>9</th>\n",
       "      <td>Data Analyst</td>\n",
       "      <td>Kolkata, Hyderabad/Secunderabad, Pune, Chennai...</td>\n",
       "      <td>Tata Consultancy Services (TCS)</td>\n",
       "      <td>&lt;selenium.webdriver.remote.webelement.WebEleme...</td>\n",
       "    </tr>\n",
       "  </tbody>\n",
       "</table>\n",
       "</div>"
      ],
      "text/plain": [
       "                           Job Title  \\\n",
       "0                       Data Analyst   \n",
       "1                  Tech Data Analyst   \n",
       "2                       Data Analyst   \n",
       "3                       Data Analyst   \n",
       "4  Celonis & Salesforce Data Analyst   \n",
       "5  Celonis & Salesforce Data Analyst   \n",
       "6                       Data Analyst   \n",
       "7                       Data Analyst   \n",
       "8                       Data Analyst   \n",
       "9                       Data Analyst   \n",
       "\n",
       "                                            Location  \\\n",
       "0                                Bangalore/Bengaluru   \n",
       "1  Hybrid - Gurgaon/ Gurugram, Haryana, Bangalore...   \n",
       "2                    Bangalore/ Bengaluru, Karnataka   \n",
       "3                                Bangalore/Bengaluru   \n",
       "4                       Chennai, Bangalore/Bengaluru   \n",
       "5                                Bangalore/Bengaluru   \n",
       "6                       Hybrid - Bangalore/Bengaluru   \n",
       "7          Hybrid - Bangalore/Bengaluru, Delhi / NCR   \n",
       "8          Hybrid - Bangalore/Bengaluru, Delhi / NCR   \n",
       "9  Kolkata, Hyderabad/Secunderabad, Pune, Chennai...   \n",
       "\n",
       "                           Company  \\\n",
       "0                           Target   \n",
       "1                            Wipro   \n",
       "2                           Artech   \n",
       "3                           Brunel   \n",
       "4                   Hitachi Energy   \n",
       "5                     Hitachi Ltd.   \n",
       "6                           HARMAN   \n",
       "7                              Aon   \n",
       "8                              Aon   \n",
       "9  Tata Consultancy Services (TCS)   \n",
       "\n",
       "                                          Experiance  \n",
       "0  <selenium.webdriver.remote.webelement.WebEleme...  \n",
       "1  <selenium.webdriver.remote.webelement.WebEleme...  \n",
       "2  <selenium.webdriver.remote.webelement.WebEleme...  \n",
       "3  <selenium.webdriver.remote.webelement.WebEleme...  \n",
       "4  <selenium.webdriver.remote.webelement.WebEleme...  \n",
       "5  <selenium.webdriver.remote.webelement.WebEleme...  \n",
       "6  <selenium.webdriver.remote.webelement.WebEleme...  \n",
       "7  <selenium.webdriver.remote.webelement.WebEleme...  \n",
       "8  <selenium.webdriver.remote.webelement.WebEleme...  \n",
       "9  <selenium.webdriver.remote.webelement.WebEleme...  "
      ]
     },
     "execution_count": 14,
     "metadata": {},
     "output_type": "execute_result"
    }
   ],
   "source": [
    "df = pd.DataFrame({'Job Title':job_title, 'Location':job_location, 'Company':company_name, 'Experiance':exp1})\n",
    "df"
   ]
  },
  {
   "cell_type": "code",
   "execution_count": null,
   "id": "406dea68",
   "metadata": {},
   "outputs": [],
   "source": []
  },
  {
   "cell_type": "markdown",
   "id": "4b431892",
   "metadata": {},
   "source": [
    "# QUESTION NO. = 2"
   ]
  },
  {
   "cell_type": "code",
   "execution_count": 15,
   "id": "2e69c5fb",
   "metadata": {},
   "outputs": [],
   "source": [
    "driver.get ('https://www.naukri.com/')"
   ]
  },
  {
   "cell_type": "code",
   "execution_count": 16,
   "id": "139840e8",
   "metadata": {},
   "outputs": [],
   "source": [
    "designation = driver.find_element (By.CLASS_NAME,\"suggestor-input \")\n",
    "designation.send_keys('Data Scientist')"
   ]
  },
  {
   "cell_type": "code",
   "execution_count": 17,
   "id": "dfd58241",
   "metadata": {},
   "outputs": [],
   "source": [
    "location = driver.find_element (By. XPATH, \"/html/body/div[1]/div[6]/div/div/div[5]/div/div/div/div[1]/div/input\")\n",
    "location.send_keys('Banglore')"
   ]
  },
  {
   "cell_type": "code",
   "execution_count": 18,
   "id": "fc023e4d",
   "metadata": {},
   "outputs": [],
   "source": [
    "search = driver.find_element(By.CLASS_NAME, 'qsbSubmit')\n",
    "search.click()"
   ]
  },
  {
   "cell_type": "code",
   "execution_count": 19,
   "id": "9f5f9cf6",
   "metadata": {},
   "outputs": [],
   "source": [
    "ds_job_title = []\n",
    "ds_job_location = []\n",
    "ds_company_name = []\n",
    "ds_experiance_required = []"
   ]
  },
  {
   "cell_type": "code",
   "execution_count": 20,
   "id": "1d4a14e9",
   "metadata": {},
   "outputs": [],
   "source": [
    "title_tag1 = driver.find_elements (By.XPATH,'//a[@class=\"title ellipsis\"]')\n",
    "for i in title_tag1[0:10]:\n",
    "    title1 = i.text\n",
    "    ds_job_title.append(title1)"
   ]
  },
  {
   "cell_type": "code",
   "execution_count": 21,
   "id": "c6f479a4",
   "metadata": {},
   "outputs": [
    {
     "data": {
      "text/plain": [
       "10"
      ]
     },
     "execution_count": 21,
     "metadata": {},
     "output_type": "execute_result"
    }
   ],
   "source": [
    "len(ds_job_title)"
   ]
  },
  {
   "cell_type": "code",
   "execution_count": 22,
   "id": "2859e19e",
   "metadata": {},
   "outputs": [],
   "source": [
    "title_tag2 = driver.find_elements (By.XPATH,'//span[@class=\"ellipsis fleft locWdth\"]')\n",
    "for i in title_tag2[0:10]:\n",
    "    title2 = i.text\n",
    "    ds_job_location.append(title2)"
   ]
  },
  {
   "cell_type": "code",
   "execution_count": 23,
   "id": "c05f4290",
   "metadata": {},
   "outputs": [
    {
     "data": {
      "text/plain": [
       "10"
      ]
     },
     "execution_count": 23,
     "metadata": {},
     "output_type": "execute_result"
    }
   ],
   "source": [
    "len(ds_job_location)"
   ]
  },
  {
   "cell_type": "code",
   "execution_count": 24,
   "id": "aebd844b",
   "metadata": {},
   "outputs": [],
   "source": [
    "title_tag3 = driver.find_elements(By.XPATH,'//a[@class=\"subTitle ellipsis fleft\"]')\n",
    "for i in title_tag3[0:10]:\n",
    "    title3 = i.text\n",
    "    ds_company_name.append(title3)"
   ]
  },
  {
   "cell_type": "code",
   "execution_count": 25,
   "id": "c270faee",
   "metadata": {},
   "outputs": [
    {
     "data": {
      "text/plain": [
       "10"
      ]
     },
     "execution_count": 25,
     "metadata": {},
     "output_type": "execute_result"
    }
   ],
   "source": [
    "len(ds_company_name)"
   ]
  },
  {
   "cell_type": "code",
   "execution_count": 26,
   "id": "7430bddf",
   "metadata": {},
   "outputs": [],
   "source": [
    "title_tag4 = driver.find_elements(By.XPATH,'//span[@class=\"ellipsis fleft expwdth\"]')\n",
    "for i in title_tag4[0:10]:\n",
    "    title4 = i.text\n",
    "    ds_experiance_required.append(title4)"
   ]
  },
  {
   "cell_type": "code",
   "execution_count": 27,
   "id": "81d38b32",
   "metadata": {},
   "outputs": [
    {
     "data": {
      "text/plain": [
       "10"
      ]
     },
     "execution_count": 27,
     "metadata": {},
     "output_type": "execute_result"
    }
   ],
   "source": [
    "len(ds_experiance_required)"
   ]
  },
  {
   "cell_type": "code",
   "execution_count": 28,
   "id": "2f0f3d71",
   "metadata": {},
   "outputs": [],
   "source": [
    "import pandas as pd\n",
    "\n",
    "df = pd.DataFrame({'Job Tile':ds_job_title, 'Location':ds_job_location, 'Company Nmae':ds_company_name, 'Experiance':ds_experiance_required})"
   ]
  },
  {
   "cell_type": "code",
   "execution_count": 29,
   "id": "33d0b01d",
   "metadata": {},
   "outputs": [
    {
     "data": {
      "text/html": [
       "<div>\n",
       "<style scoped>\n",
       "    .dataframe tbody tr th:only-of-type {\n",
       "        vertical-align: middle;\n",
       "    }\n",
       "\n",
       "    .dataframe tbody tr th {\n",
       "        vertical-align: top;\n",
       "    }\n",
       "\n",
       "    .dataframe thead th {\n",
       "        text-align: right;\n",
       "    }\n",
       "</style>\n",
       "<table border=\"1\" class=\"dataframe\">\n",
       "  <thead>\n",
       "    <tr style=\"text-align: right;\">\n",
       "      <th></th>\n",
       "      <th>Job Tile</th>\n",
       "      <th>Location</th>\n",
       "      <th>Company Nmae</th>\n",
       "      <th>Experiance</th>\n",
       "    </tr>\n",
       "  </thead>\n",
       "  <tbody>\n",
       "    <tr>\n",
       "      <th>0</th>\n",
       "      <td>Permanent Opportunity - Data Scientist(Snaplog...</td>\n",
       "      <td>Hybrid - Kolkata, Hyderabad/Secunderabad, Pune...</td>\n",
       "      <td>Deloitte</td>\n",
       "      <td>9-14 Yrs</td>\n",
       "    </tr>\n",
       "    <tr>\n",
       "      <th>1</th>\n",
       "      <td>Analystics &amp; Modeling Specialist</td>\n",
       "      <td>Kolkata, Mumbai, Hyderabad/Secunderabad, Pune,...</td>\n",
       "      <td>Accenture</td>\n",
       "      <td>6-8 Yrs</td>\n",
       "    </tr>\n",
       "    <tr>\n",
       "      <th>2</th>\n",
       "      <td>Machine Learning (AI) Architect</td>\n",
       "      <td>Kolkata, Mumbai, New Delhi, Hyderabad/Secunder...</td>\n",
       "      <td>Persistent</td>\n",
       "      <td>5-12 Yrs</td>\n",
       "    </tr>\n",
       "    <tr>\n",
       "      <th>3</th>\n",
       "      <td>Staff Data Scientist</td>\n",
       "      <td>Bangalore/Bengaluru</td>\n",
       "      <td>Walmart</td>\n",
       "      <td>6-8 Yrs</td>\n",
       "    </tr>\n",
       "    <tr>\n",
       "      <th>4</th>\n",
       "      <td>Data Scientist</td>\n",
       "      <td>Bangalore/ Bengaluru, Karnataka</td>\n",
       "      <td>Tata Consultancy Services (TCS)</td>\n",
       "      <td>4-8 Yrs</td>\n",
       "    </tr>\n",
       "    <tr>\n",
       "      <th>5</th>\n",
       "      <td>Hiring For Data Scientist</td>\n",
       "      <td>Hybrid - Hyderabad/ Secunderabad, Telangana, C...</td>\n",
       "      <td>Tata Consultancy Services (TCS)</td>\n",
       "      <td>4-9 Yrs</td>\n",
       "    </tr>\n",
       "    <tr>\n",
       "      <th>6</th>\n",
       "      <td>Data Scientist</td>\n",
       "      <td>Hybrid - Pune, Bangalore/Bengaluru, Delhi / NC...</td>\n",
       "      <td>Infogain</td>\n",
       "      <td>3-6 Yrs</td>\n",
       "    </tr>\n",
       "    <tr>\n",
       "      <th>7</th>\n",
       "      <td>Director/Senior Director - Data Science</td>\n",
       "      <td>Noida, Hyderabad/Secunderabad, Pune, Gurgaon/G...</td>\n",
       "      <td>Axtria India</td>\n",
       "      <td>10-15 Yrs</td>\n",
       "    </tr>\n",
       "    <tr>\n",
       "      <th>8</th>\n",
       "      <td>Manager/Senior Manager - Data Science</td>\n",
       "      <td>Noida, Hyderabad/Secunderabad, Pune, Gurgaon/G...</td>\n",
       "      <td>Axtria India</td>\n",
       "      <td>8-12 Yrs</td>\n",
       "    </tr>\n",
       "    <tr>\n",
       "      <th>9</th>\n",
       "      <td>Data Scientist</td>\n",
       "      <td>Bangalore/Bengaluru</td>\n",
       "      <td>Ericsson</td>\n",
       "      <td>5-7 Yrs</td>\n",
       "    </tr>\n",
       "  </tbody>\n",
       "</table>\n",
       "</div>"
      ],
      "text/plain": [
       "                                            Job Tile  \\\n",
       "0  Permanent Opportunity - Data Scientist(Snaplog...   \n",
       "1                   Analystics & Modeling Specialist   \n",
       "2                    Machine Learning (AI) Architect   \n",
       "3                               Staff Data Scientist   \n",
       "4                                     Data Scientist   \n",
       "5                          Hiring For Data Scientist   \n",
       "6                                     Data Scientist   \n",
       "7            Director/Senior Director - Data Science   \n",
       "8              Manager/Senior Manager - Data Science   \n",
       "9                                     Data Scientist   \n",
       "\n",
       "                                            Location  \\\n",
       "0  Hybrid - Kolkata, Hyderabad/Secunderabad, Pune...   \n",
       "1  Kolkata, Mumbai, Hyderabad/Secunderabad, Pune,...   \n",
       "2  Kolkata, Mumbai, New Delhi, Hyderabad/Secunder...   \n",
       "3                                Bangalore/Bengaluru   \n",
       "4                    Bangalore/ Bengaluru, Karnataka   \n",
       "5  Hybrid - Hyderabad/ Secunderabad, Telangana, C...   \n",
       "6  Hybrid - Pune, Bangalore/Bengaluru, Delhi / NC...   \n",
       "7  Noida, Hyderabad/Secunderabad, Pune, Gurgaon/G...   \n",
       "8  Noida, Hyderabad/Secunderabad, Pune, Gurgaon/G...   \n",
       "9                                Bangalore/Bengaluru   \n",
       "\n",
       "                      Company Nmae Experiance  \n",
       "0                         Deloitte   9-14 Yrs  \n",
       "1                        Accenture    6-8 Yrs  \n",
       "2                       Persistent   5-12 Yrs  \n",
       "3                          Walmart    6-8 Yrs  \n",
       "4  Tata Consultancy Services (TCS)    4-8 Yrs  \n",
       "5  Tata Consultancy Services (TCS)    4-9 Yrs  \n",
       "6                         Infogain    3-6 Yrs  \n",
       "7                     Axtria India  10-15 Yrs  \n",
       "8                     Axtria India   8-12 Yrs  \n",
       "9                         Ericsson    5-7 Yrs  "
      ]
     },
     "execution_count": 29,
     "metadata": {},
     "output_type": "execute_result"
    }
   ],
   "source": [
    "df"
   ]
  },
  {
   "cell_type": "code",
   "execution_count": null,
   "id": "a1a202da",
   "metadata": {},
   "outputs": [],
   "source": []
  },
  {
   "cell_type": "code",
   "execution_count": null,
   "id": "143fc6f2",
   "metadata": {},
   "outputs": [],
   "source": []
  },
  {
   "cell_type": "markdown",
   "id": "b7342620",
   "metadata": {},
   "source": [
    "# Question No.- 3"
   ]
  },
  {
   "cell_type": "code",
   "execution_count": 30,
   "id": "5b9e3f0e",
   "metadata": {},
   "outputs": [],
   "source": [
    "driver.get ('https://www.naukri.com/')"
   ]
  },
  {
   "cell_type": "code",
   "execution_count": 31,
   "id": "8618754c",
   "metadata": {},
   "outputs": [],
   "source": [
    "designation = driver.find_element (By.CLASS_NAME,\"suggestor-input \")\n",
    "designation.send_keys('Data Scientist')"
   ]
  },
  {
   "cell_type": "code",
   "execution_count": 32,
   "id": "1e2c86e5",
   "metadata": {},
   "outputs": [],
   "source": [
    "search = driver.find_element(By.CLASS_NAME, 'qsbSubmit')\n",
    "search.click()"
   ]
  },
  {
   "cell_type": "code",
   "execution_count": 33,
   "id": "b581bae7",
   "metadata": {},
   "outputs": [],
   "source": [
    "ds_loc = driver.find_element (By.XPATH,'/html/body/div[1]/div[4]/div/div/section[1]/div[2]/div[5]/div[2]/div[2]/label/i')"
   ]
  },
  {
   "cell_type": "code",
   "execution_count": 34,
   "id": "3e72dc7d",
   "metadata": {},
   "outputs": [],
   "source": [
    "ds_loc.click()"
   ]
  },
  {
   "cell_type": "code",
   "execution_count": 35,
   "id": "c6c0c57e",
   "metadata": {},
   "outputs": [],
   "source": [
    "ds_sal = driver.find_element (By.XPATH,'/html/body/div[1]/div[4]/div/div/section[1]/div[2]/div[6]/div[2]/div[2]/label/i')\n",
    "ds_sal.click()"
   ]
  },
  {
   "cell_type": "code",
   "execution_count": 36,
   "id": "1257e8f8",
   "metadata": {},
   "outputs": [],
   "source": [
    "ds_job_title_ncr = []\n",
    "ds_job_location_ncr = []\n",
    "ds_company_name_ncr = []\n",
    "ds_experiance_required_ncr = []"
   ]
  },
  {
   "cell_type": "code",
   "execution_count": 37,
   "id": "7b18d73e",
   "metadata": {},
   "outputs": [],
   "source": [
    "title_ncr = driver.find_elements (By. XPATH, '//a[@class=\"title ellipsis\"]')\n",
    "for i in title_ncr [0:10]:\n",
    "    title1 = i.text\n",
    "    ds_job_title_ncr.append(title1)"
   ]
  },
  {
   "cell_type": "code",
   "execution_count": 38,
   "id": "6a59c85f",
   "metadata": {},
   "outputs": [
    {
     "data": {
      "text/plain": [
       "10"
      ]
     },
     "execution_count": 38,
     "metadata": {},
     "output_type": "execute_result"
    }
   ],
   "source": [
    "len(ds_job_title_ncr)"
   ]
  },
  {
   "cell_type": "code",
   "execution_count": 39,
   "id": "0ceaefef",
   "metadata": {},
   "outputs": [],
   "source": [
    "location_ncr = driver.find_elements (By.XPATH,'//span[@class=\"ellipsis fleft locWdth\"]')\n",
    "for i in location_ncr [0:10]:\n",
    "    location1 = i.text\n",
    "    ds_job_location_ncr.append(location1)"
   ]
  },
  {
   "cell_type": "code",
   "execution_count": 40,
   "id": "a7339080",
   "metadata": {},
   "outputs": [
    {
     "data": {
      "text/plain": [
       "10"
      ]
     },
     "execution_count": 40,
     "metadata": {},
     "output_type": "execute_result"
    }
   ],
   "source": [
    "len(ds_job_location_ncr)"
   ]
  },
  {
   "cell_type": "code",
   "execution_count": 41,
   "id": "a4575d29",
   "metadata": {},
   "outputs": [],
   "source": [
    "company_ncr = driver.find_elements(By.XPATH,'//a[@class=\"subTitle ellipsis fleft\"]')\n",
    "for i in company_ncr [0:10]:\n",
    "    company1 = i.text\n",
    "    ds_company_name_ncr.append(company1)"
   ]
  },
  {
   "cell_type": "code",
   "execution_count": 42,
   "id": "f2a0d3f3",
   "metadata": {},
   "outputs": [
    {
     "data": {
      "text/plain": [
       "10"
      ]
     },
     "execution_count": 42,
     "metadata": {},
     "output_type": "execute_result"
    }
   ],
   "source": [
    "len(ds_company_name_ncr)"
   ]
  },
  {
   "cell_type": "code",
   "execution_count": 43,
   "id": "98b96da0",
   "metadata": {},
   "outputs": [],
   "source": [
    "experiance_ncr = driver.find_elements(By.XPATH,'//span[@class=\"ellipsis fleft expwdth\"]')\n",
    "for i in experiance_ncr[0:10]:\n",
    "    exp2 = i.text\n",
    "    ds_experiance_required_ncr.append(exp2)"
   ]
  },
  {
   "cell_type": "code",
   "execution_count": 44,
   "id": "b39bf7bc",
   "metadata": {},
   "outputs": [
    {
     "data": {
      "text/plain": [
       "['0-2 Yrs',\n",
       " '3-7 Yrs',\n",
       " '3-8 Yrs',\n",
       " '2-4 Yrs',\n",
       " '3-8 Yrs',\n",
       " '7-12 Yrs',\n",
       " '0-1 Yrs',\n",
       " '2-6 Yrs',\n",
       " '2-4 Yrs',\n",
       " '1-6 Yrs']"
      ]
     },
     "execution_count": 44,
     "metadata": {},
     "output_type": "execute_result"
    }
   ],
   "source": [
    "ds_experiance_required_ncr"
   ]
  },
  {
   "cell_type": "code",
   "execution_count": 45,
   "id": "2ec9f661",
   "metadata": {},
   "outputs": [
    {
     "data": {
      "text/plain": [
       "10"
      ]
     },
     "execution_count": 45,
     "metadata": {},
     "output_type": "execute_result"
    }
   ],
   "source": [
    "len(ds_experiance_required_ncr)"
   ]
  },
  {
   "cell_type": "code",
   "execution_count": 46,
   "id": "565eb424",
   "metadata": {},
   "outputs": [],
   "source": [
    "import pandas as pd"
   ]
  },
  {
   "cell_type": "code",
   "execution_count": 47,
   "id": "9f1aff49",
   "metadata": {},
   "outputs": [
    {
     "data": {
      "text/html": [
       "<div>\n",
       "<style scoped>\n",
       "    .dataframe tbody tr th:only-of-type {\n",
       "        vertical-align: middle;\n",
       "    }\n",
       "\n",
       "    .dataframe tbody tr th {\n",
       "        vertical-align: top;\n",
       "    }\n",
       "\n",
       "    .dataframe thead th {\n",
       "        text-align: right;\n",
       "    }\n",
       "</style>\n",
       "<table border=\"1\" class=\"dataframe\">\n",
       "  <thead>\n",
       "    <tr style=\"text-align: right;\">\n",
       "      <th></th>\n",
       "      <th>Job Title</th>\n",
       "      <th>Job Location</th>\n",
       "      <th>Company Name</th>\n",
       "      <th>Experiance</th>\n",
       "    </tr>\n",
       "  </thead>\n",
       "  <tbody>\n",
       "    <tr>\n",
       "      <th>0</th>\n",
       "      <td>Junior Data Scientist</td>\n",
       "      <td>Kolkata, Mumbai, New Delhi, Hyderabad/Secunder...</td>\n",
       "      <td>Analytos</td>\n",
       "      <td>0-2 Yrs</td>\n",
       "    </tr>\n",
       "    <tr>\n",
       "      <th>1</th>\n",
       "      <td>Data Scientist</td>\n",
       "      <td>Gurgaon/Gurugram, Bangalore/Bengaluru</td>\n",
       "      <td>Blackbuck</td>\n",
       "      <td>3-7 Yrs</td>\n",
       "    </tr>\n",
       "    <tr>\n",
       "      <th>2</th>\n",
       "      <td>Data Scientist</td>\n",
       "      <td>Noida</td>\n",
       "      <td>Jubilant Ingrevia Limited</td>\n",
       "      <td>3-8 Yrs</td>\n",
       "    </tr>\n",
       "    <tr>\n",
       "      <th>3</th>\n",
       "      <td>Data Scientist</td>\n",
       "      <td>Kolkata, Mumbai, New Delhi, Hyderabad/Secunder...</td>\n",
       "      <td>Analytos</td>\n",
       "      <td>2-4 Yrs</td>\n",
       "    </tr>\n",
       "    <tr>\n",
       "      <th>4</th>\n",
       "      <td>Python and ML Trainer</td>\n",
       "      <td>Hyderabad/Secunderabad, New Delhi, Pune, Gurga...</td>\n",
       "      <td>Thescholar</td>\n",
       "      <td>3-8 Yrs</td>\n",
       "    </tr>\n",
       "    <tr>\n",
       "      <th>5</th>\n",
       "      <td>Data Scientist</td>\n",
       "      <td>Delhi / NCR</td>\n",
       "      <td>Tata Consultancy Services (TCS)</td>\n",
       "      <td>7-12 Yrs</td>\n",
       "    </tr>\n",
       "    <tr>\n",
       "      <th>6</th>\n",
       "      <td>Intern</td>\n",
       "      <td>Gurgaon/Gurugram</td>\n",
       "      <td>Tower Research Capital</td>\n",
       "      <td>0-1 Yrs</td>\n",
       "    </tr>\n",
       "    <tr>\n",
       "      <th>7</th>\n",
       "      <td>Lead Assistant Manager</td>\n",
       "      <td>Gurgaon/Gurugram</td>\n",
       "      <td>EXL</td>\n",
       "      <td>2-6 Yrs</td>\n",
       "    </tr>\n",
       "    <tr>\n",
       "      <th>8</th>\n",
       "      <td>Data Scientist</td>\n",
       "      <td>Noida</td>\n",
       "      <td>Innovaccer</td>\n",
       "      <td>2-4 Yrs</td>\n",
       "    </tr>\n",
       "    <tr>\n",
       "      <th>9</th>\n",
       "      <td>Junior Data Scientist</td>\n",
       "      <td>Gurgaon/Gurugram, United States (USA), Bulgaria</td>\n",
       "      <td>Adidas</td>\n",
       "      <td>1-6 Yrs</td>\n",
       "    </tr>\n",
       "  </tbody>\n",
       "</table>\n",
       "</div>"
      ],
      "text/plain": [
       "                Job Title                                       Job Location  \\\n",
       "0   Junior Data Scientist  Kolkata, Mumbai, New Delhi, Hyderabad/Secunder...   \n",
       "1          Data Scientist              Gurgaon/Gurugram, Bangalore/Bengaluru   \n",
       "2          Data Scientist                                              Noida   \n",
       "3          Data Scientist  Kolkata, Mumbai, New Delhi, Hyderabad/Secunder...   \n",
       "4   Python and ML Trainer  Hyderabad/Secunderabad, New Delhi, Pune, Gurga...   \n",
       "5          Data Scientist                                        Delhi / NCR   \n",
       "6                  Intern                                   Gurgaon/Gurugram   \n",
       "7  Lead Assistant Manager                                   Gurgaon/Gurugram   \n",
       "8          Data Scientist                                              Noida   \n",
       "9   Junior Data Scientist    Gurgaon/Gurugram, United States (USA), Bulgaria   \n",
       "\n",
       "                      Company Name Experiance  \n",
       "0                         Analytos    0-2 Yrs  \n",
       "1                        Blackbuck    3-7 Yrs  \n",
       "2        Jubilant Ingrevia Limited    3-8 Yrs  \n",
       "3                         Analytos    2-4 Yrs  \n",
       "4                       Thescholar    3-8 Yrs  \n",
       "5  Tata Consultancy Services (TCS)   7-12 Yrs  \n",
       "6           Tower Research Capital    0-1 Yrs  \n",
       "7                              EXL    2-6 Yrs  \n",
       "8                       Innovaccer    2-4 Yrs  \n",
       "9                           Adidas    1-6 Yrs  "
      ]
     },
     "execution_count": 47,
     "metadata": {},
     "output_type": "execute_result"
    }
   ],
   "source": [
    "df = pd.DataFrame({'Job Title':ds_job_title_ncr,'Job Location': ds_job_location_ncr, 'Company Name':ds_company_name_ncr, 'Experiance':ds_experiance_required_ncr})\n",
    "df"
   ]
  },
  {
   "cell_type": "code",
   "execution_count": null,
   "id": "e94a32a3",
   "metadata": {},
   "outputs": [],
   "source": []
  },
  {
   "cell_type": "code",
   "execution_count": null,
   "id": "6353f0ee",
   "metadata": {},
   "outputs": [],
   "source": []
  },
  {
   "cell_type": "markdown",
   "id": "6c53bde4",
   "metadata": {},
   "source": [
    "# Question No.- 4"
   ]
  },
  {
   "cell_type": "code",
   "execution_count": 68,
   "id": "b10be5a0",
   "metadata": {},
   "outputs": [],
   "source": [
    "driver.get ('https://www.flipkart.com')"
   ]
  },
  {
   "cell_type": "code",
   "execution_count": 69,
   "id": "99835cad",
   "metadata": {},
   "outputs": [],
   "source": [
    "search = driver.find_element(By.XPATH,'/html/body/div/div/div[1]/div[1]/div[2]/div[2]/form/div/div/input')\n",
    "search.send_keys('sunglasses')"
   ]
  },
  {
   "cell_type": "code",
   "execution_count": 71,
   "id": "74251b1a",
   "metadata": {},
   "outputs": [],
   "source": [
    "find = driver.find_element(By.XPATH,'/html/body/div/div/div[1]/div[1]/div[2]/div[2]/form/div/button')\n",
    "find.click()"
   ]
  },
  {
   "cell_type": "code",
   "execution_count": 72,
   "id": "1a5e2d45",
   "metadata": {},
   "outputs": [
    {
     "data": {
      "text/plain": [
       "40"
      ]
     },
     "execution_count": 72,
     "metadata": {},
     "output_type": "execute_result"
    }
   ],
   "source": [
    "sunglasses = driver.find_elements(By.XPATH,'//div[@class=\"_2WkVRV\"]')\n",
    "len(sunglasses)"
   ]
  },
  {
   "cell_type": "code",
   "execution_count": 73,
   "id": "46f7b5b4",
   "metadata": {},
   "outputs": [],
   "source": [
    "sunglass_brand = []\n",
    "sun_pro_disc = []\n",
    "sunglasses_price = []"
   ]
  },
  {
   "cell_type": "code",
   "execution_count": null,
   "id": "102155cf",
   "metadata": {},
   "outputs": [],
   "source": []
  },
  {
   "cell_type": "code",
   "execution_count": 74,
   "id": "55ab95e9",
   "metadata": {},
   "outputs": [],
   "source": [
    "s_brand = []\n",
    "start=0\n",
    "end=3\n",
    "for page in range(start,end):\n",
    "    brand = driver.find_elements(By.XPATH,'//div[@class=\"_2WkVRV\"]')\n",
    "    for i in brand:\n",
    "        s_brand.append(i.text)\n",
    "    next_button = driver.find_element (By.XPATH,'//a[@class=\"_1LKTO3\"]')\n",
    "    next_button.click()\n",
    "    time.sleep(3)"
   ]
  },
  {
   "cell_type": "code",
   "execution_count": 75,
   "id": "4c888fdb",
   "metadata": {},
   "outputs": [
    {
     "data": {
      "text/plain": [
       "100"
      ]
     },
     "execution_count": 75,
     "metadata": {},
     "output_type": "execute_result"
    }
   ],
   "source": [
    "sunglasses_brand = s_brand[0:100]\n",
    "len(sunglasses_brand)"
   ]
  },
  {
   "cell_type": "code",
   "execution_count": 76,
   "id": "888bd908",
   "metadata": {},
   "outputs": [],
   "source": [
    "s_disc = []\n",
    "start=0\n",
    "end=3\n",
    "for page in range(start,end):\n",
    "    discription = driver.find_elements(By.XPATH,'//a[@class=\"IRpwTa\"]')\n",
    "    for i in discription:\n",
    "        s_disc.append(i.text)\n",
    "    next_button = driver.find_element (By.XPATH,'//a[@class=\"_1LKTO3\"]')\n",
    "    next_button.click()\n",
    "    time.sleep(3)"
   ]
  },
  {
   "cell_type": "code",
   "execution_count": 77,
   "id": "2359bfd8",
   "metadata": {},
   "outputs": [
    {
     "data": {
      "text/plain": [
       "100"
      ]
     },
     "execution_count": 77,
     "metadata": {},
     "output_type": "execute_result"
    }
   ],
   "source": [
    "sun_pro_disc = s_disc[0:100]\n",
    "len(sun_pro_disc)"
   ]
  },
  {
   "cell_type": "code",
   "execution_count": 78,
   "id": "2eccb334",
   "metadata": {},
   "outputs": [],
   "source": [
    "s_price = []\n",
    "start=0\n",
    "end=3\n",
    "for page in range(start,end):\n",
    "    price = driver.find_elements(By.XPATH,'//div[@class=\"_30jeq3\"]')\n",
    "    for i in price:\n",
    "        s_price.append(i.text)\n",
    "    next_button = driver.find_element (By.XPATH,'//a[@class=\"_1LKTO3\"]')\n",
    "    next_button.click()\n",
    "    time.sleep(3)"
   ]
  },
  {
   "cell_type": "code",
   "execution_count": 79,
   "id": "c375a3e0",
   "metadata": {},
   "outputs": [
    {
     "data": {
      "text/plain": [
       "100"
      ]
     },
     "execution_count": 79,
     "metadata": {},
     "output_type": "execute_result"
    }
   ],
   "source": [
    "sunglasses_price = s_price[0:100]\n",
    "len(sunglasses_price)"
   ]
  },
  {
   "cell_type": "code",
   "execution_count": 80,
   "id": "ba3082df",
   "metadata": {},
   "outputs": [],
   "source": [
    "import pandas as pd"
   ]
  },
  {
   "cell_type": "code",
   "execution_count": 81,
   "id": "222a6950",
   "metadata": {},
   "outputs": [
    {
     "data": {
      "text/html": [
       "<div>\n",
       "<style scoped>\n",
       "    .dataframe tbody tr th:only-of-type {\n",
       "        vertical-align: middle;\n",
       "    }\n",
       "\n",
       "    .dataframe tbody tr th {\n",
       "        vertical-align: top;\n",
       "    }\n",
       "\n",
       "    .dataframe thead th {\n",
       "        text-align: right;\n",
       "    }\n",
       "</style>\n",
       "<table border=\"1\" class=\"dataframe\">\n",
       "  <thead>\n",
       "    <tr style=\"text-align: right;\">\n",
       "      <th></th>\n",
       "      <th>Brand</th>\n",
       "      <th>Product Discription</th>\n",
       "      <th>Price</th>\n",
       "    </tr>\n",
       "  </thead>\n",
       "  <tbody>\n",
       "    <tr>\n",
       "      <th>0</th>\n",
       "      <td>OAKLEY</td>\n",
       "      <td>UV Protection Aviator Sunglasses (57)</td>\n",
       "      <td>₹435</td>\n",
       "    </tr>\n",
       "    <tr>\n",
       "      <th>1</th>\n",
       "      <td>ROZZETTA CRAFT</td>\n",
       "      <td>UV Protection Aviator Sunglasses (58)</td>\n",
       "      <td>₹7,239</td>\n",
       "    </tr>\n",
       "    <tr>\n",
       "      <th>2</th>\n",
       "      <td>SRPM</td>\n",
       "      <td>UV Protection, Polarized, Mirrored Wayfarer Su...</td>\n",
       "      <td>₹216</td>\n",
       "    </tr>\n",
       "    <tr>\n",
       "      <th>3</th>\n",
       "      <td>Elligator</td>\n",
       "      <td>Shield Sunglass</td>\n",
       "      <td>₹213</td>\n",
       "    </tr>\n",
       "    <tr>\n",
       "      <th>4</th>\n",
       "      <td>Elligator</td>\n",
       "      <td>UV Protection Round Sunglasses (54)</td>\n",
       "      <td>₹109</td>\n",
       "    </tr>\n",
       "    <tr>\n",
       "      <th>...</th>\n",
       "      <td>...</td>\n",
       "      <td>...</td>\n",
       "      <td>...</td>\n",
       "    </tr>\n",
       "    <tr>\n",
       "      <th>95</th>\n",
       "      <td>VINCENT CHASE</td>\n",
       "      <td>UV Protection Rectangular Sunglasses (Free Size)</td>\n",
       "      <td>₹5,300</td>\n",
       "    </tr>\n",
       "    <tr>\n",
       "      <th>96</th>\n",
       "      <td>Elligator</td>\n",
       "      <td>UV Protection Aviator Sunglasses (Free Size)</td>\n",
       "      <td>₹149</td>\n",
       "    </tr>\n",
       "    <tr>\n",
       "      <th>97</th>\n",
       "      <td>Fastrack</td>\n",
       "      <td>UV Protection Wayfarer Sunglasses (62)</td>\n",
       "      <td>₹569</td>\n",
       "    </tr>\n",
       "    <tr>\n",
       "      <th>98</th>\n",
       "      <td>PIRASO</td>\n",
       "      <td>UV Protection Rectangular Sunglasses (52)</td>\n",
       "      <td>₹214</td>\n",
       "    </tr>\n",
       "    <tr>\n",
       "      <th>99</th>\n",
       "      <td>VINCENT CHASE</td>\n",
       "      <td>UV Protection Wayfarer Sunglasses (62)</td>\n",
       "      <td>₹6,389</td>\n",
       "    </tr>\n",
       "  </tbody>\n",
       "</table>\n",
       "<p>100 rows × 3 columns</p>\n",
       "</div>"
      ],
      "text/plain": [
       "             Brand                                Product Discription   Price\n",
       "0           OAKLEY              UV Protection Aviator Sunglasses (57)    ₹435\n",
       "1   ROZZETTA CRAFT              UV Protection Aviator Sunglasses (58)  ₹7,239\n",
       "2             SRPM  UV Protection, Polarized, Mirrored Wayfarer Su...    ₹216\n",
       "3        Elligator                                    Shield Sunglass    ₹213\n",
       "4        Elligator                UV Protection Round Sunglasses (54)    ₹109\n",
       "..             ...                                                ...     ...\n",
       "95   VINCENT CHASE   UV Protection Rectangular Sunglasses (Free Size)  ₹5,300\n",
       "96       Elligator       UV Protection Aviator Sunglasses (Free Size)    ₹149\n",
       "97        Fastrack             UV Protection Wayfarer Sunglasses (62)    ₹569\n",
       "98          PIRASO          UV Protection Rectangular Sunglasses (52)    ₹214\n",
       "99   VINCENT CHASE             UV Protection Wayfarer Sunglasses (62)  ₹6,389\n",
       "\n",
       "[100 rows x 3 columns]"
      ]
     },
     "execution_count": 81,
     "metadata": {},
     "output_type": "execute_result"
    }
   ],
   "source": [
    "df = pd.DataFrame({'Brand':sunglasses_brand,'Product Discription':sun_pro_disc,'Price':sunglasses_price})\n",
    "df"
   ]
  },
  {
   "cell_type": "code",
   "execution_count": null,
   "id": "279e3621",
   "metadata": {},
   "outputs": [],
   "source": []
  },
  {
   "cell_type": "markdown",
   "id": "001f94de",
   "metadata": {},
   "source": [
    "# Question No.-5"
   ]
  },
  {
   "cell_type": "code",
   "execution_count": 82,
   "id": "8023e5ca",
   "metadata": {},
   "outputs": [],
   "source": [
    "driver.get ('https://www.flipkart.com')"
   ]
  },
  {
   "cell_type": "code",
   "execution_count": null,
   "id": "549c51d4",
   "metadata": {},
   "outputs": [],
   "source": [
    "search = driver.find_element(By.XPATH,'/html/body/div/div/div[1]/div[1]/div[2]/div[2]/form/div/div/input')\n",
    "search.send_keys('apple iphone 11 black 64 gb')"
   ]
  },
  {
   "cell_type": "code",
   "execution_count": null,
   "id": "c424df35",
   "metadata": {},
   "outputs": [],
   "source": [
    "find_button = driver.find_element(By.XPATH,'/html/body/div/div/div[1]/div[1]/div[2]/div[2]/form/div/button')\n",
    "find_button.click()"
   ]
  },
  {
   "cell_type": "code",
   "execution_count": null,
   "id": "c170e026",
   "metadata": {},
   "outputs": [],
   "source": [
    "phone = driver .find_element(By.CLASS_NAME,'_4rR01T')\n",
    "phone.click()"
   ]
  },
  {
   "cell_type": "code",
   "execution_count": null,
   "id": "abbb6ff9",
   "metadata": {},
   "outputs": [],
   "source": [
    "rating_all = []\n",
    "review_summary = []\n",
    "full_review = []"
   ]
  },
  {
   "cell_type": "code",
   "execution_count": null,
   "id": "d86d6277",
   "metadata": {},
   "outputs": [],
   "source": [
    "star_rating = driver.find_elements(By.XPATH,'//div[@class=\"_3LWZlK _1BLPMq\"]')"
   ]
  },
  {
   "cell_type": "code",
   "execution_count": null,
   "id": "e9e8bbc7",
   "metadata": {},
   "outputs": [],
   "source": [
    "star_rating"
   ]
  },
  {
   "cell_type": "code",
   "execution_count": null,
   "id": "282b014a",
   "metadata": {},
   "outputs": [],
   "source": [
    "# i think there is problem with above \"flipkart code\", because i have tried soo many times with different 'class-name', \n",
    "# 'absolute-xpath', 'relative-xpath', but always the output list is shown empty, weather the same code is working with the flip-\n",
    "# -kart other products / questions.  so unable to this particular question. PLEASE PROVIDE THE SOLUTION FOR THE ABOVE QUESTION."
   ]
  },
  {
   "cell_type": "code",
   "execution_count": null,
   "id": "d3a0737a",
   "metadata": {},
   "outputs": [],
   "source": []
  },
  {
   "cell_type": "markdown",
   "id": "e17e931f",
   "metadata": {},
   "source": [
    "# Question No.- 6"
   ]
  },
  {
   "cell_type": "code",
   "execution_count": 83,
   "id": "aa86dbde",
   "metadata": {},
   "outputs": [],
   "source": [
    "driver.get ('https://www.flipkart.com')"
   ]
  },
  {
   "cell_type": "code",
   "execution_count": 84,
   "id": "08df3d02",
   "metadata": {},
   "outputs": [],
   "source": [
    "search = driver.find_element(By.XPATH,'/html/body/div/div/div[1]/div[1]/div[2]/div[2]/form/div/div/input')\n",
    "search.send_keys('sneakers')"
   ]
  },
  {
   "cell_type": "code",
   "execution_count": 85,
   "id": "236dbbee",
   "metadata": {},
   "outputs": [],
   "source": [
    "find_button = driver.find_element(By.XPATH,'/html/body/div/div/div[1]/div[1]/div[2]/div[2]/form/div/button')\n",
    "find_button.click()"
   ]
  },
  {
   "cell_type": "code",
   "execution_count": 86,
   "id": "4bf14201",
   "metadata": {},
   "outputs": [],
   "source": [
    "brand_all = []\n",
    "discription_all = []\n",
    "price_all = []"
   ]
  },
  {
   "cell_type": "code",
   "execution_count": 87,
   "id": "2ee69210",
   "metadata": {},
   "outputs": [],
   "source": [
    "brand = driver.find_elements(By.XPATH,'//div[@class=\"_2WkVRV\"]')\n",
    "for i in brand [0:40]:\n",
    "    brand1 = i.text\n",
    "    brand_all.append(brand1)"
   ]
  },
  {
   "cell_type": "code",
   "execution_count": 88,
   "id": "cc240e9d",
   "metadata": {},
   "outputs": [
    {
     "data": {
      "text/plain": [
       "40"
      ]
     },
     "execution_count": 88,
     "metadata": {},
     "output_type": "execute_result"
    }
   ],
   "source": [
    "len(brand_all)"
   ]
  },
  {
   "cell_type": "code",
   "execution_count": 89,
   "id": "3747c17f",
   "metadata": {},
   "outputs": [],
   "source": [
    "brand_name = []"
   ]
  },
  {
   "cell_type": "code",
   "execution_count": 90,
   "id": "f3cc23f2",
   "metadata": {},
   "outputs": [],
   "source": [
    "start=0\n",
    "end=3\n",
    "for page in range (start,end):\n",
    "    name = driver.find_elements(By.XPATH,'//div[@class=\"_2WkVRV\"]')\n",
    "    for i in name:\n",
    "        brand_name.append(i.text)\n",
    "    next_button = driver.find_element (By.XPATH,'//a[@class=\"_1LKTO3\"]')\n",
    "    next_button.click()\n",
    "    time.sleep(3)"
   ]
  },
  {
   "cell_type": "code",
   "execution_count": 91,
   "id": "62e39543",
   "metadata": {},
   "outputs": [
    {
     "data": {
      "text/plain": [
       "120"
      ]
     },
     "execution_count": 91,
     "metadata": {},
     "output_type": "execute_result"
    }
   ],
   "source": [
    "len(brand_name)"
   ]
  },
  {
   "cell_type": "code",
   "execution_count": 92,
   "id": "46e5927c",
   "metadata": {},
   "outputs": [
    {
     "data": {
      "text/plain": [
       "100"
      ]
     },
     "execution_count": 92,
     "metadata": {},
     "output_type": "execute_result"
    }
   ],
   "source": [
    "brand_all = brand_name[0:100]\n",
    "len(brand_all)"
   ]
  },
  {
   "cell_type": "code",
   "execution_count": 93,
   "id": "292c984c",
   "metadata": {},
   "outputs": [],
   "source": [
    "disc = []\n",
    "start=0\n",
    "end=3\n",
    "for page in range (start,end):\n",
    "    discription = driver.find_elements (By.XPATH,'//a[@class=\"IRpwTa\"]')\n",
    "    for i in discription:\n",
    "        disc.append(i.text)\n",
    "    next_button = driver.find_element (By.XPATH,'//a[@class=\"_1LKTO3\"]')\n",
    "    next_button.click()\n",
    "    time.sleep(3)\n",
    "    "
   ]
  },
  {
   "cell_type": "code",
   "execution_count": 94,
   "id": "332f1420",
   "metadata": {},
   "outputs": [
    {
     "data": {
      "text/plain": [
       "100"
      ]
     },
     "execution_count": 94,
     "metadata": {},
     "output_type": "execute_result"
    }
   ],
   "source": [
    "discription_all = disc[0:100]\n",
    "len(discription_all)"
   ]
  },
  {
   "cell_type": "code",
   "execution_count": 95,
   "id": "ded48b49",
   "metadata": {},
   "outputs": [],
   "source": [
    "price = []\n",
    "start=0\n",
    "end=3\n",
    "for page in range(start,end):\n",
    "    rate = driver.find_elements(By.XPATH,'//div[@class=\"_30jeq3\"]')\n",
    "    for i in rate:\n",
    "        price.append(i.text)\n",
    "    next_button = driver.find_element (By.XPATH,'//a[@class=\"_1LKTO3\"]')\n",
    "    next_button.click()\n",
    "    time.sleep(3)"
   ]
  },
  {
   "cell_type": "code",
   "execution_count": 96,
   "id": "7832e7e7",
   "metadata": {},
   "outputs": [
    {
     "data": {
      "text/plain": [
       "100"
      ]
     },
     "execution_count": 96,
     "metadata": {},
     "output_type": "execute_result"
    }
   ],
   "source": [
    "price_all = price [0:100]\n",
    "len(price_all)"
   ]
  },
  {
   "cell_type": "code",
   "execution_count": 97,
   "id": "5cd17674",
   "metadata": {},
   "outputs": [
    {
     "data": {
      "text/plain": [
       "(100, 100, 100)"
      ]
     },
     "execution_count": 97,
     "metadata": {},
     "output_type": "execute_result"
    }
   ],
   "source": [
    "len(brand_all),len(discription_all),len(price_all)"
   ]
  },
  {
   "cell_type": "code",
   "execution_count": 98,
   "id": "1773f4dc",
   "metadata": {},
   "outputs": [],
   "source": [
    "import pandas as pd"
   ]
  },
  {
   "cell_type": "code",
   "execution_count": 99,
   "id": "3db72625",
   "metadata": {},
   "outputs": [
    {
     "data": {
      "text/html": [
       "<div>\n",
       "<style scoped>\n",
       "    .dataframe tbody tr th:only-of-type {\n",
       "        vertical-align: middle;\n",
       "    }\n",
       "\n",
       "    .dataframe tbody tr th {\n",
       "        vertical-align: top;\n",
       "    }\n",
       "\n",
       "    .dataframe thead th {\n",
       "        text-align: right;\n",
       "    }\n",
       "</style>\n",
       "<table border=\"1\" class=\"dataframe\">\n",
       "  <thead>\n",
       "    <tr style=\"text-align: right;\">\n",
       "      <th></th>\n",
       "      <th>Brand Name</th>\n",
       "      <th>Product Discription</th>\n",
       "      <th>Price</th>\n",
       "    </tr>\n",
       "  </thead>\n",
       "  <tbody>\n",
       "    <tr>\n",
       "      <th>0</th>\n",
       "      <td>CAMPUS</td>\n",
       "      <td>White Sneaker For Men Sneakers For Men</td>\n",
       "      <td>₹1,849</td>\n",
       "    </tr>\n",
       "    <tr>\n",
       "      <th>1</th>\n",
       "      <td>New Balance</td>\n",
       "      <td>2006 Trenddy Fashion Sporty Casuals Sneakers R...</td>\n",
       "      <td>₹399</td>\n",
       "    </tr>\n",
       "    <tr>\n",
       "      <th>2</th>\n",
       "      <td>aadi</td>\n",
       "      <td>Modern Trendy Shoes Sneakers For Men</td>\n",
       "      <td>₹249</td>\n",
       "    </tr>\n",
       "    <tr>\n",
       "      <th>3</th>\n",
       "      <td>BIRDE</td>\n",
       "      <td>Combo Pack Of 2 Casual Shoes Sneakers For Men</td>\n",
       "      <td>₹479</td>\n",
       "    </tr>\n",
       "    <tr>\n",
       "      <th>4</th>\n",
       "      <td>HIGHLANDER</td>\n",
       "      <td>Stylish &amp; Trending Outdoor Walking Comfortable...</td>\n",
       "      <td>₹599</td>\n",
       "    </tr>\n",
       "    <tr>\n",
       "      <th>...</th>\n",
       "      <td>...</td>\n",
       "      <td>...</td>\n",
       "      <td>...</td>\n",
       "    </tr>\n",
       "    <tr>\n",
       "      <th>95</th>\n",
       "      <td>KILLER</td>\n",
       "      <td>WATERPROOF-05cFULLBLACK Sneakers For Men</td>\n",
       "      <td>₹569</td>\n",
       "    </tr>\n",
       "    <tr>\n",
       "      <th>96</th>\n",
       "      <td>Krors</td>\n",
       "      <td>Sneakers For Men</td>\n",
       "      <td>₹399</td>\n",
       "    </tr>\n",
       "    <tr>\n",
       "      <th>97</th>\n",
       "      <td>Field Care</td>\n",
       "      <td>Stylish Trendy Outdoor High Ankle Jordan Boots...</td>\n",
       "      <td>₹524</td>\n",
       "    </tr>\n",
       "    <tr>\n",
       "      <th>98</th>\n",
       "      <td>aadi</td>\n",
       "      <td>Sneakers For Men</td>\n",
       "      <td>₹249</td>\n",
       "    </tr>\n",
       "    <tr>\n",
       "      <th>99</th>\n",
       "      <td>World Wear Footwear</td>\n",
       "      <td>Stylish &amp; Trending Outdoor Walking Comfortable...</td>\n",
       "      <td>₹369</td>\n",
       "    </tr>\n",
       "  </tbody>\n",
       "</table>\n",
       "<p>100 rows × 3 columns</p>\n",
       "</div>"
      ],
      "text/plain": [
       "             Brand Name                                Product Discription  \\\n",
       "0                CAMPUS             White Sneaker For Men Sneakers For Men   \n",
       "1           New Balance  2006 Trenddy Fashion Sporty Casuals Sneakers R...   \n",
       "2                  aadi               Modern Trendy Shoes Sneakers For Men   \n",
       "3                 BIRDE      Combo Pack Of 2 Casual Shoes Sneakers For Men   \n",
       "4            HIGHLANDER  Stylish & Trending Outdoor Walking Comfortable...   \n",
       "..                  ...                                                ...   \n",
       "95               KILLER           WATERPROOF-05cFULLBLACK Sneakers For Men   \n",
       "96                Krors                                   Sneakers For Men   \n",
       "97           Field Care  Stylish Trendy Outdoor High Ankle Jordan Boots...   \n",
       "98                 aadi                                   Sneakers For Men   \n",
       "99  World Wear Footwear  Stylish & Trending Outdoor Walking Comfortable...   \n",
       "\n",
       "     Price  \n",
       "0   ₹1,849  \n",
       "1     ₹399  \n",
       "2     ₹249  \n",
       "3     ₹479  \n",
       "4     ₹599  \n",
       "..     ...  \n",
       "95    ₹569  \n",
       "96    ₹399  \n",
       "97    ₹524  \n",
       "98    ₹249  \n",
       "99    ₹369  \n",
       "\n",
       "[100 rows x 3 columns]"
      ]
     },
     "execution_count": 99,
     "metadata": {},
     "output_type": "execute_result"
    }
   ],
   "source": [
    "df = pd.DataFrame({'Brand Name':brand_all,'Product Discription':discription_all,'Price':price_all})\n",
    "df"
   ]
  },
  {
   "cell_type": "code",
   "execution_count": null,
   "id": "39f88db1",
   "metadata": {},
   "outputs": [],
   "source": []
  },
  {
   "cell_type": "markdown",
   "id": "53e3b78d",
   "metadata": {},
   "source": [
    "# Question No.- 7"
   ]
  },
  {
   "cell_type": "code",
   "execution_count": 100,
   "id": "5826afae",
   "metadata": {},
   "outputs": [],
   "source": [
    "driver = webdriver.Chrome (r'chromedriver.exe')"
   ]
  },
  {
   "cell_type": "code",
   "execution_count": 101,
   "id": "4bf38375",
   "metadata": {},
   "outputs": [],
   "source": [
    "driver.get('https://www.amazon.in/')"
   ]
  },
  {
   "cell_type": "code",
   "execution_count": 102,
   "id": "cabe67a2",
   "metadata": {},
   "outputs": [],
   "source": [
    "title_all =[]\n",
    "ratings_all =[]\n",
    "price_all =[]"
   ]
  },
  {
   "cell_type": "code",
   "execution_count": 103,
   "id": "196dc8da",
   "metadata": {},
   "outputs": [],
   "source": [
    "title_tag = driver.find_element(By.XPATH,'/html/body/div[1]/header/div/div[1]/div[2]/div/form/div[2]/div[1]/input')\n",
    "title_tag.send_keys('LAPTOP')"
   ]
  },
  {
   "cell_type": "code",
   "execution_count": 104,
   "id": "fe5218ec",
   "metadata": {},
   "outputs": [],
   "source": [
    "search_button = driver.find_element(By.XPATH,'/html/body/div[1]/header/div/div[1]/div[2]/div/form/div[3]/div/span/input')\n",
    "search_button.click()"
   ]
  },
  {
   "cell_type": "code",
   "execution_count": 105,
   "id": "e41636e0",
   "metadata": {},
   "outputs": [],
   "source": [
    "filter_cpu = driver.find_element(By.XPATH,'/html/body/div[1]/div[2]/div[1]/div[2]/div/div[3]/span/div[1]/div/div/div[6]/ul[6]/span[11]/li/span/a/div/label/i')\n",
    "filter_cpu.click()"
   ]
  },
  {
   "cell_type": "code",
   "execution_count": null,
   "id": "34a8009f",
   "metadata": {},
   "outputs": [],
   "source": []
  },
  {
   "cell_type": "code",
   "execution_count": 106,
   "id": "9ffd3982",
   "metadata": {},
   "outputs": [],
   "source": [
    "laptop_title = driver.find_elements(By.XPATH,'//span[@class=\"a-size-medium a-color-base a-text-normal\"]')\n",
    "for i in laptop_title[0:10]:\n",
    "    laptop = i.text\n",
    "    title_all.append(laptop)\n"
   ]
  },
  {
   "cell_type": "code",
   "execution_count": 107,
   "id": "18093fde",
   "metadata": {},
   "outputs": [],
   "source": [
    "title_all = laptop_title[0:10]"
   ]
  },
  {
   "cell_type": "code",
   "execution_count": 108,
   "id": "071bb535",
   "metadata": {},
   "outputs": [
    {
     "data": {
      "text/plain": [
       "10"
      ]
     },
     "execution_count": 108,
     "metadata": {},
     "output_type": "execute_result"
    }
   ],
   "source": [
    "len(title_all)"
   ]
  },
  {
   "cell_type": "code",
   "execution_count": null,
   "id": "515befef",
   "metadata": {},
   "outputs": [],
   "source": []
  },
  {
   "cell_type": "code",
   "execution_count": 109,
   "id": "a2acf301",
   "metadata": {},
   "outputs": [],
   "source": [
    "laptop_rating = driver.find_elements(By.XPATH,'//span[@class=\"a-icon-alt\"]')\n",
    "for i in laptop_rating[0:10]:\n",
    "    rating = i.text\n",
    "    ratings_all.append(laptop)"
   ]
  },
  {
   "cell_type": "code",
   "execution_count": 110,
   "id": "8b0b9f6c",
   "metadata": {},
   "outputs": [
    {
     "data": {
      "text/plain": [
       "10"
      ]
     },
     "execution_count": 110,
     "metadata": {},
     "output_type": "execute_result"
    }
   ],
   "source": [
    "ratings_all = laptop_rating[0:10]\n",
    "len(ratings_all)"
   ]
  },
  {
   "cell_type": "code",
   "execution_count": 111,
   "id": "eca524a6",
   "metadata": {},
   "outputs": [],
   "source": [
    "laptop_price = driver.find_elements(By.XPATH,'//span[@class=\"a-price-whole\"]')\n",
    "for i in laptop_price[0:10]:\n",
    "    price1 = i.text\n",
    "    price_all.append(price1)"
   ]
  },
  {
   "cell_type": "code",
   "execution_count": 112,
   "id": "3b4f97ad",
   "metadata": {},
   "outputs": [
    {
     "data": {
      "text/plain": [
       "10"
      ]
     },
     "execution_count": 112,
     "metadata": {},
     "output_type": "execute_result"
    }
   ],
   "source": [
    "price_all = laptop_price[0:10]\n",
    "len(price_all)"
   ]
  },
  {
   "cell_type": "code",
   "execution_count": 113,
   "id": "2ba527d6",
   "metadata": {},
   "outputs": [
    {
     "data": {
      "text/plain": [
       "(10, 10, 10)"
      ]
     },
     "execution_count": 113,
     "metadata": {},
     "output_type": "execute_result"
    }
   ],
   "source": [
    "len(title_all),len(ratings_all),len(price_all)"
   ]
  },
  {
   "cell_type": "code",
   "execution_count": null,
   "id": "964f1bc7",
   "metadata": {},
   "outputs": [],
   "source": []
  },
  {
   "cell_type": "code",
   "execution_count": 114,
   "id": "d8b111f6",
   "metadata": {},
   "outputs": [],
   "source": [
    "import pandas as pd"
   ]
  },
  {
   "cell_type": "code",
   "execution_count": 115,
   "id": "70ce27c8",
   "metadata": {},
   "outputs": [
    {
     "data": {
      "text/html": [
       "<div>\n",
       "<style scoped>\n",
       "    .dataframe tbody tr th:only-of-type {\n",
       "        vertical-align: middle;\n",
       "    }\n",
       "\n",
       "    .dataframe tbody tr th {\n",
       "        vertical-align: top;\n",
       "    }\n",
       "\n",
       "    .dataframe thead th {\n",
       "        text-align: right;\n",
       "    }\n",
       "</style>\n",
       "<table border=\"1\" class=\"dataframe\">\n",
       "  <thead>\n",
       "    <tr style=\"text-align: right;\">\n",
       "      <th></th>\n",
       "      <th>Title</th>\n",
       "      <th>Ratings</th>\n",
       "      <th>Price</th>\n",
       "    </tr>\n",
       "  </thead>\n",
       "  <tbody>\n",
       "    <tr>\n",
       "      <th>0</th>\n",
       "      <td>&lt;selenium.webdriver.remote.webelement.WebEleme...</td>\n",
       "      <td>&lt;selenium.webdriver.remote.webelement.WebEleme...</td>\n",
       "      <td>&lt;selenium.webdriver.remote.webelement.WebEleme...</td>\n",
       "    </tr>\n",
       "    <tr>\n",
       "      <th>1</th>\n",
       "      <td>&lt;selenium.webdriver.remote.webelement.WebEleme...</td>\n",
       "      <td>&lt;selenium.webdriver.remote.webelement.WebEleme...</td>\n",
       "      <td>&lt;selenium.webdriver.remote.webelement.WebEleme...</td>\n",
       "    </tr>\n",
       "    <tr>\n",
       "      <th>2</th>\n",
       "      <td>&lt;selenium.webdriver.remote.webelement.WebEleme...</td>\n",
       "      <td>&lt;selenium.webdriver.remote.webelement.WebEleme...</td>\n",
       "      <td>&lt;selenium.webdriver.remote.webelement.WebEleme...</td>\n",
       "    </tr>\n",
       "    <tr>\n",
       "      <th>3</th>\n",
       "      <td>&lt;selenium.webdriver.remote.webelement.WebEleme...</td>\n",
       "      <td>&lt;selenium.webdriver.remote.webelement.WebEleme...</td>\n",
       "      <td>&lt;selenium.webdriver.remote.webelement.WebEleme...</td>\n",
       "    </tr>\n",
       "    <tr>\n",
       "      <th>4</th>\n",
       "      <td>&lt;selenium.webdriver.remote.webelement.WebEleme...</td>\n",
       "      <td>&lt;selenium.webdriver.remote.webelement.WebEleme...</td>\n",
       "      <td>&lt;selenium.webdriver.remote.webelement.WebEleme...</td>\n",
       "    </tr>\n",
       "    <tr>\n",
       "      <th>5</th>\n",
       "      <td>&lt;selenium.webdriver.remote.webelement.WebEleme...</td>\n",
       "      <td>&lt;selenium.webdriver.remote.webelement.WebEleme...</td>\n",
       "      <td>&lt;selenium.webdriver.remote.webelement.WebEleme...</td>\n",
       "    </tr>\n",
       "    <tr>\n",
       "      <th>6</th>\n",
       "      <td>&lt;selenium.webdriver.remote.webelement.WebEleme...</td>\n",
       "      <td>&lt;selenium.webdriver.remote.webelement.WebEleme...</td>\n",
       "      <td>&lt;selenium.webdriver.remote.webelement.WebEleme...</td>\n",
       "    </tr>\n",
       "    <tr>\n",
       "      <th>7</th>\n",
       "      <td>&lt;selenium.webdriver.remote.webelement.WebEleme...</td>\n",
       "      <td>&lt;selenium.webdriver.remote.webelement.WebEleme...</td>\n",
       "      <td>&lt;selenium.webdriver.remote.webelement.WebEleme...</td>\n",
       "    </tr>\n",
       "    <tr>\n",
       "      <th>8</th>\n",
       "      <td>&lt;selenium.webdriver.remote.webelement.WebEleme...</td>\n",
       "      <td>&lt;selenium.webdriver.remote.webelement.WebEleme...</td>\n",
       "      <td>&lt;selenium.webdriver.remote.webelement.WebEleme...</td>\n",
       "    </tr>\n",
       "    <tr>\n",
       "      <th>9</th>\n",
       "      <td>&lt;selenium.webdriver.remote.webelement.WebEleme...</td>\n",
       "      <td>&lt;selenium.webdriver.remote.webelement.WebEleme...</td>\n",
       "      <td>&lt;selenium.webdriver.remote.webelement.WebEleme...</td>\n",
       "    </tr>\n",
       "  </tbody>\n",
       "</table>\n",
       "</div>"
      ],
      "text/plain": [
       "                                               Title  \\\n",
       "0  <selenium.webdriver.remote.webelement.WebEleme...   \n",
       "1  <selenium.webdriver.remote.webelement.WebEleme...   \n",
       "2  <selenium.webdriver.remote.webelement.WebEleme...   \n",
       "3  <selenium.webdriver.remote.webelement.WebEleme...   \n",
       "4  <selenium.webdriver.remote.webelement.WebEleme...   \n",
       "5  <selenium.webdriver.remote.webelement.WebEleme...   \n",
       "6  <selenium.webdriver.remote.webelement.WebEleme...   \n",
       "7  <selenium.webdriver.remote.webelement.WebEleme...   \n",
       "8  <selenium.webdriver.remote.webelement.WebEleme...   \n",
       "9  <selenium.webdriver.remote.webelement.WebEleme...   \n",
       "\n",
       "                                             Ratings  \\\n",
       "0  <selenium.webdriver.remote.webelement.WebEleme...   \n",
       "1  <selenium.webdriver.remote.webelement.WebEleme...   \n",
       "2  <selenium.webdriver.remote.webelement.WebEleme...   \n",
       "3  <selenium.webdriver.remote.webelement.WebEleme...   \n",
       "4  <selenium.webdriver.remote.webelement.WebEleme...   \n",
       "5  <selenium.webdriver.remote.webelement.WebEleme...   \n",
       "6  <selenium.webdriver.remote.webelement.WebEleme...   \n",
       "7  <selenium.webdriver.remote.webelement.WebEleme...   \n",
       "8  <selenium.webdriver.remote.webelement.WebEleme...   \n",
       "9  <selenium.webdriver.remote.webelement.WebEleme...   \n",
       "\n",
       "                                               Price  \n",
       "0  <selenium.webdriver.remote.webelement.WebEleme...  \n",
       "1  <selenium.webdriver.remote.webelement.WebEleme...  \n",
       "2  <selenium.webdriver.remote.webelement.WebEleme...  \n",
       "3  <selenium.webdriver.remote.webelement.WebEleme...  \n",
       "4  <selenium.webdriver.remote.webelement.WebEleme...  \n",
       "5  <selenium.webdriver.remote.webelement.WebEleme...  \n",
       "6  <selenium.webdriver.remote.webelement.WebEleme...  \n",
       "7  <selenium.webdriver.remote.webelement.WebEleme...  \n",
       "8  <selenium.webdriver.remote.webelement.WebEleme...  \n",
       "9  <selenium.webdriver.remote.webelement.WebEleme...  "
      ]
     },
     "execution_count": 115,
     "metadata": {},
     "output_type": "execute_result"
    }
   ],
   "source": [
    "df = pd.DataFrame({'Title':title_all,'Ratings':ratings_all,'Price':price_all})\n",
    "df"
   ]
  },
  {
   "cell_type": "code",
   "execution_count": null,
   "id": "fef11487",
   "metadata": {},
   "outputs": [],
   "source": []
  },
  {
   "cell_type": "code",
   "execution_count": null,
   "id": "90db8283",
   "metadata": {},
   "outputs": [],
   "source": []
  },
  {
   "cell_type": "markdown",
   "id": "c78a5d97",
   "metadata": {},
   "source": [
    "# Question- 8"
   ]
  },
  {
   "cell_type": "code",
   "execution_count": 137,
   "id": "59f3a1fc",
   "metadata": {},
   "outputs": [],
   "source": [
    "driver.get ('https://www.azquotes.com/')"
   ]
  },
  {
   "cell_type": "code",
   "execution_count": 138,
   "id": "ffd98346",
   "metadata": {},
   "outputs": [],
   "source": [
    "top_quotes = driver .find_element(By.XPATH,'/html/body/div[1]/div[1]/div[1]/div/div[3]/ul/li[5]/a')\n",
    "top_quotes.click()"
   ]
  },
  {
   "cell_type": "code",
   "execution_count": 139,
   "id": "e648a695",
   "metadata": {},
   "outputs": [],
   "source": [
    "quotes = []\n",
    "author = []\n",
    "type_of_quotes = []"
   ]
  },
  {
   "cell_type": "code",
   "execution_count": 154,
   "id": "355b0355",
   "metadata": {},
   "outputs": [],
   "source": [
    "# start=0\n",
    "# end=10\n",
    "# for page in range (start,end):\n",
    "#     quotes_tag = driver.find_elements(By.XPATH,'//a[@class=\"title\"]')\n",
    "#     for i in quotes_tag:\n",
    "#         quotes.append(i.text)\n",
    "#     next_button = driver.find_element(By.XPATH,'/html/body/div[1]/div[2]/div/div/div/div[1]/div/div[3]/li[12]/a')\n",
    "#     next_button.click()\n",
    "#     time.sleep(5)"
   ]
  },
  {
   "cell_type": "code",
   "execution_count": 155,
   "id": "a631ed1e",
   "metadata": {},
   "outputs": [],
   "source": [
    "quotes_tag = driver.find_elements(By.XPATH,'//a[@class=\"title\"]')\n",
    "for i in quotes_tag[0:100]:\n",
    "    quot = i.text\n",
    "    quotes.append(quot)"
   ]
  },
  {
   "cell_type": "code",
   "execution_count": 159,
   "id": "b66311f8",
   "metadata": {},
   "outputs": [],
   "source": [
    "quotes_all = quotes[0:100]"
   ]
  },
  {
   "cell_type": "code",
   "execution_count": 160,
   "id": "50a8e208",
   "metadata": {},
   "outputs": [
    {
     "data": {
      "text/plain": [
       "100"
      ]
     },
     "execution_count": 160,
     "metadata": {},
     "output_type": "execute_result"
    }
   ],
   "source": [
    "len(quotes_all)"
   ]
  },
  {
   "cell_type": "code",
   "execution_count": null,
   "id": "5b3a3a56",
   "metadata": {},
   "outputs": [],
   "source": []
  },
  {
   "cell_type": "code",
   "execution_count": 163,
   "id": "0bae5f34",
   "metadata": {},
   "outputs": [],
   "source": [
    "author = []\n",
    "author_tag = driver.find_elements(By.XPATH,'//div[@class=\"author\"]')\n",
    "for i in author_tag[0:100]:\n",
    "    auth = i.text\n",
    "    author.append(auth)"
   ]
  },
  {
   "cell_type": "code",
   "execution_count": 166,
   "id": "45b3d20f",
   "metadata": {},
   "outputs": [
    {
     "data": {
      "text/plain": [
       "100"
      ]
     },
     "execution_count": 166,
     "metadata": {},
     "output_type": "execute_result"
    }
   ],
   "source": [
    "len(author)"
   ]
  },
  {
   "cell_type": "code",
   "execution_count": null,
   "id": "104f2adf",
   "metadata": {},
   "outputs": [],
   "source": []
  },
  {
   "cell_type": "code",
   "execution_count": 168,
   "id": "b8656377",
   "metadata": {},
   "outputs": [],
   "source": [
    "type_of_quote = []\n",
    "type_tag = driver.find_elements(By.XPATH,'//div[@class=\"tags\"]')\n",
    "for i in type_tag[0:100]:\n",
    "    typ = i.text\n",
    "    type_of_quote.append(typ)"
   ]
  },
  {
   "cell_type": "code",
   "execution_count": 170,
   "id": "c6130afd",
   "metadata": {},
   "outputs": [
    {
     "data": {
      "text/plain": [
       "100"
      ]
     },
     "execution_count": 170,
     "metadata": {},
     "output_type": "execute_result"
    }
   ],
   "source": [
    "len(type_of_quote)"
   ]
  },
  {
   "cell_type": "code",
   "execution_count": null,
   "id": "af289b15",
   "metadata": {},
   "outputs": [],
   "source": []
  },
  {
   "cell_type": "code",
   "execution_count": 172,
   "id": "1dcdb003",
   "metadata": {},
   "outputs": [],
   "source": [
    "import pandas as pd"
   ]
  },
  {
   "cell_type": "code",
   "execution_count": 173,
   "id": "f9935861",
   "metadata": {},
   "outputs": [
    {
     "data": {
      "text/html": [
       "<div>\n",
       "<style scoped>\n",
       "    .dataframe tbody tr th:only-of-type {\n",
       "        vertical-align: middle;\n",
       "    }\n",
       "\n",
       "    .dataframe tbody tr th {\n",
       "        vertical-align: top;\n",
       "    }\n",
       "\n",
       "    .dataframe thead th {\n",
       "        text-align: right;\n",
       "    }\n",
       "</style>\n",
       "<table border=\"1\" class=\"dataframe\">\n",
       "  <thead>\n",
       "    <tr style=\"text-align: right;\">\n",
       "      <th></th>\n",
       "      <th>Quote</th>\n",
       "      <th>Author</th>\n",
       "      <th>Type Of Quote</th>\n",
       "    </tr>\n",
       "  </thead>\n",
       "  <tbody>\n",
       "    <tr>\n",
       "      <th>0</th>\n",
       "      <td>The essence of strategy is choosing what not t...</td>\n",
       "      <td>Michael Porter</td>\n",
       "      <td>If you want to make a permanent change, stop f...</td>\n",
       "    </tr>\n",
       "    <tr>\n",
       "      <th>1</th>\n",
       "      <td>One cannot and must not try to erase the past ...</td>\n",
       "      <td>Golda Meir</td>\n",
       "      <td>If you want to make a permanent change, stop f...</td>\n",
       "    </tr>\n",
       "    <tr>\n",
       "      <th>2</th>\n",
       "      <td>Patriotism means to stand by the country. It d...</td>\n",
       "      <td>Theodore Roosevelt</td>\n",
       "      <td>If you want to make a permanent change, stop f...</td>\n",
       "    </tr>\n",
       "    <tr>\n",
       "      <th>3</th>\n",
       "      <td>Death is something inevitable. When a man has ...</td>\n",
       "      <td>Nelson Mandela</td>\n",
       "      <td>If you want to make a permanent change, stop f...</td>\n",
       "    </tr>\n",
       "    <tr>\n",
       "      <th>4</th>\n",
       "      <td>You have to love a nation that celebrates its ...</td>\n",
       "      <td>Erma Bombeck</td>\n",
       "      <td>If you want to make a permanent change, stop f...</td>\n",
       "    </tr>\n",
       "    <tr>\n",
       "      <th>...</th>\n",
       "      <td>...</td>\n",
       "      <td>...</td>\n",
       "      <td>...</td>\n",
       "    </tr>\n",
       "    <tr>\n",
       "      <th>95</th>\n",
       "      <td>When the going gets weird, the weird turn pro.</td>\n",
       "      <td>Hunter S. Thompson</td>\n",
       "      <td>If you want to make a permanent change, stop f...</td>\n",
       "    </tr>\n",
       "    <tr>\n",
       "      <th>96</th>\n",
       "      <td>When a train goes through a tunnel and it gets...</td>\n",
       "      <td>Corrie Ten Boom</td>\n",
       "      <td>If you want to make a permanent change, stop f...</td>\n",
       "    </tr>\n",
       "    <tr>\n",
       "      <th>97</th>\n",
       "      <td>If you think you are too small to make a diffe...</td>\n",
       "      <td>Dalai Lama</td>\n",
       "      <td>If you want to make a permanent change, stop f...</td>\n",
       "    </tr>\n",
       "    <tr>\n",
       "      <th>98</th>\n",
       "      <td>God doesn't require us to succeed, he only req...</td>\n",
       "      <td>Mother Teresa</td>\n",
       "      <td>If you want to make a permanent change, stop f...</td>\n",
       "    </tr>\n",
       "    <tr>\n",
       "      <th>99</th>\n",
       "      <td>Change your thoughts and you change your world.</td>\n",
       "      <td>Norman Vincent Peale</td>\n",
       "      <td>If you want to make a permanent change, stop f...</td>\n",
       "    </tr>\n",
       "  </tbody>\n",
       "</table>\n",
       "<p>100 rows × 3 columns</p>\n",
       "</div>"
      ],
      "text/plain": [
       "                                                Quote                Author  \\\n",
       "0   The essence of strategy is choosing what not t...        Michael Porter   \n",
       "1   One cannot and must not try to erase the past ...            Golda Meir   \n",
       "2   Patriotism means to stand by the country. It d...    Theodore Roosevelt   \n",
       "3   Death is something inevitable. When a man has ...        Nelson Mandela   \n",
       "4   You have to love a nation that celebrates its ...          Erma Bombeck   \n",
       "..                                                ...                   ...   \n",
       "95     When the going gets weird, the weird turn pro.    Hunter S. Thompson   \n",
       "96  When a train goes through a tunnel and it gets...       Corrie Ten Boom   \n",
       "97  If you think you are too small to make a diffe...            Dalai Lama   \n",
       "98  God doesn't require us to succeed, he only req...         Mother Teresa   \n",
       "99    Change your thoughts and you change your world.  Norman Vincent Peale   \n",
       "\n",
       "                                        Type Of Quote  \n",
       "0   If you want to make a permanent change, stop f...  \n",
       "1   If you want to make a permanent change, stop f...  \n",
       "2   If you want to make a permanent change, stop f...  \n",
       "3   If you want to make a permanent change, stop f...  \n",
       "4   If you want to make a permanent change, stop f...  \n",
       "..                                                ...  \n",
       "95  If you want to make a permanent change, stop f...  \n",
       "96  If you want to make a permanent change, stop f...  \n",
       "97  If you want to make a permanent change, stop f...  \n",
       "98  If you want to make a permanent change, stop f...  \n",
       "99  If you want to make a permanent change, stop f...  \n",
       "\n",
       "[100 rows x 3 columns]"
      ]
     },
     "execution_count": 173,
     "metadata": {},
     "output_type": "execute_result"
    }
   ],
   "source": [
    "df = pd.DataFrame({'Quote':quotes_all,'Author':author,'Type Of Quote':type_of_quotes})\n",
    "df"
   ]
  },
  {
   "cell_type": "code",
   "execution_count": null,
   "id": "eeb986b5",
   "metadata": {},
   "outputs": [],
   "source": []
  },
  {
   "cell_type": "markdown",
   "id": "07bf6fea",
   "metadata": {},
   "source": [
    "# Question No-9"
   ]
  },
  {
   "cell_type": "code",
   "execution_count": 6,
   "id": "5e173ba6",
   "metadata": {},
   "outputs": [],
   "source": [
    "driver.get ('https://www.jagranjosh.com/')"
   ]
  },
  {
   "cell_type": "code",
   "execution_count": 10,
   "id": "afe42a02",
   "metadata": {},
   "outputs": [],
   "source": [
    "gk = driver.find_element(By.XPATH,'/html/body/div/div/div/div[1]/div/div[3]/div/div[1]/header/div[3]/ul/li[3]/a')\n",
    "gk.click()"
   ]
  },
  {
   "cell_type": "code",
   "execution_count": 11,
   "id": "8bd977a4",
   "metadata": {},
   "outputs": [],
   "source": [
    "pm_india = driver.find_element(By.XPATH,'/html/body/div[1]/div/div/div[2]/div/div[10]/div/div/ul/li[2]/a')\n",
    "pm_india.click()"
   ]
  },
  {
   "cell_type": "code",
   "execution_count": 17,
   "id": "470c9ff8",
   "metadata": {},
   "outputs": [],
   "source": [
    "pm_name_all = []\n",
    "pm_name = driver.find_elements(By.TAG_NAME,'p')\n",
    "for i in pm_name:\n",
    "    pm = i.text\n",
    "    pm_name_all.append(pm)\n",
    "    "
   ]
  },
  {
   "cell_type": "code",
   "execution_count": 34,
   "id": "bce49e74",
   "metadata": {},
   "outputs": [],
   "source": [
    "pm1 = pm_name_all[14::3]"
   ]
  },
  {
   "cell_type": "code",
   "execution_count": 38,
   "id": "f709c9da",
   "metadata": {},
   "outputs": [],
   "source": [
    "pm_all = pm1[0::2]"
   ]
  },
  {
   "cell_type": "code",
   "execution_count": 139,
   "id": "721b3be1",
   "metadata": {},
   "outputs": [],
   "source": [
    "pm_all.pop()\n",
    "pm_all.pop()\n",
    "pm_all.append('Narendra Modi')"
   ]
  },
  {
   "cell_type": "code",
   "execution_count": 140,
   "id": "b7890834",
   "metadata": {},
   "outputs": [
    {
     "data": {
      "text/plain": [
       "19"
      ]
     },
     "execution_count": 140,
     "metadata": {},
     "output_type": "execute_result"
    }
   ],
   "source": [
    "len(pm_all)"
   ]
  },
  {
   "cell_type": "code",
   "execution_count": 57,
   "id": "1b9e587a",
   "metadata": {},
   "outputs": [],
   "source": [
    "born = pm_name_all[15::2]"
   ]
  },
  {
   "cell_type": "code",
   "execution_count": 61,
   "id": "12c81c23",
   "metadata": {},
   "outputs": [],
   "source": [
    "born_date = born[0::3]"
   ]
  },
  {
   "cell_type": "code",
   "execution_count": 142,
   "id": "ff120d65",
   "metadata": {},
   "outputs": [
    {
     "data": {
      "text/plain": [
       "'Also, Read the following:'"
      ]
     },
     "execution_count": 142,
     "metadata": {},
     "output_type": "execute_result"
    }
   ],
   "source": [
    "born_date.pop()"
   ]
  },
  {
   "cell_type": "code",
   "execution_count": null,
   "id": "c6881b35",
   "metadata": {},
   "outputs": [],
   "source": []
  },
  {
   "cell_type": "code",
   "execution_count": 143,
   "id": "8bc2b9d0",
   "metadata": {},
   "outputs": [
    {
     "data": {
      "text/plain": [
       "19"
      ]
     },
     "execution_count": 143,
     "metadata": {},
     "output_type": "execute_result"
    }
   ],
   "source": [
    "len(born_date)"
   ]
  },
  {
   "cell_type": "code",
   "execution_count": 100,
   "id": "19fa4000",
   "metadata": {},
   "outputs": [],
   "source": [
    "term = pm_name_all[16::1]"
   ]
  },
  {
   "cell_type": "code",
   "execution_count": 106,
   "id": "c7a0a6a5",
   "metadata": {},
   "outputs": [],
   "source": [
    "term_new = term[0::3]"
   ]
  },
  {
   "cell_type": "code",
   "execution_count": 111,
   "id": "71d06af5",
   "metadata": {},
   "outputs": [],
   "source": [
    "term_all = term_new[0::2]"
   ]
  },
  {
   "cell_type": "code",
   "execution_count": 144,
   "id": "f3dae494",
   "metadata": {},
   "outputs": [
    {
     "data": {
      "text/plain": [
       "''"
      ]
     },
     "execution_count": 144,
     "metadata": {},
     "output_type": "execute_result"
    }
   ],
   "source": [
    "term_all.pop()"
   ]
  },
  {
   "cell_type": "code",
   "execution_count": 145,
   "id": "679c5143",
   "metadata": {},
   "outputs": [
    {
     "data": {
      "text/plain": [
       "19"
      ]
     },
     "execution_count": 145,
     "metadata": {},
     "output_type": "execute_result"
    }
   ],
   "source": [
    "len(term_all)"
   ]
  },
  {
   "cell_type": "code",
   "execution_count": null,
   "id": "87440808",
   "metadata": {},
   "outputs": [],
   "source": []
  },
  {
   "cell_type": "code",
   "execution_count": 119,
   "id": "6b703943",
   "metadata": {},
   "outputs": [],
   "source": [
    "remark = pm_name_all[18::3]"
   ]
  },
  {
   "cell_type": "code",
   "execution_count": 122,
   "id": "873be382",
   "metadata": {},
   "outputs": [],
   "source": [
    "remark_all = remark[0::2]"
   ]
  },
  {
   "cell_type": "code",
   "execution_count": 129,
   "id": "8e375d7d",
   "metadata": {},
   "outputs": [
    {
     "data": {
      "text/plain": [
       "['The first prime minister of India and the longest-serving PM of India, the first to die in office.',\n",
       " 'First acting PM of India',\n",
       " \"He has given the slogan of 'Jai Jawan Jai Kisan' during the Indo-Pak war of 1965\",\n",
       " '-',\n",
       " 'First female Prime Minister of India',\n",
       " 'Oldest to become PM (81 years old) and first to resign from office',\n",
       " 'Only PM who did not face the Parliament',\n",
       " 'The first lady who served as PM for the second term',\n",
       " 'Youngest to become PM (40 years old)',\n",
       " 'First PM to step down after a vote of no confidence',\n",
       " 'He belongs to  Samajwadi Janata Party',\n",
       " 'First PM from South India',\n",
       " 'PM for shortest tenure',\n",
       " 'He belongs to  Janata Dal',\n",
       " '------',\n",
       " ' The first non-congress PM who completed a full term as PM',\n",
       " ' First Sikh PM']"
      ]
     },
     "execution_count": 129,
     "metadata": {},
     "output_type": "execute_result"
    }
   ],
   "source": [
    "remark_all"
   ]
  },
  {
   "cell_type": "code",
   "execution_count": 131,
   "id": "812c7109",
   "metadata": {},
   "outputs": [],
   "source": [
    "remark_all.append('4th Prime Minister of India who served two consecutive tenures')"
   ]
  },
  {
   "cell_type": "code",
   "execution_count": 132,
   "id": "03082670",
   "metadata": {},
   "outputs": [],
   "source": [
    "remark_all.append('First non-congress PM with two consecutive tenures')"
   ]
  },
  {
   "cell_type": "code",
   "execution_count": 147,
   "id": "9e0a47d4",
   "metadata": {},
   "outputs": [
    {
     "data": {
      "text/plain": [
       "'-'"
      ]
     },
     "execution_count": 147,
     "metadata": {},
     "output_type": "execute_result"
    }
   ],
   "source": [
    "remark_all.pop()"
   ]
  },
  {
   "cell_type": "code",
   "execution_count": 148,
   "id": "b6836000",
   "metadata": {},
   "outputs": [
    {
     "data": {
      "text/plain": [
       "19"
      ]
     },
     "execution_count": 148,
     "metadata": {},
     "output_type": "execute_result"
    }
   ],
   "source": [
    "len(remark_all)"
   ]
  },
  {
   "cell_type": "code",
   "execution_count": null,
   "id": "48b02255",
   "metadata": {},
   "outputs": [],
   "source": []
  },
  {
   "cell_type": "code",
   "execution_count": 137,
   "id": "fc740fca",
   "metadata": {},
   "outputs": [],
   "source": [
    "import pandas as pd"
   ]
  },
  {
   "cell_type": "code",
   "execution_count": 149,
   "id": "60ded0bb",
   "metadata": {},
   "outputs": [
    {
     "data": {
      "text/html": [
       "<div>\n",
       "<style scoped>\n",
       "    .dataframe tbody tr th:only-of-type {\n",
       "        vertical-align: middle;\n",
       "    }\n",
       "\n",
       "    .dataframe tbody tr th {\n",
       "        vertical-align: top;\n",
       "    }\n",
       "\n",
       "    .dataframe thead th {\n",
       "        text-align: right;\n",
       "    }\n",
       "</style>\n",
       "<table border=\"1\" class=\"dataframe\">\n",
       "  <thead>\n",
       "    <tr style=\"text-align: right;\">\n",
       "      <th></th>\n",
       "      <th>Name</th>\n",
       "      <th>Born-Dead</th>\n",
       "      <th>Term of office</th>\n",
       "      <th>Remark</th>\n",
       "    </tr>\n",
       "  </thead>\n",
       "  <tbody>\n",
       "    <tr>\n",
       "      <th>0</th>\n",
       "      <td>Jawahar Lal Nehru</td>\n",
       "      <td>(1889–1964)</td>\n",
       "      <td>15 August 1947 to 27 May 1964</td>\n",
       "      <td>The first prime minister of India and the long...</td>\n",
       "    </tr>\n",
       "    <tr>\n",
       "      <th>1</th>\n",
       "      <td>Gulzarilal Nanda (Acting)</td>\n",
       "      <td>(1898-1998)</td>\n",
       "      <td>27 May 1964 to 9 June 1964,</td>\n",
       "      <td>First acting PM of India</td>\n",
       "    </tr>\n",
       "    <tr>\n",
       "      <th>2</th>\n",
       "      <td>Lal Bahadur Shastri</td>\n",
       "      <td>(1904–1966)</td>\n",
       "      <td>9 June 1964 to 11 January 1966</td>\n",
       "      <td>He has given the slogan of 'Jai Jawan Jai Kisa...</td>\n",
       "    </tr>\n",
       "    <tr>\n",
       "      <th>3</th>\n",
       "      <td>Gulzari Lal Nanda  (Acting)</td>\n",
       "      <td>(1898-1998)</td>\n",
       "      <td>11 January 1966 to 24 January 1966</td>\n",
       "      <td>-</td>\n",
       "    </tr>\n",
       "    <tr>\n",
       "      <th>4</th>\n",
       "      <td>Indira Gandhi</td>\n",
       "      <td>(1917–1984)</td>\n",
       "      <td>24 January 1966 to 24 March 1977</td>\n",
       "      <td>First female Prime Minister of India</td>\n",
       "    </tr>\n",
       "    <tr>\n",
       "      <th>5</th>\n",
       "      <td>Morarji Desai</td>\n",
       "      <td>(1896–1995)</td>\n",
       "      <td>24 March 1977 to  28 July 1979</td>\n",
       "      <td>Oldest to become PM (81 years old) and first t...</td>\n",
       "    </tr>\n",
       "    <tr>\n",
       "      <th>6</th>\n",
       "      <td>Charan Singh</td>\n",
       "      <td>(1902–1987)</td>\n",
       "      <td>28 July 1979 to 14 January 1980</td>\n",
       "      <td>Only PM who did not face the Parliament</td>\n",
       "    </tr>\n",
       "    <tr>\n",
       "      <th>7</th>\n",
       "      <td>Indira Gandhi</td>\n",
       "      <td>(1917–1984)</td>\n",
       "      <td>14 January 1980 to 31 October 1984</td>\n",
       "      <td>The first lady who served as PM for the second...</td>\n",
       "    </tr>\n",
       "    <tr>\n",
       "      <th>8</th>\n",
       "      <td>Rajiv Gandhi</td>\n",
       "      <td>(1944–1991)</td>\n",
       "      <td>31 October 1984 to 2 December 1989</td>\n",
       "      <td>Youngest to become PM (40 years old)</td>\n",
       "    </tr>\n",
       "    <tr>\n",
       "      <th>9</th>\n",
       "      <td>V. P. Singh</td>\n",
       "      <td>(1931–2008)</td>\n",
       "      <td>2 December 1989 to 10 November 1990</td>\n",
       "      <td>First PM to step down after a vote of no confi...</td>\n",
       "    </tr>\n",
       "    <tr>\n",
       "      <th>10</th>\n",
       "      <td>Chandra Shekhar</td>\n",
       "      <td>(1927–2007)</td>\n",
       "      <td>10 November 1990 to 21 June 1991</td>\n",
       "      <td>He belongs to  Samajwadi Janata Party</td>\n",
       "    </tr>\n",
       "    <tr>\n",
       "      <th>11</th>\n",
       "      <td>P. V. Narasimha Rao</td>\n",
       "      <td>(1921–2004)</td>\n",
       "      <td>21 June 1991 to 16 May 1996</td>\n",
       "      <td>First PM from South India</td>\n",
       "    </tr>\n",
       "    <tr>\n",
       "      <th>12</th>\n",
       "      <td>Atal Bihari Vajpayee</td>\n",
       "      <td>(1924- 2018)</td>\n",
       "      <td>16 May 1996 to 1 June 1996</td>\n",
       "      <td>PM for shortest tenure</td>\n",
       "    </tr>\n",
       "    <tr>\n",
       "      <th>13</th>\n",
       "      <td>H. D. Deve Gowda</td>\n",
       "      <td>(born 1933)</td>\n",
       "      <td>1 June 1996 to 21 April 1997</td>\n",
       "      <td>He belongs to  Janata Dal</td>\n",
       "    </tr>\n",
       "    <tr>\n",
       "      <th>14</th>\n",
       "      <td>Inder Kumar Gujral</td>\n",
       "      <td>(1919–2012)</td>\n",
       "      <td>21 April 1997 to 19 March 1998</td>\n",
       "      <td>------</td>\n",
       "    </tr>\n",
       "    <tr>\n",
       "      <th>15</th>\n",
       "      <td>Atal Bihari Vajpayee</td>\n",
       "      <td>(1924-2018)</td>\n",
       "      <td>19 March 1998 to 22 May 2004</td>\n",
       "      <td>The first non-congress PM who completed a ful...</td>\n",
       "    </tr>\n",
       "    <tr>\n",
       "      <th>16</th>\n",
       "      <td>Manmohan Singh</td>\n",
       "      <td>(born 1932)</td>\n",
       "      <td>22 May 2004 to 26 May 2014</td>\n",
       "      <td>First Sikh PM</td>\n",
       "    </tr>\n",
       "    <tr>\n",
       "      <th>17</th>\n",
       "      <td>Narendra Modi</td>\n",
       "      <td>(born 1950)</td>\n",
       "      <td>26 May 2014 - 2019</td>\n",
       "      <td>4th Prime Minister of India who served two con...</td>\n",
       "    </tr>\n",
       "    <tr>\n",
       "      <th>18</th>\n",
       "      <td>Narendra Modi</td>\n",
       "      <td>30 May 2019- Incumbent</td>\n",
       "      <td>First non-congress PM with two consecutive ten...</td>\n",
       "      <td>First non-congress PM with two consecutive ten...</td>\n",
       "    </tr>\n",
       "  </tbody>\n",
       "</table>\n",
       "</div>"
      ],
      "text/plain": [
       "                           Name               Born-Dead  \\\n",
       "0             Jawahar Lal Nehru             (1889–1964)   \n",
       "1     Gulzarilal Nanda (Acting)             (1898-1998)   \n",
       "2           Lal Bahadur Shastri             (1904–1966)   \n",
       "3   Gulzari Lal Nanda  (Acting)             (1898-1998)   \n",
       "4                 Indira Gandhi             (1917–1984)   \n",
       "5                 Morarji Desai             (1896–1995)   \n",
       "6                  Charan Singh             (1902–1987)   \n",
       "7                 Indira Gandhi             (1917–1984)   \n",
       "8                  Rajiv Gandhi             (1944–1991)   \n",
       "9                   V. P. Singh             (1931–2008)   \n",
       "10              Chandra Shekhar             (1927–2007)   \n",
       "11          P. V. Narasimha Rao             (1921–2004)   \n",
       "12         Atal Bihari Vajpayee            (1924- 2018)   \n",
       "13             H. D. Deve Gowda             (born 1933)   \n",
       "14           Inder Kumar Gujral             (1919–2012)   \n",
       "15         Atal Bihari Vajpayee             (1924-2018)   \n",
       "16               Manmohan Singh             (born 1932)   \n",
       "17                Narendra Modi             (born 1950)   \n",
       "18                Narendra Modi  30 May 2019- Incumbent   \n",
       "\n",
       "                                       Term of office  \\\n",
       "0                       15 August 1947 to 27 May 1964   \n",
       "1                         27 May 1964 to 9 June 1964,   \n",
       "2                      9 June 1964 to 11 January 1966   \n",
       "3                  11 January 1966 to 24 January 1966   \n",
       "4                    24 January 1966 to 24 March 1977   \n",
       "5                     24 March 1977 to  28 July 1979    \n",
       "6                     28 July 1979 to 14 January 1980   \n",
       "7                  14 January 1980 to 31 October 1984   \n",
       "8                  31 October 1984 to 2 December 1989   \n",
       "9                 2 December 1989 to 10 November 1990   \n",
       "10                   10 November 1990 to 21 June 1991   \n",
       "11                        21 June 1991 to 16 May 1996   \n",
       "12                         16 May 1996 to 1 June 1996   \n",
       "13                       1 June 1996 to 21 April 1997   \n",
       "14                    21 April 1997 to 19 March 1998    \n",
       "15                      19 March 1998 to 22 May 2004    \n",
       "16                      22 May 2004 to 26 May 2014      \n",
       "17                                 26 May 2014 - 2019   \n",
       "18  First non-congress PM with two consecutive ten...   \n",
       "\n",
       "                                               Remark  \n",
       "0   The first prime minister of India and the long...  \n",
       "1                            First acting PM of India  \n",
       "2   He has given the slogan of 'Jai Jawan Jai Kisa...  \n",
       "3                                                   -  \n",
       "4                First female Prime Minister of India  \n",
       "5   Oldest to become PM (81 years old) and first t...  \n",
       "6             Only PM who did not face the Parliament  \n",
       "7   The first lady who served as PM for the second...  \n",
       "8                Youngest to become PM (40 years old)  \n",
       "9   First PM to step down after a vote of no confi...  \n",
       "10              He belongs to  Samajwadi Janata Party  \n",
       "11                          First PM from South India  \n",
       "12                             PM for shortest tenure  \n",
       "13                          He belongs to  Janata Dal  \n",
       "14                                             ------  \n",
       "15   The first non-congress PM who completed a ful...  \n",
       "16                                      First Sikh PM  \n",
       "17  4th Prime Minister of India who served two con...  \n",
       "18  First non-congress PM with two consecutive ten...  "
      ]
     },
     "execution_count": 149,
     "metadata": {},
     "output_type": "execute_result"
    }
   ],
   "source": [
    "df = pd.DataFrame({'Name':pm_all,'Born-Dead':born_date,'Term of office':term_all,'Remark':remark_all})\n",
    "df"
   ]
  },
  {
   "cell_type": "code",
   "execution_count": null,
   "id": "19f9802f",
   "metadata": {},
   "outputs": [],
   "source": []
  },
  {
   "cell_type": "markdown",
   "id": "462f5e27",
   "metadata": {},
   "source": [
    "# Question No-10"
   ]
  },
  {
   "cell_type": "code",
   "execution_count": null,
   "id": "8b68b675",
   "metadata": {},
   "outputs": [],
   "source": [
    "driver = webdriver.Chrome (r'chromedriver.exe')"
   ]
  },
  {
   "cell_type": "code",
   "execution_count": 16,
   "id": "cef229b2",
   "metadata": {},
   "outputs": [],
   "source": [
    "driver.get ('https://www.motor1.com/')"
   ]
  },
  {
   "cell_type": "code",
   "execution_count": 17,
   "id": "0d7ccb0a",
   "metadata": {},
   "outputs": [],
   "source": [
    "search = driver.find_element(By.XPATH,'/html/body/div[3]/div[2]/div/div/div[3]/div/div/button')\n",
    "search.click()"
   ]
  },
  {
   "cell_type": "code",
   "execution_count": 18,
   "id": "f5550658",
   "metadata": {},
   "outputs": [],
   "source": [
    "find_new = driver.find_element(By.XPATH,'/html/body/div[3]/div[2]/div/div/div[3]/div/div/div/form/input')\n",
    "find_new.send_keys('50 most expensive cars')"
   ]
  },
  {
   "cell_type": "code",
   "execution_count": 19,
   "id": "6493050f",
   "metadata": {},
   "outputs": [],
   "source": [
    "find_button = driver.find_element(By.XPATH,'/html/body/div[3]/div[2]/div/div/div[3]/div/div/div/form/button[1]')\n",
    "find_button.click()"
   ]
  },
  {
   "cell_type": "code",
   "execution_count": 20,
   "id": "96474951",
   "metadata": {},
   "outputs": [],
   "source": [
    "search_50 = driver.find_element(By.XPATH,'/html/body/div[3]/div[9]/div/div[1]/div/div/div[2]/div/div[1]/h3/a')\n",
    "search_50.click()"
   ]
  },
  {
   "cell_type": "code",
   "execution_count": 21,
   "id": "dd77a6eb",
   "metadata": {},
   "outputs": [],
   "source": [
    "car_new = []\n",
    "car_name = driver.find_elements(By.XPATH,'//h3[@class=\"subheader\"]')\n",
    "for i in car_name:\n",
    "    car = i.text\n",
    "    car_new.append(car)\n",
    "    "
   ]
  },
  {
   "cell_type": "code",
   "execution_count": 22,
   "id": "cf9de68a",
   "metadata": {},
   "outputs": [
    {
     "data": {
      "text/plain": [
       "50"
      ]
     },
     "execution_count": 22,
     "metadata": {},
     "output_type": "execute_result"
    }
   ],
   "source": [
    "car_all = car_new [0:50]\n",
    "len(car_all)"
   ]
  },
  {
   "cell_type": "code",
   "execution_count": 23,
   "id": "5e8fad55",
   "metadata": {},
   "outputs": [
    {
     "data": {
      "text/plain": [
       "['De Tomaso P72',\n",
       " 'Ferrari LaFerrari',\n",
       " 'Pagani Huayra',\n",
       " 'McLaren Elva',\n",
       " 'Czinger 21C',\n",
       " 'Ferrari Monza',\n",
       " 'Gordon Murray T.33',\n",
       " 'Koenigsegg Gemera',\n",
       " 'Zenvo TSR-S',\n",
       " 'Hennessey Venom F5',\n",
       " 'Bentley Bacalar',\n",
       " 'Hispano Suiza Carmen Boulogne',\n",
       " 'Bentley Mulliner Batur',\n",
       " 'Deus Vayanne',\n",
       " 'SSC Tuatara',\n",
       " 'Lotus Evija',\n",
       " 'Aston Martin Vulcan',\n",
       " 'Delage D12',\n",
       " 'McLaren Speedtail',\n",
       " 'Rimac Nevera',\n",
       " 'Pagani Utopia',\n",
       " 'Pininfarina Battista',\n",
       " 'Ferrari FXX K Evo',\n",
       " 'Gordon Murray T.50',\n",
       " 'Lamborghini Countach',\n",
       " 'Mercedes-AMG Project One',\n",
       " 'Aston Martin Victor',\n",
       " 'Hennessey Venom F5 Roadster',\n",
       " 'Koenigsegg Jesko',\n",
       " 'Aston Martin Valkyrie',\n",
       " 'W Motors Lykan Hypersport',\n",
       " 'McLaren Solus',\n",
       " 'Pagani Huayra Roadster BC',\n",
       " 'Bugatti Chiron Pur Sport',\n",
       " 'Lamborghini Sian',\n",
       " 'Koenigsegg CC850',\n",
       " 'Bugatti Chiron Super Sport 300+',\n",
       " 'Lamborghini Veneno',\n",
       " 'Bugatti Bolide',\n",
       " 'Bugatti Mistral',\n",
       " 'Pagani Huayra Imola',\n",
       " 'Bugatti Divo',\n",
       " 'SP Automotive Chaos',\n",
       " 'Pagani Codalunga',\n",
       " 'Mercedes-Maybach Exelero',\n",
       " 'Bugatti Centodieci',\n",
       " 'Bugatti Chiron Profilée',\n",
       " 'Rolls-Royce Sweptail',\n",
       " 'Bugatti La Voiture Noire',\n",
       " 'Rolls-Royce Boat Tail*']"
      ]
     },
     "execution_count": 23,
     "metadata": {},
     "output_type": "execute_result"
    }
   ],
   "source": [
    "car_all"
   ]
  },
  {
   "cell_type": "code",
   "execution_count": 212,
   "id": "fb91c09d",
   "metadata": {},
   "outputs": [],
   "source": [
    "price_new = []\n",
    "price_all = driver.find_elements(By.XPATH,\"//p[contains(@text, 'Price:')]\")\n",
    "for i in price_all:\n",
    "    price = i.text\n",
    "    price_new.append(price)\n",
    "    \n",
    "    "
   ]
  },
  {
   "cell_type": "code",
   "execution_count": null,
   "id": "938798e9",
   "metadata": {},
   "outputs": [],
   "source": [
    "# sorry unable to fetch price data, please support on this issue "
   ]
  },
  {
   "cell_type": "code",
   "execution_count": null,
   "id": "e206950c",
   "metadata": {},
   "outputs": [],
   "source": []
  }
 ],
 "metadata": {
  "kernelspec": {
   "display_name": "Python 3 (ipykernel)",
   "language": "python",
   "name": "python3"
  },
  "language_info": {
   "codemirror_mode": {
    "name": "ipython",
    "version": 3
   },
   "file_extension": ".py",
   "mimetype": "text/x-python",
   "name": "python",
   "nbconvert_exporter": "python",
   "pygments_lexer": "ipython3",
   "version": "3.9.13"
  }
 },
 "nbformat": 4,
 "nbformat_minor": 5
}
