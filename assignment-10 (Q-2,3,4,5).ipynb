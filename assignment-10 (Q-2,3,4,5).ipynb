{
 "cells": [
  {
   "cell_type": "code",
   "execution_count": 1,
   "id": "ca6a59c7",
   "metadata": {},
   "outputs": [],
   "source": [
    "import selenium\n",
    "from selenium import webdriver\n",
    "from selenium.webdriver.common.by import By\n",
    "from selenium .common.exceptions import NoSuchElementException"
   ]
  },
  {
   "cell_type": "code",
   "execution_count": 2,
   "id": "428e8528",
   "metadata": {},
   "outputs": [],
   "source": [
    "import pandas as pd\n",
    "import time"
   ]
  },
  {
   "cell_type": "code",
   "execution_count": 3,
   "id": "7ff77146",
   "metadata": {},
   "outputs": [],
   "source": [
    "import warnings\n",
    "warnings.filterwarnings ('ignore')"
   ]
  },
  {
   "cell_type": "code",
   "execution_count": 4,
   "id": "61645b40",
   "metadata": {},
   "outputs": [],
   "source": [
    "driver = webdriver.Chrome (r'chromedriver.exe')"
   ]
  },
  {
   "cell_type": "code",
   "execution_count": null,
   "id": "35070343",
   "metadata": {},
   "outputs": [],
   "source": [
    "# Q-2 ========================================================================================================================="
   ]
  },
  {
   "cell_type": "code",
   "execution_count": 13,
   "id": "3ceeff5a",
   "metadata": {},
   "outputs": [],
   "source": [
    "url = 'https://www.bcci.tv/'\n",
    "driver.get (url)"
   ]
  },
  {
   "cell_type": "code",
   "execution_count": 15,
   "id": "019255dd",
   "metadata": {},
   "outputs": [],
   "source": [
    "driver.maximize_window()"
   ]
  },
  {
   "cell_type": "code",
   "execution_count": 17,
   "id": "501ebdc2",
   "metadata": {},
   "outputs": [],
   "source": [
    "menu = driver.find_element(By.XPATH,'/html/body/nav/div[1]/button')\n",
    "menu.click ()"
   ]
  },
  {
   "cell_type": "code",
   "execution_count": 18,
   "id": "3e152b20",
   "metadata": {},
   "outputs": [],
   "source": [
    "international = driver.find_element(By.XPATH,'/html/body/nav/div[1]/div[2]/ul[1]/li[2]/a')\n",
    "international.click()"
   ]
  },
  {
   "cell_type": "code",
   "execution_count": 32,
   "id": "ab77aa6c",
   "metadata": {},
   "outputs": [],
   "source": [
    "match_title_all = []\n",
    "try:\n",
    "    title_tag = driver.find_elements(By.XPATH,'//h5[@class=\"match-tournament-name ng-binding\"]')\n",
    "    for i in title_tag:\n",
    "        temp = i.text\n",
    "        match_title_all.append(temp)\n",
    "except NoSuchElementException:\n",
    "    match_title_tag.append('Not Present')\n",
    "    \n",
    "series_all = []\n",
    "try:\n",
    "    series = driver.find_elements(By.XPATH,'//span[@class=\"matchOrderText ng-binding ng-scope\"]')\n",
    "    for i in series:\n",
    "        temp = i.text\n",
    "        series_all.append(temp)\n",
    "except NoSuchElementException:\n",
    "    series_all.append('Not Present')\n",
    "    \n",
    "place_all = []\n",
    "try:\n",
    "    place = driver.find_elements(By.XPATH,'//span[@class=\"ng-binding\"]')\n",
    "    for i in place:\n",
    "        temp = i.text\n",
    "        place_all.append(temp)\n",
    "except NoSuchElementException:\n",
    "    place_all.append('Not Present')\n",
    "    \n",
    "date_all = []\n",
    "try:\n",
    "    date = driver.find_elements(By.XPATH,'//div[@class=\"match-dates ng-binding\"]')\n",
    "    for i in date:\n",
    "        temp = i.text\n",
    "        date_all.append(temp)\n",
    "except NoSuchElementException:\n",
    "    date_all.append('Not Present')\n",
    "    \n",
    "time_all = []\n",
    "try:\n",
    "    time = driver.find_elements(By.XPATH,'//div[@class=\"match-time no-margin ng-binding\"]')\n",
    "    for i in time:\n",
    "        temp = i.text\n",
    "        time_all.append(temp)\n",
    "except NoSuchElementException:\n",
    "    time_all.append('Not Present')\n",
    "    \n"
   ]
  },
  {
   "cell_type": "code",
   "execution_count": 34,
   "id": "fbc1bb18",
   "metadata": {},
   "outputs": [
    {
     "data": {
      "text/plain": [
       "(8, 8, 8, 8, 8)"
      ]
     },
     "execution_count": 34,
     "metadata": {},
     "output_type": "execute_result"
    }
   ],
   "source": [
    "len(match_title_all),len(series_all),len(place_all),len(date_all),len(time_all)"
   ]
  },
  {
   "cell_type": "code",
   "execution_count": 38,
   "id": "d12ca98c",
   "metadata": {
    "scrolled": true
   },
   "outputs": [
    {
     "data": {
      "text/html": [
       "<div>\n",
       "<style scoped>\n",
       "    .dataframe tbody tr th:only-of-type {\n",
       "        vertical-align: middle;\n",
       "    }\n",
       "\n",
       "    .dataframe tbody tr th {\n",
       "        vertical-align: top;\n",
       "    }\n",
       "\n",
       "    .dataframe thead th {\n",
       "        text-align: right;\n",
       "    }\n",
       "</style>\n",
       "<table border=\"1\" class=\"dataframe\">\n",
       "  <thead>\n",
       "    <tr style=\"text-align: right;\">\n",
       "      <th></th>\n",
       "      <th>Match Title</th>\n",
       "      <th>Series</th>\n",
       "      <th>place</th>\n",
       "      <th>Date</th>\n",
       "      <th>Time</th>\n",
       "    </tr>\n",
       "  </thead>\n",
       "  <tbody>\n",
       "    <tr>\n",
       "      <th>0</th>\n",
       "      <td>INDIA WOMEN TOUR OF BANGLADESH 2023</td>\n",
       "      <td>1st T20I -</td>\n",
       "      <td>Dhaka</td>\n",
       "      <td>9 JUL 2023</td>\n",
       "      <td>1:00 AM PDT</td>\n",
       "    </tr>\n",
       "    <tr>\n",
       "      <th>1</th>\n",
       "      <td>INDIA WOMEN TOUR OF BANGLADESH 2023</td>\n",
       "      <td>2nd T20I -</td>\n",
       "      <td>Dhaka</td>\n",
       "      <td>11 JUL 2023</td>\n",
       "      <td>1:00 AM PDT</td>\n",
       "    </tr>\n",
       "    <tr>\n",
       "      <th>2</th>\n",
       "      <td>INDIA TOUR OF WEST INDIES 2023</td>\n",
       "      <td>1st Test -</td>\n",
       "      <td>Dominica</td>\n",
       "      <td>12 JUL 2023</td>\n",
       "      <td>7:00 AM PDT</td>\n",
       "    </tr>\n",
       "    <tr>\n",
       "      <th>3</th>\n",
       "      <td>INDIA WOMEN TOUR OF BANGLADESH 2023</td>\n",
       "      <td>3rd T20I -</td>\n",
       "      <td>Dhaka</td>\n",
       "      <td>13 JUL 2023</td>\n",
       "      <td>1:00 AM PDT</td>\n",
       "    </tr>\n",
       "    <tr>\n",
       "      <th>4</th>\n",
       "      <td>INDIA WOMEN TOUR OF BANGLADESH 2023</td>\n",
       "      <td>1st ODI -</td>\n",
       "      <td>Dhaka</td>\n",
       "      <td>15 JUL 2023</td>\n",
       "      <td>8:30 PM PDT</td>\n",
       "    </tr>\n",
       "    <tr>\n",
       "      <th>5</th>\n",
       "      <td>INDIA WOMEN TOUR OF BANGLADESH 2023</td>\n",
       "      <td>2nd ODI -</td>\n",
       "      <td>Dhaka</td>\n",
       "      <td>18 JUL 2023</td>\n",
       "      <td>8:30 PM PDT</td>\n",
       "    </tr>\n",
       "    <tr>\n",
       "      <th>6</th>\n",
       "      <td>INDIA TOUR OF WEST INDIES 2023</td>\n",
       "      <td>2nd Test -</td>\n",
       "      <td>Trinidad</td>\n",
       "      <td>20 JUL 2023</td>\n",
       "      <td>7:00 AM PDT</td>\n",
       "    </tr>\n",
       "    <tr>\n",
       "      <th>7</th>\n",
       "      <td>INDIA WOMEN TOUR OF BANGLADESH 2023</td>\n",
       "      <td>3rd ODI -</td>\n",
       "      <td>Dhaka</td>\n",
       "      <td>21 JUL 2023</td>\n",
       "      <td>8:30 PM PDT</td>\n",
       "    </tr>\n",
       "  </tbody>\n",
       "</table>\n",
       "</div>"
      ],
      "text/plain": [
       "                           Match Title      Series     place         Date  \\\n",
       "0  INDIA WOMEN TOUR OF BANGLADESH 2023  1st T20I -     Dhaka   9 JUL 2023   \n",
       "1  INDIA WOMEN TOUR OF BANGLADESH 2023  2nd T20I -     Dhaka  11 JUL 2023   \n",
       "2       INDIA TOUR OF WEST INDIES 2023  1st Test -  Dominica  12 JUL 2023   \n",
       "3  INDIA WOMEN TOUR OF BANGLADESH 2023  3rd T20I -     Dhaka  13 JUL 2023   \n",
       "4  INDIA WOMEN TOUR OF BANGLADESH 2023   1st ODI -     Dhaka  15 JUL 2023   \n",
       "5  INDIA WOMEN TOUR OF BANGLADESH 2023   2nd ODI -     Dhaka  18 JUL 2023   \n",
       "6       INDIA TOUR OF WEST INDIES 2023  2nd Test -  Trinidad  20 JUL 2023   \n",
       "7  INDIA WOMEN TOUR OF BANGLADESH 2023   3rd ODI -     Dhaka  21 JUL 2023   \n",
       "\n",
       "          Time  \n",
       "0  1:00 AM PDT  \n",
       "1  1:00 AM PDT  \n",
       "2  7:00 AM PDT  \n",
       "3  1:00 AM PDT  \n",
       "4  8:30 PM PDT  \n",
       "5  8:30 PM PDT  \n",
       "6  7:00 AM PDT  \n",
       "7  8:30 PM PDT  "
      ]
     },
     "execution_count": 38,
     "metadata": {},
     "output_type": "execute_result"
    }
   ],
   "source": [
    "df = pd.DataFrame({'Match Title':match_title_all,'Series':series_all,'place':place_all,'Date':date_all,'Time':time_all})\n",
    "df"
   ]
  },
  {
   "cell_type": "code",
   "execution_count": null,
   "id": "3a0f066f",
   "metadata": {},
   "outputs": [],
   "source": [
    "# =============================================================================================================================="
   ]
  },
  {
   "cell_type": "code",
   "execution_count": 39,
   "id": "1d7ca937",
   "metadata": {},
   "outputs": [],
   "source": [
    "# Q-3"
   ]
  },
  {
   "cell_type": "code",
   "execution_count": 46,
   "id": "94f974bb",
   "metadata": {},
   "outputs": [],
   "source": [
    "url1 = 'http://statisticstimes.com/'\n",
    "driver.get (url1)"
   ]
  },
  {
   "cell_type": "code",
   "execution_count": 59,
   "id": "4f547f3f",
   "metadata": {},
   "outputs": [],
   "source": [
    "economy = driver.find_element(By.XPATH,'/html/body/div[2]/div[1]/div[2]/div[2]/button')\n",
    "economy.click()"
   ]
  },
  {
   "cell_type": "code",
   "execution_count": 60,
   "id": "c35ee4c8",
   "metadata": {},
   "outputs": [],
   "source": [
    "india = driver.find_element(By.XPATH,'//div[@class=\"dropdown-content\"]/a[3]')\n",
    "india.click()"
   ]
  },
  {
   "cell_type": "code",
   "execution_count": 61,
   "id": "5b7e5ee0",
   "metadata": {},
   "outputs": [],
   "source": [
    "state_wise = driver.find_element(By.XPATH,'/html/body/div[2]/div[2]/div[2]/ul/li[1]/a')\n",
    "state_wise.click()"
   ]
  },
  {
   "cell_type": "code",
   "execution_count": null,
   "id": "1a240e0a",
   "metadata": {},
   "outputs": [],
   "source": [
    "//table[@id=\"table_id\"]/tbody/tr/td[1]"
   ]
  },
  {
   "cell_type": "code",
   "execution_count": 68,
   "id": "123155a4",
   "metadata": {},
   "outputs": [
    {
     "data": {
      "text/plain": [
       "['1',\n",
       " '3',\n",
       " '5',\n",
       " '7',\n",
       " '9',\n",
       " '11',\n",
       " '13',\n",
       " '15',\n",
       " '17',\n",
       " '19',\n",
       " '21',\n",
       " '23',\n",
       " '25',\n",
       " '27',\n",
       " '29',\n",
       " '31',\n",
       " '33']"
      ]
     },
     "execution_count": 68,
     "metadata": {},
     "output_type": "execute_result"
    }
   ],
   "source": [
    "rank_all_odd = []\n",
    "rank = driver.find_elements(By.XPATH,'//tr[@class=\"odd\"]/td[1]')\n",
    "for i in rank:\n",
    "    temp = i.text\n",
    "    rank_all_odd.append(temp)\n",
    "rank_all_odd [:17]"
   ]
  },
  {
   "cell_type": "code",
   "execution_count": 69,
   "id": "dbc89919",
   "metadata": {},
   "outputs": [
    {
     "data": {
      "text/plain": [
       "['Maharashtra',\n",
       " 'Uttar Pradesh',\n",
       " 'Karnataka',\n",
       " 'Rajasthan',\n",
       " 'Telangana',\n",
       " 'Kerala',\n",
       " 'Haryana',\n",
       " 'Punjab',\n",
       " 'Assam',\n",
       " 'Jharkhand',\n",
       " 'Jammu & Kashmir',\n",
       " 'Goa',\n",
       " 'Chandigarh',\n",
       " 'Meghalaya',\n",
       " 'Manipur',\n",
       " 'Arunachal Pradesh',\n",
       " 'Andaman & Nicobar Islands']"
      ]
     },
     "execution_count": 69,
     "metadata": {},
     "output_type": "execute_result"
    }
   ],
   "source": [
    "state_all_odd = []\n",
    "rank = driver.find_elements(By.XPATH,'//tr[@class=\"odd\"]/td[2]')\n",
    "for i in rank:\n",
    "    temp = i.text\n",
    "    state_all_odd.append(temp)\n",
    "state_all_odd [:17]"
   ]
  },
  {
   "cell_type": "code",
   "execution_count": 70,
   "id": "16bd2554",
   "metadata": {},
   "outputs": [
    {
     "data": {
      "text/plain": [
       "['2,632,792',\n",
       " '1,584,764',\n",
       " '1,493,127',\n",
       " '942,586',\n",
       " '861,031',\n",
       " '781,653',\n",
       " '734,163',\n",
       " '526,376',\n",
       " '315,881',\n",
       " '297,204',\n",
       " '155,956',\n",
       " '73,170',\n",
       " '42,114',\n",
       " '33,481',\n",
       " '27,870',\n",
       " '24,603',\n",
       " '-']"
      ]
     },
     "execution_count": 70,
     "metadata": {},
     "output_type": "execute_result"
    }
   ],
   "source": [
    "gsdp_1819_odd = []\n",
    "gsdp = driver.find_elements(By.XPATH,'//tr[@class=\"odd\"]/td[4]')\n",
    "for i in gsdp:\n",
    "    temp = i.text\n",
    "    gsdp_1819_odd.append(temp)\n",
    "gsdp_1819_odd [:17]"
   ]
  },
  {
   "cell_type": "code",
   "execution_count": 71,
   "id": "195c123c",
   "metadata": {},
   "outputs": [
    {
     "data": {
      "text/plain": [
       "['-',\n",
       " '1,687,818',\n",
       " '1,631,977',\n",
       " '1,020,989',\n",
       " '969,604',\n",
       " '-',\n",
       " '831,610',\n",
       " '574,760',\n",
       " '-',\n",
       " '328,598',\n",
       " '-',\n",
       " '80,449',\n",
       " '-',\n",
       " '36,572',\n",
       " '31,790',\n",
       " '-',\n",
       " '-']"
      ]
     },
     "execution_count": 71,
     "metadata": {},
     "output_type": "execute_result"
    }
   ],
   "source": [
    "gsdp_1920_odd = []\n",
    "gsdp = driver.find_elements(By.XPATH,'//tr[@class=\"odd\"]/td[3]')\n",
    "for i in gsdp:\n",
    "    temp = i.text\n",
    "    gsdp_1920_odd.append(temp)\n",
    "gsdp_1920_odd [:17]"
   ]
  },
  {
   "cell_type": "code",
   "execution_count": 72,
   "id": "2ee553ec",
   "metadata": {},
   "outputs": [
    {
     "data": {
      "text/plain": [
       "['13.94%',\n",
       " '8.39%',\n",
       " '7.91%',\n",
       " '4.99%',\n",
       " '4.56%',\n",
       " '4.14%',\n",
       " '3.89%',\n",
       " '2.79%',\n",
       " '1.67%',\n",
       " '1.57%',\n",
       " '0.83%',\n",
       " '0.39%',\n",
       " '0.22%',\n",
       " '0.18%',\n",
       " '0.15%',\n",
       " '0.13%',\n",
       " '-']"
      ]
     },
     "execution_count": 72,
     "metadata": {},
     "output_type": "execute_result"
    }
   ],
   "source": [
    "share_1819_odd = []\n",
    "share = driver.find_elements(By.XPATH,'//tr[@class=\"odd\"]/td[5]')\n",
    "for i in share:\n",
    "    temp = i.text\n",
    "    share_1819_odd.append(temp)\n",
    "share_1819_odd [:17]"
   ]
  },
  {
   "cell_type": "code",
   "execution_count": 73,
   "id": "21a6aa19",
   "metadata": {},
   "outputs": [
    {
     "data": {
      "text/plain": [
       "['13.94%',\n",
       " '8.39%',\n",
       " '7.91%',\n",
       " '4.99%',\n",
       " '4.56%',\n",
       " '4.14%',\n",
       " '3.89%',\n",
       " '2.79%',\n",
       " '1.67%',\n",
       " '1.57%',\n",
       " '0.83%',\n",
       " '0.39%',\n",
       " '0.22%',\n",
       " '0.18%',\n",
       " '0.15%',\n",
       " '0.13%',\n",
       " '-']"
      ]
     },
     "execution_count": 73,
     "metadata": {},
     "output_type": "execute_result"
    }
   ],
   "source": [
    "gdp_billion_odd = []\n",
    "gdp_bill = driver.find_elements(By.XPATH,'//tr[@class=\"odd\"]/td[5]')\n",
    "for i in gdp_bill:\n",
    "    temp = i.text\n",
    "    gdp_billion_odd.append(temp)\n",
    "gdp_billion_odd [:17]"
   ]
  },
  {
   "cell_type": "code",
   "execution_count": 74,
   "id": "8029774c",
   "metadata": {},
   "outputs": [
    {
     "data": {
      "text/plain": [
       "(34, 34, 34, 34, 34, 34)"
      ]
     },
     "execution_count": 74,
     "metadata": {},
     "output_type": "execute_result"
    }
   ],
   "source": [
    "len(rank_all_odd),len(state_all_odd),len(gsdp_1819_odd),len(gsdp_1920_odd),len(share_1819_odd),len(gdp_billion_odd)"
   ]
  },
  {
   "cell_type": "code",
   "execution_count": 75,
   "id": "51d748c1",
   "metadata": {},
   "outputs": [
    {
     "data": {
      "text/html": [
       "<div>\n",
       "<style scoped>\n",
       "    .dataframe tbody tr th:only-of-type {\n",
       "        vertical-align: middle;\n",
       "    }\n",
       "\n",
       "    .dataframe tbody tr th {\n",
       "        vertical-align: top;\n",
       "    }\n",
       "\n",
       "    .dataframe thead th {\n",
       "        text-align: right;\n",
       "    }\n",
       "</style>\n",
       "<table border=\"1\" class=\"dataframe\">\n",
       "  <thead>\n",
       "    <tr style=\"text-align: right;\">\n",
       "      <th></th>\n",
       "      <th>Rank</th>\n",
       "      <th>State</th>\n",
       "      <th>GSDP-[18-19]</th>\n",
       "      <th>GSDP-[19-20]</th>\n",
       "      <th>Share[18-19]</th>\n",
       "      <th>GDP $ Billion</th>\n",
       "    </tr>\n",
       "  </thead>\n",
       "  <tbody>\n",
       "    <tr>\n",
       "      <th>0</th>\n",
       "      <td>1</td>\n",
       "      <td>Maharashtra</td>\n",
       "      <td>2,632,792</td>\n",
       "      <td>-</td>\n",
       "      <td>13.94%</td>\n",
       "      <td>13.94%</td>\n",
       "    </tr>\n",
       "    <tr>\n",
       "      <th>1</th>\n",
       "      <td>3</td>\n",
       "      <td>Uttar Pradesh</td>\n",
       "      <td>1,584,764</td>\n",
       "      <td>1,687,818</td>\n",
       "      <td>8.39%</td>\n",
       "      <td>8.39%</td>\n",
       "    </tr>\n",
       "    <tr>\n",
       "      <th>2</th>\n",
       "      <td>5</td>\n",
       "      <td>Karnataka</td>\n",
       "      <td>1,493,127</td>\n",
       "      <td>1,631,977</td>\n",
       "      <td>7.91%</td>\n",
       "      <td>7.91%</td>\n",
       "    </tr>\n",
       "    <tr>\n",
       "      <th>3</th>\n",
       "      <td>7</td>\n",
       "      <td>Rajasthan</td>\n",
       "      <td>942,586</td>\n",
       "      <td>1,020,989</td>\n",
       "      <td>4.99%</td>\n",
       "      <td>4.99%</td>\n",
       "    </tr>\n",
       "    <tr>\n",
       "      <th>4</th>\n",
       "      <td>9</td>\n",
       "      <td>Telangana</td>\n",
       "      <td>861,031</td>\n",
       "      <td>969,604</td>\n",
       "      <td>4.56%</td>\n",
       "      <td>4.56%</td>\n",
       "    </tr>\n",
       "    <tr>\n",
       "      <th>5</th>\n",
       "      <td>11</td>\n",
       "      <td>Kerala</td>\n",
       "      <td>781,653</td>\n",
       "      <td>-</td>\n",
       "      <td>4.14%</td>\n",
       "      <td>4.14%</td>\n",
       "    </tr>\n",
       "    <tr>\n",
       "      <th>6</th>\n",
       "      <td>13</td>\n",
       "      <td>Haryana</td>\n",
       "      <td>734,163</td>\n",
       "      <td>831,610</td>\n",
       "      <td>3.89%</td>\n",
       "      <td>3.89%</td>\n",
       "    </tr>\n",
       "    <tr>\n",
       "      <th>7</th>\n",
       "      <td>15</td>\n",
       "      <td>Punjab</td>\n",
       "      <td>526,376</td>\n",
       "      <td>574,760</td>\n",
       "      <td>2.79%</td>\n",
       "      <td>2.79%</td>\n",
       "    </tr>\n",
       "    <tr>\n",
       "      <th>8</th>\n",
       "      <td>17</td>\n",
       "      <td>Assam</td>\n",
       "      <td>315,881</td>\n",
       "      <td>-</td>\n",
       "      <td>1.67%</td>\n",
       "      <td>1.67%</td>\n",
       "    </tr>\n",
       "    <tr>\n",
       "      <th>9</th>\n",
       "      <td>19</td>\n",
       "      <td>Jharkhand</td>\n",
       "      <td>297,204</td>\n",
       "      <td>328,598</td>\n",
       "      <td>1.57%</td>\n",
       "      <td>1.57%</td>\n",
       "    </tr>\n",
       "    <tr>\n",
       "      <th>10</th>\n",
       "      <td>21</td>\n",
       "      <td>Jammu &amp; Kashmir</td>\n",
       "      <td>155,956</td>\n",
       "      <td>-</td>\n",
       "      <td>0.83%</td>\n",
       "      <td>0.83%</td>\n",
       "    </tr>\n",
       "    <tr>\n",
       "      <th>11</th>\n",
       "      <td>23</td>\n",
       "      <td>Goa</td>\n",
       "      <td>73,170</td>\n",
       "      <td>80,449</td>\n",
       "      <td>0.39%</td>\n",
       "      <td>0.39%</td>\n",
       "    </tr>\n",
       "    <tr>\n",
       "      <th>12</th>\n",
       "      <td>25</td>\n",
       "      <td>Chandigarh</td>\n",
       "      <td>42,114</td>\n",
       "      <td>-</td>\n",
       "      <td>0.22%</td>\n",
       "      <td>0.22%</td>\n",
       "    </tr>\n",
       "    <tr>\n",
       "      <th>13</th>\n",
       "      <td>27</td>\n",
       "      <td>Meghalaya</td>\n",
       "      <td>33,481</td>\n",
       "      <td>36,572</td>\n",
       "      <td>0.18%</td>\n",
       "      <td>0.18%</td>\n",
       "    </tr>\n",
       "    <tr>\n",
       "      <th>14</th>\n",
       "      <td>29</td>\n",
       "      <td>Manipur</td>\n",
       "      <td>27,870</td>\n",
       "      <td>31,790</td>\n",
       "      <td>0.15%</td>\n",
       "      <td>0.15%</td>\n",
       "    </tr>\n",
       "    <tr>\n",
       "      <th>15</th>\n",
       "      <td>31</td>\n",
       "      <td>Arunachal Pradesh</td>\n",
       "      <td>24,603</td>\n",
       "      <td>-</td>\n",
       "      <td>0.13%</td>\n",
       "      <td>0.13%</td>\n",
       "    </tr>\n",
       "    <tr>\n",
       "      <th>16</th>\n",
       "      <td>33</td>\n",
       "      <td>Andaman &amp; Nicobar Islands</td>\n",
       "      <td>-</td>\n",
       "      <td>-</td>\n",
       "      <td>-</td>\n",
       "      <td>-</td>\n",
       "    </tr>\n",
       "    <tr>\n",
       "      <th>17</th>\n",
       "      <td>1</td>\n",
       "      <td>Maharashtra</td>\n",
       "      <td>2,332,992</td>\n",
       "      <td>-</td>\n",
       "      <td>13.97%</td>\n",
       "      <td>13.97%</td>\n",
       "    </tr>\n",
       "    <tr>\n",
       "      <th>18</th>\n",
       "      <td>3</td>\n",
       "      <td>Uttar Pradesh</td>\n",
       "      <td>1,404,761</td>\n",
       "      <td>1,495,758</td>\n",
       "      <td>8.41%</td>\n",
       "      <td>8.41%</td>\n",
       "    </tr>\n",
       "    <tr>\n",
       "      <th>19</th>\n",
       "      <td>5</td>\n",
       "      <td>Gujarat</td>\n",
       "      <td>1,322,936</td>\n",
       "      <td>-</td>\n",
       "      <td>7.92%</td>\n",
       "      <td>7.92%</td>\n",
       "    </tr>\n",
       "    <tr>\n",
       "      <th>20</th>\n",
       "      <td>7</td>\n",
       "      <td>Rajasthan</td>\n",
       "      <td>845,247</td>\n",
       "      <td>916,014</td>\n",
       "      <td>5.06%</td>\n",
       "      <td>5.06%</td>\n",
       "    </tr>\n",
       "    <tr>\n",
       "      <th>21</th>\n",
       "      <td>9</td>\n",
       "      <td>Andhra Pradesh</td>\n",
       "      <td>776,140</td>\n",
       "      <td>875,429</td>\n",
       "      <td>4.65%</td>\n",
       "      <td>4.65%</td>\n",
       "    </tr>\n",
       "    <tr>\n",
       "      <th>22</th>\n",
       "      <td>11</td>\n",
       "      <td>Kerala</td>\n",
       "      <td>707,542</td>\n",
       "      <td>-</td>\n",
       "      <td>4.24%</td>\n",
       "      <td>4.24%</td>\n",
       "    </tr>\n",
       "    <tr>\n",
       "      <th>23</th>\n",
       "      <td>13</td>\n",
       "      <td>Haryana</td>\n",
       "      <td>666,075</td>\n",
       "      <td>755,790</td>\n",
       "      <td>3.99%</td>\n",
       "      <td>3.99%</td>\n",
       "    </tr>\n",
       "    <tr>\n",
       "      <th>24</th>\n",
       "      <td>15</td>\n",
       "      <td>Punjab</td>\n",
       "      <td>472,506</td>\n",
       "      <td>517,521</td>\n",
       "      <td>2.83%</td>\n",
       "      <td>2.83%</td>\n",
       "    </tr>\n",
       "    <tr>\n",
       "      <th>25</th>\n",
       "      <td>17</td>\n",
       "      <td>Assam</td>\n",
       "      <td>282,782</td>\n",
       "      <td>-</td>\n",
       "      <td>1.69%</td>\n",
       "      <td>1.69%</td>\n",
       "    </tr>\n",
       "    <tr>\n",
       "      <th>26</th>\n",
       "      <td>19</td>\n",
       "      <td>Chhattisgarh</td>\n",
       "      <td>266,537</td>\n",
       "      <td>288,041</td>\n",
       "      <td>1.60%</td>\n",
       "      <td>1.60%</td>\n",
       "    </tr>\n",
       "    <tr>\n",
       "      <th>27</th>\n",
       "      <td>21</td>\n",
       "      <td>Himachal Pradesh</td>\n",
       "      <td>133,303</td>\n",
       "      <td>143,063</td>\n",
       "      <td>0.80%</td>\n",
       "      <td>0.80%</td>\n",
       "    </tr>\n",
       "    <tr>\n",
       "      <th>28</th>\n",
       "      <td>23</td>\n",
       "      <td>Goa</td>\n",
       "      <td>66,060</td>\n",
       "      <td>72,181</td>\n",
       "      <td>0.40%</td>\n",
       "      <td>0.40%</td>\n",
       "    </tr>\n",
       "    <tr>\n",
       "      <th>29</th>\n",
       "      <td>25</td>\n",
       "      <td>Chandigarh</td>\n",
       "      <td>37,571</td>\n",
       "      <td>-</td>\n",
       "      <td>0.22%</td>\n",
       "      <td>0.22%</td>\n",
       "    </tr>\n",
       "    <tr>\n",
       "      <th>30</th>\n",
       "      <td>27</td>\n",
       "      <td>Meghalaya</td>\n",
       "      <td>29,544</td>\n",
       "      <td>32,833</td>\n",
       "      <td>0.18%</td>\n",
       "      <td>0.18%</td>\n",
       "    </tr>\n",
       "    <tr>\n",
       "      <th>31</th>\n",
       "      <td>29</td>\n",
       "      <td>Sikkim</td>\n",
       "      <td>25,141</td>\n",
       "      <td>28,391</td>\n",
       "      <td>0.15%</td>\n",
       "      <td>0.15%</td>\n",
       "    </tr>\n",
       "    <tr>\n",
       "      <th>32</th>\n",
       "      <td>31</td>\n",
       "      <td>Arunachal Pradesh</td>\n",
       "      <td>22,488</td>\n",
       "      <td>-</td>\n",
       "      <td>0.13%</td>\n",
       "      <td>0.13%</td>\n",
       "    </tr>\n",
       "    <tr>\n",
       "      <th>33</th>\n",
       "      <td>33</td>\n",
       "      <td>Andaman &amp; Nicobar Islands</td>\n",
       "      <td>-</td>\n",
       "      <td>-</td>\n",
       "      <td>-</td>\n",
       "      <td>-</td>\n",
       "    </tr>\n",
       "  </tbody>\n",
       "</table>\n",
       "</div>"
      ],
      "text/plain": [
       "   Rank                      State GSDP-[18-19] GSDP-[19-20] Share[18-19]  \\\n",
       "0     1                Maharashtra    2,632,792            -       13.94%   \n",
       "1     3              Uttar Pradesh    1,584,764    1,687,818        8.39%   \n",
       "2     5                  Karnataka    1,493,127    1,631,977        7.91%   \n",
       "3     7                  Rajasthan      942,586    1,020,989        4.99%   \n",
       "4     9                  Telangana      861,031      969,604        4.56%   \n",
       "5    11                     Kerala      781,653            -        4.14%   \n",
       "6    13                    Haryana      734,163      831,610        3.89%   \n",
       "7    15                     Punjab      526,376      574,760        2.79%   \n",
       "8    17                      Assam      315,881            -        1.67%   \n",
       "9    19                  Jharkhand      297,204      328,598        1.57%   \n",
       "10   21            Jammu & Kashmir      155,956            -        0.83%   \n",
       "11   23                        Goa       73,170       80,449        0.39%   \n",
       "12   25                 Chandigarh       42,114            -        0.22%   \n",
       "13   27                  Meghalaya       33,481       36,572        0.18%   \n",
       "14   29                    Manipur       27,870       31,790        0.15%   \n",
       "15   31          Arunachal Pradesh       24,603            -        0.13%   \n",
       "16   33  Andaman & Nicobar Islands            -            -            -   \n",
       "17    1                Maharashtra    2,332,992            -       13.97%   \n",
       "18    3              Uttar Pradesh    1,404,761    1,495,758        8.41%   \n",
       "19    5                    Gujarat    1,322,936            -        7.92%   \n",
       "20    7                  Rajasthan      845,247      916,014        5.06%   \n",
       "21    9             Andhra Pradesh      776,140      875,429        4.65%   \n",
       "22   11                     Kerala      707,542            -        4.24%   \n",
       "23   13                    Haryana      666,075      755,790        3.99%   \n",
       "24   15                     Punjab      472,506      517,521        2.83%   \n",
       "25   17                      Assam      282,782            -        1.69%   \n",
       "26   19               Chhattisgarh      266,537      288,041        1.60%   \n",
       "27   21           Himachal Pradesh      133,303      143,063        0.80%   \n",
       "28   23                        Goa       66,060       72,181        0.40%   \n",
       "29   25                 Chandigarh       37,571            -        0.22%   \n",
       "30   27                  Meghalaya       29,544       32,833        0.18%   \n",
       "31   29                     Sikkim       25,141       28,391        0.15%   \n",
       "32   31          Arunachal Pradesh       22,488            -        0.13%   \n",
       "33   33  Andaman & Nicobar Islands            -            -            -   \n",
       "\n",
       "   GDP $ Billion  \n",
       "0         13.94%  \n",
       "1          8.39%  \n",
       "2          7.91%  \n",
       "3          4.99%  \n",
       "4          4.56%  \n",
       "5          4.14%  \n",
       "6          3.89%  \n",
       "7          2.79%  \n",
       "8          1.67%  \n",
       "9          1.57%  \n",
       "10         0.83%  \n",
       "11         0.39%  \n",
       "12         0.22%  \n",
       "13         0.18%  \n",
       "14         0.15%  \n",
       "15         0.13%  \n",
       "16             -  \n",
       "17        13.97%  \n",
       "18         8.41%  \n",
       "19         7.92%  \n",
       "20         5.06%  \n",
       "21         4.65%  \n",
       "22         4.24%  \n",
       "23         3.99%  \n",
       "24         2.83%  \n",
       "25         1.69%  \n",
       "26         1.60%  \n",
       "27         0.80%  \n",
       "28         0.40%  \n",
       "29         0.22%  \n",
       "30         0.18%  \n",
       "31         0.15%  \n",
       "32         0.13%  \n",
       "33             -  "
      ]
     },
     "execution_count": 75,
     "metadata": {},
     "output_type": "execute_result"
    }
   ],
   "source": [
    "df_odd = pd.DataFrame({'Rank':rank_all_odd,'State':state_all_odd,'GSDP-[18-19]':gsdp_1819_odd,'GSDP-[19-20]':gsdp_1920_odd,'Share[18-19]':share_1819_odd,'GDP $ Billion':gdp_billion_odd})\n",
    "df_odd"
   ]
  },
  {
   "cell_type": "code",
   "execution_count": 77,
   "id": "5ce6c928",
   "metadata": {},
   "outputs": [
    {
     "data": {
      "text/plain": [
       "['2',\n",
       " '4',\n",
       " '6',\n",
       " '8',\n",
       " '10',\n",
       " '12',\n",
       " '14',\n",
       " '16',\n",
       " '18',\n",
       " '20',\n",
       " '22',\n",
       " '24',\n",
       " '26',\n",
       " '28',\n",
       " '30',\n",
       " '32']"
      ]
     },
     "execution_count": 77,
     "metadata": {},
     "output_type": "execute_result"
    }
   ],
   "source": [
    "rank_all_even = []\n",
    "rank = driver.find_elements(By.XPATH,'//tr[@class=\"even\"]/td[1]')\n",
    "for i in rank:\n",
    "    temp = i.text\n",
    "    rank_all_even.append(temp)\n",
    "rank_all_even [:16]"
   ]
  },
  {
   "cell_type": "code",
   "execution_count": 79,
   "id": "3d560578",
   "metadata": {},
   "outputs": [
    {
     "data": {
      "text/plain": [
       "['Tamil Nadu',\n",
       " 'Gujarat',\n",
       " 'West Bengal',\n",
       " 'Andhra Pradesh',\n",
       " 'Madhya Pradesh',\n",
       " 'Delhi',\n",
       " 'Bihar',\n",
       " 'Odisha',\n",
       " 'Chhattisgarh',\n",
       " 'Uttarakhand',\n",
       " 'Himachal Pradesh',\n",
       " 'Tripura',\n",
       " 'Puducherry',\n",
       " 'Sikkim',\n",
       " 'Nagaland',\n",
       " 'Mizoram']"
      ]
     },
     "execution_count": 79,
     "metadata": {},
     "output_type": "execute_result"
    }
   ],
   "source": [
    "state_all_even = []\n",
    "state = driver.find_elements(By.XPATH,'//tr[@class=\"even\"]/td[2]')\n",
    "for i in state:\n",
    "    temp = i.text\n",
    "    state_all_even.append(temp)\n",
    "state_all_even [:16]"
   ]
  },
  {
   "cell_type": "code",
   "execution_count": 80,
   "id": "1df5403e",
   "metadata": {},
   "outputs": [
    {
     "data": {
      "text/plain": [
       "['1,630,208',\n",
       " '1,502,899',\n",
       " '1,089,898',\n",
       " '862,957',\n",
       " '809,592',\n",
       " '774,870',\n",
       " '530,363',\n",
       " '487,805',\n",
       " '304,063',\n",
       " '245,895',\n",
       " '153,845',\n",
       " '49,845',\n",
       " '34,433',\n",
       " '28,723',\n",
       " '27,283',\n",
       " '22,287']"
      ]
     },
     "execution_count": 80,
     "metadata": {},
     "output_type": "execute_result"
    }
   ],
   "source": [
    "gsdp_1819_even = []\n",
    "gsdp = driver.find_elements(By.XPATH,'//tr[@class=\"even\"]/td[4]')\n",
    "for i in gsdp:\n",
    "    temp = i.text\n",
    "    gsdp_1819_even.append(temp)\n",
    "gsdp_1819_even [:16]"
   ]
  },
  {
   "cell_type": "code",
   "execution_count": 81,
   "id": "793f286e",
   "metadata": {},
   "outputs": [
    {
     "data": {
      "text/plain": [
       "['1,845,853',\n",
       " '-',\n",
       " '1,253,832',\n",
       " '972,782',\n",
       " '906,672',\n",
       " '856,112',\n",
       " '611,804',\n",
       " '521,275',\n",
       " '329,180',\n",
       " '-',\n",
       " '165,472',\n",
       " '55,984',\n",
       " '38,253',\n",
       " '32,496',\n",
       " '-',\n",
       " '26,503']"
      ]
     },
     "execution_count": 81,
     "metadata": {},
     "output_type": "execute_result"
    }
   ],
   "source": [
    "gsdp_1920_even = []\n",
    "gsdp = driver.find_elements(By.XPATH,'//tr[@class=\"even\"]/td[3]')\n",
    "for i in gsdp:\n",
    "    temp = i.text\n",
    "    gsdp_1920_even.append(temp)\n",
    "gsdp_1920_even [:16]"
   ]
  },
  {
   "cell_type": "code",
   "execution_count": 82,
   "id": "028fa833",
   "metadata": {},
   "outputs": [
    {
     "data": {
      "text/plain": [
       "['8.63%',\n",
       " '7.96%',\n",
       " '5.77%',\n",
       " '4.57%',\n",
       " '4.29%',\n",
       " '4.10%',\n",
       " '2.81%',\n",
       " '2.58%',\n",
       " '1.61%',\n",
       " '1.30%',\n",
       " '0.81%',\n",
       " '0.26%',\n",
       " '0.18%',\n",
       " '0.15%',\n",
       " '0.14%',\n",
       " '0.12%']"
      ]
     },
     "execution_count": 82,
     "metadata": {},
     "output_type": "execute_result"
    }
   ],
   "source": [
    "share_1819_even = []\n",
    "share = driver.find_elements(By.XPATH,'//tr[@class=\"even\"]/td[5]')\n",
    "for i in share:\n",
    "    temp = i.text\n",
    "    share_1819_even.append(temp)\n",
    "share_1819_even [:16]"
   ]
  },
  {
   "cell_type": "code",
   "execution_count": 83,
   "id": "040dc1e2",
   "metadata": {},
   "outputs": [
    {
     "data": {
      "text/plain": [
       "['247.629',\n",
       " '228.290',\n",
       " '165.556',\n",
       " '131.083',\n",
       " '122.977',\n",
       " '117.703',\n",
       " '80.562',\n",
       " '74.098',\n",
       " '46.187',\n",
       " '37.351',\n",
       " '23.369',\n",
       " '7.571',\n",
       " '5.230',\n",
       " '4.363',\n",
       " '4.144',\n",
       " '3.385']"
      ]
     },
     "execution_count": 83,
     "metadata": {},
     "output_type": "execute_result"
    }
   ],
   "source": [
    "gdp_billion_even = []\n",
    "gdp_billi = driver.find_elements(By.XPATH,'//tr[@class=\"even\"]/td[6]')\n",
    "for i in gdp_billi:\n",
    "    temp = i.text\n",
    "    gdp_billion_even.append(temp)\n",
    "gdp_billion_even [:16]"
   ]
  },
  {
   "cell_type": "code",
   "execution_count": 84,
   "id": "8b24c0c8",
   "metadata": {},
   "outputs": [
    {
     "data": {
      "text/plain": [
       "(32, 32, 32, 32, 32, 32)"
      ]
     },
     "execution_count": 84,
     "metadata": {},
     "output_type": "execute_result"
    }
   ],
   "source": [
    "len(rank_all_even),len(state_all_even),len(gsdp_1819_even),len(gsdp_1920_even),len(share_1819_even),len(gdp_billion_even)"
   ]
  },
  {
   "cell_type": "code",
   "execution_count": 85,
   "id": "25d06a51",
   "metadata": {},
   "outputs": [
    {
     "data": {
      "text/html": [
       "<div>\n",
       "<style scoped>\n",
       "    .dataframe tbody tr th:only-of-type {\n",
       "        vertical-align: middle;\n",
       "    }\n",
       "\n",
       "    .dataframe tbody tr th {\n",
       "        vertical-align: top;\n",
       "    }\n",
       "\n",
       "    .dataframe thead th {\n",
       "        text-align: right;\n",
       "    }\n",
       "</style>\n",
       "<table border=\"1\" class=\"dataframe\">\n",
       "  <thead>\n",
       "    <tr style=\"text-align: right;\">\n",
       "      <th></th>\n",
       "      <th>Rank</th>\n",
       "      <th>State</th>\n",
       "      <th>GSDP-[18-19]</th>\n",
       "      <th>GSDP-[19-20]</th>\n",
       "      <th>Share-[18-19]</th>\n",
       "      <th>GDP[$ Billion]</th>\n",
       "    </tr>\n",
       "  </thead>\n",
       "  <tbody>\n",
       "    <tr>\n",
       "      <th>0</th>\n",
       "      <td>2</td>\n",
       "      <td>Tamil Nadu</td>\n",
       "      <td>1,630,208</td>\n",
       "      <td>1,845,853</td>\n",
       "      <td>8.63%</td>\n",
       "      <td>247.629</td>\n",
       "    </tr>\n",
       "    <tr>\n",
       "      <th>1</th>\n",
       "      <td>4</td>\n",
       "      <td>Gujarat</td>\n",
       "      <td>1,502,899</td>\n",
       "      <td>-</td>\n",
       "      <td>7.96%</td>\n",
       "      <td>228.290</td>\n",
       "    </tr>\n",
       "    <tr>\n",
       "      <th>2</th>\n",
       "      <td>6</td>\n",
       "      <td>West Bengal</td>\n",
       "      <td>1,089,898</td>\n",
       "      <td>1,253,832</td>\n",
       "      <td>5.77%</td>\n",
       "      <td>165.556</td>\n",
       "    </tr>\n",
       "    <tr>\n",
       "      <th>3</th>\n",
       "      <td>8</td>\n",
       "      <td>Andhra Pradesh</td>\n",
       "      <td>862,957</td>\n",
       "      <td>972,782</td>\n",
       "      <td>4.57%</td>\n",
       "      <td>131.083</td>\n",
       "    </tr>\n",
       "    <tr>\n",
       "      <th>4</th>\n",
       "      <td>10</td>\n",
       "      <td>Madhya Pradesh</td>\n",
       "      <td>809,592</td>\n",
       "      <td>906,672</td>\n",
       "      <td>4.29%</td>\n",
       "      <td>122.977</td>\n",
       "    </tr>\n",
       "    <tr>\n",
       "      <th>5</th>\n",
       "      <td>12</td>\n",
       "      <td>Delhi</td>\n",
       "      <td>774,870</td>\n",
       "      <td>856,112</td>\n",
       "      <td>4.10%</td>\n",
       "      <td>117.703</td>\n",
       "    </tr>\n",
       "    <tr>\n",
       "      <th>6</th>\n",
       "      <td>14</td>\n",
       "      <td>Bihar</td>\n",
       "      <td>530,363</td>\n",
       "      <td>611,804</td>\n",
       "      <td>2.81%</td>\n",
       "      <td>80.562</td>\n",
       "    </tr>\n",
       "    <tr>\n",
       "      <th>7</th>\n",
       "      <td>16</td>\n",
       "      <td>Odisha</td>\n",
       "      <td>487,805</td>\n",
       "      <td>521,275</td>\n",
       "      <td>2.58%</td>\n",
       "      <td>74.098</td>\n",
       "    </tr>\n",
       "    <tr>\n",
       "      <th>8</th>\n",
       "      <td>18</td>\n",
       "      <td>Chhattisgarh</td>\n",
       "      <td>304,063</td>\n",
       "      <td>329,180</td>\n",
       "      <td>1.61%</td>\n",
       "      <td>46.187</td>\n",
       "    </tr>\n",
       "    <tr>\n",
       "      <th>9</th>\n",
       "      <td>20</td>\n",
       "      <td>Uttarakhand</td>\n",
       "      <td>245,895</td>\n",
       "      <td>-</td>\n",
       "      <td>1.30%</td>\n",
       "      <td>37.351</td>\n",
       "    </tr>\n",
       "    <tr>\n",
       "      <th>10</th>\n",
       "      <td>22</td>\n",
       "      <td>Himachal Pradesh</td>\n",
       "      <td>153,845</td>\n",
       "      <td>165,472</td>\n",
       "      <td>0.81%</td>\n",
       "      <td>23.369</td>\n",
       "    </tr>\n",
       "    <tr>\n",
       "      <th>11</th>\n",
       "      <td>24</td>\n",
       "      <td>Tripura</td>\n",
       "      <td>49,845</td>\n",
       "      <td>55,984</td>\n",
       "      <td>0.26%</td>\n",
       "      <td>7.571</td>\n",
       "    </tr>\n",
       "    <tr>\n",
       "      <th>12</th>\n",
       "      <td>26</td>\n",
       "      <td>Puducherry</td>\n",
       "      <td>34,433</td>\n",
       "      <td>38,253</td>\n",
       "      <td>0.18%</td>\n",
       "      <td>5.230</td>\n",
       "    </tr>\n",
       "    <tr>\n",
       "      <th>13</th>\n",
       "      <td>28</td>\n",
       "      <td>Sikkim</td>\n",
       "      <td>28,723</td>\n",
       "      <td>32,496</td>\n",
       "      <td>0.15%</td>\n",
       "      <td>4.363</td>\n",
       "    </tr>\n",
       "    <tr>\n",
       "      <th>14</th>\n",
       "      <td>30</td>\n",
       "      <td>Nagaland</td>\n",
       "      <td>27,283</td>\n",
       "      <td>-</td>\n",
       "      <td>0.14%</td>\n",
       "      <td>4.144</td>\n",
       "    </tr>\n",
       "    <tr>\n",
       "      <th>15</th>\n",
       "      <td>32</td>\n",
       "      <td>Mizoram</td>\n",
       "      <td>22,287</td>\n",
       "      <td>26,503</td>\n",
       "      <td>0.12%</td>\n",
       "      <td>3.385</td>\n",
       "    </tr>\n",
       "    <tr>\n",
       "      <th>16</th>\n",
       "      <td>2</td>\n",
       "      <td>Tamil Nadu</td>\n",
       "      <td>1,465,361</td>\n",
       "      <td>1,659,210</td>\n",
       "      <td>8.77%</td>\n",
       "      <td>1,167,776</td>\n",
       "    </tr>\n",
       "    <tr>\n",
       "      <th>17</th>\n",
       "      <td>4</td>\n",
       "      <td>Karnataka</td>\n",
       "      <td>1,351,553</td>\n",
       "      <td>1,476,983</td>\n",
       "      <td>8.09%</td>\n",
       "      <td>1,035,131</td>\n",
       "    </tr>\n",
       "    <tr>\n",
       "      <th>18</th>\n",
       "      <td>6</td>\n",
       "      <td>West Bengal</td>\n",
       "      <td>995,502</td>\n",
       "      <td>1,150,711</td>\n",
       "      <td>5.96%</td>\n",
       "      <td>713,376</td>\n",
       "    </tr>\n",
       "    <tr>\n",
       "      <th>19</th>\n",
       "      <td>8</td>\n",
       "      <td>Telangana</td>\n",
       "      <td>782,370</td>\n",
       "      <td>881,873</td>\n",
       "      <td>4.68%</td>\n",
       "      <td>594,806</td>\n",
       "    </tr>\n",
       "    <tr>\n",
       "      <th>20</th>\n",
       "      <td>10</td>\n",
       "      <td>Madhya Pradesh</td>\n",
       "      <td>737,156</td>\n",
       "      <td>827,019</td>\n",
       "      <td>4.41%</td>\n",
       "      <td>496,798</td>\n",
       "    </tr>\n",
       "    <tr>\n",
       "      <th>21</th>\n",
       "      <td>12</td>\n",
       "      <td>Delhi</td>\n",
       "      <td>704,529</td>\n",
       "      <td>779,647</td>\n",
       "      <td>4.22%</td>\n",
       "      <td>568,265</td>\n",
       "    </tr>\n",
       "    <tr>\n",
       "      <th>22</th>\n",
       "      <td>14</td>\n",
       "      <td>Bihar</td>\n",
       "      <td>486,776</td>\n",
       "      <td>562,710</td>\n",
       "      <td>2.91%</td>\n",
       "      <td>377,276</td>\n",
       "    </tr>\n",
       "    <tr>\n",
       "      <th>23</th>\n",
       "      <td>16</td>\n",
       "      <td>Odisha</td>\n",
       "      <td>428,031</td>\n",
       "      <td>457,757</td>\n",
       "      <td>2.56%</td>\n",
       "      <td>344,437</td>\n",
       "    </tr>\n",
       "    <tr>\n",
       "      <th>24</th>\n",
       "      <td>18</td>\n",
       "      <td>Jharkhand</td>\n",
       "      <td>271,990</td>\n",
       "      <td>301,242</td>\n",
       "      <td>1.63%</td>\n",
       "      <td>218,232</td>\n",
       "    </tr>\n",
       "    <tr>\n",
       "      <th>25</th>\n",
       "      <td>20</td>\n",
       "      <td>Uttarakhand</td>\n",
       "      <td>221,871</td>\n",
       "      <td>-</td>\n",
       "      <td>1.33%</td>\n",
       "      <td>-</td>\n",
       "    </tr>\n",
       "    <tr>\n",
       "      <th>26</th>\n",
       "      <td>22</td>\n",
       "      <td>Jammu &amp; Kashmir</td>\n",
       "      <td>129,877</td>\n",
       "      <td>-</td>\n",
       "      <td>0.78%</td>\n",
       "      <td>-</td>\n",
       "    </tr>\n",
       "    <tr>\n",
       "      <th>27</th>\n",
       "      <td>24</td>\n",
       "      <td>Tripura</td>\n",
       "      <td>44,835</td>\n",
       "      <td>50,227</td>\n",
       "      <td>0.27%</td>\n",
       "      <td>35,980</td>\n",
       "    </tr>\n",
       "    <tr>\n",
       "      <th>28</th>\n",
       "      <td>26</td>\n",
       "      <td>Puducherry</td>\n",
       "      <td>31,415</td>\n",
       "      <td>34,823</td>\n",
       "      <td>0.19%</td>\n",
       "      <td>22,291</td>\n",
       "    </tr>\n",
       "    <tr>\n",
       "      <th>29</th>\n",
       "      <td>28</td>\n",
       "      <td>Manipur</td>\n",
       "      <td>25,323</td>\n",
       "      <td>29,148</td>\n",
       "      <td>0.15%</td>\n",
       "      <td>18,549</td>\n",
       "    </tr>\n",
       "    <tr>\n",
       "      <th>30</th>\n",
       "      <td>30</td>\n",
       "      <td>Nagaland</td>\n",
       "      <td>24,534</td>\n",
       "      <td>-</td>\n",
       "      <td>0.15%</td>\n",
       "      <td>-</td>\n",
       "    </tr>\n",
       "    <tr>\n",
       "      <th>31</th>\n",
       "      <td>32</td>\n",
       "      <td>Mizoram</td>\n",
       "      <td>20,947</td>\n",
       "      <td>24,424</td>\n",
       "      <td>0.13%</td>\n",
       "      <td>17,797</td>\n",
       "    </tr>\n",
       "  </tbody>\n",
       "</table>\n",
       "</div>"
      ],
      "text/plain": [
       "   Rank             State GSDP-[18-19] GSDP-[19-20] Share-[18-19]  \\\n",
       "0     2        Tamil Nadu    1,630,208    1,845,853         8.63%   \n",
       "1     4           Gujarat    1,502,899            -         7.96%   \n",
       "2     6       West Bengal    1,089,898    1,253,832         5.77%   \n",
       "3     8    Andhra Pradesh      862,957      972,782         4.57%   \n",
       "4    10    Madhya Pradesh      809,592      906,672         4.29%   \n",
       "5    12             Delhi      774,870      856,112         4.10%   \n",
       "6    14             Bihar      530,363      611,804         2.81%   \n",
       "7    16            Odisha      487,805      521,275         2.58%   \n",
       "8    18      Chhattisgarh      304,063      329,180         1.61%   \n",
       "9    20       Uttarakhand      245,895            -         1.30%   \n",
       "10   22  Himachal Pradesh      153,845      165,472         0.81%   \n",
       "11   24           Tripura       49,845       55,984         0.26%   \n",
       "12   26        Puducherry       34,433       38,253         0.18%   \n",
       "13   28            Sikkim       28,723       32,496         0.15%   \n",
       "14   30          Nagaland       27,283            -         0.14%   \n",
       "15   32           Mizoram       22,287       26,503         0.12%   \n",
       "16    2        Tamil Nadu    1,465,361    1,659,210         8.77%   \n",
       "17    4         Karnataka    1,351,553    1,476,983         8.09%   \n",
       "18    6       West Bengal      995,502    1,150,711         5.96%   \n",
       "19    8         Telangana      782,370      881,873         4.68%   \n",
       "20   10    Madhya Pradesh      737,156      827,019         4.41%   \n",
       "21   12             Delhi      704,529      779,647         4.22%   \n",
       "22   14             Bihar      486,776      562,710         2.91%   \n",
       "23   16            Odisha      428,031      457,757         2.56%   \n",
       "24   18         Jharkhand      271,990      301,242         1.63%   \n",
       "25   20       Uttarakhand      221,871            -         1.33%   \n",
       "26   22   Jammu & Kashmir      129,877            -         0.78%   \n",
       "27   24           Tripura       44,835       50,227         0.27%   \n",
       "28   26        Puducherry       31,415       34,823         0.19%   \n",
       "29   28           Manipur       25,323       29,148         0.15%   \n",
       "30   30          Nagaland       24,534            -         0.15%   \n",
       "31   32           Mizoram       20,947       24,424         0.13%   \n",
       "\n",
       "   GDP[$ Billion]  \n",
       "0         247.629  \n",
       "1         228.290  \n",
       "2         165.556  \n",
       "3         131.083  \n",
       "4         122.977  \n",
       "5         117.703  \n",
       "6          80.562  \n",
       "7          74.098  \n",
       "8          46.187  \n",
       "9          37.351  \n",
       "10         23.369  \n",
       "11          7.571  \n",
       "12          5.230  \n",
       "13          4.363  \n",
       "14          4.144  \n",
       "15          3.385  \n",
       "16      1,167,776  \n",
       "17      1,035,131  \n",
       "18        713,376  \n",
       "19        594,806  \n",
       "20        496,798  \n",
       "21        568,265  \n",
       "22        377,276  \n",
       "23        344,437  \n",
       "24        218,232  \n",
       "25              -  \n",
       "26              -  \n",
       "27         35,980  \n",
       "28         22,291  \n",
       "29         18,549  \n",
       "30              -  \n",
       "31         17,797  "
      ]
     },
     "execution_count": 85,
     "metadata": {},
     "output_type": "execute_result"
    }
   ],
   "source": [
    "df_even = pd.DataFrame({'Rank':rank_all_even,'State':state_all_even,'GSDP-[18-19]':gsdp_1819_even,'GSDP-[19-20]':gsdp_1920_even,'Share-[18-19]':share_1819_even,'GDP[$ Billion]':gdp_billion_even})\n",
    "df_even"
   ]
  },
  {
   "cell_type": "code",
   "execution_count": null,
   "id": "21a821c0",
   "metadata": {},
   "outputs": [],
   "source": [
    "# ========================= upto here i made dataframe of all, but its in odd & even . ========================================="
   ]
  },
  {
   "cell_type": "code",
   "execution_count": 86,
   "id": "0074b5a5",
   "metadata": {},
   "outputs": [],
   "source": [
    "# Q-4"
   ]
  },
  {
   "cell_type": "code",
   "execution_count": 52,
   "id": "5992a82a",
   "metadata": {},
   "outputs": [],
   "source": [
    "from selenium .common.exceptions import ElementNotInteractableException"
   ]
  },
  {
   "cell_type": "code",
   "execution_count": 53,
   "id": "6ae86f9d",
   "metadata": {},
   "outputs": [],
   "source": [
    "driver = webdriver.Chrome('chromedriver.exe')"
   ]
  },
  {
   "cell_type": "code",
   "execution_count": 54,
   "id": "badbe345",
   "metadata": {},
   "outputs": [],
   "source": [
    "driver.get ('https://github.com/')"
   ]
  },
  {
   "cell_type": "code",
   "execution_count": 55,
   "id": "80256c28",
   "metadata": {},
   "outputs": [],
   "source": [
    "menu = driver.find_element(By.XPATH,'/html/body/div[1]/div[1]/header/div/div[1]/div[2]/button')\n",
    "menu.click()"
   ]
  },
  {
   "cell_type": "code",
   "execution_count": 56,
   "id": "bf793ba5",
   "metadata": {},
   "outputs": [],
   "source": [
    "open_source = driver.find_element(By.XPATH,'/html/body/div[1]/div[1]/header/div/div[2]/div/nav/ul/li[3]/button')\n",
    "open_source.click()"
   ]
  },
  {
   "cell_type": "code",
   "execution_count": 57,
   "id": "00c4c127",
   "metadata": {},
   "outputs": [],
   "source": [
    "try:\n",
    "    trending = driver.find_element(By.XPATH,'/html/body/div[1]/div[1]/header/div/div[2]/div/nav/ul/li[3]/div/div[3]/ul/li[2]/a')\n",
    "    trending.click()\n",
    "except ElementNotInteractableException:\n",
    "    print ('Element is not Interactable')\n"
   ]
  },
  {
   "cell_type": "code",
   "execution_count": 58,
   "id": "61303385",
   "metadata": {},
   "outputs": [],
   "source": [
    "driver.maximize_window()"
   ]
  },
  {
   "cell_type": "code",
   "execution_count": 59,
   "id": "27b1d882",
   "metadata": {},
   "outputs": [],
   "source": [
    "title = driver.find_element(By.XPATH,'//span[@class=\"text-normal\"][1]')\n",
    "title.click()"
   ]
  },
  {
   "cell_type": "code",
   "execution_count": 60,
   "id": "a4440ae3",
   "metadata": {},
   "outputs": [],
   "source": [
    "repo_url = []\n",
    "url = driver.find_elements(By.XPATH,'//h2[@class=\"h3 lh-condensed\"]/a')\n",
    "for i in url:\n",
    "    temp = i.get_attribute('href')\n",
    "    repo_url.append(temp)\n",
    "    "
   ]
  },
  {
   "cell_type": "code",
   "execution_count": 61,
   "id": "ae424472",
   "metadata": {},
   "outputs": [
    {
     "data": {
      "text/plain": [
       "25"
      ]
     },
     "execution_count": 61,
     "metadata": {},
     "output_type": "execute_result"
    }
   ],
   "source": [
    "len(repo_url)"
   ]
  },
  {
   "cell_type": "code",
   "execution_count": 62,
   "id": "af075c88",
   "metadata": {},
   "outputs": [
    {
     "data": {
      "text/plain": [
       "['https://github.com/ChaoningZhang/MobileSAM',\n",
       " 'https://github.com/abacaj/mpt-30B-inference',\n",
       " 'https://github.com/slarkvan/Block-Pornographic-Replies',\n",
       " 'https://github.com/WeMakeDevs/open-source-course',\n",
       " 'https://github.com/PowerShell/PowerShell',\n",
       " 'https://github.com/XingangPan/DragGAN',\n",
       " 'https://github.com/facebook/folly',\n",
       " 'https://github.com/ParthJadhav/Tkinter-Designer',\n",
       " 'https://github.com/papers-we-love/papers-we-love',\n",
       " 'https://github.com/wgwang/LLMs-In-China',\n",
       " 'https://github.com/practical-tutorials/project-based-learning',\n",
       " 'https://github.com/mengjian-github/copilot-analysis',\n",
       " 'https://github.com/dotnet-architecture/eShopOnContainers',\n",
       " 'https://github.com/EbookFoundation/free-programming-books',\n",
       " 'https://github.com/chinese-poetry/chinese-poetry',\n",
       " 'https://github.com/alexbei/telegram-groups',\n",
       " 'https://github.com/questdb/questdb',\n",
       " 'https://github.com/fuqiuluo/unidbg-fetch-qsign',\n",
       " 'https://github.com/mosaicml/composer',\n",
       " 'https://github.com/alibaba/DataX',\n",
       " 'https://github.com/toeverything/AFFiNE',\n",
       " 'https://github.com/phodal/aigc',\n",
       " 'https://github.com/imgly/background-removal-js',\n",
       " 'https://github.com/sourcegraph/sourcegraph',\n",
       " 'https://github.com/buqiyuan/vue3-antd-admin']"
      ]
     },
     "execution_count": 62,
     "metadata": {},
     "output_type": "execute_result"
    }
   ],
   "source": [
    "repo_url"
   ]
  },
  {
   "cell_type": "code",
   "execution_count": 63,
   "id": "19db0952",
   "metadata": {},
   "outputs": [],
   "source": [
    "title_all = []"
   ]
  },
  {
   "cell_type": "code",
   "execution_count": 51,
   "id": "70644848",
   "metadata": {},
   "outputs": [
    {
     "data": {
      "text/plain": [
       "'buqiyuan'"
      ]
     },
     "execution_count": 51,
     "metadata": {},
     "output_type": "execute_result"
    }
   ],
   "source": [
    "data = driver.find_element(By.XPATH,'//a[@class=\"url fn\"]')\n",
    "data.text"
   ]
  },
  {
   "cell_type": "code",
   "execution_count": 64,
   "id": "9b69997a",
   "metadata": {},
   "outputs": [],
   "source": [
    "repo_discription1 =[]"
   ]
  },
  {
   "cell_type": "code",
   "execution_count": 65,
   "id": "0bbc72c3",
   "metadata": {},
   "outputs": [],
   "source": [
    "contri_count1 = []"
   ]
  },
  {
   "cell_type": "code",
   "execution_count": 66,
   "id": "334610bf",
   "metadata": {},
   "outputs": [],
   "source": [
    "language_all1 = []"
   ]
  },
  {
   "cell_type": "code",
   "execution_count": 67,
   "id": "f3e89391",
   "metadata": {},
   "outputs": [],
   "source": [
    "heading_title1 = []"
   ]
  },
  {
   "cell_type": "code",
   "execution_count": null,
   "id": "016750be",
   "metadata": {},
   "outputs": [],
   "source": [
    "for ur in repo_url:\n",
    "    driver.get(ur)\n",
    "    \n",
    "    try:\n",
    "        title_tag = driver.find_elements(By.XPATH,'//a[@class=\"url fn\"]')\n",
    "        for i in title_tag:\n",
    "            temp = i.text\n",
    "            heading_title1.append(temp)\n",
    "    except NoSuchElementException:\n",
    "        heading_title1.append('-')\n",
    "        \n",
    "        \n",
    "    try:\n",
    "        title = driver.find_elements(By.XPATH,'//p[@class=\"f4 my-3\"]')\n",
    "        for i in title:\n",
    "            temp = i.text\n",
    "            repo_discription1.append(temp)\n",
    "    except NoSuchElementException:\n",
    "        repo_discription1.append('-')\n",
    "        \n",
    "    try:\n",
    "        contributors = driver.find_elements(By.XPATH,'//div[@class=\"BorderGrid-row\"][4]/div/h2/a/span')\n",
    "        for i in contributors:\n",
    "            temp = i.text\n",
    "            contri_count1.append(temp)\n",
    "    except NoSuchElementException:\n",
    "        contri_count1.append('-')\n",
    "        \n",
    "    try:\n",
    "        language = driver.find_elements(By.XPATH,'//div[@class=\"BorderGrid-row\"][4]/div/h2/a/span')\n",
    "        for i in language:\n",
    "            temp = i.text.split('\\n')\n",
    "            language_all1.append(temp)\n",
    "    except NoSuchElementException:\n",
    "        language_all1.append('-')"
   ]
  },
  {
   "cell_type": "code",
   "execution_count": 47,
   "id": "28f960b9",
   "metadata": {},
   "outputs": [
    {
     "data": {
      "text/plain": [
       "(46, 24)"
      ]
     },
     "execution_count": 47,
     "metadata": {},
     "output_type": "execute_result"
    }
   ],
   "source": [
    "len(heading_title1),len(repo_discription1),len(contri_count1),len(language_all1)\n"
   ]
  },
  {
   "cell_type": "code",
   "execution_count": 44,
   "id": "bf0f09af",
   "metadata": {},
   "outputs": [
    {
     "data": {
      "text/plain": [
       "['This is the offiicial code for Faster Segment Anything (MobileSAM) project that makes SAM lightweight',\n",
       " 'Run inference on MPT-30B using CPU',\n",
       " '屏蔽推特回复下的黄推。Block pornographic replies below the tweet.',\n",
       " 'PowerShell for every system!',\n",
       " 'Official Code for DragGAN (SIGGRAPH 2023)',\n",
       " 'An open-source C++ library developed and used at Facebook.',\n",
       " 'An easy and fast way to create a Python GUI 🐍',\n",
       " 'Papers from the computer science community to read and discuss.',\n",
       " '中国大模型',\n",
       " 'Curated list of project-based tutorials',\n",
       " 'Cross-platform .NET sample microservices and container based application that runs on Linux Windows and macOS. Powered by .NET 7, Docker Containers and Azure Kubernetes Services. Supports Visual Studio, VS for Mac and CLI based environments with Docker CLI, dotnet CLI, VS Code or any other code editor.',\n",
       " '📚 Freely available programming books',\n",
       " 'The most comprehensive database of Chinese poetry 🧶最全中华古诗词数据库, 唐宋两朝近一万四千古诗人, 接近5.5万首唐诗加26万宋诗. 两宋时期1564位词人，21050首词。',\n",
       " '经过精心筛选，从5000+个电报群组/频道/机器人中挑选出的优质推荐！如果您有更多值得推荐的电报群组/频道/机器人，欢迎在issue中留言或提交pull requests。感谢您的关注！',\n",
       " 'An open source time-series database for fast ingest and SQL queries',\n",
       " '获取QQSign通过Unidbg',\n",
       " 'Train neural networks up to 7x faster',\n",
       " 'DataX是阿里云DataWorks数据集成的开源版本。',\n",
       " 'There can be more than Notion and Miro. AFFiNE is a next-gen knowledge base that brings planning, sorting and creating all together. Privacy first, open-source, customizable and ready to use.',\n",
       " '《构筑大语言模型应用：应用开发与架构设计》一本关于 LLM 在真实世界应用的开源电子书，介绍了大语言模型的基础知识和应用，以及如何构建自己的模型。其中包括Prompt的编写、开发和管理，探索最好的大语言模型能带来什么，以及LLM应用开发的模式和架构设计。',\n",
       " 'Remove backgrounds from images directly in the browser environment with ease and no additional costs or privacy concerns. Explore an interactive demo.',\n",
       " 'Code Intelligence Platform',\n",
       " '基于vue-cli5.x/vite2.x + vue3.x + ant-design-vue3.x + typescript hooks 的基础后台管理系统模板 RBAC的权限系统, JSON Schema动态表单,动态表格,漂亮锁屏界面']"
      ]
     },
     "execution_count": 44,
     "metadata": {},
     "output_type": "execute_result"
    }
   ],
   "source": [
    "repo_discription"
   ]
  },
  {
   "cell_type": "code",
   "execution_count": 48,
   "id": "a4c93ff6",
   "metadata": {},
   "outputs": [
    {
     "data": {
      "text/plain": [
       "['4',\n",
       " '2',\n",
       " '727',\n",
       " '36',\n",
       " '247',\n",
       " '2',\n",
       " '167',\n",
       " '76',\n",
       " '87',\n",
       " '5',\n",
       " '2',\n",
       " '4',\n",
       " '435',\n",
       " '727',\n",
       " '36',\n",
       " '104',\n",
       " '2',\n",
       " '167',\n",
       " '57',\n",
       " '76',\n",
       " '87',\n",
       " '5',\n",
       " '2',\n",
       " '7']"
      ]
     },
     "execution_count": 48,
     "metadata": {},
     "output_type": "execute_result"
    }
   ],
   "source": [
    "contri_count"
   ]
  },
  {
   "cell_type": "code",
   "execution_count": null,
   "id": "33c47771",
   "metadata": {},
   "outputs": [],
   "source": [
    "================================================================================================================================"
   ]
  },
  {
   "cell_type": "code",
   "execution_count": 5,
   "id": "d269ce19",
   "metadata": {},
   "outputs": [],
   "source": [
    "# Q-6"
   ]
  },
  {
   "cell_type": "code",
   "execution_count": null,
   "id": "c907b4c8",
   "metadata": {},
   "outputs": [],
   "source": []
  },
  {
   "cell_type": "code",
   "execution_count": null,
   "id": "33d5cbec",
   "metadata": {},
   "outputs": [],
   "source": []
  },
  {
   "cell_type": "code",
   "execution_count": null,
   "id": "2ae7df1e",
   "metadata": {},
   "outputs": [],
   "source": []
  },
  {
   "cell_type": "code",
   "execution_count": null,
   "id": "2a949069",
   "metadata": {},
   "outputs": [],
   "source": []
  },
  {
   "cell_type": "code",
   "execution_count": null,
   "id": "d3219343",
   "metadata": {},
   "outputs": [],
   "source": []
  },
  {
   "cell_type": "code",
   "execution_count": null,
   "id": "75de2d63",
   "metadata": {},
   "outputs": [],
   "source": []
  }
 ],
 "metadata": {
  "kernelspec": {
   "display_name": "Python 3 (ipykernel)",
   "language": "python",
   "name": "python3"
  },
  "language_info": {
   "codemirror_mode": {
    "name": "ipython",
    "version": 3
   },
   "file_extension": ".py",
   "mimetype": "text/x-python",
   "name": "python",
   "nbconvert_exporter": "python",
   "pygments_lexer": "ipython3",
   "version": "3.9.13"
  }
 },
 "nbformat": 4,
 "nbformat_minor": 5
}
